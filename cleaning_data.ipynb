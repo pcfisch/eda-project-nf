{
 "cells": [
  {
   "cell_type": "markdown",
   "metadata": {},
   "source": [
    "# EDA Project - King County Housing\n",
    "EDA project with King County Housing (KCH) data. Client is Erin Robinson. She is looking to *invest in poor neighborhood* and *buying & selling* and wants *costs back plus a little profit*. She wants to make *socially responsible* decisions. "
   ]
  },
  {
   "cell_type": "markdown",
   "metadata": {},
   "source": [
    "## 1. Setting up working environment\n",
    "Importing needed libraries, define overall graph deployment,..."
   ]
  },
  {
   "cell_type": "code",
   "execution_count": 1,
   "metadata": {},
   "outputs": [
    {
     "name": "stderr",
     "output_type": "stream",
     "text": [
      "/Users/pcfisch/Neuefische/MyWork/eda-project-nf/.venv/lib/python3.11/site-packages/fuzzywuzzy/fuzz.py:11: UserWarning: Using slow pure-python SequenceMatcher. Install python-Levenshtein to remove this warning\n",
      "  warnings.warn('Using slow pure-python SequenceMatcher. Install python-Levenshtein to remove this warning')\n"
     ]
    }
   ],
   "source": [
    "import pandas as pd\n",
    "import numpy as np\n",
    "import matplotlib.pyplot as plt\n",
    "import seaborn as sns\n",
    "import plotly.express as px\n",
    "import missingno as msno\n",
    "\n",
    "# calculate distance between two points with given geodata\n",
    "from geopy.distance import geodesic\n",
    "\n",
    "#for heatmap on streetmap\n",
    "import folium\n",
    "from folium import plugins\n",
    "\n",
    "# transform zipcodes to city\n",
    "import uszipcode\n",
    "\n",
    "#import eda_functions as edaf"
   ]
  },
  {
   "cell_type": "code",
   "execution_count": 2,
   "metadata": {},
   "outputs": [],
   "source": [
    "# import data and save as dataframe\n",
    "kch_df = pd.read_csv('data/King_County_House_prices_dataset.csv')"
   ]
  },
  {
   "cell_type": "markdown",
   "metadata": {},
   "source": [
    "## 2. Understand the data\n",
    "* Variable names and short explanation in `column_names.md`"
   ]
  },
  {
   "cell_type": "code",
   "execution_count": 3,
   "metadata": {},
   "outputs": [
    {
     "data": {
      "text/plain": [
       "Index(['id', 'date', 'price', 'bedrooms', 'bathrooms', 'sqft_living',\n",
       "       'sqft_lot', 'floors', 'waterfront', 'view', 'condition', 'grade',\n",
       "       'sqft_above', 'sqft_basement', 'yr_built', 'yr_renovated', 'zipcode',\n",
       "       'lat', 'long', 'sqft_living15', 'sqft_lot15'],\n",
       "      dtype='object')"
      ]
     },
     "execution_count": 3,
     "metadata": {},
     "output_type": "execute_result"
    }
   ],
   "source": [
    "kch_df.columns"
   ]
  },
  {
   "cell_type": "code",
   "execution_count": 4,
   "metadata": {},
   "outputs": [
    {
     "name": "stdout",
     "output_type": "stream",
     "text": [
      "<class 'pandas.core.frame.DataFrame'>\n",
      "RangeIndex: 21597 entries, 0 to 21596\n",
      "Data columns (total 21 columns):\n",
      " #   Column         Non-Null Count  Dtype  \n",
      "---  ------         --------------  -----  \n",
      " 0   id             21597 non-null  int64  \n",
      " 1   date           21597 non-null  object \n",
      " 2   price          21597 non-null  float64\n",
      " 3   bedrooms       21597 non-null  int64  \n",
      " 4   bathrooms      21597 non-null  float64\n",
      " 5   sqft_living    21597 non-null  int64  \n",
      " 6   sqft_lot       21597 non-null  int64  \n",
      " 7   floors         21597 non-null  float64\n",
      " 8   waterfront     19221 non-null  float64\n",
      " 9   view           21534 non-null  float64\n",
      " 10  condition      21597 non-null  int64  \n",
      " 11  grade          21597 non-null  int64  \n",
      " 12  sqft_above     21597 non-null  int64  \n",
      " 13  sqft_basement  21597 non-null  object \n",
      " 14  yr_built       21597 non-null  int64  \n",
      " 15  yr_renovated   17755 non-null  float64\n",
      " 16  zipcode        21597 non-null  int64  \n",
      " 17  lat            21597 non-null  float64\n",
      " 18  long           21597 non-null  float64\n",
      " 19  sqft_living15  21597 non-null  int64  \n",
      " 20  sqft_lot15     21597 non-null  int64  \n",
      "dtypes: float64(8), int64(11), object(2)\n",
      "memory usage: 3.5+ MB\n"
     ]
    }
   ],
   "source": [
    "# Get information on dataframe\n",
    "kch_df.info()"
   ]
  },
  {
   "cell_type": "markdown",
   "metadata": {},
   "source": [
    "#### Missing data\n",
    "* waterfront (some)\n",
    "* view (a few)\n",
    "* yr_renovated (many)\n",
    "\n",
    "#### Data Types\n",
    "**Categorical Data**\n",
    "\n",
    "*Nominal*\n",
    "* id\n",
    "* waterfront\n",
    "\n",
    "*Ordinal*\n",
    "* date\n",
    "* view\n",
    "* condition\n",
    "* grade\n",
    "* yr_built\n",
    "* yr_renovated\n",
    "\n",
    "**Numerical Data**\n",
    "\n",
    "*Continuous (interval/ratio)*\n",
    "* price\n",
    "* sqft_living\n",
    "* sqft_lot\n",
    "* sqft_above\n",
    "* sqft_basement\n",
    "* sqft_living15\n",
    "* sqft_lot15\n",
    "\n",
    "\n",
    "*Discrete (interval/ratio)*\n",
    "* bedrooms\n",
    "* bathrooms\n",
    "* floors\n",
    "* lat\n",
    "* long\n"
   ]
  },
  {
   "cell_type": "code",
   "execution_count": 5,
   "metadata": {},
   "outputs": [
    {
     "data": {
      "text/html": [
       "<div>\n",
       "<style scoped>\n",
       "    .dataframe tbody tr th:only-of-type {\n",
       "        vertical-align: middle;\n",
       "    }\n",
       "\n",
       "    .dataframe tbody tr th {\n",
       "        vertical-align: top;\n",
       "    }\n",
       "\n",
       "    .dataframe thead th {\n",
       "        text-align: right;\n",
       "    }\n",
       "</style>\n",
       "<table border=\"1\" class=\"dataframe\">\n",
       "  <thead>\n",
       "    <tr style=\"text-align: right;\">\n",
       "      <th></th>\n",
       "      <th>id</th>\n",
       "      <th>price</th>\n",
       "      <th>bedrooms</th>\n",
       "      <th>bathrooms</th>\n",
       "      <th>sqft_living</th>\n",
       "      <th>sqft_lot</th>\n",
       "      <th>floors</th>\n",
       "      <th>waterfront</th>\n",
       "      <th>view</th>\n",
       "      <th>condition</th>\n",
       "      <th>grade</th>\n",
       "      <th>sqft_above</th>\n",
       "      <th>yr_built</th>\n",
       "      <th>yr_renovated</th>\n",
       "      <th>zipcode</th>\n",
       "      <th>lat</th>\n",
       "      <th>long</th>\n",
       "      <th>sqft_living15</th>\n",
       "      <th>sqft_lot15</th>\n",
       "    </tr>\n",
       "  </thead>\n",
       "  <tbody>\n",
       "    <tr>\n",
       "      <th>count</th>\n",
       "      <td>2.159700e+04</td>\n",
       "      <td>2.159700e+04</td>\n",
       "      <td>21597.000000</td>\n",
       "      <td>21597.000000</td>\n",
       "      <td>21597.000000</td>\n",
       "      <td>2.159700e+04</td>\n",
       "      <td>21597.000000</td>\n",
       "      <td>19221.000000</td>\n",
       "      <td>21534.000000</td>\n",
       "      <td>21597.000000</td>\n",
       "      <td>21597.000000</td>\n",
       "      <td>21597.000000</td>\n",
       "      <td>21597.000000</td>\n",
       "      <td>17755.000000</td>\n",
       "      <td>21597.000000</td>\n",
       "      <td>21597.000000</td>\n",
       "      <td>21597.000000</td>\n",
       "      <td>21597.000000</td>\n",
       "      <td>21597.000000</td>\n",
       "    </tr>\n",
       "    <tr>\n",
       "      <th>mean</th>\n",
       "      <td>4.580474e+09</td>\n",
       "      <td>5.402966e+05</td>\n",
       "      <td>3.373200</td>\n",
       "      <td>2.115826</td>\n",
       "      <td>2080.321850</td>\n",
       "      <td>1.509941e+04</td>\n",
       "      <td>1.494096</td>\n",
       "      <td>0.007596</td>\n",
       "      <td>0.233863</td>\n",
       "      <td>3.409825</td>\n",
       "      <td>7.657915</td>\n",
       "      <td>1788.596842</td>\n",
       "      <td>1970.999676</td>\n",
       "      <td>83.636778</td>\n",
       "      <td>98077.951845</td>\n",
       "      <td>47.560093</td>\n",
       "      <td>-122.213982</td>\n",
       "      <td>1986.620318</td>\n",
       "      <td>12758.283512</td>\n",
       "    </tr>\n",
       "    <tr>\n",
       "      <th>std</th>\n",
       "      <td>2.876736e+09</td>\n",
       "      <td>3.673681e+05</td>\n",
       "      <td>0.926299</td>\n",
       "      <td>0.768984</td>\n",
       "      <td>918.106125</td>\n",
       "      <td>4.141264e+04</td>\n",
       "      <td>0.539683</td>\n",
       "      <td>0.086825</td>\n",
       "      <td>0.765686</td>\n",
       "      <td>0.650546</td>\n",
       "      <td>1.173200</td>\n",
       "      <td>827.759761</td>\n",
       "      <td>29.375234</td>\n",
       "      <td>399.946414</td>\n",
       "      <td>53.513072</td>\n",
       "      <td>0.138552</td>\n",
       "      <td>0.140724</td>\n",
       "      <td>685.230472</td>\n",
       "      <td>27274.441950</td>\n",
       "    </tr>\n",
       "    <tr>\n",
       "      <th>min</th>\n",
       "      <td>1.000102e+06</td>\n",
       "      <td>7.800000e+04</td>\n",
       "      <td>1.000000</td>\n",
       "      <td>0.500000</td>\n",
       "      <td>370.000000</td>\n",
       "      <td>5.200000e+02</td>\n",
       "      <td>1.000000</td>\n",
       "      <td>0.000000</td>\n",
       "      <td>0.000000</td>\n",
       "      <td>1.000000</td>\n",
       "      <td>3.000000</td>\n",
       "      <td>370.000000</td>\n",
       "      <td>1900.000000</td>\n",
       "      <td>0.000000</td>\n",
       "      <td>98001.000000</td>\n",
       "      <td>47.155900</td>\n",
       "      <td>-122.519000</td>\n",
       "      <td>399.000000</td>\n",
       "      <td>651.000000</td>\n",
       "    </tr>\n",
       "    <tr>\n",
       "      <th>25%</th>\n",
       "      <td>2.123049e+09</td>\n",
       "      <td>3.220000e+05</td>\n",
       "      <td>3.000000</td>\n",
       "      <td>1.750000</td>\n",
       "      <td>1430.000000</td>\n",
       "      <td>5.040000e+03</td>\n",
       "      <td>1.000000</td>\n",
       "      <td>0.000000</td>\n",
       "      <td>0.000000</td>\n",
       "      <td>3.000000</td>\n",
       "      <td>7.000000</td>\n",
       "      <td>1190.000000</td>\n",
       "      <td>1951.000000</td>\n",
       "      <td>0.000000</td>\n",
       "      <td>98033.000000</td>\n",
       "      <td>47.471100</td>\n",
       "      <td>-122.328000</td>\n",
       "      <td>1490.000000</td>\n",
       "      <td>5100.000000</td>\n",
       "    </tr>\n",
       "    <tr>\n",
       "      <th>50%</th>\n",
       "      <td>3.904930e+09</td>\n",
       "      <td>4.500000e+05</td>\n",
       "      <td>3.000000</td>\n",
       "      <td>2.250000</td>\n",
       "      <td>1910.000000</td>\n",
       "      <td>7.618000e+03</td>\n",
       "      <td>1.500000</td>\n",
       "      <td>0.000000</td>\n",
       "      <td>0.000000</td>\n",
       "      <td>3.000000</td>\n",
       "      <td>7.000000</td>\n",
       "      <td>1560.000000</td>\n",
       "      <td>1975.000000</td>\n",
       "      <td>0.000000</td>\n",
       "      <td>98065.000000</td>\n",
       "      <td>47.571800</td>\n",
       "      <td>-122.231000</td>\n",
       "      <td>1840.000000</td>\n",
       "      <td>7620.000000</td>\n",
       "    </tr>\n",
       "    <tr>\n",
       "      <th>75%</th>\n",
       "      <td>7.308900e+09</td>\n",
       "      <td>6.450000e+05</td>\n",
       "      <td>4.000000</td>\n",
       "      <td>2.500000</td>\n",
       "      <td>2550.000000</td>\n",
       "      <td>1.068500e+04</td>\n",
       "      <td>2.000000</td>\n",
       "      <td>0.000000</td>\n",
       "      <td>0.000000</td>\n",
       "      <td>4.000000</td>\n",
       "      <td>8.000000</td>\n",
       "      <td>2210.000000</td>\n",
       "      <td>1997.000000</td>\n",
       "      <td>0.000000</td>\n",
       "      <td>98118.000000</td>\n",
       "      <td>47.678000</td>\n",
       "      <td>-122.125000</td>\n",
       "      <td>2360.000000</td>\n",
       "      <td>10083.000000</td>\n",
       "    </tr>\n",
       "    <tr>\n",
       "      <th>max</th>\n",
       "      <td>9.900000e+09</td>\n",
       "      <td>7.700000e+06</td>\n",
       "      <td>33.000000</td>\n",
       "      <td>8.000000</td>\n",
       "      <td>13540.000000</td>\n",
       "      <td>1.651359e+06</td>\n",
       "      <td>3.500000</td>\n",
       "      <td>1.000000</td>\n",
       "      <td>4.000000</td>\n",
       "      <td>5.000000</td>\n",
       "      <td>13.000000</td>\n",
       "      <td>9410.000000</td>\n",
       "      <td>2015.000000</td>\n",
       "      <td>2015.000000</td>\n",
       "      <td>98199.000000</td>\n",
       "      <td>47.777600</td>\n",
       "      <td>-121.315000</td>\n",
       "      <td>6210.000000</td>\n",
       "      <td>871200.000000</td>\n",
       "    </tr>\n",
       "  </tbody>\n",
       "</table>\n",
       "</div>"
      ],
      "text/plain": [
       "                 id         price      bedrooms     bathrooms   sqft_living  \\\n",
       "count  2.159700e+04  2.159700e+04  21597.000000  21597.000000  21597.000000   \n",
       "mean   4.580474e+09  5.402966e+05      3.373200      2.115826   2080.321850   \n",
       "std    2.876736e+09  3.673681e+05      0.926299      0.768984    918.106125   \n",
       "min    1.000102e+06  7.800000e+04      1.000000      0.500000    370.000000   \n",
       "25%    2.123049e+09  3.220000e+05      3.000000      1.750000   1430.000000   \n",
       "50%    3.904930e+09  4.500000e+05      3.000000      2.250000   1910.000000   \n",
       "75%    7.308900e+09  6.450000e+05      4.000000      2.500000   2550.000000   \n",
       "max    9.900000e+09  7.700000e+06     33.000000      8.000000  13540.000000   \n",
       "\n",
       "           sqft_lot        floors    waterfront          view     condition  \\\n",
       "count  2.159700e+04  21597.000000  19221.000000  21534.000000  21597.000000   \n",
       "mean   1.509941e+04      1.494096      0.007596      0.233863      3.409825   \n",
       "std    4.141264e+04      0.539683      0.086825      0.765686      0.650546   \n",
       "min    5.200000e+02      1.000000      0.000000      0.000000      1.000000   \n",
       "25%    5.040000e+03      1.000000      0.000000      0.000000      3.000000   \n",
       "50%    7.618000e+03      1.500000      0.000000      0.000000      3.000000   \n",
       "75%    1.068500e+04      2.000000      0.000000      0.000000      4.000000   \n",
       "max    1.651359e+06      3.500000      1.000000      4.000000      5.000000   \n",
       "\n",
       "              grade    sqft_above      yr_built  yr_renovated       zipcode  \\\n",
       "count  21597.000000  21597.000000  21597.000000  17755.000000  21597.000000   \n",
       "mean       7.657915   1788.596842   1970.999676     83.636778  98077.951845   \n",
       "std        1.173200    827.759761     29.375234    399.946414     53.513072   \n",
       "min        3.000000    370.000000   1900.000000      0.000000  98001.000000   \n",
       "25%        7.000000   1190.000000   1951.000000      0.000000  98033.000000   \n",
       "50%        7.000000   1560.000000   1975.000000      0.000000  98065.000000   \n",
       "75%        8.000000   2210.000000   1997.000000      0.000000  98118.000000   \n",
       "max       13.000000   9410.000000   2015.000000   2015.000000  98199.000000   \n",
       "\n",
       "                lat          long  sqft_living15     sqft_lot15  \n",
       "count  21597.000000  21597.000000   21597.000000   21597.000000  \n",
       "mean      47.560093   -122.213982    1986.620318   12758.283512  \n",
       "std        0.138552      0.140724     685.230472   27274.441950  \n",
       "min       47.155900   -122.519000     399.000000     651.000000  \n",
       "25%       47.471100   -122.328000    1490.000000    5100.000000  \n",
       "50%       47.571800   -122.231000    1840.000000    7620.000000  \n",
       "75%       47.678000   -122.125000    2360.000000   10083.000000  \n",
       "max       47.777600   -121.315000    6210.000000  871200.000000  "
      ]
     },
     "execution_count": 5,
     "metadata": {},
     "output_type": "execute_result"
    }
   ],
   "source": [
    "# get an idea of the basic statistics\n",
    "kch_df.describe()"
   ]
  },
  {
   "cell_type": "code",
   "execution_count": 6,
   "metadata": {},
   "outputs": [
    {
     "data": {
      "text/html": [
       "<div>\n",
       "<style scoped>\n",
       "    .dataframe tbody tr th:only-of-type {\n",
       "        vertical-align: middle;\n",
       "    }\n",
       "\n",
       "    .dataframe tbody tr th {\n",
       "        vertical-align: top;\n",
       "    }\n",
       "\n",
       "    .dataframe thead th {\n",
       "        text-align: right;\n",
       "    }\n",
       "</style>\n",
       "<table border=\"1\" class=\"dataframe\">\n",
       "  <thead>\n",
       "    <tr style=\"text-align: right;\">\n",
       "      <th></th>\n",
       "      <th>id</th>\n",
       "      <th>date</th>\n",
       "      <th>price</th>\n",
       "      <th>bedrooms</th>\n",
       "      <th>bathrooms</th>\n",
       "      <th>sqft_living</th>\n",
       "      <th>sqft_lot</th>\n",
       "      <th>floors</th>\n",
       "      <th>waterfront</th>\n",
       "      <th>view</th>\n",
       "      <th>...</th>\n",
       "      <th>grade</th>\n",
       "      <th>sqft_above</th>\n",
       "      <th>sqft_basement</th>\n",
       "      <th>yr_built</th>\n",
       "      <th>yr_renovated</th>\n",
       "      <th>zipcode</th>\n",
       "      <th>lat</th>\n",
       "      <th>long</th>\n",
       "      <th>sqft_living15</th>\n",
       "      <th>sqft_lot15</th>\n",
       "    </tr>\n",
       "  </thead>\n",
       "  <tbody>\n",
       "    <tr>\n",
       "      <th>0</th>\n",
       "      <td>7129300520</td>\n",
       "      <td>10/13/2014</td>\n",
       "      <td>221900.0</td>\n",
       "      <td>3</td>\n",
       "      <td>1.00</td>\n",
       "      <td>1180</td>\n",
       "      <td>5650</td>\n",
       "      <td>1.0</td>\n",
       "      <td>NaN</td>\n",
       "      <td>0.0</td>\n",
       "      <td>...</td>\n",
       "      <td>7</td>\n",
       "      <td>1180</td>\n",
       "      <td>0.0</td>\n",
       "      <td>1955</td>\n",
       "      <td>0.0</td>\n",
       "      <td>98178</td>\n",
       "      <td>47.5112</td>\n",
       "      <td>-122.257</td>\n",
       "      <td>1340</td>\n",
       "      <td>5650</td>\n",
       "    </tr>\n",
       "    <tr>\n",
       "      <th>1</th>\n",
       "      <td>6414100192</td>\n",
       "      <td>12/9/2014</td>\n",
       "      <td>538000.0</td>\n",
       "      <td>3</td>\n",
       "      <td>2.25</td>\n",
       "      <td>2570</td>\n",
       "      <td>7242</td>\n",
       "      <td>2.0</td>\n",
       "      <td>0.0</td>\n",
       "      <td>0.0</td>\n",
       "      <td>...</td>\n",
       "      <td>7</td>\n",
       "      <td>2170</td>\n",
       "      <td>400.0</td>\n",
       "      <td>1951</td>\n",
       "      <td>1991.0</td>\n",
       "      <td>98125</td>\n",
       "      <td>47.7210</td>\n",
       "      <td>-122.319</td>\n",
       "      <td>1690</td>\n",
       "      <td>7639</td>\n",
       "    </tr>\n",
       "    <tr>\n",
       "      <th>2</th>\n",
       "      <td>5631500400</td>\n",
       "      <td>2/25/2015</td>\n",
       "      <td>180000.0</td>\n",
       "      <td>2</td>\n",
       "      <td>1.00</td>\n",
       "      <td>770</td>\n",
       "      <td>10000</td>\n",
       "      <td>1.0</td>\n",
       "      <td>0.0</td>\n",
       "      <td>0.0</td>\n",
       "      <td>...</td>\n",
       "      <td>6</td>\n",
       "      <td>770</td>\n",
       "      <td>0.0</td>\n",
       "      <td>1933</td>\n",
       "      <td>NaN</td>\n",
       "      <td>98028</td>\n",
       "      <td>47.7379</td>\n",
       "      <td>-122.233</td>\n",
       "      <td>2720</td>\n",
       "      <td>8062</td>\n",
       "    </tr>\n",
       "    <tr>\n",
       "      <th>3</th>\n",
       "      <td>2487200875</td>\n",
       "      <td>12/9/2014</td>\n",
       "      <td>604000.0</td>\n",
       "      <td>4</td>\n",
       "      <td>3.00</td>\n",
       "      <td>1960</td>\n",
       "      <td>5000</td>\n",
       "      <td>1.0</td>\n",
       "      <td>0.0</td>\n",
       "      <td>0.0</td>\n",
       "      <td>...</td>\n",
       "      <td>7</td>\n",
       "      <td>1050</td>\n",
       "      <td>910.0</td>\n",
       "      <td>1965</td>\n",
       "      <td>0.0</td>\n",
       "      <td>98136</td>\n",
       "      <td>47.5208</td>\n",
       "      <td>-122.393</td>\n",
       "      <td>1360</td>\n",
       "      <td>5000</td>\n",
       "    </tr>\n",
       "    <tr>\n",
       "      <th>4</th>\n",
       "      <td>1954400510</td>\n",
       "      <td>2/18/2015</td>\n",
       "      <td>510000.0</td>\n",
       "      <td>3</td>\n",
       "      <td>2.00</td>\n",
       "      <td>1680</td>\n",
       "      <td>8080</td>\n",
       "      <td>1.0</td>\n",
       "      <td>0.0</td>\n",
       "      <td>0.0</td>\n",
       "      <td>...</td>\n",
       "      <td>8</td>\n",
       "      <td>1680</td>\n",
       "      <td>0.0</td>\n",
       "      <td>1987</td>\n",
       "      <td>0.0</td>\n",
       "      <td>98074</td>\n",
       "      <td>47.6168</td>\n",
       "      <td>-122.045</td>\n",
       "      <td>1800</td>\n",
       "      <td>7503</td>\n",
       "    </tr>\n",
       "  </tbody>\n",
       "</table>\n",
       "<p>5 rows × 21 columns</p>\n",
       "</div>"
      ],
      "text/plain": [
       "           id        date     price  bedrooms  bathrooms  sqft_living  \\\n",
       "0  7129300520  10/13/2014  221900.0         3       1.00         1180   \n",
       "1  6414100192   12/9/2014  538000.0         3       2.25         2570   \n",
       "2  5631500400   2/25/2015  180000.0         2       1.00          770   \n",
       "3  2487200875   12/9/2014  604000.0         4       3.00         1960   \n",
       "4  1954400510   2/18/2015  510000.0         3       2.00         1680   \n",
       "\n",
       "   sqft_lot  floors  waterfront  view  ...  grade  sqft_above  sqft_basement  \\\n",
       "0      5650     1.0         NaN   0.0  ...      7        1180            0.0   \n",
       "1      7242     2.0         0.0   0.0  ...      7        2170          400.0   \n",
       "2     10000     1.0         0.0   0.0  ...      6         770            0.0   \n",
       "3      5000     1.0         0.0   0.0  ...      7        1050          910.0   \n",
       "4      8080     1.0         0.0   0.0  ...      8        1680            0.0   \n",
       "\n",
       "  yr_built  yr_renovated  zipcode      lat     long  sqft_living15  sqft_lot15  \n",
       "0     1955           0.0    98178  47.5112 -122.257           1340        5650  \n",
       "1     1951        1991.0    98125  47.7210 -122.319           1690        7639  \n",
       "2     1933           NaN    98028  47.7379 -122.233           2720        8062  \n",
       "3     1965           0.0    98136  47.5208 -122.393           1360        5000  \n",
       "4     1987           0.0    98074  47.6168 -122.045           1800        7503  \n",
       "\n",
       "[5 rows x 21 columns]"
      ]
     },
     "execution_count": 6,
     "metadata": {},
     "output_type": "execute_result"
    }
   ],
   "source": [
    "# get a further sense of data values\n",
    "kch_df.head()"
   ]
  },
  {
   "cell_type": "code",
   "execution_count": 7,
   "metadata": {},
   "outputs": [
    {
     "data": {
      "text/plain": [
       "0    3\n",
       "1    3\n",
       "2    3\n",
       "3    5\n",
       "4    3\n",
       "Name: condition, dtype: int64"
      ]
     },
     "execution_count": 7,
     "metadata": {},
     "output_type": "execute_result"
    }
   ],
   "source": [
    "# df too long - check in for variable `condition`\n",
    "kch_df.condition.head()"
   ]
  },
  {
   "cell_type": "markdown",
   "metadata": {},
   "source": [
    "## 3. Hypothesis"
   ]
  },
  {
   "cell_type": "markdown",
   "metadata": {},
   "source": [
    "Working hypothesis on *\"poor neighborhood\"*: a neighborhood is poor, when the mean price of properties lies in the first quartile.\n",
    "\n",
    "### (#) Questions, (a) Hypotheses, (b) Indicators\n",
    "\n",
    "***My focus***\n",
    "\n",
    "1. Does the current condition of the property impact the property price?\n",
    "* (a) The higher the current condition (i.e. better), the higher the price\n",
    "* (b) condition\n",
    "\n",
    "2. Does the distance to the city center of Seattle impact the property prices?\n",
    "* (a) The farther away from the city center, the lower the price\n",
    "* (b) geo location (long, lat)\n",
    "\n",
    "3. Does the year of the last renovation impact the property prices?\n",
    "* (a) The longer ago the last renovation the lower the price\n",
    "* (b) yr_renovated"
   ]
  },
  {
   "cell_type": "markdown",
   "metadata": {},
   "source": [
    "##### Additional information on [\"Condition\"](https://info.kingcounty.gov/assessor/esales/Glossary.aspx?type=r#b)"
   ]
  },
  {
   "cell_type": "markdown",
   "metadata": {},
   "source": [
    "Relative to age and grade. Coded 1-5.\n",
    "\n",
    "1 = Poor- Worn out. Repair and overhaul needed on painted surfaces, roofing, plumbing, heating and numerous functional inadequacies. Excessive deferred maintenance and abuse, limited value-in-use, approaching abandonment or major reconstruction; reuse or change in occupancy is imminent. Effective age is near the end of the scale regardless of the actual chronological age.\n",
    "\n",
    "2 = Fair- Badly worn. Much repair needed. Many items need refinishing or overhauling, deferred maintenance obvious, inadequate building utility and systems all shortening the life expectancy and increasing the effective age.\n",
    "\n",
    "3 = Average- Some evidence of deferred maintenance and normal obsolescence with age in that a few minor repairs are needed, along with some refinishing. All major components still functional and contributing toward an extended life expectancy. Effective age and utility is standard for like properties of its class and usage.\n",
    "\n",
    "4 = Good- No obvious maintenance required but neither is everything new. Appearance and utility are above the standard and the overall effective age will be lower than the typical property.\n",
    "\n",
    "5= Very Good- All items well maintained, many having been overhauled and repaired as they have shown signs of wear, increasing the life expectancy and lowering the effective age with little deterioration or obsolescence evident with a high degree of utility. "
   ]
  },
  {
   "cell_type": "markdown",
   "metadata": {},
   "source": [
    "#### ***Additional possible questions***"
   ]
  },
  {
   "cell_type": "markdown",
   "metadata": {},
   "source": [
    "4. Does the living area of the nearest neighbors impact the property price?\n",
    "* (a) The more square feet the living area of the nearest neighbor has, the higher the price\n",
    "* (b) sqft_living15\n",
    "\n",
    "\n",
    "5. Does the living area impact the property price?\n",
    "* (a) The more square feet the living area has, the higher the price\n",
    "* (b) sqft_living\n",
    "\n",
    "6. Does lot area impact the property price?\n",
    "* (a) The more square feet the lot area has, the higher the price\n",
    "* (b) sqft_lot\n",
    "\n",
    "7. Does waterfront placement impact on the property price?\n",
    "* (a) Properties at the waterfront have a higher price than properties not at the waterfront\n",
    "* (b) waterfront (yes/no)\n",
    "\n",
    "8. Does the distance to the city center of Seattle impact the property prices?\n",
    "* (a) The farther away from the city center, the lower the price\n",
    "* (b) geo location (long, lat)\n",
    "\n",
    "9. Does the KCH grade impact the property price?\n",
    "* (a) The higher the grade (i.e. better), the higher the price\n",
    "* (b) grade\n",
    "\n",
    "10. Does the quality of view have an impact on property prices?\n",
    "* (a) The higher the quality of view, the higher the price\n",
    "* (b) quality of view (min - max)\n",
    "\n",
    "11. Does lot area of the nearest neighbors impact the property price?\n",
    "* (a) The more square feet the lot area of the nearest neighbor has, the higher the price\n",
    "* (b) sqft_lot15"
   ]
  },
  {
   "cell_type": "markdown",
   "metadata": {},
   "source": [
    "## 4. Exploration and Cleaning of data"
   ]
  },
  {
   "cell_type": "markdown",
   "metadata": {},
   "source": [
    "### 1. Data Cleaning"
   ]
  },
  {
   "cell_type": "markdown",
   "metadata": {},
   "source": [
    "**Check and change dtype if neccessary:**\n",
    "* date\n",
    "* bathrooms\n",
    "* waterfront\n",
    "* sqft_basement\n",
    "* yr_renovated"
   ]
  },
  {
   "cell_type": "markdown",
   "metadata": {},
   "source": [
    "#### 1.1 Date"
   ]
  },
  {
   "cell_type": "code",
   "execution_count": 8,
   "metadata": {},
   "outputs": [
    {
     "data": {
      "text/plain": [
       "pandas._libs.tslibs.timestamps.Timestamp"
      ]
     },
     "execution_count": 8,
     "metadata": {},
     "output_type": "execute_result"
    }
   ],
   "source": [
    "# transform date type to_datetime\n",
    "kch_df['date'] = pd.to_datetime(kch_df['date'], format=\"%m/%d/%Y\")\n",
    "kch_df['date'] = pd.to_datetime(kch_df['date'].dt.date)\n",
    "type(kch_df['date'][0])"
   ]
  },
  {
   "cell_type": "code",
   "execution_count": 9,
   "metadata": {},
   "outputs": [],
   "source": [
    "# make month and year columns for later best selling time analysis\n",
    "kch_df['month'] = kch_df['date'].dt.month\n",
    "kch_df['year'] = kch_df['date'].dt.year"
   ]
  },
  {
   "cell_type": "markdown",
   "metadata": {},
   "source": [
    "#### 1.2 Waterfront, view, condition"
   ]
  },
  {
   "cell_type": "code",
   "execution_count": 10,
   "metadata": {},
   "outputs": [],
   "source": [
    "# transform waterfront data type to bools (no floats)\n",
    "# kch_df.waterfront = kch_df.waterfront.astype('bool')\n",
    "# kch_df.waterfront.unique()"
   ]
  },
  {
   "cell_type": "code",
   "execution_count": 11,
   "metadata": {},
   "outputs": [],
   "source": [
    "# transform view data type to bools (no floats)\n",
    "# kch_df.view = kch_df.view.astype('bool')\n",
    "# kch_df.view.unique()"
   ]
  },
  {
   "cell_type": "code",
   "execution_count": 12,
   "metadata": {},
   "outputs": [
    {
     "data": {
      "text/plain": [
       "numpy.int32"
      ]
     },
     "execution_count": 12,
     "metadata": {},
     "output_type": "execute_result"
    }
   ],
   "source": [
    "# Transform dtype of condition to int\n",
    "kch_df['condition'] = kch_df['condition'].astype('int32')\n",
    "type(kch_df['condition'][0])"
   ]
  },
  {
   "cell_type": "markdown",
   "metadata": {},
   "source": [
    "#### 1.3 Year renovated"
   ]
  },
  {
   "cell_type": "code",
   "execution_count": 13,
   "metadata": {},
   "outputs": [
    {
     "data": {
      "text/plain": [
       "array([   0., 1991.,   nan, 2002., 2010., 1992., 2013., 1994., 1978.,\n",
       "       2005., 2003., 1984., 1954., 2014., 2011., 1983., 1945., 1990.,\n",
       "       1988., 1977., 1981., 1995., 2000., 1999., 1998., 1970., 1989.,\n",
       "       2004., 1986., 2007., 1987., 2006., 1985., 2001., 1980., 1971.,\n",
       "       1979., 1997., 1950., 1969., 1948., 2009., 2015., 1974., 2008.,\n",
       "       1968., 2012., 1963., 1951., 1962., 1953., 1993., 1996., 1955.,\n",
       "       1982., 1956., 1940., 1976., 1946., 1975., 1964., 1973., 1957.,\n",
       "       1959., 1960., 1967., 1965., 1934., 1972., 1944., 1958.])"
      ]
     },
     "execution_count": 13,
     "metadata": {},
     "output_type": "execute_result"
    }
   ],
   "source": [
    "# transform data type of yr_renovated from float to int\n",
    "# first check, why dtype was made float\n",
    "kch_df.yr_renovated.unique()    # have to handle missing values first\n"
   ]
  },
  {
   "cell_type": "code",
   "execution_count": 14,
   "metadata": {},
   "outputs": [
    {
     "data": {
      "text/plain": [
       "array([   0., 1991., 2002., 2010., 1992., 2013., 1994., 1978., 2005.,\n",
       "       2003., 1984., 1954., 2014., 2011., 1983., 1945., 1990., 1988.,\n",
       "       1977., 1981., 1995., 2000., 1999., 1998., 1970., 1989., 2004.,\n",
       "       1986., 2007., 1987., 2006., 1985., 2001., 1980., 1971., 1979.,\n",
       "       1997., 1950., 1969., 1948., 2009., 2015., 1974., 2008., 1968.,\n",
       "       2012., 1963., 1951., 1962., 1953., 1993., 1996., 1955., 1982.,\n",
       "       1956., 1940., 1976., 1946., 1975., 1964., 1973., 1957., 1959.,\n",
       "       1960., 1967., 1965., 1934., 1972., 1944., 1958.])"
      ]
     },
     "execution_count": 14,
     "metadata": {},
     "output_type": "execute_result"
    }
   ],
   "source": [
    "kch_df['yr_renovated'] = np.nan_to_num(kch_df['yr_renovated'])\n",
    "kch_df.yr_renovated.unique()"
   ]
  },
  {
   "cell_type": "code",
   "execution_count": 15,
   "metadata": {},
   "outputs": [],
   "source": [
    "kch_df['yr_renovated'] = kch_df['yr_renovated'].astype('int')"
   ]
  },
  {
   "cell_type": "markdown",
   "metadata": {},
   "source": [
    "#### 1.4 Distance to city center"
   ]
  },
  {
   "cell_type": "markdown",
   "metadata": {},
   "source": [
    "Add variable for distance of each property to Seattle Center with coordinates -122.3320700 (lon), 47.6062100 (lat) which I took from the [dateandtime](https://dateandtime.info/citycoordinates.php?id=5809844) webpage on 27th Nov, 2023 at 10:27 am."
   ]
  },
  {
   "cell_type": "code",
   "execution_count": 16,
   "metadata": {},
   "outputs": [],
   "source": [
    "seattle = (47.60621, -122.33207)\n",
    "\n",
    "dist_to_seattle = pd.Series([geodesic(seattle, (kch_df.lat[i], kch_df.long[i]))\n",
    "                                     for i in np.arange(len(kch_df.lat))])\n",
    "\n",
    "kch_df['dist_to_seattle'] = dist_to_seattle # in km"
   ]
  },
  {
   "cell_type": "code",
   "execution_count": 17,
   "metadata": {},
   "outputs": [
    {
     "data": {
      "text/plain": [
       "(Distance(0.9838132172208137), Distance(77.31369533415251))"
      ]
     },
     "execution_count": 17,
     "metadata": {},
     "output_type": "execute_result"
    }
   ],
   "source": [
    "kch_df.dist_to_seattle.min(), kch_df.dist_to_seattle.max() "
   ]
  },
  {
   "cell_type": "code",
   "execution_count": 18,
   "metadata": {},
   "outputs": [
    {
     "data": {
      "text/plain": [
       "geopy.distance.geodesic"
      ]
     },
     "execution_count": 18,
     "metadata": {},
     "output_type": "execute_result"
    }
   ],
   "source": [
    "type(kch_df.dist_to_seattle[0])"
   ]
  },
  {
   "cell_type": "markdown",
   "metadata": {},
   "source": [
    "Need to change dtype in order to use distance as measure for graphs:"
   ]
  },
  {
   "cell_type": "code",
   "execution_count": 19,
   "metadata": {},
   "outputs": [
    {
     "data": {
      "text/plain": [
       "str"
      ]
     },
     "execution_count": 19,
     "metadata": {},
     "output_type": "execute_result"
    }
   ],
   "source": [
    "kch_df['dist_to_seattle'] = kch_df['dist_to_seattle'].astype('str')\n",
    "type(kch_df.dist_to_seattle[0])"
   ]
  },
  {
   "cell_type": "code",
   "execution_count": 20,
   "metadata": {},
   "outputs": [
    {
     "data": {
      "text/plain": [
       "numpy.float64"
      ]
     },
     "execution_count": 20,
     "metadata": {},
     "output_type": "execute_result"
    }
   ],
   "source": [
    "kch_df['dist_to_seattle'] = kch_df['dist_to_seattle'].str.strip('km').astype('float')\n",
    "type(kch_df.dist_to_seattle[0])"
   ]
  },
  {
   "cell_type": "markdown",
   "metadata": {},
   "source": [
    "#### 1.5 Calculate price_ sqft (living)"
   ]
  },
  {
   "cell_type": "code",
   "execution_count": 21,
   "metadata": {},
   "outputs": [
    {
     "data": {
      "text/html": [
       "<div>\n",
       "<style scoped>\n",
       "    .dataframe tbody tr th:only-of-type {\n",
       "        vertical-align: middle;\n",
       "    }\n",
       "\n",
       "    .dataframe tbody tr th {\n",
       "        vertical-align: top;\n",
       "    }\n",
       "\n",
       "    .dataframe thead th {\n",
       "        text-align: right;\n",
       "    }\n",
       "</style>\n",
       "<table border=\"1\" class=\"dataframe\">\n",
       "  <thead>\n",
       "    <tr style=\"text-align: right;\">\n",
       "      <th></th>\n",
       "      <th>id</th>\n",
       "      <th>date</th>\n",
       "      <th>price</th>\n",
       "      <th>bedrooms</th>\n",
       "      <th>bathrooms</th>\n",
       "      <th>sqft_living</th>\n",
       "      <th>sqft_lot</th>\n",
       "      <th>floors</th>\n",
       "      <th>waterfront</th>\n",
       "      <th>view</th>\n",
       "      <th>...</th>\n",
       "      <th>yr_renovated</th>\n",
       "      <th>zipcode</th>\n",
       "      <th>lat</th>\n",
       "      <th>long</th>\n",
       "      <th>sqft_living15</th>\n",
       "      <th>sqft_lot15</th>\n",
       "      <th>month</th>\n",
       "      <th>year</th>\n",
       "      <th>dist_to_seattle</th>\n",
       "      <th>price_sqft_living</th>\n",
       "    </tr>\n",
       "  </thead>\n",
       "  <tbody>\n",
       "    <tr>\n",
       "      <th>0</th>\n",
       "      <td>7129300520</td>\n",
       "      <td>2014-10-13</td>\n",
       "      <td>221900.0</td>\n",
       "      <td>3</td>\n",
       "      <td>1.00</td>\n",
       "      <td>1180</td>\n",
       "      <td>5650</td>\n",
       "      <td>1.0</td>\n",
       "      <td>NaN</td>\n",
       "      <td>0.0</td>\n",
       "      <td>...</td>\n",
       "      <td>0</td>\n",
       "      <td>98178</td>\n",
       "      <td>47.5112</td>\n",
       "      <td>-122.257</td>\n",
       "      <td>1340</td>\n",
       "      <td>5650</td>\n",
       "      <td>10</td>\n",
       "      <td>2014</td>\n",
       "      <td>11.979331</td>\n",
       "      <td>188.050847</td>\n",
       "    </tr>\n",
       "    <tr>\n",
       "      <th>1</th>\n",
       "      <td>6414100192</td>\n",
       "      <td>2014-12-09</td>\n",
       "      <td>538000.0</td>\n",
       "      <td>3</td>\n",
       "      <td>2.25</td>\n",
       "      <td>2570</td>\n",
       "      <td>7242</td>\n",
       "      <td>2.0</td>\n",
       "      <td>0.0</td>\n",
       "      <td>0.0</td>\n",
       "      <td>...</td>\n",
       "      <td>1991</td>\n",
       "      <td>98125</td>\n",
       "      <td>47.7210</td>\n",
       "      <td>-122.319</td>\n",
       "      <td>1690</td>\n",
       "      <td>7639</td>\n",
       "      <td>12</td>\n",
       "      <td>2014</td>\n",
       "      <td>12.800484</td>\n",
       "      <td>209.338521</td>\n",
       "    </tr>\n",
       "  </tbody>\n",
       "</table>\n",
       "<p>2 rows × 25 columns</p>\n",
       "</div>"
      ],
      "text/plain": [
       "           id       date     price  bedrooms  bathrooms  sqft_living  \\\n",
       "0  7129300520 2014-10-13  221900.0         3       1.00         1180   \n",
       "1  6414100192 2014-12-09  538000.0         3       2.25         2570   \n",
       "\n",
       "   sqft_lot  floors  waterfront  view  ...  yr_renovated  zipcode      lat  \\\n",
       "0      5650     1.0         NaN   0.0  ...             0    98178  47.5112   \n",
       "1      7242     2.0         0.0   0.0  ...          1991    98125  47.7210   \n",
       "\n",
       "      long  sqft_living15  sqft_lot15  month  year  dist_to_seattle  \\\n",
       "0 -122.257           1340        5650     10  2014        11.979331   \n",
       "1 -122.319           1690        7639     12  2014        12.800484   \n",
       "\n",
       "   price_sqft_living  \n",
       "0         188.050847  \n",
       "1         209.338521  \n",
       "\n",
       "[2 rows x 25 columns]"
      ]
     },
     "execution_count": 21,
     "metadata": {},
     "output_type": "execute_result"
    }
   ],
   "source": [
    "kch_df['price_sqft_living'] = kch_df.price / kch_df.sqft_living\n",
    "kch_df.head(2)"
   ]
  },
  {
   "cell_type": "markdown",
   "metadata": {},
   "source": [
    "#### 1.6 Dealing with Duplicates"
   ]
  },
  {
   "cell_type": "code",
   "execution_count": 22,
   "metadata": {},
   "outputs": [
    {
     "data": {
      "text/plain": [
       "False    21597\n",
       "Name: count, dtype: int64"
      ]
     },
     "execution_count": 22,
     "metadata": {},
     "output_type": "execute_result"
    }
   ],
   "source": [
    "# check for duplicates over all columns\n",
    "kch_df.duplicated().value_counts()"
   ]
  },
  {
   "cell_type": "markdown",
   "metadata": {},
   "source": [
    "No complete duplicates. Are there any properties more than once?"
   ]
  },
  {
   "cell_type": "code",
   "execution_count": 23,
   "metadata": {},
   "outputs": [
    {
     "data": {
      "text/plain": [
       "id\n",
       "False    21420\n",
       "True       177\n",
       "Name: count, dtype: int64"
      ]
     },
     "execution_count": 23,
     "metadata": {},
     "output_type": "execute_result"
    }
   ],
   "source": [
    "# Check for duplicates for individual properties\n",
    "kch_df['id'].duplicated(keep='last').value_counts()"
   ]
  },
  {
   "cell_type": "markdown",
   "metadata": {},
   "source": [
    "Yes, there are! Deal with the duplicates."
   ]
  },
  {
   "cell_type": "code",
   "execution_count": 24,
   "metadata": {},
   "outputs": [
    {
     "name": "stdout",
     "output_type": "stream",
     "text": [
      "<class 'pandas.core.frame.DataFrame'>\n",
      "Index: 177 entries, 93 to 21564\n",
      "Data columns (total 25 columns):\n",
      " #   Column             Non-Null Count  Dtype         \n",
      "---  ------             --------------  -----         \n",
      " 0   id                 177 non-null    int64         \n",
      " 1   date               177 non-null    datetime64[ns]\n",
      " 2   price              177 non-null    float64       \n",
      " 3   bedrooms           177 non-null    int64         \n",
      " 4   bathrooms          177 non-null    float64       \n",
      " 5   sqft_living        177 non-null    int64         \n",
      " 6   sqft_lot           177 non-null    int64         \n",
      " 7   floors             177 non-null    float64       \n",
      " 8   waterfront         154 non-null    float64       \n",
      " 9   view               177 non-null    float64       \n",
      " 10  condition          177 non-null    int32         \n",
      " 11  grade              177 non-null    int64         \n",
      " 12  sqft_above         177 non-null    int64         \n",
      " 13  sqft_basement      177 non-null    object        \n",
      " 14  yr_built           177 non-null    int64         \n",
      " 15  yr_renovated       177 non-null    int64         \n",
      " 16  zipcode            177 non-null    int64         \n",
      " 17  lat                177 non-null    float64       \n",
      " 18  long               177 non-null    float64       \n",
      " 19  sqft_living15      177 non-null    int64         \n",
      " 20  sqft_lot15         177 non-null    int64         \n",
      " 21  month              177 non-null    int32         \n",
      " 22  year               177 non-null    int32         \n",
      " 23  dist_to_seattle    177 non-null    float64       \n",
      " 24  price_sqft_living  177 non-null    float64       \n",
      "dtypes: datetime64[ns](1), float64(9), int32(3), int64(11), object(1)\n",
      "memory usage: 33.9+ KB\n"
     ]
    }
   ],
   "source": [
    "# check duplicates - difference in price and date?\n",
    "duplicate_properties = kch_df.query('id.duplicated(keep=\"last\")==True') # keep the first entry of duplicate, i.e. \"old\" price etc.\n",
    "duplicate_properties.info()"
   ]
  },
  {
   "cell_type": "code",
   "execution_count": 25,
   "metadata": {},
   "outputs": [],
   "source": [
    "#first_5_dups = (duplicate_properties.index-1)[:6]\n",
    "#first_5_dups[:]\n",
    "#duplicate_properties.index"
   ]
  },
  {
   "cell_type": "code",
   "execution_count": 26,
   "metadata": {},
   "outputs": [],
   "source": [
    "#duplicate_properties[['id','date','price']].head(5), kch_df.loc[[93, 313, 324, 345, 371, 717],['id','date','price']]"
   ]
  },
  {
   "cell_type": "code",
   "execution_count": 27,
   "metadata": {},
   "outputs": [
    {
     "data": {
      "text/plain": [
       "176"
      ]
     },
     "execution_count": 27,
     "metadata": {},
     "output_type": "execute_result"
    }
   ],
   "source": [
    "# make new variable stating whether property was sold more than once (True/False)\n",
    "kch_df['multi_sold'] = pd.Series(np.zeros(len(kch_df)).astype('bool'))\n",
    "kch_df.loc[duplicate_properties.index+1,['multi_sold']] = True\n",
    "kch_df.query('multi_sold==True').id.nunique() "
   ]
  },
  {
   "cell_type": "code",
   "execution_count": 28,
   "metadata": {},
   "outputs": [],
   "source": [
    "# drop duplicates, i.e. old price\n",
    "kch_df.drop(index=duplicate_properties.index, axis=0, inplace=True)"
   ]
  },
  {
   "cell_type": "code",
   "execution_count": 29,
   "metadata": {},
   "outputs": [
    {
     "data": {
      "text/html": [
       "<div>\n",
       "<style scoped>\n",
       "    .dataframe tbody tr th:only-of-type {\n",
       "        vertical-align: middle;\n",
       "    }\n",
       "\n",
       "    .dataframe tbody tr th {\n",
       "        vertical-align: top;\n",
       "    }\n",
       "\n",
       "    .dataframe thead th {\n",
       "        text-align: right;\n",
       "    }\n",
       "</style>\n",
       "<table border=\"1\" class=\"dataframe\">\n",
       "  <thead>\n",
       "    <tr style=\"text-align: right;\">\n",
       "      <th></th>\n",
       "      <th>id</th>\n",
       "      <th>date</th>\n",
       "      <th>price</th>\n",
       "      <th>bedrooms</th>\n",
       "      <th>bathrooms</th>\n",
       "      <th>sqft_living</th>\n",
       "      <th>sqft_lot</th>\n",
       "      <th>floors</th>\n",
       "      <th>waterfront</th>\n",
       "      <th>view</th>\n",
       "      <th>...</th>\n",
       "      <th>yr_renovated</th>\n",
       "      <th>zipcode</th>\n",
       "      <th>lat</th>\n",
       "      <th>long</th>\n",
       "      <th>sqft_living15</th>\n",
       "      <th>sqft_lot15</th>\n",
       "      <th>month</th>\n",
       "      <th>year</th>\n",
       "      <th>dist_to_seattle</th>\n",
       "      <th>price_sqft_living</th>\n",
       "    </tr>\n",
       "  </thead>\n",
       "  <tbody>\n",
       "    <tr>\n",
       "      <th>93</th>\n",
       "      <td>6021501535</td>\n",
       "      <td>2014-07-25</td>\n",
       "      <td>430000.0</td>\n",
       "      <td>3</td>\n",
       "      <td>1.50</td>\n",
       "      <td>1580</td>\n",
       "      <td>5000</td>\n",
       "      <td>1.0</td>\n",
       "      <td>0.0</td>\n",
       "      <td>0.0</td>\n",
       "      <td>...</td>\n",
       "      <td>0</td>\n",
       "      <td>98117</td>\n",
       "      <td>47.6870</td>\n",
       "      <td>-122.386</td>\n",
       "      <td>1570</td>\n",
       "      <td>4500</td>\n",
       "      <td>7</td>\n",
       "      <td>2014</td>\n",
       "      <td>9.854127</td>\n",
       "      <td>272.151899</td>\n",
       "    </tr>\n",
       "    <tr>\n",
       "      <th>313</th>\n",
       "      <td>4139480200</td>\n",
       "      <td>2014-06-18</td>\n",
       "      <td>1380000.0</td>\n",
       "      <td>4</td>\n",
       "      <td>3.25</td>\n",
       "      <td>4290</td>\n",
       "      <td>12103</td>\n",
       "      <td>1.0</td>\n",
       "      <td>0.0</td>\n",
       "      <td>3.0</td>\n",
       "      <td>...</td>\n",
       "      <td>0</td>\n",
       "      <td>98006</td>\n",
       "      <td>47.5503</td>\n",
       "      <td>-122.102</td>\n",
       "      <td>3860</td>\n",
       "      <td>11244</td>\n",
       "      <td>6</td>\n",
       "      <td>2014</td>\n",
       "      <td>18.390911</td>\n",
       "      <td>321.678322</td>\n",
       "    </tr>\n",
       "    <tr>\n",
       "      <th>324</th>\n",
       "      <td>7520000520</td>\n",
       "      <td>2014-09-05</td>\n",
       "      <td>232000.0</td>\n",
       "      <td>2</td>\n",
       "      <td>1.00</td>\n",
       "      <td>1240</td>\n",
       "      <td>12092</td>\n",
       "      <td>1.0</td>\n",
       "      <td>NaN</td>\n",
       "      <td>0.0</td>\n",
       "      <td>...</td>\n",
       "      <td>1984</td>\n",
       "      <td>98146</td>\n",
       "      <td>47.4957</td>\n",
       "      <td>-122.352</td>\n",
       "      <td>1820</td>\n",
       "      <td>7460</td>\n",
       "      <td>9</td>\n",
       "      <td>2014</td>\n",
       "      <td>12.377918</td>\n",
       "      <td>187.096774</td>\n",
       "    </tr>\n",
       "    <tr>\n",
       "      <th>345</th>\n",
       "      <td>3969300030</td>\n",
       "      <td>2014-07-23</td>\n",
       "      <td>165000.0</td>\n",
       "      <td>4</td>\n",
       "      <td>1.00</td>\n",
       "      <td>1000</td>\n",
       "      <td>7134</td>\n",
       "      <td>1.0</td>\n",
       "      <td>0.0</td>\n",
       "      <td>0.0</td>\n",
       "      <td>...</td>\n",
       "      <td>0</td>\n",
       "      <td>98178</td>\n",
       "      <td>47.4897</td>\n",
       "      <td>-122.240</td>\n",
       "      <td>1020</td>\n",
       "      <td>7138</td>\n",
       "      <td>7</td>\n",
       "      <td>2014</td>\n",
       "      <td>14.691239</td>\n",
       "      <td>165.000000</td>\n",
       "    </tr>\n",
       "    <tr>\n",
       "      <th>371</th>\n",
       "      <td>2231500030</td>\n",
       "      <td>2014-10-01</td>\n",
       "      <td>315000.0</td>\n",
       "      <td>4</td>\n",
       "      <td>2.25</td>\n",
       "      <td>2180</td>\n",
       "      <td>10754</td>\n",
       "      <td>1.0</td>\n",
       "      <td>NaN</td>\n",
       "      <td>0.0</td>\n",
       "      <td>...</td>\n",
       "      <td>0</td>\n",
       "      <td>98133</td>\n",
       "      <td>47.7711</td>\n",
       "      <td>-122.341</td>\n",
       "      <td>1810</td>\n",
       "      <td>6929</td>\n",
       "      <td>10</td>\n",
       "      <td>2014</td>\n",
       "      <td>18.345427</td>\n",
       "      <td>144.495413</td>\n",
       "    </tr>\n",
       "  </tbody>\n",
       "</table>\n",
       "<p>5 rows × 25 columns</p>\n",
       "</div>"
      ],
      "text/plain": [
       "             id       date      price  bedrooms  bathrooms  sqft_living  \\\n",
       "93   6021501535 2014-07-25   430000.0         3       1.50         1580   \n",
       "313  4139480200 2014-06-18  1380000.0         4       3.25         4290   \n",
       "324  7520000520 2014-09-05   232000.0         2       1.00         1240   \n",
       "345  3969300030 2014-07-23   165000.0         4       1.00         1000   \n",
       "371  2231500030 2014-10-01   315000.0         4       2.25         2180   \n",
       "\n",
       "     sqft_lot  floors  waterfront  view  ...  yr_renovated  zipcode      lat  \\\n",
       "93       5000     1.0         0.0   0.0  ...             0    98117  47.6870   \n",
       "313     12103     1.0         0.0   3.0  ...             0    98006  47.5503   \n",
       "324     12092     1.0         NaN   0.0  ...          1984    98146  47.4957   \n",
       "345      7134     1.0         0.0   0.0  ...             0    98178  47.4897   \n",
       "371     10754     1.0         NaN   0.0  ...             0    98133  47.7711   \n",
       "\n",
       "        long  sqft_living15  sqft_lot15  month  year  dist_to_seattle  \\\n",
       "93  -122.386           1570        4500      7  2014         9.854127   \n",
       "313 -122.102           3860       11244      6  2014        18.390911   \n",
       "324 -122.352           1820        7460      9  2014        12.377918   \n",
       "345 -122.240           1020        7138      7  2014        14.691239   \n",
       "371 -122.341           1810        6929     10  2014        18.345427   \n",
       "\n",
       "     price_sqft_living  \n",
       "93          272.151899  \n",
       "313         321.678322  \n",
       "324         187.096774  \n",
       "345         165.000000  \n",
       "371         144.495413  \n",
       "\n",
       "[5 rows x 25 columns]"
      ]
     },
     "execution_count": 29,
     "metadata": {},
     "output_type": "execute_result"
    }
   ],
   "source": [
    "duplicate_properties.head()"
   ]
  },
  {
   "cell_type": "markdown",
   "metadata": {},
   "source": [
    "Append additional columns with information on date sold and price sold for the duplicate properties. For those properties not having been sold more than once fill value with 0. Take older selling date and price into new variable."
   ]
  },
  {
   "cell_type": "code",
   "execution_count": 30,
   "metadata": {},
   "outputs": [],
   "source": [
    "#kch_df['date_sold_old'] = np.zeros(len(kch_df))"
   ]
  },
  {
   "cell_type": "code",
   "execution_count": 31,
   "metadata": {},
   "outputs": [
    {
     "data": {
      "text/plain": [
       "Index([   94,   314,   325,   346,   372,   718,   824,   837,  1085,  1128,\n",
       "       ...\n",
       "       18977, 19195, 19321, 19537, 20038, 20165, 20597, 20654, 20764, 21565],\n",
       "      dtype='int64', length=176)"
      ]
     },
     "execution_count": 31,
     "metadata": {},
     "output_type": "execute_result"
    }
   ],
   "source": [
    "kch_df.query('multi_sold==True').index"
   ]
  },
  {
   "cell_type": "code",
   "execution_count": 32,
   "metadata": {},
   "outputs": [
    {
     "data": {
      "text/plain": [
       "17588    795000620\n",
       "17589    795000620\n",
       "Name: id, dtype: int64"
      ]
     },
     "execution_count": 32,
     "metadata": {},
     "output_type": "execute_result"
    }
   ],
   "source": [
    "duplicate_properties.query('index == 17589 or index == 17588').id"
   ]
  },
  {
   "cell_type": "markdown",
   "metadata": {},
   "source": [
    "one property was sold 3 times (id 795000620). Just take the latest date and price for most updated and the middle date/price for old price (more recent price evolution)"
   ]
  },
  {
   "cell_type": "code",
   "execution_count": 33,
   "metadata": {},
   "outputs": [
    {
     "data": {
      "text/html": [
       "<div>\n",
       "<style scoped>\n",
       "    .dataframe tbody tr th:only-of-type {\n",
       "        vertical-align: middle;\n",
       "    }\n",
       "\n",
       "    .dataframe tbody tr th {\n",
       "        vertical-align: top;\n",
       "    }\n",
       "\n",
       "    .dataframe thead th {\n",
       "        text-align: right;\n",
       "    }\n",
       "</style>\n",
       "<table border=\"1\" class=\"dataframe\">\n",
       "  <thead>\n",
       "    <tr style=\"text-align: right;\">\n",
       "      <th></th>\n",
       "      <th>id</th>\n",
       "      <th>date</th>\n",
       "      <th>price</th>\n",
       "      <th>bedrooms</th>\n",
       "      <th>bathrooms</th>\n",
       "      <th>sqft_living</th>\n",
       "      <th>sqft_lot</th>\n",
       "      <th>floors</th>\n",
       "      <th>waterfront</th>\n",
       "      <th>view</th>\n",
       "      <th>...</th>\n",
       "      <th>yr_renovated</th>\n",
       "      <th>zipcode</th>\n",
       "      <th>lat</th>\n",
       "      <th>long</th>\n",
       "      <th>sqft_living15</th>\n",
       "      <th>sqft_lot15</th>\n",
       "      <th>month</th>\n",
       "      <th>year</th>\n",
       "      <th>dist_to_seattle</th>\n",
       "      <th>price_sqft_living</th>\n",
       "    </tr>\n",
       "  </thead>\n",
       "  <tbody>\n",
       "    <tr>\n",
       "      <th>17588</th>\n",
       "      <td>795000620</td>\n",
       "      <td>2014-09-24</td>\n",
       "      <td>115000.0</td>\n",
       "      <td>3</td>\n",
       "      <td>1.0</td>\n",
       "      <td>1080</td>\n",
       "      <td>6250</td>\n",
       "      <td>1.0</td>\n",
       "      <td>0.0</td>\n",
       "      <td>0.0</td>\n",
       "      <td>...</td>\n",
       "      <td>0</td>\n",
       "      <td>98168</td>\n",
       "      <td>47.5045</td>\n",
       "      <td>-122.33</td>\n",
       "      <td>1070</td>\n",
       "      <td>6250</td>\n",
       "      <td>9</td>\n",
       "      <td>2014</td>\n",
       "      <td>11.309361</td>\n",
       "      <td>106.481481</td>\n",
       "    </tr>\n",
       "    <tr>\n",
       "      <th>17589</th>\n",
       "      <td>795000620</td>\n",
       "      <td>2014-12-15</td>\n",
       "      <td>124000.0</td>\n",
       "      <td>3</td>\n",
       "      <td>1.0</td>\n",
       "      <td>1080</td>\n",
       "      <td>6250</td>\n",
       "      <td>1.0</td>\n",
       "      <td>0.0</td>\n",
       "      <td>0.0</td>\n",
       "      <td>...</td>\n",
       "      <td>0</td>\n",
       "      <td>98168</td>\n",
       "      <td>47.5045</td>\n",
       "      <td>-122.33</td>\n",
       "      <td>1070</td>\n",
       "      <td>6250</td>\n",
       "      <td>12</td>\n",
       "      <td>2014</td>\n",
       "      <td>11.309361</td>\n",
       "      <td>114.814815</td>\n",
       "    </tr>\n",
       "  </tbody>\n",
       "</table>\n",
       "<p>2 rows × 25 columns</p>\n",
       "</div>"
      ],
      "text/plain": [
       "              id       date     price  bedrooms  bathrooms  sqft_living  \\\n",
       "17588  795000620 2014-09-24  115000.0         3        1.0         1080   \n",
       "17589  795000620 2014-12-15  124000.0         3        1.0         1080   \n",
       "\n",
       "       sqft_lot  floors  waterfront  view  ...  yr_renovated  zipcode  \\\n",
       "17588      6250     1.0         0.0   0.0  ...             0    98168   \n",
       "17589      6250     1.0         0.0   0.0  ...             0    98168   \n",
       "\n",
       "           lat    long  sqft_living15  sqft_lot15  month  year  \\\n",
       "17588  47.5045 -122.33           1070        6250      9  2014   \n",
       "17589  47.5045 -122.33           1070        6250     12  2014   \n",
       "\n",
       "       dist_to_seattle  price_sqft_living  \n",
       "17588        11.309361         106.481481  \n",
       "17589        11.309361         114.814815  \n",
       "\n",
       "[2 rows x 25 columns]"
      ]
     },
     "execution_count": 33,
     "metadata": {},
     "output_type": "execute_result"
    }
   ],
   "source": [
    "duplicate_properties.query('index == 17589 or index == 17588')"
   ]
  },
  {
   "cell_type": "code",
   "execution_count": 34,
   "metadata": {},
   "outputs": [
    {
     "name": "stderr",
     "output_type": "stream",
     "text": [
      "/var/folders/vs/p5qz5xq10x17l4gw803zll000000gn/T/ipykernel_7042/1061064497.py:2: SettingWithCopyWarning: \n",
      "A value is trying to be set on a copy of a slice from a DataFrame\n",
      "\n",
      "See the caveats in the documentation: https://pandas.pydata.org/pandas-docs/stable/user_guide/indexing.html#returning-a-view-versus-a-copy\n",
      "  duplicate_properties.drop(axis=0, index=17588, inplace=True)\n"
     ]
    },
    {
     "data": {
      "text/plain": [
       "176"
      ]
     },
     "execution_count": 34,
     "metadata": {},
     "output_type": "execute_result"
    }
   ],
   "source": [
    "# Drop index 17588\n",
    "duplicate_properties.drop(axis=0, index=17588, inplace=True)\n",
    "len(duplicate_properties) #should be 176 now"
   ]
  },
  {
   "cell_type": "code",
   "execution_count": 35,
   "metadata": {},
   "outputs": [],
   "source": [
    "kch_df.loc[kch_df.query('multi_sold==True').index,'date_sold_old'] = duplicate_properties['date'].values\n",
    "kch_df.loc[kch_df.query('multi_sold==True').index,'price_sold_old'] = duplicate_properties['price'].values"
   ]
  },
  {
   "cell_type": "code",
   "execution_count": 36,
   "metadata": {},
   "outputs": [
    {
     "data": {
      "text/html": [
       "<div>\n",
       "<style scoped>\n",
       "    .dataframe tbody tr th:only-of-type {\n",
       "        vertical-align: middle;\n",
       "    }\n",
       "\n",
       "    .dataframe tbody tr th {\n",
       "        vertical-align: top;\n",
       "    }\n",
       "\n",
       "    .dataframe thead th {\n",
       "        text-align: right;\n",
       "    }\n",
       "</style>\n",
       "<table border=\"1\" class=\"dataframe\">\n",
       "  <thead>\n",
       "    <tr style=\"text-align: right;\">\n",
       "      <th></th>\n",
       "      <th>id</th>\n",
       "      <th>date</th>\n",
       "      <th>price</th>\n",
       "      <th>bedrooms</th>\n",
       "      <th>bathrooms</th>\n",
       "      <th>sqft_living</th>\n",
       "      <th>sqft_lot</th>\n",
       "      <th>floors</th>\n",
       "      <th>waterfront</th>\n",
       "      <th>view</th>\n",
       "      <th>...</th>\n",
       "      <th>long</th>\n",
       "      <th>sqft_living15</th>\n",
       "      <th>sqft_lot15</th>\n",
       "      <th>month</th>\n",
       "      <th>year</th>\n",
       "      <th>dist_to_seattle</th>\n",
       "      <th>price_sqft_living</th>\n",
       "      <th>multi_sold</th>\n",
       "      <th>date_sold_old</th>\n",
       "      <th>price_sold_old</th>\n",
       "    </tr>\n",
       "  </thead>\n",
       "  <tbody>\n",
       "    <tr>\n",
       "      <th>94</th>\n",
       "      <td>6021501535</td>\n",
       "      <td>2014-12-23</td>\n",
       "      <td>700000.0</td>\n",
       "      <td>3</td>\n",
       "      <td>1.5</td>\n",
       "      <td>1580</td>\n",
       "      <td>5000</td>\n",
       "      <td>1.0</td>\n",
       "      <td>0.0</td>\n",
       "      <td>0.0</td>\n",
       "      <td>...</td>\n",
       "      <td>-122.386</td>\n",
       "      <td>1570</td>\n",
       "      <td>4500</td>\n",
       "      <td>12</td>\n",
       "      <td>2014</td>\n",
       "      <td>9.854127</td>\n",
       "      <td>443.037975</td>\n",
       "      <td>True</td>\n",
       "      <td>2014-07-25</td>\n",
       "      <td>430000.0</td>\n",
       "    </tr>\n",
       "    <tr>\n",
       "      <th>95</th>\n",
       "      <td>1483300570</td>\n",
       "      <td>2014-09-08</td>\n",
       "      <td>905000.0</td>\n",
       "      <td>4</td>\n",
       "      <td>2.5</td>\n",
       "      <td>3300</td>\n",
       "      <td>10250</td>\n",
       "      <td>1.0</td>\n",
       "      <td>0.0</td>\n",
       "      <td>0.0</td>\n",
       "      <td>...</td>\n",
       "      <td>-122.249</td>\n",
       "      <td>1950</td>\n",
       "      <td>6045</td>\n",
       "      <td>9</td>\n",
       "      <td>2014</td>\n",
       "      <td>6.591576</td>\n",
       "      <td>274.242424</td>\n",
       "      <td>False</td>\n",
       "      <td>NaT</td>\n",
       "      <td>NaN</td>\n",
       "    </tr>\n",
       "  </tbody>\n",
       "</table>\n",
       "<p>2 rows × 28 columns</p>\n",
       "</div>"
      ],
      "text/plain": [
       "            id       date     price  bedrooms  bathrooms  sqft_living  \\\n",
       "94  6021501535 2014-12-23  700000.0         3        1.5         1580   \n",
       "95  1483300570 2014-09-08  905000.0         4        2.5         3300   \n",
       "\n",
       "    sqft_lot  floors  waterfront  view  ...     long  sqft_living15  \\\n",
       "94      5000     1.0         0.0   0.0  ... -122.386           1570   \n",
       "95     10250     1.0         0.0   0.0  ... -122.249           1950   \n",
       "\n",
       "    sqft_lot15 month  year  dist_to_seattle  price_sqft_living  multi_sold  \\\n",
       "94        4500    12  2014         9.854127         443.037975        True   \n",
       "95        6045     9  2014         6.591576         274.242424       False   \n",
       "\n",
       "    date_sold_old  price_sold_old  \n",
       "94     2014-07-25        430000.0  \n",
       "95            NaT             NaN  \n",
       "\n",
       "[2 rows x 28 columns]"
      ]
     },
     "execution_count": 36,
     "metadata": {},
     "output_type": "execute_result"
    }
   ],
   "source": [
    "kch_df.loc[93:95,:]"
   ]
  },
  {
   "cell_type": "markdown",
   "metadata": {},
   "source": [
    "#### 1.7 Drop not needed variables"
   ]
  },
  {
   "cell_type": "code",
   "execution_count": 37,
   "metadata": {},
   "outputs": [
    {
     "data": {
      "text/plain": [
       "Index(['id', 'date', 'price', 'bedrooms', 'bathrooms', 'sqft_living',\n",
       "       'sqft_lot', 'floors', 'waterfront', 'view', 'condition', 'grade',\n",
       "       'sqft_above', 'sqft_basement', 'yr_built', 'yr_renovated', 'zipcode',\n",
       "       'lat', 'long', 'sqft_living15', 'sqft_lot15', 'month', 'year',\n",
       "       'dist_to_seattle', 'price_sqft_living', 'multi_sold', 'date_sold_old',\n",
       "       'price_sold_old'],\n",
       "      dtype='object')"
      ]
     },
     "execution_count": 37,
     "metadata": {},
     "output_type": "execute_result"
    }
   ],
   "source": [
    "kch_df.columns"
   ]
  },
  {
   "cell_type": "code",
   "execution_count": 38,
   "metadata": {},
   "outputs": [
    {
     "data": {
      "text/html": [
       "<div>\n",
       "<style scoped>\n",
       "    .dataframe tbody tr th:only-of-type {\n",
       "        vertical-align: middle;\n",
       "    }\n",
       "\n",
       "    .dataframe tbody tr th {\n",
       "        vertical-align: top;\n",
       "    }\n",
       "\n",
       "    .dataframe thead th {\n",
       "        text-align: right;\n",
       "    }\n",
       "</style>\n",
       "<table border=\"1\" class=\"dataframe\">\n",
       "  <thead>\n",
       "    <tr style=\"text-align: right;\">\n",
       "      <th></th>\n",
       "      <th>id</th>\n",
       "      <th>date</th>\n",
       "      <th>price</th>\n",
       "      <th>condition</th>\n",
       "      <th>yr_built</th>\n",
       "      <th>yr_renovated</th>\n",
       "      <th>zipcode</th>\n",
       "      <th>lat</th>\n",
       "      <th>long</th>\n",
       "      <th>dist_to_seattle</th>\n",
       "      <th>price_sqft_living</th>\n",
       "      <th>multi_sold</th>\n",
       "      <th>date_sold_old</th>\n",
       "      <th>price_sold_old</th>\n",
       "    </tr>\n",
       "  </thead>\n",
       "  <tbody>\n",
       "    <tr>\n",
       "      <th>0</th>\n",
       "      <td>7129300520</td>\n",
       "      <td>2014-10-13</td>\n",
       "      <td>221900.0</td>\n",
       "      <td>3</td>\n",
       "      <td>1955</td>\n",
       "      <td>0</td>\n",
       "      <td>98178</td>\n",
       "      <td>47.5112</td>\n",
       "      <td>-122.257</td>\n",
       "      <td>11.979331</td>\n",
       "      <td>188.050847</td>\n",
       "      <td>False</td>\n",
       "      <td>NaT</td>\n",
       "      <td>NaN</td>\n",
       "    </tr>\n",
       "    <tr>\n",
       "      <th>1</th>\n",
       "      <td>6414100192</td>\n",
       "      <td>2014-12-09</td>\n",
       "      <td>538000.0</td>\n",
       "      <td>3</td>\n",
       "      <td>1951</td>\n",
       "      <td>1991</td>\n",
       "      <td>98125</td>\n",
       "      <td>47.7210</td>\n",
       "      <td>-122.319</td>\n",
       "      <td>12.800484</td>\n",
       "      <td>209.338521</td>\n",
       "      <td>False</td>\n",
       "      <td>NaT</td>\n",
       "      <td>NaN</td>\n",
       "    </tr>\n",
       "  </tbody>\n",
       "</table>\n",
       "</div>"
      ],
      "text/plain": [
       "           id       date     price  condition  yr_built  yr_renovated  \\\n",
       "0  7129300520 2014-10-13  221900.0          3      1955             0   \n",
       "1  6414100192 2014-12-09  538000.0          3      1951          1991   \n",
       "\n",
       "   zipcode      lat     long  dist_to_seattle  price_sqft_living  multi_sold  \\\n",
       "0    98178  47.5112 -122.257        11.979331         188.050847       False   \n",
       "1    98125  47.7210 -122.319        12.800484         209.338521       False   \n",
       "\n",
       "  date_sold_old  price_sold_old  \n",
       "0           NaT             NaN  \n",
       "1           NaT             NaN  "
      ]
     },
     "execution_count": 38,
     "metadata": {},
     "output_type": "execute_result"
    }
   ],
   "source": [
    "# copy df and get rid of not used data\n",
    "kch_robinson = kch_df.copy()\n",
    "\n",
    "kch_robinson.drop(columns=['bedrooms', 'bathrooms', 'sqft_living',\n",
    "       'sqft_lot', 'floors', 'waterfront', 'view', 'grade',\n",
    "       'sqft_above', 'sqft_basement', 'sqft_living15', 'sqft_lot15', 'month', 'year'],\n",
    "       inplace=True)\n",
    "\n",
    "kch_robinson.head(2)"
   ]
  },
  {
   "cell_type": "code",
   "execution_count": 39,
   "metadata": {},
   "outputs": [
    {
     "data": {
      "text/plain": [
       "Index(['id', 'date', 'price', 'condition', 'yr_built', 'yr_renovated',\n",
       "       'zipcode', 'lat', 'long', 'dist_to_seattle', 'price_sqft_living',\n",
       "       'multi_sold', 'date_sold_old', 'price_sold_old'],\n",
       "      dtype='object')"
      ]
     },
     "execution_count": 39,
     "metadata": {},
     "output_type": "execute_result"
    }
   ],
   "source": [
    "kch_robinson.columns"
   ]
  },
  {
   "cell_type": "markdown",
   "metadata": {},
   "source": [
    "### 2. Exploration"
   ]
  },
  {
   "cell_type": "markdown",
   "metadata": {},
   "source": [
    "#### 2.1 Distributions"
   ]
  },
  {
   "cell_type": "code",
   "execution_count": 40,
   "metadata": {},
   "outputs": [],
   "source": [
    "# # plotly\n",
    "# fig = make_subplots(rows=2, cols=2,\n",
    "#                     specs=[[{\"type\":\"histogram\"}, {\"type\":\"histogram\"}],\n",
    "#                                             [{\"type\":\"violin\"}, {\"type\":\"violin\"}]],\n",
    "#                     column_widths=[0.5, 0.5], row_heights=[10,10])\n",
    "\n",
    "# fig.add_trace(go.Violin(y=df['price'], name='Total price'), row=2, col=1)\n",
    "# fig.add_trace(go.Violin(y=df['price_sqft_living'], name='Price/Sqft living'), row=2, col=2)\n",
    "# fig.update_traces(box_visible=True, meanline_visible=True)\n",
    "\n",
    "# fig.add_trace(go.Histogram(x=df['condition'], name='Condition'), row=1, col=1)\n",
    "# fig.add_trace(go.Histogram(x=df['yrs_since_renovation'], name='Years since renovation'), row=1, col=2)\n",
    "\n",
    "# fig.show()"
   ]
  },
  {
   "cell_type": "code",
   "execution_count": 41,
   "metadata": {},
   "outputs": [
    {
     "data": {
      "image/png": "[encoded data removed]",
      "text/plain": [
       "<Figure size 2000x500 with 3 Axes>"
      ]
     },
     "metadata": {},
     "output_type": "display_data"
    }
   ],
   "source": [
    "# Distributions\n",
    "fig, ax = plt.subplots(1,3, figsize=(20,5)) # create subplots on 1 row and 3 columns\n",
    "plt.suptitle('Distribution of condition, sqft_living15, yr_renovated', fontsize=20)\n",
    "fig.tight_layout()\n",
    "\n",
    "ax[0].hist(kch_robinson['condition']) # boxplot for condition\n",
    "ax[0].set_title(\"Distribution of condition count\", fontsize = 15); # sets title for subplot\n",
    "\n",
    "ax[1].boxplot(x = kch_robinson['price_sqft_living'])\n",
    "ax[1].set_title(\"Distribution of price per living sqft\", fontsize = 15);\n",
    "\n",
    "ax[2].hist(x = kch_robinson.query('yr_renovated!=0').yr_renovated)\n",
    "ax[2].set_title(\"Distribution of year last renovated count (if ever renovated)\", fontsize = 15);"
   ]
  },
  {
   "cell_type": "markdown",
   "metadata": {},
   "source": [
    "**Take aways so far**\n",
    "\n",
    "* Mostly medium condition, so not too shabby. Socially responsible renovation for properties of conditions 2 or 3. everything above unnecessary posh\n",
    "* costs per sqft has a lot of outliers to the top. maybe too expensive - drop those? look closer (total price, need of renovation?)\n",
    "* most properties never renovated - maybe not that old - or in high need of renovation.\n",
    "    * most renovations after 1980"
   ]
  },
  {
   "cell_type": "markdown",
   "metadata": {},
   "source": [
    "### 3. Data Cleaning 2. iteration"
   ]
  },
  {
   "cell_type": "markdown",
   "metadata": {},
   "source": [
    "#### 3.1 Extract only poor neighborhoods\n",
    "A *poor neighborhood* is understood as a zipcode area where 80% of the selling prices per sqft fall into the second quartile."
   ]
  },
  {
   "cell_type": "code",
   "execution_count": 42,
   "metadata": {},
   "outputs": [
    {
     "data": {
      "text/plain": [
       "245.23809523809524"
      ]
     },
     "execution_count": 42,
     "metadata": {},
     "output_type": "execute_result"
    }
   ],
   "source": [
    "# find median of price_sqft\n",
    "kch_robinson['price_sqft_living'].median()\n"
   ]
  },
  {
   "cell_type": "code",
   "execution_count": 43,
   "metadata": {},
   "outputs": [
    {
     "data": {
      "text/html": [
       "<div>\n",
       "<style scoped>\n",
       "    .dataframe tbody tr th:only-of-type {\n",
       "        vertical-align: middle;\n",
       "    }\n",
       "\n",
       "    .dataframe tbody tr th {\n",
       "        vertical-align: top;\n",
       "    }\n",
       "\n",
       "    .dataframe thead th {\n",
       "        text-align: right;\n",
       "    }\n",
       "</style>\n",
       "<table border=\"1\" class=\"dataframe\">\n",
       "  <thead>\n",
       "    <tr style=\"text-align: right;\">\n",
       "      <th></th>\n",
       "      <th>price_sqft_living</th>\n",
       "      <th>zipcode</th>\n",
       "      <th>freq_zipcode</th>\n",
       "    </tr>\n",
       "  </thead>\n",
       "  <tbody>\n",
       "    <tr>\n",
       "      <th>0</th>\n",
       "      <td>188.050847</td>\n",
       "      <td>98178</td>\n",
       "      <td>258</td>\n",
       "    </tr>\n",
       "    <tr>\n",
       "      <th>1</th>\n",
       "      <td>209.338521</td>\n",
       "      <td>98125</td>\n",
       "      <td>402</td>\n",
       "    </tr>\n",
       "  </tbody>\n",
       "</table>\n",
       "</div>"
      ],
      "text/plain": [
       "   price_sqft_living  zipcode  freq_zipcode\n",
       "0         188.050847    98178           258\n",
       "1         209.338521    98125           402"
      ]
     },
     "execution_count": 43,
     "metadata": {},
     "output_type": "execute_result"
    }
   ],
   "source": [
    "# make df with only price per sqft of living area and the according zipcode\n",
    "price_in_Q2 = kch_robinson.loc[:,['price_sqft_living', 'zipcode']]\n",
    "\n",
    "# add column with frequency of each zipcode\n",
    "price_in_Q2['freq_zipcode'] = price_in_Q2.groupby('zipcode')['zipcode'].transform('count')\n",
    "\n",
    "# check\n",
    "price_in_Q2.head(2)"
   ]
  },
  {
   "cell_type": "code",
   "execution_count": 44,
   "metadata": {},
   "outputs": [
    {
     "data": {
      "text/html": [
       "<div>\n",
       "<style scoped>\n",
       "    .dataframe tbody tr th:only-of-type {\n",
       "        vertical-align: middle;\n",
       "    }\n",
       "\n",
       "    .dataframe tbody tr th {\n",
       "        vertical-align: top;\n",
       "    }\n",
       "\n",
       "    .dataframe thead th {\n",
       "        text-align: right;\n",
       "    }\n",
       "</style>\n",
       "<table border=\"1\" class=\"dataframe\">\n",
       "  <thead>\n",
       "    <tr style=\"text-align: right;\">\n",
       "      <th></th>\n",
       "      <th>zipcode</th>\n",
       "      <th>freq_price_q2</th>\n",
       "    </tr>\n",
       "  </thead>\n",
       "  <tbody>\n",
       "    <tr>\n",
       "      <th>0</th>\n",
       "      <td>98178</td>\n",
       "      <td>220</td>\n",
       "    </tr>\n",
       "    <tr>\n",
       "      <th>1</th>\n",
       "      <td>98125</td>\n",
       "      <td>148</td>\n",
       "    </tr>\n",
       "  </tbody>\n",
       "</table>\n",
       "</div>"
      ],
      "text/plain": [
       "   zipcode  freq_price_q2\n",
       "0    98178            220\n",
       "1    98125            148"
      ]
     },
     "execution_count": 44,
     "metadata": {},
     "output_type": "execute_result"
    }
   ],
   "source": [
    "# make data frame with only zipcodes where price per sqft of living area fall in second quartile\n",
    "freq_Q2_zip = pd.DataFrame(price_in_Q2.query('price_sqft_living<=price_sqft_living.median()')['zipcode'])\n",
    "\n",
    "# count frequency of each zipcode and add that information as a column\n",
    "freq_Q2_zip['freq_price_q2'] = price_in_Q2.query('price_sqft_living<=price_sqft_living.median()').groupby('zipcode')['zipcode'].transform('count')\n",
    "\n",
    "# check\n",
    "freq_Q2_zip.head(2)"
   ]
  },
  {
   "cell_type": "code",
   "execution_count": 45,
   "metadata": {},
   "outputs": [
    {
     "data": {
      "text/plain": [
       "(69, 70)"
      ]
     },
     "execution_count": 45,
     "metadata": {},
     "output_type": "execute_result"
    }
   ],
   "source": [
    "# do boith data frames have the same amount of zipcodes?\n",
    "freq_Q2_zip.zipcode.nunique(), price_in_Q2.zipcode.nunique()"
   ]
  },
  {
   "cell_type": "markdown",
   "metadata": {},
   "source": [
    "One zipcode not in `freq_Q2_zip`. Find out which one and why (correct or mistake?):"
   ]
  },
  {
   "cell_type": "code",
   "execution_count": 46,
   "metadata": {},
   "outputs": [
    {
     "data": {
      "text/plain": [
       "98039"
      ]
     },
     "execution_count": 46,
     "metadata": {},
     "output_type": "execute_result"
    }
   ],
   "source": [
    "from numpy import setdiff1d\n",
    "\n",
    "freq_Q2_zip.zipcode.sort_values().unique(), price_in_Q2.zipcode.sort_values().unique()\n",
    "set1 = price_in_Q2.zipcode.sort_values().unique()\n",
    "set2 = freq_Q2_zip.zipcode.sort_values().unique()\n",
    "zip_diff = setdiff1d(set1,set2)[0]\n",
    "zip_diff\n",
    "# zip 98039 not in freq_Q2_zip"
   ]
  },
  {
   "cell_type": "code",
   "execution_count": 47,
   "metadata": {},
   "outputs": [
    {
     "data": {
      "text/plain": [
       "378.46153846153845"
      ]
     },
     "execution_count": 47,
     "metadata": {},
     "output_type": "execute_result"
    }
   ],
   "source": [
    "price_in_Q2.query('zipcode==@zip_diff').price_sqft_living.min()\n",
    "# no property with price up to median; all are more expensive. very exclusive neighborhood --> 0% Q2"
   ]
  },
  {
   "cell_type": "code",
   "execution_count": 48,
   "metadata": {},
   "outputs": [
    {
     "data": {
      "text/html": [
       "<div>\n",
       "<style scoped>\n",
       "    .dataframe tbody tr th:only-of-type {\n",
       "        vertical-align: middle;\n",
       "    }\n",
       "\n",
       "    .dataframe tbody tr th {\n",
       "        vertical-align: top;\n",
       "    }\n",
       "\n",
       "    .dataframe thead th {\n",
       "        text-align: right;\n",
       "    }\n",
       "</style>\n",
       "<table border=\"1\" class=\"dataframe\">\n",
       "  <thead>\n",
       "    <tr style=\"text-align: right;\">\n",
       "      <th></th>\n",
       "      <th>price_sqft_living</th>\n",
       "      <th>zipcode</th>\n",
       "      <th>freq_zipcode</th>\n",
       "    </tr>\n",
       "  </thead>\n",
       "  <tbody>\n",
       "    <tr>\n",
       "      <th>19679</th>\n",
       "      <td>142.857143</td>\n",
       "      <td>98001</td>\n",
       "      <td>358</td>\n",
       "    </tr>\n",
       "    <tr>\n",
       "      <th>16457</th>\n",
       "      <td>160.377358</td>\n",
       "      <td>98002</td>\n",
       "      <td>197</td>\n",
       "    </tr>\n",
       "    <tr>\n",
       "      <th>7786</th>\n",
       "      <td>142.629482</td>\n",
       "      <td>98003</td>\n",
       "      <td>276</td>\n",
       "    </tr>\n",
       "    <tr>\n",
       "      <th>11047</th>\n",
       "      <td>561.797753</td>\n",
       "      <td>98004</td>\n",
       "      <td>315</td>\n",
       "    </tr>\n",
       "    <tr>\n",
       "      <th>12236</th>\n",
       "      <td>323.232323</td>\n",
       "      <td>98005</td>\n",
       "      <td>168</td>\n",
       "    </tr>\n",
       "    <tr>\n",
       "      <th>...</th>\n",
       "      <td>...</td>\n",
       "      <td>...</td>\n",
       "      <td>...</td>\n",
       "    </tr>\n",
       "    <tr>\n",
       "      <th>4533</th>\n",
       "      <td>278.969957</td>\n",
       "      <td>98177</td>\n",
       "      <td>254</td>\n",
       "    </tr>\n",
       "    <tr>\n",
       "      <th>4741</th>\n",
       "      <td>183.854167</td>\n",
       "      <td>98178</td>\n",
       "      <td>258</td>\n",
       "    </tr>\n",
       "    <tr>\n",
       "      <th>12191</th>\n",
       "      <td>159.523810</td>\n",
       "      <td>98188</td>\n",
       "      <td>135</td>\n",
       "    </tr>\n",
       "    <tr>\n",
       "      <th>2104</th>\n",
       "      <td>200.000000</td>\n",
       "      <td>98198</td>\n",
       "      <td>275</td>\n",
       "    </tr>\n",
       "    <tr>\n",
       "      <th>17550</th>\n",
       "      <td>384.615385</td>\n",
       "      <td>98199</td>\n",
       "      <td>316</td>\n",
       "    </tr>\n",
       "  </tbody>\n",
       "</table>\n",
       "<p>70 rows × 3 columns</p>\n",
       "</div>"
      ],
      "text/plain": [
       "       price_sqft_living  zipcode  freq_zipcode\n",
       "19679         142.857143    98001           358\n",
       "16457         160.377358    98002           197\n",
       "7786          142.629482    98003           276\n",
       "11047         561.797753    98004           315\n",
       "12236         323.232323    98005           168\n",
       "...                  ...      ...           ...\n",
       "4533          278.969957    98177           254\n",
       "4741          183.854167    98178           258\n",
       "12191         159.523810    98188           135\n",
       "2104          200.000000    98198           275\n",
       "17550         384.615385    98199           316\n",
       "\n",
       "[70 rows x 3 columns]"
      ]
     },
     "execution_count": 48,
     "metadata": {},
     "output_type": "execute_result"
    }
   ],
   "source": [
    "# only keep unique zips with respective frequency\n",
    "price_in_Q2 = price_in_Q2.sort_values(by='zipcode')\n",
    "price_in_Q2.drop_duplicates(subset='zipcode', inplace=True)\n",
    "price_in_Q2"
   ]
  },
  {
   "cell_type": "code",
   "execution_count": 49,
   "metadata": {},
   "outputs": [
    {
     "data": {
      "text/html": [
       "<div>\n",
       "<style scoped>\n",
       "    .dataframe tbody tr th:only-of-type {\n",
       "        vertical-align: middle;\n",
       "    }\n",
       "\n",
       "    .dataframe tbody tr th {\n",
       "        vertical-align: top;\n",
       "    }\n",
       "\n",
       "    .dataframe thead th {\n",
       "        text-align: right;\n",
       "    }\n",
       "</style>\n",
       "<table border=\"1\" class=\"dataframe\">\n",
       "  <thead>\n",
       "    <tr style=\"text-align: right;\">\n",
       "      <th></th>\n",
       "      <th>zipcode</th>\n",
       "      <th>freq_price_q2</th>\n",
       "    </tr>\n",
       "  </thead>\n",
       "  <tbody>\n",
       "    <tr>\n",
       "      <th>5152</th>\n",
       "      <td>98001</td>\n",
       "      <td>354</td>\n",
       "    </tr>\n",
       "    <tr>\n",
       "      <th>18900</th>\n",
       "      <td>98002</td>\n",
       "      <td>196</td>\n",
       "    </tr>\n",
       "    <tr>\n",
       "      <th>9439</th>\n",
       "      <td>98003</td>\n",
       "      <td>273</td>\n",
       "    </tr>\n",
       "    <tr>\n",
       "      <th>13344</th>\n",
       "      <td>98004</td>\n",
       "      <td>1</td>\n",
       "    </tr>\n",
       "    <tr>\n",
       "      <th>9252</th>\n",
       "      <td>98005</td>\n",
       "      <td>23</td>\n",
       "    </tr>\n",
       "    <tr>\n",
       "      <th>...</th>\n",
       "      <td>...</td>\n",
       "      <td>...</td>\n",
       "    </tr>\n",
       "    <tr>\n",
       "      <th>16864</th>\n",
       "      <td>98177</td>\n",
       "      <td>88</td>\n",
       "    </tr>\n",
       "    <tr>\n",
       "      <th>3948</th>\n",
       "      <td>98178</td>\n",
       "      <td>220</td>\n",
       "    </tr>\n",
       "    <tr>\n",
       "      <th>8608</th>\n",
       "      <td>98188</td>\n",
       "      <td>128</td>\n",
       "    </tr>\n",
       "    <tr>\n",
       "      <th>15496</th>\n",
       "      <td>98198</td>\n",
       "      <td>248</td>\n",
       "    </tr>\n",
       "    <tr>\n",
       "      <th>3850</th>\n",
       "      <td>98199</td>\n",
       "      <td>14</td>\n",
       "    </tr>\n",
       "  </tbody>\n",
       "</table>\n",
       "<p>69 rows × 2 columns</p>\n",
       "</div>"
      ],
      "text/plain": [
       "       zipcode  freq_price_q2\n",
       "5152     98001            354\n",
       "18900    98002            196\n",
       "9439     98003            273\n",
       "13344    98004              1\n",
       "9252     98005             23\n",
       "...        ...            ...\n",
       "16864    98177             88\n",
       "3948     98178            220\n",
       "8608     98188            128\n",
       "15496    98198            248\n",
       "3850     98199             14\n",
       "\n",
       "[69 rows x 2 columns]"
      ]
     },
     "execution_count": 49,
     "metadata": {},
     "output_type": "execute_result"
    }
   ],
   "source": [
    "# only keep unique zips with respective frequency\n",
    "freq_Q2_zip = freq_Q2_zip.sort_values(by='zipcode')\n",
    "freq_Q2_zip.drop_duplicates(subset='zipcode', inplace=True)\n",
    "freq_Q2_zip"
   ]
  },
  {
   "cell_type": "code",
   "execution_count": 50,
   "metadata": {},
   "outputs": [
    {
     "data": {
      "text/plain": [
       "69"
      ]
     },
     "execution_count": 50,
     "metadata": {},
     "output_type": "execute_result"
    }
   ],
   "source": [
    "# which row is zipcode 98039 in in price_in_Q2? Drop that\n",
    "price_in_Q2.drop(axis=0, index=price_in_Q2.query('zipcode==@zip_diff').index, inplace=True)\n",
    "len(price_in_Q2)"
   ]
  },
  {
   "cell_type": "code",
   "execution_count": 51,
   "metadata": {},
   "outputs": [
    {
     "data": {
      "text/plain": [
       "True"
      ]
     },
     "execution_count": 51,
     "metadata": {},
     "output_type": "execute_result"
    }
   ],
   "source": [
    "# check\n",
    "price_in_Q2.zipcode.unique() in freq_Q2_zip.zipcode.unique()"
   ]
  },
  {
   "cell_type": "code",
   "execution_count": 52,
   "metadata": {},
   "outputs": [],
   "source": [
    "price_in_Q2.reset_index(inplace=True)\n",
    "price_in_Q2.drop(axis=1, labels='index', inplace=True)\n",
    "freq_Q2_zip.reset_index(inplace=True)\n",
    "freq_Q2_zip.drop(axis=1, labels='index', inplace=True)"
   ]
  },
  {
   "cell_type": "code",
   "execution_count": 53,
   "metadata": {},
   "outputs": [
    {
     "data": {
      "text/html": [
       "<div>\n",
       "<style scoped>\n",
       "    .dataframe tbody tr th:only-of-type {\n",
       "        vertical-align: middle;\n",
       "    }\n",
       "\n",
       "    .dataframe tbody tr th {\n",
       "        vertical-align: top;\n",
       "    }\n",
       "\n",
       "    .dataframe thead th {\n",
       "        text-align: right;\n",
       "    }\n",
       "</style>\n",
       "<table border=\"1\" class=\"dataframe\">\n",
       "  <thead>\n",
       "    <tr style=\"text-align: right;\">\n",
       "      <th></th>\n",
       "      <th>price_sqft_living</th>\n",
       "      <th>zipcode</th>\n",
       "      <th>freq_zipcode</th>\n",
       "    </tr>\n",
       "  </thead>\n",
       "  <tbody>\n",
       "    <tr>\n",
       "      <th>0</th>\n",
       "      <td>142.857143</td>\n",
       "      <td>98001</td>\n",
       "      <td>358</td>\n",
       "    </tr>\n",
       "    <tr>\n",
       "      <th>1</th>\n",
       "      <td>160.377358</td>\n",
       "      <td>98002</td>\n",
       "      <td>197</td>\n",
       "    </tr>\n",
       "    <tr>\n",
       "      <th>2</th>\n",
       "      <td>142.629482</td>\n",
       "      <td>98003</td>\n",
       "      <td>276</td>\n",
       "    </tr>\n",
       "    <tr>\n",
       "      <th>3</th>\n",
       "      <td>561.797753</td>\n",
       "      <td>98004</td>\n",
       "      <td>315</td>\n",
       "    </tr>\n",
       "    <tr>\n",
       "      <th>4</th>\n",
       "      <td>323.232323</td>\n",
       "      <td>98005</td>\n",
       "      <td>168</td>\n",
       "    </tr>\n",
       "  </tbody>\n",
       "</table>\n",
       "</div>"
      ],
      "text/plain": [
       "   price_sqft_living  zipcode  freq_zipcode\n",
       "0         142.857143    98001           358\n",
       "1         160.377358    98002           197\n",
       "2         142.629482    98003           276\n",
       "3         561.797753    98004           315\n",
       "4         323.232323    98005           168"
      ]
     },
     "execution_count": 53,
     "metadata": {},
     "output_type": "execute_result"
    }
   ],
   "source": [
    "price_in_Q2.head()"
   ]
  },
  {
   "cell_type": "code",
   "execution_count": 54,
   "metadata": {},
   "outputs": [
    {
     "data": {
      "text/html": [
       "<div>\n",
       "<style scoped>\n",
       "    .dataframe tbody tr th:only-of-type {\n",
       "        vertical-align: middle;\n",
       "    }\n",
       "\n",
       "    .dataframe tbody tr th {\n",
       "        vertical-align: top;\n",
       "    }\n",
       "\n",
       "    .dataframe thead th {\n",
       "        text-align: right;\n",
       "    }\n",
       "</style>\n",
       "<table border=\"1\" class=\"dataframe\">\n",
       "  <thead>\n",
       "    <tr style=\"text-align: right;\">\n",
       "      <th></th>\n",
       "      <th>zipcode</th>\n",
       "      <th>freq_price_q2</th>\n",
       "    </tr>\n",
       "  </thead>\n",
       "  <tbody>\n",
       "    <tr>\n",
       "      <th>0</th>\n",
       "      <td>98001</td>\n",
       "      <td>354</td>\n",
       "    </tr>\n",
       "    <tr>\n",
       "      <th>1</th>\n",
       "      <td>98002</td>\n",
       "      <td>196</td>\n",
       "    </tr>\n",
       "    <tr>\n",
       "      <th>2</th>\n",
       "      <td>98003</td>\n",
       "      <td>273</td>\n",
       "    </tr>\n",
       "    <tr>\n",
       "      <th>3</th>\n",
       "      <td>98004</td>\n",
       "      <td>1</td>\n",
       "    </tr>\n",
       "    <tr>\n",
       "      <th>4</th>\n",
       "      <td>98005</td>\n",
       "      <td>23</td>\n",
       "    </tr>\n",
       "  </tbody>\n",
       "</table>\n",
       "</div>"
      ],
      "text/plain": [
       "   zipcode  freq_price_q2\n",
       "0    98001            354\n",
       "1    98002            196\n",
       "2    98003            273\n",
       "3    98004              1\n",
       "4    98005             23"
      ]
     },
     "execution_count": 54,
     "metadata": {},
     "output_type": "execute_result"
    }
   ],
   "source": [
    "freq_Q2_zip.head()"
   ]
  },
  {
   "cell_type": "code",
   "execution_count": 55,
   "metadata": {},
   "outputs": [
    {
     "data": {
      "text/html": [
       "<div>\n",
       "<style scoped>\n",
       "    .dataframe tbody tr th:only-of-type {\n",
       "        vertical-align: middle;\n",
       "    }\n",
       "\n",
       "    .dataframe tbody tr th {\n",
       "        vertical-align: top;\n",
       "    }\n",
       "\n",
       "    .dataframe thead th {\n",
       "        text-align: right;\n",
       "    }\n",
       "</style>\n",
       "<table border=\"1\" class=\"dataframe\">\n",
       "  <thead>\n",
       "    <tr style=\"text-align: right;\">\n",
       "      <th></th>\n",
       "      <th>zipcode</th>\n",
       "      <th>freq_price_q2</th>\n",
       "      <th>share_q2</th>\n",
       "    </tr>\n",
       "  </thead>\n",
       "  <tbody>\n",
       "    <tr>\n",
       "      <th>0</th>\n",
       "      <td>98001</td>\n",
       "      <td>354</td>\n",
       "      <td>98.882682</td>\n",
       "    </tr>\n",
       "    <tr>\n",
       "      <th>1</th>\n",
       "      <td>98002</td>\n",
       "      <td>196</td>\n",
       "      <td>99.492386</td>\n",
       "    </tr>\n",
       "    <tr>\n",
       "      <th>2</th>\n",
       "      <td>98003</td>\n",
       "      <td>273</td>\n",
       "      <td>98.913043</td>\n",
       "    </tr>\n",
       "    <tr>\n",
       "      <th>3</th>\n",
       "      <td>98004</td>\n",
       "      <td>1</td>\n",
       "      <td>0.317460</td>\n",
       "    </tr>\n",
       "    <tr>\n",
       "      <th>4</th>\n",
       "      <td>98005</td>\n",
       "      <td>23</td>\n",
       "      <td>13.690476</td>\n",
       "    </tr>\n",
       "  </tbody>\n",
       "</table>\n",
       "</div>"
      ],
      "text/plain": [
       "   zipcode  freq_price_q2   share_q2\n",
       "0    98001            354  98.882682\n",
       "1    98002            196  99.492386\n",
       "2    98003            273  98.913043\n",
       "3    98004              1   0.317460\n",
       "4    98005             23  13.690476"
      ]
     },
     "execution_count": 55,
     "metadata": {},
     "output_type": "execute_result"
    }
   ],
   "source": [
    "# add column with percentage of properties in zipcode that have a price per sqft of living up to median price\n",
    "freq_Q2_zip['share_q2'] = (freq_Q2_zip['freq_price_q2'] / price_in_Q2['freq_zipcode']) * 100\n",
    "freq_Q2_zip.head()"
   ]
  },
  {
   "cell_type": "markdown",
   "metadata": {},
   "source": [
    "Make pd.Series with only zipcodes that meet share >= 80 %"
   ]
  },
  {
   "cell_type": "code",
   "execution_count": 56,
   "metadata": {},
   "outputs": [
    {
     "data": {
      "text/plain": [
       "22"
      ]
     },
     "execution_count": 56,
     "metadata": {},
     "output_type": "execute_result"
    }
   ],
   "source": [
    "share_80 = pd.Series(freq_Q2_zip.query('share_q2 >= 80')['zipcode'])\n",
    "share_80.nunique()"
   ]
  },
  {
   "cell_type": "code",
   "execution_count": 57,
   "metadata": {},
   "outputs": [
    {
     "data": {
      "text/html": [
       "<div>\n",
       "<style scoped>\n",
       "    .dataframe tbody tr th:only-of-type {\n",
       "        vertical-align: middle;\n",
       "    }\n",
       "\n",
       "    .dataframe tbody tr th {\n",
       "        vertical-align: top;\n",
       "    }\n",
       "\n",
       "    .dataframe thead th {\n",
       "        text-align: right;\n",
       "    }\n",
       "</style>\n",
       "<table border=\"1\" class=\"dataframe\">\n",
       "  <thead>\n",
       "    <tr style=\"text-align: right;\">\n",
       "      <th></th>\n",
       "      <th>id</th>\n",
       "      <th>date</th>\n",
       "      <th>price</th>\n",
       "      <th>condition</th>\n",
       "      <th>yr_built</th>\n",
       "      <th>yr_renovated</th>\n",
       "      <th>zipcode</th>\n",
       "      <th>lat</th>\n",
       "      <th>long</th>\n",
       "      <th>dist_to_seattle</th>\n",
       "      <th>price_sqft_living</th>\n",
       "      <th>multi_sold</th>\n",
       "      <th>date_sold_old</th>\n",
       "      <th>price_sold_old</th>\n",
       "    </tr>\n",
       "  </thead>\n",
       "  <tbody>\n",
       "    <tr>\n",
       "      <th>0</th>\n",
       "      <td>7129300520</td>\n",
       "      <td>2014-10-13</td>\n",
       "      <td>221900.0</td>\n",
       "      <td>3</td>\n",
       "      <td>1955</td>\n",
       "      <td>0</td>\n",
       "      <td>98178</td>\n",
       "      <td>47.5112</td>\n",
       "      <td>-122.257</td>\n",
       "      <td>11.979331</td>\n",
       "      <td>188.050847</td>\n",
       "      <td>False</td>\n",
       "      <td>NaT</td>\n",
       "      <td>NaN</td>\n",
       "    </tr>\n",
       "    <tr>\n",
       "      <th>1</th>\n",
       "      <td>1321400060</td>\n",
       "      <td>2014-06-27</td>\n",
       "      <td>257500.0</td>\n",
       "      <td>3</td>\n",
       "      <td>1995</td>\n",
       "      <td>0</td>\n",
       "      <td>98003</td>\n",
       "      <td>47.3097</td>\n",
       "      <td>-122.327</td>\n",
       "      <td>32.968130</td>\n",
       "      <td>150.145773</td>\n",
       "      <td>False</td>\n",
       "      <td>NaT</td>\n",
       "      <td>NaN</td>\n",
       "    </tr>\n",
       "    <tr>\n",
       "      <th>2</th>\n",
       "      <td>2008000270</td>\n",
       "      <td>2015-01-15</td>\n",
       "      <td>291850.0</td>\n",
       "      <td>3</td>\n",
       "      <td>1963</td>\n",
       "      <td>0</td>\n",
       "      <td>98198</td>\n",
       "      <td>47.4095</td>\n",
       "      <td>-122.315</td>\n",
       "      <td>21.908135</td>\n",
       "      <td>275.330189</td>\n",
       "      <td>False</td>\n",
       "      <td>NaT</td>\n",
       "      <td>NaN</td>\n",
       "    </tr>\n",
       "    <tr>\n",
       "      <th>3</th>\n",
       "      <td>3793500160</td>\n",
       "      <td>2015-03-12</td>\n",
       "      <td>323000.0</td>\n",
       "      <td>3</td>\n",
       "      <td>2003</td>\n",
       "      <td>0</td>\n",
       "      <td>98038</td>\n",
       "      <td>47.3684</td>\n",
       "      <td>-122.031</td>\n",
       "      <td>34.840445</td>\n",
       "      <td>170.899471</td>\n",
       "      <td>False</td>\n",
       "      <td>NaT</td>\n",
       "      <td>NaN</td>\n",
       "    </tr>\n",
       "    <tr>\n",
       "      <th>4</th>\n",
       "      <td>1875500060</td>\n",
       "      <td>2014-07-31</td>\n",
       "      <td>395000.0</td>\n",
       "      <td>3</td>\n",
       "      <td>1994</td>\n",
       "      <td>0</td>\n",
       "      <td>98019</td>\n",
       "      <td>47.7277</td>\n",
       "      <td>-121.962</td>\n",
       "      <td>30.902357</td>\n",
       "      <td>208.994709</td>\n",
       "      <td>False</td>\n",
       "      <td>NaT</td>\n",
       "      <td>NaN</td>\n",
       "    </tr>\n",
       "  </tbody>\n",
       "</table>\n",
       "</div>"
      ],
      "text/plain": [
       "           id       date     price  condition  yr_built  yr_renovated  \\\n",
       "0  7129300520 2014-10-13  221900.0          3      1955             0   \n",
       "1  1321400060 2014-06-27  257500.0          3      1995             0   \n",
       "2  2008000270 2015-01-15  291850.0          3      1963             0   \n",
       "3  3793500160 2015-03-12  323000.0          3      2003             0   \n",
       "4  1875500060 2014-07-31  395000.0          3      1994             0   \n",
       "\n",
       "   zipcode      lat     long  dist_to_seattle  price_sqft_living  multi_sold  \\\n",
       "0    98178  47.5112 -122.257        11.979331         188.050847       False   \n",
       "1    98003  47.3097 -122.327        32.968130         150.145773       False   \n",
       "2    98198  47.4095 -122.315        21.908135         275.330189       False   \n",
       "3    98038  47.3684 -122.031        34.840445         170.899471       False   \n",
       "4    98019  47.7277 -121.962        30.902357         208.994709       False   \n",
       "\n",
       "  date_sold_old  price_sold_old  \n",
       "0           NaT             NaN  \n",
       "1           NaT             NaN  \n",
       "2           NaT             NaN  \n",
       "3           NaT             NaN  \n",
       "4           NaT             NaN  "
      ]
     },
     "execution_count": 57,
     "metadata": {},
     "output_type": "execute_result"
    }
   ],
   "source": [
    "# only keep those properties that are in zipcode areas where at least 80% have a price per sqft living up to median price\n",
    "kch_robinson = kch_robinson.query('zipcode in @share_80')\n",
    "kch_robinson.reset_index(inplace=True)\n",
    "kch_robinson.drop(labels='index', axis=1, inplace=True)\n",
    "kch_robinson.head()"
   ]
  },
  {
   "cell_type": "code",
   "execution_count": 58,
   "metadata": {},
   "outputs": [
    {
     "data": {
      "text/plain": [
       "array([98001, 98002, 98003, 98010, 98019, 98022, 98023, 98030, 98031,\n",
       "       98032, 98038, 98042, 98055, 98058, 98059, 98065, 98092, 98148,\n",
       "       98168, 98178, 98188, 98198])"
      ]
     },
     "execution_count": 58,
     "metadata": {},
     "output_type": "execute_result"
    }
   ],
   "source": [
    "share_80.unique()"
   ]
  },
  {
   "cell_type": "markdown",
   "metadata": {},
   "source": [
    "#### 3.2 Add column with time since last renovation"
   ]
  },
  {
   "cell_type": "code",
   "execution_count": 59,
   "metadata": {},
   "outputs": [],
   "source": [
    "# add column with years between building and renovating. if never renovated calculate age of house (i.e. (year 2015 - year property was built))\n",
    "yrs_since_renovation = pd.Series(abs(2023 - kch_robinson.yr_renovated))\n",
    "yrs_since_renovation.name = 'yrs_since_renovation'\n",
    "yrs_since_renovation = pd.DataFrame(yrs_since_renovation)\n",
    "yrs_since_renovation['yr_renovated'] = kch_robinson.yr_renovated.values\n",
    "\n",
    "yrs_since_renovation.loc[yrs_since_renovation.query('yr_renovated==0').index,['yrs_since_renovation']] = 0"
   ]
  },
  {
   "cell_type": "code",
   "execution_count": 60,
   "metadata": {},
   "outputs": [
    {
     "data": {
      "text/html": [
       "<div>\n",
       "<style scoped>\n",
       "    .dataframe tbody tr th:only-of-type {\n",
       "        vertical-align: middle;\n",
       "    }\n",
       "\n",
       "    .dataframe tbody tr th {\n",
       "        vertical-align: top;\n",
       "    }\n",
       "\n",
       "    .dataframe thead th {\n",
       "        text-align: right;\n",
       "    }\n",
       "</style>\n",
       "<table border=\"1\" class=\"dataframe\">\n",
       "  <thead>\n",
       "    <tr style=\"text-align: right;\">\n",
       "      <th></th>\n",
       "      <th>id</th>\n",
       "      <th>date</th>\n",
       "      <th>price</th>\n",
       "      <th>condition</th>\n",
       "      <th>yr_built</th>\n",
       "      <th>yr_renovated</th>\n",
       "      <th>zipcode</th>\n",
       "      <th>lat</th>\n",
       "      <th>long</th>\n",
       "      <th>dist_to_seattle</th>\n",
       "      <th>price_sqft_living</th>\n",
       "      <th>multi_sold</th>\n",
       "      <th>date_sold_old</th>\n",
       "      <th>price_sold_old</th>\n",
       "      <th>yrs_since_renovation</th>\n",
       "    </tr>\n",
       "  </thead>\n",
       "  <tbody>\n",
       "    <tr>\n",
       "      <th>0</th>\n",
       "      <td>7129300520</td>\n",
       "      <td>2014-10-13</td>\n",
       "      <td>221900.0</td>\n",
       "      <td>3</td>\n",
       "      <td>1955</td>\n",
       "      <td>0</td>\n",
       "      <td>98178</td>\n",
       "      <td>47.5112</td>\n",
       "      <td>-122.257</td>\n",
       "      <td>11.979331</td>\n",
       "      <td>188.050847</td>\n",
       "      <td>False</td>\n",
       "      <td>NaT</td>\n",
       "      <td>NaN</td>\n",
       "      <td>0</td>\n",
       "    </tr>\n",
       "    <tr>\n",
       "      <th>1</th>\n",
       "      <td>1321400060</td>\n",
       "      <td>2014-06-27</td>\n",
       "      <td>257500.0</td>\n",
       "      <td>3</td>\n",
       "      <td>1995</td>\n",
       "      <td>0</td>\n",
       "      <td>98003</td>\n",
       "      <td>47.3097</td>\n",
       "      <td>-122.327</td>\n",
       "      <td>32.968130</td>\n",
       "      <td>150.145773</td>\n",
       "      <td>False</td>\n",
       "      <td>NaT</td>\n",
       "      <td>NaN</td>\n",
       "      <td>0</td>\n",
       "    </tr>\n",
       "  </tbody>\n",
       "</table>\n",
       "</div>"
      ],
      "text/plain": [
       "           id       date     price  condition  yr_built  yr_renovated  \\\n",
       "0  7129300520 2014-10-13  221900.0          3      1955             0   \n",
       "1  1321400060 2014-06-27  257500.0          3      1995             0   \n",
       "\n",
       "   zipcode      lat     long  dist_to_seattle  price_sqft_living  multi_sold  \\\n",
       "0    98178  47.5112 -122.257        11.979331         188.050847       False   \n",
       "1    98003  47.3097 -122.327        32.968130         150.145773       False   \n",
       "\n",
       "  date_sold_old  price_sold_old  yrs_since_renovation  \n",
       "0           NaT             NaN                     0  \n",
       "1           NaT             NaN                     0  "
      ]
     },
     "execution_count": 60,
     "metadata": {},
     "output_type": "execute_result"
    }
   ],
   "source": [
    "kch_robinson['yrs_since_renovation'] = yrs_since_renovation['yrs_since_renovation'].values\n",
    "kch_robinson.head(2)"
   ]
  },
  {
   "cell_type": "markdown",
   "metadata": {},
   "source": [
    "### 4. Exploration 2. iteration"
   ]
  },
  {
   "cell_type": "markdown",
   "metadata": {},
   "source": [
    "Check for distributions again with cleaned data set, only poor neighborhoods"
   ]
  },
  {
   "cell_type": "code",
   "execution_count": 61,
   "metadata": {},
   "outputs": [
    {
     "data": {
      "image/png": "[encoded data removed]",
      "text/plain": [
       "<Figure size 2000x1000 with 4 Axes>"
      ]
     },
     "metadata": {},
     "output_type": "display_data"
    }
   ],
   "source": [
    "# Distributions\n",
    "fig, ax = plt.subplots(2,2, figsize=(20,10)) # create subplots on 1 row and 3 columns\n",
    "plt.suptitle('Distribution of condition, sqft_living15, yr_renovated', fontsize=20)\n",
    "fig.tight_layout()\n",
    "\n",
    "ax[0][0].hist(kch_robinson['condition']) # boxplot for condition\n",
    "ax[0][0].set_title(\"Distribution of condition count\", fontsize = 15); # sets title for subplot\n",
    "\n",
    "ax[0][1].hist(x = kch_robinson.query('yr_renovated!=0').yr_renovated)\n",
    "ax[0][1].set_title(\"Distribution of year last renovated count (if ever renovated)\", fontsize = 15);\n",
    "\n",
    "ax[1][0].boxplot(x = kch_robinson['price_sqft_living'])\n",
    "ax[1][0].set_title(\"Distribution of price per living sqft\", fontsize = 15);\n",
    "\n",
    "ax[1][1].boxplot(x = kch_robinson['price'])\n",
    "ax[1][1].set_title(\"Distribution of total price\", fontsize = 15);"
   ]
  },
  {
   "cell_type": "markdown",
   "metadata": {},
   "source": [
    "* Far less 4 and 5 conditioned properties (as expected)\n",
    "* less outliers price wise (as expected)\n",
    "* renovations on the whole not so long ago as with all properties seen"
   ]
  },
  {
   "cell_type": "markdown",
   "metadata": {},
   "source": [
    "## Save cleaned data set for EDA"
   ]
  },
  {
   "cell_type": "code",
   "execution_count": 62,
   "metadata": {},
   "outputs": [
    {
     "data": {
      "text/html": [
       "<div>\n",
       "<style scoped>\n",
       "    .dataframe tbody tr th:only-of-type {\n",
       "        vertical-align: middle;\n",
       "    }\n",
       "\n",
       "    .dataframe tbody tr th {\n",
       "        vertical-align: top;\n",
       "    }\n",
       "\n",
       "    .dataframe thead th {\n",
       "        text-align: right;\n",
       "    }\n",
       "</style>\n",
       "<table border=\"1\" class=\"dataframe\">\n",
       "  <thead>\n",
       "    <tr style=\"text-align: right;\">\n",
       "      <th></th>\n",
       "      <th>id</th>\n",
       "      <th>date</th>\n",
       "      <th>price</th>\n",
       "      <th>condition</th>\n",
       "      <th>yr_built</th>\n",
       "      <th>yr_renovated</th>\n",
       "      <th>zipcode</th>\n",
       "      <th>lat</th>\n",
       "      <th>long</th>\n",
       "      <th>dist_to_seattle</th>\n",
       "      <th>price_sqft_living</th>\n",
       "      <th>multi_sold</th>\n",
       "      <th>date_sold_old</th>\n",
       "      <th>price_sold_old</th>\n",
       "      <th>yrs_since_renovation</th>\n",
       "    </tr>\n",
       "  </thead>\n",
       "  <tbody>\n",
       "    <tr>\n",
       "      <th>0</th>\n",
       "      <td>7129300520</td>\n",
       "      <td>2014-10-13</td>\n",
       "      <td>221900.0</td>\n",
       "      <td>3</td>\n",
       "      <td>1955</td>\n",
       "      <td>0</td>\n",
       "      <td>98178</td>\n",
       "      <td>47.5112</td>\n",
       "      <td>-122.257</td>\n",
       "      <td>11.979331</td>\n",
       "      <td>188.050847</td>\n",
       "      <td>False</td>\n",
       "      <td>NaT</td>\n",
       "      <td>NaN</td>\n",
       "      <td>0</td>\n",
       "    </tr>\n",
       "    <tr>\n",
       "      <th>1</th>\n",
       "      <td>1321400060</td>\n",
       "      <td>2014-06-27</td>\n",
       "      <td>257500.0</td>\n",
       "      <td>3</td>\n",
       "      <td>1995</td>\n",
       "      <td>0</td>\n",
       "      <td>98003</td>\n",
       "      <td>47.3097</td>\n",
       "      <td>-122.327</td>\n",
       "      <td>32.968130</td>\n",
       "      <td>150.145773</td>\n",
       "      <td>False</td>\n",
       "      <td>NaT</td>\n",
       "      <td>NaN</td>\n",
       "      <td>0</td>\n",
       "    </tr>\n",
       "  </tbody>\n",
       "</table>\n",
       "</div>"
      ],
      "text/plain": [
       "           id       date     price  condition  yr_built  yr_renovated  \\\n",
       "0  7129300520 2014-10-13  221900.0          3      1955             0   \n",
       "1  1321400060 2014-06-27  257500.0          3      1995             0   \n",
       "\n",
       "   zipcode      lat     long  dist_to_seattle  price_sqft_living  multi_sold  \\\n",
       "0    98178  47.5112 -122.257        11.979331         188.050847       False   \n",
       "1    98003  47.3097 -122.327        32.968130         150.145773       False   \n",
       "\n",
       "  date_sold_old  price_sold_old  yrs_since_renovation  \n",
       "0           NaT             NaN                     0  \n",
       "1           NaT             NaN                     0  "
      ]
     },
     "execution_count": 62,
     "metadata": {},
     "output_type": "execute_result"
    }
   ],
   "source": [
    "kch_robinson.head(2)"
   ]
  },
  {
   "cell_type": "code",
   "execution_count": 63,
   "metadata": {},
   "outputs": [],
   "source": [
    "kch_robinson.to_csv('data/kch_poor_neighborhood_clean_data.csv')\n",
    "kch_df.to_csv('data/kch_clean_data.csv')"
   ]
  },
  {
   "cell_type": "markdown",
   "metadata": {},
   "source": [
    "### Heatmap on Map"
   ]
  },
  {
   "cell_type": "code",
   "execution_count": 64,
   "metadata": {},
   "outputs": [
    {
     "data": {
      "text/html": [
       "<div style=\"width:100%;\"><div style=\"position:relative;width:100%;height:0;padding-bottom:60%;\"><span style=\"color:#565656\">Make this Notebook Trusted to load map: File -> Trust Notebook</span><iframe srcdoc=\"&lt;!DOCTYPE html&gt;\n",
       "&lt;html&gt;\n",
       "&lt;head&gt;\n",
       "    \n",
       "    &lt;meta http-equiv=&quot;content-type&quot; content=&quot;text/html; charset=UTF-8&quot; /&gt;\n",
       "    \n",
       "        &lt;script&gt;\n",
       "            L_NO_TOUCH = false;\n",
       "            L_DISABLE_3D = false;\n",
       "        &lt;/script&gt;\n",
       "    \n",
       "    &lt;style&gt;html, body {width: 100%;height: 100%;margin: 0;padding: 0;}&lt;/style&gt;\n",
       "    &lt;style&gt;#map {position:absolute;top:0;bottom:0;right:0;left:0;}&lt;/style&gt;\n",
       "    &lt;script src=&quot;https://cdn.jsdelivr.net/npm/leaflet@1.9.3/dist/leaflet.js&quot;&gt;&lt;/script&gt;\n",
       "    &lt;script src=&quot;https://code.jquery.com/jquery-3.7.1.min.js&quot;&gt;&lt;/script&gt;\n",
       "    &lt;script src=&quot;https://cdn.jsdelivr.net/npm/bootstrap@5.2.2/dist/js/bootstrap.bundle.min.js&quot;&gt;&lt;/script&gt;\n",
       "    &lt;script src=&quot;https://cdnjs.cloudflare.com/ajax/libs/Leaflet.awesome-markers/2.0.2/leaflet.awesome-markers.js&quot;&gt;&lt;/script&gt;\n",
       "    &lt;link rel=&quot;stylesheet&quot; href=&quot;https://cdn.jsdelivr.net/npm/leaflet@1.9.3/dist/leaflet.css&quot;/&gt;\n",
       "    &lt;link rel=&quot;stylesheet&quot; href=&quot;https://cdn.jsdelivr.net/npm/bootstrap@5.2.2/dist/css/bootstrap.min.css&quot;/&gt;\n",
       "    &lt;link rel=&quot;stylesheet&quot; href=&quot;https://netdna.bootstrapcdn.com/bootstrap/3.0.0/css/bootstrap.min.css&quot;/&gt;\n",
       "    &lt;link rel=&quot;stylesheet&quot; href=&quot;https://cdn.jsdelivr.net/npm/@fortawesome/fontawesome-free@6.2.0/css/all.min.css&quot;/&gt;\n",
       "    &lt;link rel=&quot;stylesheet&quot; href=&quot;https://cdnjs.cloudflare.com/ajax/libs/Leaflet.awesome-markers/2.0.2/leaflet.awesome-markers.css&quot;/&gt;\n",
       "    &lt;link rel=&quot;stylesheet&quot; href=&quot;https://cdn.jsdelivr.net/gh/python-visualization/folium/folium/templates/leaflet.awesome.rotate.min.css&quot;/&gt;\n",
       "    \n",
       "            &lt;meta name=&quot;viewport&quot; content=&quot;width=device-width,\n",
       "                initial-scale=1.0, maximum-scale=1.0, user-scalable=no&quot; /&gt;\n",
       "            &lt;style&gt;\n",
       "                #map_f9710b2cbb74535659df61e1fe7bbcba {\n",
       "                    position: relative;\n",
       "                    width: 100.0%;\n",
       "                    height: 100.0%;\n",
       "                    left: 0.0%;\n",
       "                    top: 0.0%;\n",
       "                }\n",
       "                .leaflet-container { font-size: 1rem; }\n",
       "            &lt;/style&gt;\n",
       "        \n",
       "    &lt;script src=&quot;https://cdn.jsdelivr.net/gh/python-visualization/folium@main/folium/templates/leaflet_heat.min.js&quot;&gt;&lt;/script&gt;\n",
       "&lt;/head&gt;\n",
       "&lt;body&gt;\n",
       "    \n",
       "    \n",
       "            &lt;div class=&quot;folium-map&quot; id=&quot;map_f9710b2cbb74535659df61e1fe7bbcba&quot; &gt;&lt;/div&gt;\n",
       "        \n",
       "&lt;/body&gt;\n",
       "&lt;script&gt;\n",
       "    \n",
       "    \n",
       "            var map_f9710b2cbb74535659df61e1fe7bbcba = L.map(\n",
       "                &quot;map_f9710b2cbb74535659df61e1fe7bbcba&quot;,\n",
       "                {\n",
       "                    center: [47.60621, -122.33207],\n",
       "                    crs: L.CRS.EPSG3857,\n",
       "                    zoom: 10,\n",
       "                    zoomControl: true,\n",
       "                    preferCanvas: false,\n",
       "                }\n",
       "            );\n",
       "            L.control.scale().addTo(map_f9710b2cbb74535659df61e1fe7bbcba);\n",
       "\n",
       "            \n",
       "\n",
       "        \n",
       "    \n",
       "            var tile_layer_7edb44a49527efb399d751387a6a8392 = L.tileLayer(\n",
       "                &quot;http://server.arcgisonline.com/ArcGIS/rest/services/World_Street_Map/MapServer/tile/{z}/{y}/{x}&quot;,\n",
       "                {&quot;attribution&quot;: &quot;USGS style&quot;, &quot;detectRetina&quot;: false, &quot;maxNativeZoom&quot;: 18, &quot;maxZoom&quot;: 18, &quot;minZoom&quot;: 0, &quot;noWrap&quot;: false, &quot;opacity&quot;: 1, &quot;subdomains&quot;: &quot;abc&quot;, &quot;tms&quot;: false}\n",
       "            );\n",
       "        \n",
       "    \n",
       "                tile_layer_7edb44a49527efb399d751387a6a8392.addTo(map_f9710b2cbb74535659df61e1fe7bbcba);\n",
       "    \n",
       "            var heat_map_ffb1764415936da45fdc0d58a1b77a4c = L.heatLayer(\n",
       "                [[47.5112, -122.257, 221900.0], [47.3097, -122.327, 257500.0], [47.4095, -122.315, 291850.0], [47.3684, -122.031, 323000.0], [47.7277, -121.962, 395000.0], [47.3089, -122.21, 189000.0], [47.3343, -122.306, 230000.0], [47.3266, -122.169, 285000.0], [47.3533, -122.166, 252700.0], [47.3739, -122.172, 329000.0], [47.3048, -122.218, 233000.0], [47.4276, -122.157, 322500.0], [47.3341, -122.282, 240000.0], [47.4485, -122.175, 309000.0], [47.7443, -121.977, 488000.0], [47.3066, -122.371, 210490.0], [47.4258, -122.322, 228000.0], [47.3663, -122.114, 292500.0], [47.3663, -122.122, 301000.0], [47.5059, -122.149, 430000.0], [47.4366, -122.335, 289000.0], [47.3378, -122.257, 287000.0], [47.3621, -122.11, 204000.0], [47.3608, -122.036, 360000.0], [47.3511, -122.073, 349000.0], [47.342, -122.025, 720000.0], [47.3512, -122.008, 390000.0], [47.349, -122.031, 360000.0], [47.4811, -122.149, 356000.0], [47.2909, -122.189, 305000.0], [47.2897, -122.372, 243500.0], [47.322, -122.351, 153000.0], [47.3576, -122.277, 247500.0], [47.3036, -122.378, 199000.0], [47.4109, -121.958, 314000.0], [47.4375, -122.184, 290000.0], [47.4431, -122.133, 375000.0], [47.3813, -122.322, 188500.0], [47.3624, -122.031, 272500.0], [47.3183, -122.253, 480000.0], [47.5009, -122.248, 205425.0], [47.4965, -122.303, 171800.0], [47.5091, -122.244, 445000.0], [47.3129, -122.39, 260000.0], [47.5319, -121.85, 430000.0], [47.2761, -122.152, 212000.0], [47.3257, -122.296, 199000.0], [47.3309, -122.299, 220000.0], [47.4563, -122.171, 205000.0], [47.3887, -122.286, 258000.0], [47.3255, -122.304, 282950.0], [47.4479, -122.176, 215000.0], [47.3135, -122.369, 320000.0], [47.2086, -121.996, 247000.0], [47.4715, -122.118, 320000.0], [47.408, -122.327, 269950.0], [47.3026, -122.374, 272000.0], [47.1976, -121.999, 269950.0], [47.3505, -122.179, 260000.0], [47.3848, -122.039, 163500.0], [47.3099, -122.379, 269000.0], [47.4616, -122.184, 166950.0], [47.2779, -122.347, 256883.0], [47.4058, -121.994, 385000.0], [47.3777, -122.165, 297000.0], [47.3025, -122.37, 226500.0], [47.4787, -122.158, 274250.0], [47.354, -122.047, 320000.0], [47.3185, -122.275, 465000.0], [47.4889, -122.299, 280000.0], [47.398, -122.299, 279950.0], [47.3758, -122.217, 325000.0], [47.3828, -122.023, 328000.0], [47.2922, -122.371, 264950.0], [47.4075, -122.214, 235000.0], [47.5218, -122.164, 500000.0], [47.3103, -122.339, 315000.0], [47.3459, -121.95, 416000.0], [47.3376, -122.324, 472000.0], [47.3173, -122.319, 225000.0], [47.3221, -122.216, 225000.0], [47.3076, -122.395, 363000.0], [47.2785, -122.213, 250000.0], [47.3656, -122.278, 260000.0], [47.4369, -122.111, 455000.0], [47.3507, -122.178, 245000.0], [47.4756, -122.147, 315000.0], [47.4207, -122.29, 237000.0], [47.4045, -122.171, 290000.0], [47.2988, -122.371, 272500.0], [47.3271, -122.323, 210000.0], [47.5053, -122.255, 236000.0], [47.4145, -122.166, 365000.0], [47.4672, -122.165, 450000.0], [47.3828, -122.071, 455000.0], [47.3954, -122.206, 304900.0], [47.5048, -122.272, 170000.0], [47.3846, -122.169, 370000.0], [47.3341, -122.255, 360000.0], [47.3536, -122.144, 265000.0], [47.5084, -122.154, 446500.0], [47.4427, -122.274, 267500.0], [47.3494, -122.301, 335000.0], [47.3537, -122.0, 208633.0], [47.529, -121.837, 201000.0], [47.4441, -122.125, 305000.0], [47.346, -122.157, 390000.0], [47.2639, -122.252, 230000.0], [47.2929, -122.371, 240000.0], [47.42, -122.323, 279000.0], [47.1913, -122.012, 295000.0], [47.3483, -122.052, 260000.0], [47.4945, -122.22, 245000.0], [47.5222, -122.157, 684000.0], [47.5374, -121.875, 552250.0], [47.4897, -122.24, 239900.0], [47.4716, -122.078, 320000.0], [47.3581, -122.173, 206600.0], [47.3117, -122.27, 252000.0], [47.3607, -122.034, 300000.0], [47.4769, -122.141, 380000.0], [47.3845, -122.029, 329500.0], [47.2813, -122.345, 380000.0], [47.3624, -122.045, 275000.0], [47.7237, -121.959, 389000.0], [47.4612, -122.169, 252350.0], [47.7736, -121.901, 330000.0], [47.4556, -122.157, 269900.0], [47.1775, -122.022, 360000.0], [47.3845, -122.032, 322500.0], [47.3163, -122.188, 278500.0], [47.4309, -122.191, 364950.0], [47.401, -122.026, 840000.0], [47.404, -122.191, 268000.0], [47.504, -122.227, 339000.0], [47.7318, -121.982, 355000.0], [47.4334, -122.161, 380000.0], [47.3592, -122.046, 245000.0], [47.4362, -122.178, 365000.0], [47.3739, -122.156, 328500.0], [47.4324, -122.197, 237000.0], [47.2613, -122.255, 227950.0], [47.3417, -122.271, 196000.0], [47.4056, -121.955, 350000.0], [47.3838, -122.289, 205000.0], [47.362, -122.029, 232000.0], [47.4904, -122.226, 578000.0], [47.3663, -122.089, 255000.0], [47.3759, -122.125, 348000.0], [47.3912, -122.167, 230000.0], [47.3305, -122.371, 359500.0], [47.3701, -122.107, 325000.0], [47.4857, -122.318, 340500.0], [47.3724, -122.042, 342500.0], [47.4855, -122.266, 290900.0], [47.3875, -122.161, 328500.0], [47.3078, -122.378, 295000.0], [47.4734, -122.186, 370000.0], [47.3811, -122.087, 232000.0], [47.3841, -122.284, 299000.0], [47.5322, -121.88, 437500.0], [47.5416, -121.864, 650000.0], [47.3672, -122.151, 342000.0], [47.4404, -122.191, 280000.0], [47.4467, -122.281, 240000.0], [47.4877, -122.139, 480000.0], [47.3818, -122.225, 308000.0], [47.4711, -122.084, 890000.0], [47.452, -122.177, 288000.0], [47.4973, -122.221, 190000.0], [47.4667, -122.215, 235000.0], [47.3608, -122.056, 270500.0], [47.2852, -122.19, 200000.0], [47.4097, -122.316, 160000.0], [47.3105, -122.021, 204000.0], [47.4296, -122.161, 358000.0], [47.3577, -122.16, 249000.0], [47.449, -122.205, 346900.0], [47.3644, -122.28, 318888.0], [47.3914, -122.169, 375000.0], [47.4518, -122.16, 315000.0], [47.4949, -122.3, 215000.0], [47.4727, -122.198, 261000.0], [47.5146, -122.117, 725000.0], [47.4339, -122.291, 238000.0], [47.3628, -122.075, 331500.0], [47.52, -121.845, 460000.0], [47.2953, -122.083, 404950.0], [47.505, -122.259, 260000.0], [47.3572, -122.015, 338900.0], [47.4478, -122.161, 263500.0], [47.4219, -122.007, 300000.0], [47.3521, -122.212, 266000.0], [47.3062, -122.371, 180000.0], [47.5422, -121.86, 619000.0], [47.3366, -122.306, 264000.0], [47.4025, -122.176, 268500.0], [47.3725, -122.06, 370000.0], [47.1803, -121.974, 265000.0], [47.4489, -122.188, 290000.0], [47.3665, -122.017, 296000.0], [47.4964, -122.251, 360000.0], [47.492, -122.317, 240500.0], [47.2846, -122.341, 515000.0], [47.3131, -122.115, 399950.0], [47.3122, -121.996, 185000.0], [47.425, -122.283, 469000.0], [47.3666, -122.084, 223000.0], [47.3961, -122.188, 242000.0], [47.3128, -122.184, 210000.0], [47.4022, -122.171, 260000.0], [47.2876, -122.212, 200000.0], [47.496, -122.239, 289500.0], [47.3496, -122.094, 480000.0], [47.1951, -122.001, 218000.0], [47.3221, -122.215, 214000.0], [47.4488, -122.275, 245000.0], [47.2681, -122.31, 314500.0], [47.33600000000001, -122.269, 305000.0], [47.5317, -121.853, 430000.0], [47.3647, -122.05, 240000.0], [47.4152, -122.3, 157000.0], [47.526, -121.826, 337000.0], [47.4834, -122.159, 331000.0], [47.33600000000001, -122.319, 290000.0], [47.4406, -122.146, 385000.0], [47.5024, -122.271, 188000.0], [47.544, -121.872, 1150000.0], [47.291, -122.368, 222000.0], [47.3558, -122.004, 609900.0], [47.2918, -122.346, 320000.0], [47.5441, -121.882, 507000.0], [47.4862, -122.224, 373000.0], [47.4406, -122.141, 359900.0], [47.3702, -122.185, 245000.0], [47.3923, -122.311, 268000.0], [47.3664, -122.1, 225000.0], [47.4672, -122.291, 130000.0], [47.3444, -122.327, 325000.0], [47.5015, -122.124, 310000.0], [47.2413, -121.972, 530000.0], [47.4206, -122.183, 390000.0], [47.3575, -122.28, 243000.0], [47.3437, -122.316, 215000.0], [47.3745, -122.275, 250000.0], [47.3131, -121.998, 267000.0], [47.3668, -122.031, 289950.0], [47.4938, -122.255, 350000.0], [47.4525, -122.162, 320000.0], [47.3825, -122.319, 210000.0], [47.4818, -122.161, 328000.0], [47.4908, -122.225, 501000.0], [47.7336, -121.965, 403000.0], [47.3591, -122.201, 347500.0], [47.4388, -122.162, 365000.0], [47.3415, -122.272, 233000.0], [47.3818, -122.2, 360000.0], [47.3272, -122.355, 316500.0], [47.7576, -121.934, 330000.0], [47.3608, -122.043, 374950.0], [47.363, -122.08, 260000.0], [47.3384, -122.336, 405000.0], [47.4598, -122.15, 429900.0], [47.4802, -122.279, 269950.0], [47.3314, -122.172, 370000.0], [47.475, -122.11, 305000.0], [47.3109, -122.376, 218000.0], [47.3289, -122.327, 232500.0], [47.492, -122.333, 249950.0], [47.4781, -122.294, 210000.0], [47.5341, -121.867, 470000.0], [47.3405, -122.058, 308000.0], [47.39, -122.153, 361000.0], [47.3077, -122.011, 379000.0], [47.3839, -122.225, 250000.0], [47.539, -122.188, 682000.0], [47.2118, -121.983, 246500.0], [47.2597, -122.228, 325000.0], [47.393, -122.184, 310950.0], [47.4778, -122.286, 175000.0], [47.4622, -122.127, 350000.0], [47.3102, -122.381, 270000.0], [47.294, -122.281, 249900.0], [47.3272, -122.362, 324500.0], [47.3748, -122.276, 285000.0], [47.3337, -122.191, 332000.0], [47.5033, -122.3, 282000.0], [47.2477, -121.937, 330000.0], [47.4723, -122.121, 352000.0], [47.3085, -122.376, 254000.0], [47.3841, -122.006, 287653.0], [47.2635, -122.209, 327000.0], [47.4829, -122.128, 370500.0], [47.3898, -122.049, 265000.0], [47.3729, -122.115, 166600.0], [47.481, -122.323, 245000.0], [47.2658, -122.219, 280000.0], [47.3576, -122.039, 275000.0], [47.3122, -122.191, 289999.0], [47.404, -122.203, 147500.0], [47.3586, -122.314, 229000.0], [47.494, -122.307, 185000.0], [47.2959, -122.191, 225000.0], [47.3782, -122.127, 395000.0], [47.3592, -122.076, 291500.0], [47.4614, -122.168, 300000.0], [47.3627, -122.037, 314950.0], [47.3969, -122.198, 255000.0], [47.3113, -122.207, 234000.0], [47.3315, -122.263, 205000.0], [47.4315, -122.192, 324000.0], [47.4095, -122.195, 324000.0], [47.4599, -122.172, 290000.0], [47.3702, -122.317, 250000.0], [47.4405, -122.28, 255000.0], [47.4046, -122.186, 288400.0], [47.4417, -122.09, 390000.0], [47.3414, -122.047, 288349.0], [47.3023, -122.069, 299900.0], [47.3556, -122.026, 378000.0], [47.3545, -122.158, 253000.0], [47.3275, -122.361, 260000.0], [47.3622, -122.059, 323000.0], [47.2105, -121.989, 210000.0], [47.3461, -122.272, 196500.0], [47.4061, -122.33, 265000.0], [47.3908, -122.173, 469500.0], [47.3011, -122.369, 237500.0], [47.3298, -122.297, 216000.0], [47.4545, -122.208, 280000.0], [47.5175, -121.878, 420000.0], [47.1949, -122.01, 283000.0], [47.5048, -122.301, 260000.0], [47.3211, -122.325, 253000.0], [47.3492, -122.03, 291000.0], [47.2786, -122.25, 199950.0], [47.3738, -122.057, 189950.0], [47.3225, -122.273, 289000.0], [47.4312, -122.171, 270000.0], [47.327, -122.361, 258000.0], [47.3204, -122.178, 245000.0], [47.5346, -121.875, 515000.0], [47.3017, -122.349, 325000.0], [47.5064, -122.265, 164808.0], [47.4809, -122.3, 283000.0], [47.3572, -122.191, 321500.0], [47.3484, -122.033, 287000.0], [47.4065, -122.18, 315000.0], [47.3682, -122.179, 245000.0], [47.267, -122.25, 249900.0], [47.3559, -122.014, 380000.0], [47.3098, -122.21, 218500.0], [47.452, -122.19, 197500.0], [47.323, -122.044, 935000.0], [47.3643, -122.115, 249500.0], [47.467, -122.215, 140000.0], [47.3983, -122.31, 318000.0], [47.477, -122.292, 320000.0], [47.5042, -122.265, 310000.0], [47.3668, -122.31, 208000.0], [47.502, -122.222, 825000.0], [47.3356, -122.333, 515000.0], [47.4973, -122.328, 225000.0], [47.4497, -122.147, 500000.0], [47.4702, -122.12, 385000.0], [47.3006, -122.066, 241000.0], [47.5306, -122.134, 1570000.0], [47.3274, -122.348, 195000.0], [47.3603, -122.037, 367000.0], [47.2626, -122.218, 285167.0], [47.3347, -122.304, 275000.0], [47.3866, -122.169, 350900.0], [47.514, -122.316, 262000.0], [47.7377, -121.974, 624000.0], [47.3178, -122.174, 224500.0], [47.5305, -122.131, 1200000.0], [47.5008, -122.162, 302000.0], [47.4945, -122.258, 269000.0], [47.5283, -122.143, 1280000.0], [47.4733, -122.189, 303000.0], [47.2093, -122.0, 225000.0], [47.3496, -122.022, 219000.0], [47.4517, -122.082, 225500.0], [47.49800000000001, -122.263, 252500.0], [47.3291, -122.17, 298900.0], [47.5105, -122.238, 790000.0], [47.3919, -122.184, 305000.0], [47.3737, -122.115, 267500.0], [47.3186, -122.373, 194000.0], [47.4142, -122.179, 274700.0], [47.5318, -121.85, 359000.0], [47.4092, -122.33, 328000.0], [47.4954, -122.164, 235000.0], [47.4491, -122.12, 334950.0], [47.4325, -122.291, 220000.0], [47.4942, -122.304, 173000.0], [47.3755, -122.136, 254000.0], [47.3335, -122.305, 179950.0], [47.4394, -122.114, 460000.0], [47.386, -122.036, 245000.0], [47.532, -121.88, 485500.0], [47.2997, -122.269, 100000.0], [47.3076, -122.396, 475000.0], [47.3557, -122.278, 320000.0], [47.3434, -122.082, 234000.0], [47.3947, -122.174, 211000.0], [47.3544, -122.013, 457000.0], [47.351000000000006, -122.146, 350000.0], [47.2898, -122.221, 208000.0], [47.3766, -122.184, 270000.0], [47.3099, -122.09, 170000.0], [47.4528, -122.163, 317000.0], [47.3077, -122.381, 258000.0], [47.3661, -122.28, 321000.0], [47.3286, -122.208, 295700.0], [47.3282, -122.198, 390000.0], [47.5116, -122.163, 484000.0], [47.3821, -122.207, 302495.0], [47.5093, -122.153, 441500.0], [47.4132, -122.328, 470000.0], [47.3917, -122.084, 590000.0], [47.5305, -121.854, 403000.0], [47.4579, -122.09, 270000.0], [47.4117, -122.333, 425000.0], [47.4524, -122.146, 364808.0], [47.4394, -122.14, 320000.0], [47.3831, -122.185, 325000.0], [47.4459, -122.124, 350000.0], [47.4738, -122.263, 170000.0], [47.3069, -122.148, 835000.0], [47.3594, -122.076, 284000.0], [47.3768, -122.117, 285000.0], [47.7422, -121.981, 316000.0], [47.3487, -122.304, 375000.0], [47.2996, -122.342, 556000.0], [47.361, -122.116, 225000.0], [47.4551, -122.154, 255000.0], [47.479, -122.129, 530000.0], [47.3187, -122.182, 234975.0], [47.3737, -122.216, 267500.0], [47.4306, -122.049, 620000.0], [47.3361, -122.353, 515000.0], [47.4744, -122.213, 430000.0], [47.4627, -122.152, 435000.0], [47.3191, -122.383, 274500.0], [47.4674, -122.107, 360000.0], [47.4627, -122.213, 290000.0], [47.3668, -122.178, 303700.0], [47.4979, -122.241, 260000.0], [47.2624, -122.015, 330000.0], [47.407, -122.045, 260000.0], [47.375, -122.14, 234000.0], [47.288, -122.283, 267000.0], [47.2653, -121.91, 275000.0], [47.4054, -122.03, 545000.0], [47.3631, -122.192, 292000.0], [47.3277, -122.001, 253000.0], [47.4908, -122.154, 300000.0], [47.4032, -122.314, 345000.0], [47.4391, -122.193, 283500.0], [47.4949, -122.255, 245000.0], [47.2904, -122.353, 241000.0], [47.5115, -122.246, 1700000.0], [47.2755, -122.271, 350000.0], [47.5328, -121.879, 470000.0], [47.3663, -122.129, 354000.0], [47.5131, -122.313, 290000.0], [47.3632, -122.188, 264950.0], [47.4621, -122.187, 290000.0], [47.369, -122.077, 180000.0], [47.3855, -122.322, 352500.0], [47.7462, -121.98, 382000.0], [47.3748, -122.294, 140000.0], [47.3251, -122.329, 280000.0], [47.3054, -122.305, 235000.0], [47.3155, -122.347, 229950.0], [47.4981, -122.162, 423000.0], [47.3026, -122.351, 340000.0], [47.4216, -122.174, 249000.0], [47.3527, -122.178, 206135.0], [47.444, -122.19, 300000.0], [47.506, -122.241, 612000.0], [47.2964, -122.376, 230000.0], [47.3396, -122.256, 355000.0], [47.5148, -122.159, 442000.0], [47.3786, -122.126, 399000.0], [47.2593, -122.222, 360000.0], [47.4425, -122.133, 390000.0], [47.4203, -122.157, 270000.0], [47.3658, -122.148, 264000.0], [47.3724, -122.108, 337000.0], [47.4167, -122.302, 170000.0], [47.5211, -122.157, 900000.0], [47.4979, -122.153, 420000.0], [47.3386, -122.288, 250000.0], [47.43899999999999, -122.144, 365000.0], [47.4752, -122.172, 150000.0], [47.2609, -122.289, 355000.0], [47.346, -122.315, 245000.0], [47.4053, -122.181, 265900.0], [47.4339, -122.167, 299000.0], [47.3646, -122.037, 307500.0], [47.5364, -121.858, 937500.0], [47.4291, -122.177, 602500.0], [47.32899999999999, -122.338, 199990.0], [47.3643, -122.049, 294000.0], [47.5369, -121.888, 539950.0], [47.3708, -122.311, 284950.0], [47.3311, -122.17, 303000.0], [47.3699, -122.309, 235000.0], [47.495, -122.318, 300000.0], [47.7429, -121.981, 390000.0], [47.3432, -122.025, 650000.0], [47.2844, -122.216, 249950.0], [47.2621, -122.218, 336000.0], [47.504, -122.26, 285000.0], [47.3717, -122.277, 229900.0], [47.3836, -122.184, 290000.0], [47.3134, -122.023, 208000.0], [47.3627, -122.285, 248000.0], [47.351000000000006, -122.087, 610000.0], [47.4785, -122.229, 192000.0], [47.4676, -122.184, 180500.0], [47.4904, -122.222, 177500.0], [47.4838, -122.299, 325000.0], [47.4328, -122.196, 238000.0], [47.3192, -122.287, 299000.0], [47.3845, -122.154, 340000.0], [47.4887, -122.133, 284950.0], [47.4577, -122.289, 255000.0], [47.4832, -122.299, 231500.0], [47.3012, -122.285, 330000.0], [47.401, -122.319, 425000.0], [47.3086, -122.392, 335000.0], [47.4757, -122.148, 331500.0], [47.3578, -122.178, 220000.0], [47.4654, -122.174, 339000.0], [47.3679, -122.179, 285000.0], [47.3107, -122.212, 224000.0], [47.2043, -122.008, 165050.0], [47.2804, -122.251, 196440.0], [47.3583, -121.927, 340000.0], [47.3473, -122.085, 440000.0], [47.3605, -122.049, 270000.0], [47.3628, -122.087, 219900.0], [47.2662, -122.088, 617000.0], [47.3058, -122.306, 229000.0], [47.3477, -122.271, 429000.0], [47.7353, -121.973, 550000.0], [47.2966, -122.374, 187500.0], [47.4212, -122.199, 300000.0], [47.3438, -122.039, 338000.0], [47.2313, -122.023, 700000.0], [47.4774, -122.098, 300000.0], [47.3708, -122.049, 368000.0], [47.3129, -122.369, 264000.0], [47.3689, -122.055, 435000.0], [47.4819, -122.223, 200000.0], [47.4617, -122.07, 379500.0], [47.3084, -122.234, 189950.0], [47.5151, -122.12, 785000.0], [47.3747, -122.124, 372000.0], [47.2207, -121.984, 397000.0], [47.5124, -122.16, 416000.0], [47.473, -122.193, 550000.0], [47.4568, -122.146, 390000.0], [47.4977, -122.226, 299000.0], [47.2939, -122.368, 305000.0], [47.7534, -121.912, 210000.0], [47.4464, -122.123, 327500.0], [47.3996, -122.203, 269000.0], [47.3069, -122.013, 190000.0], [47.3045, -122.378, 285000.0], [47.4332, -122.167, 279000.0], [47.3221, -121.903, 225000.0], [47.2853, -122.265, 215500.0], [47.495, -122.266, 212000.0], [47.2845, -122.25, 206000.0], [47.5208, -122.15, 1140000.0], [47.4324, -122.145, 330000.0], [47.4961, -122.235, 240000.0], [47.3065, -122.158, 930000.0], [47.4407, -122.275, 300000.0], [47.7235, -121.958, 453250.0], [47.4979, -122.232, 255000.0], [47.4522, -122.208, 360000.0], [47.4136, -122.318, 189650.0], [47.3651, -122.044, 260000.0], [47.3945, -122.313, 243000.0], [47.2761, -122.152, 249000.0], [47.4626, -122.132, 380000.0], [47.4017, -122.321, 175000.0], [47.4248, -122.158, 353500.0], [47.3717, -122.104, 315000.0], [47.3576, -122.016, 339000.0], [47.4787, -122.23, 370000.0], [47.308, -122.209, 247500.0], [47.4913, -122.154, 350000.0], [47.4169, -122.168, 150000.0], [47.506, -122.331, 340000.0], [47.2592, -122.304, 410500.0], [47.4646, -122.15, 449500.0], [47.3737, -122.312, 133000.0], [47.4868, -122.204, 330000.0], [47.4873, -122.144, 439950.0], [47.3032, -122.123, 325000.0], [47.345, -122.283, 210000.0], [47.3413, -122.048, 640000.0], [47.3466, -122.323, 740000.0], [47.3583, -122.056, 315000.0], [47.319, -122.344, 255000.0], [47.486, -122.129, 378000.0], [47.4514, -122.273, 598800.0], [47.3452, -122.308, 240000.0], [47.3817, -122.166, 275000.0], [47.3386, -122.272, 284200.0], [47.3034, -122.383, 215000.0], [47.3009, -122.384, 232500.0], [47.4413, -122.151, 390000.0], [47.4414, -122.272, 345000.0], [47.3744, -122.043, 429800.0], [47.4549, -122.155, 302000.0], [47.2615, -122.221, 250000.0], [47.3133, -122.078, 412000.0], [47.4498, -122.194, 252000.0], [47.7182, -121.956, 250000.0], [47.3574, -122.158, 210000.0], [47.3053, -122.34, 402500.0], [47.7359, -121.962, 500000.0], [47.5001, -122.231, 335000.0], [47.5318, -121.833, 299000.0], [47.3781, -122.126, 399950.0], [47.4156, -122.149, 307000.0], [47.4925, -122.278, 194000.0], [47.3043, -122.216, 180000.0], [47.36, -122.194, 280000.0], [47.3056, -122.217, 176250.0], [47.4369, -122.147, 485000.0], [47.3336, -122.272, 272000.0], [47.3457, -122.041, 352000.0], [47.4296, -122.111, 507000.0], [47.4509, -122.275, 156000.0], [47.4356, -122.201, 340000.0], [47.4498, -122.28, 380000.0], [47.3317, -121.927, 325000.0], [47.2107, -121.99, 152900.0], [47.4754, -122.119, 505000.0], [47.3939, -122.177, 340000.0], [47.2021, -121.999, 219950.0], [47.3074, -122.385, 235000.0], [47.3291, -122.168, 272000.0], [47.4764, -122.155, 380000.0], [47.3561, -122.015, 297000.0], [47.2923, -122.357, 349000.0], [47.428, -122.326, 319990.0], [47.3539, -122.025, 272500.0], [47.3701, -122.079, 150000.0], [47.3054, -122.221, 370000.0], [47.3609, -122.029, 225000.0], [47.4225, -122.15, 199000.0], [47.4909, -122.298, 192500.0], [47.3673, -122.017, 295000.0], [47.4852, -122.305, 248000.0], [47.315, -122.193, 383000.0], [47.3025, -122.382, 279000.0], [47.3841, -122.041, 310000.0], [47.4195, -122.33, 280000.0], [47.4334, -122.148, 272000.0], [47.4643, -122.171, 307000.0], [47.3646, -122.076, 264950.0], [47.4745, -122.12, 345000.0], [47.2969, -122.189, 339900.0], [47.3643, -122.185, 325000.0], [47.3151, -122.19, 235000.0], [47.3127, -122.339, 239900.0], [47.3496, -122.289, 185000.0], [47.4997, -122.231, 251700.0], [47.4799, -122.296, 82500.0], [47.3096, -122.377, 292500.0], [47.4568, -122.169, 270000.0], [47.3812, -122.023, 353000.0], [47.4725, -122.202, 280950.0], [47.453, -122.289, 245990.0], [47.4585, -122.13, 535000.0], [47.3524, -122.285, 332000.0], [47.2891, -122.351, 280000.0], [47.428, -122.199, 250000.0], [47.2685, -122.231, 238000.0], [47.2634, -122.211, 346300.0], [47.214, -121.993, 342500.0], [47.369, -122.084, 270000.0], [47.7425, -121.981, 234000.0], [47.5056, -122.244, 150000.0], [47.2697, -122.312, 333000.0], [47.489, -122.316, 275000.0], [47.4257, -122.146, 265000.0], [47.3552, -122.026, 360000.0], [47.3287, -122.353, 311750.0], [47.3739, -122.126, 347000.0], [47.5408, -121.861, 585000.0], [47.4052, -122.17, 340000.0], [47.3733, -122.057, 230000.0], [47.3188, -122.212, 250000.0], [47.359, -122.049, 258500.0], [47.4763, -122.206, 327000.0], [47.7302, -121.974, 564500.0], [47.3477, -122.024, 398000.0], [47.3168, -122.174, 235000.0], [47.3534, -122.057, 275000.0], [47.364, -122.094, 210000.0], [47.3182, -122.189, 265000.0], [47.2159, -121.964, 220000.0], [47.2953, -122.185, 295450.0], [47.3933, -122.195, 205000.0], [47.4275, -122.331, 310000.0], [47.3552, -122.001, 525000.0], [47.5137, -122.333, 284000.0], [47.5041, -122.253, 280005.0], [47.3402, -122.046, 700000.0], [47.4131, -122.331, 340000.0], [47.1985, -122.001, 245000.0], [47.4042, -122.194, 265000.0], [47.4185, -122.212, 372400.0], [47.278, -122.205, 208000.0], [47.7454, -121.977, 455000.0], [47.3082, -122.358, 270000.0], [47.3334, -122.289, 213550.0], [47.4232, -122.324, 210000.0], [47.2083, -122.005, 235000.0], [47.4799, -122.232, 287500.0], [47.2853, -122.22, 183000.0], [47.295, -122.086, 560000.0], [47.4513, -122.268, 288350.0], [47.4081, -122.178, 250000.0], [47.3682, -122.148, 225000.0], [47.3186, -122.391, 275000.0], [47.4267, -122.331, 260000.0], [47.3813, -122.204, 342000.0], [47.3993, -122.183, 252000.0], [47.3371, -122.325, 357000.0], [47.3065, -122.222, 210000.0], [47.3367, -122.332, 369160.0], [47.4974, -122.231, 243000.0], [47.3648, -122.143, 739500.0], [47.2927, -122.183, 226740.0], [47.2103, -121.999, 283000.0], [47.295, -122.37, 315000.0], [47.4056, -122.176, 264900.0], [47.4445, -122.17, 328000.0], [47.3565, -122.015, 358000.0], [47.3989, -122.164, 325000.0], [47.3417, -122.283, 230000.0], [47.4871, -122.219, 495000.0], [47.3053, -122.0, 520000.0], [47.3487, -122.315, 255000.0], [47.481, -122.116, 172500.0], [47.3715, -122.074, 232000.0], [47.2796, -122.247, 262000.0], [47.3731, -122.312, 234000.0], [47.4756, -122.294, 230000.0], [47.327, -122.267, 175000.0], [47.3911, -122.191, 172040.0], [47.3693, -122.041, 363000.0], [47.3198, -122.178, 282000.0], [47.5115, -122.256, 400000.0], [47.3391, -122.093, 365000.0], [47.2855, -122.36, 269950.0], [47.3375, -122.048, 260000.0], [47.2959, -122.373, 193000.0], [47.3769, -122.028, 340000.0], [47.4627, -122.129, 371000.0], [47.5003, -122.328, 300000.0], [47.3542, -122.014, 449950.0], [47.2735, -122.295, 299500.0], [47.3258, -122.328, 280000.0], [47.3843, -122.032, 322500.0], [47.2751, -122.252, 235000.0], [47.3635, -122.054, 242000.0], [47.1879, -121.973, 487000.0], [47.3323, -122.276, 165000.0], [47.5297, -121.827, 286700.0], [47.4288, -122.153, 280000.0], [47.7266, -121.966, 525000.0], [47.3826, -122.028, 335000.0], [47.3357, -122.336, 350000.0], [47.3424, -122.077, 445000.0], [47.4856, -122.247, 355000.0], [47.4287, -122.163, 360000.0], [47.5383, -121.879, 520000.0], [47.4461, -122.208, 485000.0], [47.3159, -122.183, 143000.0], [47.5025, -122.142, 200000.0], [47.3347, -122.17, 306000.0], [47.5328, -121.871, 381000.0], [47.2871, -122.354, 262000.0], [47.3809, -122.097, 332000.0], [47.19600000000001, -122.006, 340000.0], [47.4857, -122.253, 294000.0], [47.4581, -122.162, 340500.0], [47.1896, -122.013, 353000.0], [47.3262, -122.214, 300000.0], [47.3059, -122.368, 207500.0], [47.7224, -121.926, 390000.0], [47.5136, -122.316, 179900.0], [47.4849, -122.301, 166000.0], [47.3838, -122.026, 269000.0], [47.2809, -122.296, 356500.0], [47.3781, -122.314, 225000.0], [47.301, -122.226, 175000.0], [47.3545, -122.001, 490000.0], [47.3283, -122.337, 210000.0], [47.3323, -122.079, 390000.0], [47.3672, -122.019, 299900.0], [47.3472, -122.11, 235000.0], [47.2877, -122.283, 276000.0], [47.2808, -122.3, 265000.0], [47.2599, -122.215, 313000.0], [47.3305, -122.285, 265000.0], [47.3424, -122.326, 649000.0], [47.277, -122.347, 330000.0], [47.3092, -122.372, 267345.0], [47.7329, -121.92, 439950.0], [47.302, -122.382, 212000.0], [47.3762, -122.183, 231500.0], [47.3163, -122.142, 378500.0], [47.375, -122.022, 482000.0], [47.4442, -122.129, 347500.0], [47.3539, -122.024, 337500.0], [47.3665, -122.183, 259000.0], [47.2113, -121.992, 205500.0], [47.4213, -122.322, 230000.0], [47.3442, -122.062, 399950.0], [47.3714, -122.103, 355000.0], [47.3672, -122.312, 279900.0], [47.4921, -122.275, 210000.0], [47.4836, -122.204, 290300.0], [47.3944, -121.972, 500000.0], [47.3327, -122.306, 250000.0], [47.3146, -122.043, 257500.0], [47.4075, -122.196, 246500.0], [47.2741, -122.301, 190000.0], [47.4717, -122.323, 305000.0], [47.2872, -122.283, 259000.0], [47.3774, -122.16, 350000.0], [47.4303, -122.334, 202500.0], [47.2671, -122.236, 225000.0], [47.3995, -122.318, 418200.0], [47.2811, -122.214, 161500.0], [47.359, -122.191, 278000.0], [47.3126, -122.043, 347500.0], [47.4499, -122.176, 230000.0], [47.4777, -122.142, 415000.0], [47.7351, -121.985, 349950.0], [47.4436, -122.21, 285750.0], [47.5056, -122.27, 184500.0], [47.492, -122.309, 250000.0], [47.4759, -122.208, 220000.0], [47.487, -122.282, 239950.0], [47.4288, -122.19, 305000.0], [47.5373, -121.865, 1110000.0], [47.4572, -122.18, 273000.0], [47.3529, -122.274, 354450.0], [47.3607, -122.291, 223000.0], [47.3293, -122.194, 298500.0], [47.5049, -122.329, 283000.0], [47.4278, -122.152, 278500.0], [47.5035, -122.302, 234500.0], [47.4002, -122.317, 397000.0], [47.3655, -122.174, 340000.0], [47.3474, -122.025, 388000.0], [47.438, -122.152, 405000.0], [47.3667, -122.182, 266000.0], [47.3216, -122.291, 352000.0], [47.3716, -122.31, 265000.0], [47.3517, -121.999, 346950.0], [47.5314, -121.854, 410000.0], [47.1776, -122.011, 230000.0], [47.3274, -122.346, 172000.0], [47.4994, -122.261, 199000.0], [47.5008, -122.162, 268000.0], [47.3364, -122.307, 190000.0], [47.2881, -122.294, 212000.0], [47.309, -122.349, 325900.0], [47.3499, -122.177, 275000.0], [47.5379, -122.16, 665000.0], [47.3823, -122.3, 340000.0], [47.2983, -122.374, 223000.0], [47.7388, -121.972, 750000.0], [47.3921, -122.163, 310000.0], [47.5086, -122.258, 415000.0], [47.3491, -122.168, 274900.0], [47.3313, -122.198, 179500.0], [47.369, -122.093, 195000.0], [47.4538, -122.125, 385000.0], [47.3878, -122.034, 522000.0], [47.526, -121.809, 330000.0], [47.3035, -122.307, 175000.0], [47.278, -122.145, 248000.0], [47.5362, -121.878, 459950.0], [47.3126, -122.023, 256000.0], [47.4514, -122.178, 145600.0], [47.3085, -122.381, 250250.0], [47.3303, -122.351, 280000.0], [47.3659, -122.092, 282000.0], [47.4476, -122.128, 341000.0], [47.5348, -121.877, 423700.0], [47.3565, -121.94, 322000.0], [47.7353, -121.962, 499000.0], [47.228, -122.088, 302000.0], [47.3882, -122.053, 293000.0], [47.7342, -121.968, 335000.0], [47.3501, -122.02, 195000.0], [47.7347, -121.976, 334000.0], [47.3782, -122.319, 149900.0], [47.2873, -122.367, 205000.0], [47.4487, -122.033, 635000.0], [47.2622, -122.282, 210500.0], [47.3299, -122.046, 350000.0], [47.4941, -122.151, 311000.0], [47.4119, -122.211, 305000.0], [47.3616, -122.286, 240000.0], [47.5142, -122.163, 372000.0], [47.4565, -122.066, 699000.0], [47.4374, -122.335, 265000.0], [47.3644, -122.082, 209000.0], [47.2635, -122.284, 276000.0], [47.4956, -122.163, 380000.0], [47.2973, -122.08, 254600.0], [47.374, -122.296, 123300.0], [47.3741, -122.189, 275436.0], [47.4355, -122.272, 325000.0], [47.4353, -122.335, 225000.0], [47.5119, -122.321, 265000.0], [47.3167, -122.214, 250750.0], [47.4893, -122.138, 438000.0], [47.2221, -122.059, 474000.0], [47.2707, -122.34, 196000.0], [47.4943, -122.331, 220000.0], [47.342, -122.279, 299950.0], [47.3412, -122.108, 392000.0], [47.4804, -122.133, 335000.0], [47.442, -122.282, 259500.0], [47.3078, -122.383, 307450.0], [47.3285, -122.134, 210000.0], [47.4369, -122.272, 200450.0], [47.3115, -122.209, 219950.0], [47.2773, -122.276, 279000.0], [47.4117, -122.209, 273500.0], [47.3706, -122.31, 160000.0], [47.4105, -122.295, 235000.0], [47.4866, -122.232, 285000.0], [47.7216, -121.883, 362000.0], [47.5319, -121.867, 525000.0], [47.3224, -122.343, 272000.0], [47.3665, -122.107, 219950.0], [47.5124, -121.866, 387000.0], [47.3314, -122.18, 365000.0], [47.3063, -122.223, 255000.0], [47.3637, -122.083, 203000.0], [47.5077, -122.268, 200000.0], [47.4806, -122.287, 275000.0], [47.3488, -122.151, 325000.0], [47.341, -122.265, 329500.0], [47.3045, -122.351, 348000.0], [47.3074, -122.371, 222000.0], [47.2917, -122.188, 200000.0], [47.2974, -122.372, 247500.0], [47.4302, -122.095, 1500000.0], [47.3348, -122.324, 283200.0], [47.2976, -122.271, 196000.0], [47.767, -121.903, 387000.0], [47.5285, -122.135, 1320000.0], [47.4954, -122.152, 527000.0], [47.3745, -122.231, 176500.0], [47.4956, -122.162, 390000.0], [47.4052, -122.028, 485000.0], [47.2914, -122.368, 215000.0], [47.4217, -122.333, 181100.0], [47.5426, -121.879, 389000.0], [47.31100000000001, -122.345, 316000.0], [47.5117, -122.248, 700000.0], [47.3986, -122.169, 325000.0], [47.3794, -122.113, 285000.0], [47.2609, -122.27, 515000.0], [47.4629, -122.187, 315000.0], [47.3198, -122.386, 414000.0], [47.4231, -122.329, 210000.0], [47.4938, -122.262, 178000.0], [47.26300000000001, -122.216, 537000.0], [47.5444, -121.881, 632500.0], [47.3606, -122.039, 269000.0], [47.3608, -122.29, 234000.0], [47.2082, -121.995, 262000.0], [47.3494, -122.153, 270000.0], [47.3631, -122.276, 299000.0], [47.3967, -122.174, 271000.0], [47.4866, -122.303, 230000.0], [47.3239, -122.35, 210000.0], [47.3635, -122.045, 190000.0], [47.473, -122.328, 299950.0], [47.5027, -122.33, 308000.0], [47.3729, -122.295, 240000.0], [47.3401, -122.067, 530000.0], [47.4858, -122.202, 256000.0], [47.3146, -122.384, 218000.0], [47.3241, -122.322, 153503.0], [47.5157, -122.116, 725000.0], [47.28, -122.257, 180000.0], [47.4327, -122.328, 193000.0], [47.3618, -122.195, 295000.0], [47.3066, -122.209, 257200.0], [47.1559, -121.646, 380000.0], [47.3061, -122.359, 282000.0], [47.3106, -121.999, 206000.0], [47.3684, -122.092, 208000.0], [47.3174, -122.366, 245000.0], [47.4787, -122.129, 400000.0], [47.3321, -122.105, 428000.0], [47.5116, -122.161, 410000.0], [47.2843, -122.294, 590000.0], [47.4075, -122.294, 95000.0], [47.3488, -122.095, 549900.0], [47.4562, -122.158, 318500.0], [47.3784, -122.303, 240000.0], [47.3857, -122.212, 253000.0], [47.3937, -122.323, 380000.0], [47.3009, -122.125, 250000.0], [47.3103, -122.199, 368500.0], [47.1986, -121.967, 340000.0], [47.3061, -122.36, 299000.0], [47.3156, -122.188, 265000.0], [47.4956, -122.161, 437500.0], [47.4762, -122.293, 145000.0], [47.2635, -122.312, 304000.0], [47.3671, -122.029, 418000.0], [47.4029, -122.321, 406000.0], [47.3814, -122.322, 242500.0], [47.448, -122.121, 425000.0], [47.4177, -122.319, 144975.0], [47.4806, -122.152, 895000.0], [47.2877, -122.293, 314900.0], [47.2109, -121.985, 122000.0], [47.2718, -122.291, 225000.0], [47.4889, -122.259, 160000.0], [47.4116, -122.029, 449500.0], [47.2841, -122.255, 115000.0], [47.3891, -122.282, 221700.0], [47.395, -122.176, 260000.0], [47.4873, -122.324, 189000.0], [47.3749, -122.225, 280000.0], [47.45399999999999, -122.144, 390000.0], [47.5018, -122.126, 445000.0], [47.3608, -122.036, 297500.0], [47.7241, -121.957, 414000.0], [47.3895, -122.023, 279000.0], [47.4401, -122.279, 216000.0], [47.5265, -121.823, 276000.0], [47.4933, -122.245, 100000.0], [47.4454, -122.185, 199000.0], [47.5433, -121.887, 762000.0], [47.3256, -122.141, 207500.0], [47.3425, -122.082, 200000.0], [47.4804, -122.151, 749700.0], [47.5048, -122.241, 330000.0], [47.3727, -122.177, 373000.0], [47.5019, -122.235, 355000.0], [47.3661, -122.021, 275000.0], [47.4868, -122.33, 226950.0], [47.3625, -122.084, 209950.0], [47.4976, -122.262, 119900.0], [47.3215, -122.351, 207000.0], [47.3278, -122.262, 195000.0], [47.444, -122.187, 790000.0], [47.422, -122.066, 150000.0], [47.469, -122.063, 790000.0], [47.5261, -122.162, 619420.0], [47.4977, -122.163, 454200.0], [47.339, -122.266, 299950.0], [47.4999, -122.327, 325000.0], [47.4286, -122.179, 328950.0], [47.4012, -122.11, 350000.0], [47.2052, -121.987, 195000.0], [47.325, -122.205, 222000.0], [47.429, -122.154, 310000.0], [47.4479, -122.213, 205000.0], [47.3694, -122.032, 470000.0], [47.3392, -121.897, 430000.0], [47.3554, -122.298, 335000.0], [47.4551, -122.272, 197000.0], [47.4667, -122.214, 312500.0], [47.3324, -122.17, 355000.0], [47.4678, -122.294, 277500.0], [47.4476, -122.169, 300000.0], [47.3133, -122.364, 299000.0], [47.2924, -122.271, 299000.0], [47.4878, -122.221, 280000.0], [47.2917, -122.375, 277950.0], [47.4659, -122.116, 770000.0], [47.3623, -122.309, 230000.0], [47.4459, -122.272, 253779.0], [47.3639, -122.109, 200000.0], [47.3116, -122.358, 221000.0], [47.4773, -122.28, 200000.0], [47.3612, -122.284, 249000.0], [47.3672, -122.126, 350000.0], [47.4503, -122.157, 270000.0], [47.3087, -122.354, 248000.0], [47.2649, -122.218, 322500.0], [47.3826, -122.146, 464000.0], [47.483, -122.33, 122000.0], [47.206, -121.998, 251000.0], [47.2808, -122.225, 206000.0], [47.4942, -122.235, 200000.0], [47.4682, -122.283, 267000.0], [47.377, -122.31, 370000.0], [47.371, -122.127, 335000.0], [47.4034, -122.189, 245000.0], [47.3172, -122.322, 225000.0], [47.327, -122.039, 440000.0], [47.5387, -121.879, 681000.0], [47.3679, -122.182, 158000.0], [47.3666, -121.978, 590000.0], [47.5407, -121.86, 772500.0], [47.4378, -122.279, 281000.0], [47.4896, -122.204, 245000.0], [47.3585, -121.975, 135000.0], [47.3357, -122.175, 275000.0], [47.3245, -122.209, 213500.0], [47.4362, -122.286, 179950.0], [47.2979, -122.224, 188200.0], [47.4036, -122.191, 223000.0], [47.2956, -122.272, 201700.0], [47.4097, -122.063, 1350000.0], [47.445, -122.276, 240000.0], [47.3576, -122.156, 157340.0], [47.453, -122.118, 570000.0], [47.3782, -122.161, 375000.0], [47.7149, -121.96, 211000.0], [47.3489, -122.022, 222000.0], [47.4514, -122.134, 312500.0], [47.4703, -122.112, 320000.0], [47.7306, -121.966, 455000.0], [47.532, -121.761, 325000.0], [47.3186, -122.289, 194820.0], [47.4743, -122.274, 205000.0], [47.505, -122.258, 345100.0], [47.4966, -122.255, 200000.0], [47.7066, -121.968, 598600.0], [47.4752, -122.271, 84000.0], [47.3509, -122.323, 449900.0], [47.4218, -122.218, 220000.0], [47.3646, -122.211, 472500.0], [47.3338, -122.268, 286950.0], [47.4497, -122.289, 255500.0], [47.4743, -122.17, 169500.0], [47.7721, -121.924, 637000.0], [47.3261, -122.355, 304999.0], [47.3046, -122.215, 95000.0], [47.3785, -122.322, 245000.0], [47.3865, -122.322, 239000.0], [47.3526, -122.012, 549950.0], [47.4672, -122.296, 294950.0], [47.3655, -122.08, 214946.0], [47.3864, -122.308, 205000.0], [47.3958, -122.168, 319990.0], [47.7364, -121.981, 349950.0], [47.4261, -122.199, 173000.0], [47.3783, -122.003, 630000.0], [47.3492, -122.152, 359950.0], [47.3639, -122.055, 265000.0], [47.2582, -121.935, 367000.0], [47.2124, -122.005, 535000.0], [47.4815, -122.162, 347500.0], [47.3143, -122.134, 280000.0], [47.5298, -121.88, 490000.0], [47.3426, -122.285, 250000.0], [47.4191, -122.33, 120000.0], [47.3645, -122.039, 325000.0], [47.3138, -122.192, 210000.0], [47.4006, -122.188, 215000.0], [47.2598, -122.304, 425000.0], [47.3097, -122.34, 341500.0], [47.3662, -122.319, 308000.0], [47.3972, -122.029, 422500.0], [47.4416, -122.332, 270000.0], [47.5033, -122.329, 220000.0], [47.3315, -122.169, 408500.0], [47.5297, -122.14, 1210000.0], [47.401, -122.095, 540000.0], [47.5265, -122.148, 1300000.0], [47.5134, -122.335, 210000.0], [47.4386, -122.285, 239000.0], [47.3378, -122.262, 215000.0], [47.3329, -122.091, 311000.0], [47.414, -122.087, 998000.0], [47.4999, -122.268, 210000.0], [47.3072, -122.391, 317000.0], [47.4829, -122.124, 265000.0], [47.7433, -121.982, 364950.0], [47.3307, -122.324, 235500.0], [47.5356, -121.875, 576000.0], [47.4141, -122.204, 335000.0], [47.4275, -122.324, 122000.0], [47.4495, -122.148, 375000.0], [47.3182, -122.212, 276000.0], [47.3655, -122.019, 279000.0], [47.2831, -122.346, 350000.0], [47.4624, -122.185, 218000.0], [47.32, -122.362, 310597.0], [47.5338, -121.867, 499900.0], [47.3123, -122.023, 241250.0], [47.3386, -122.319, 318700.0], [47.3811, -122.32, 210000.0], [47.3603, -122.088, 282500.0], [47.4323, -122.328, 295000.0], [47.4473, -122.159, 314950.0], [47.4163, -122.22, 759600.0], [47.4519, -122.13, 359950.0], [47.4213, -122.322, 276000.0], [47.4193, -122.149, 269900.0], [47.2117, -121.99, 267000.0], [47.3272, -122.363, 310000.0], [47.1913, -122.015, 245000.0], [47.4879, -122.332, 228950.0], [47.2816, -122.269, 212500.0], [47.4338, -122.146, 526000.0], [47.472, -122.192, 244000.0], [47.4859, -122.205, 373000.0], [47.4487, -122.117, 405000.0], [47.3212, -122.118, 324888.0], [47.1942, -121.99, 252000.0], [47.4617, -122.327, 280000.0], [47.2687, -122.056, 905000.0], [47.2864, -122.264, 382450.0], [47.3398, -122.133, 246700.0], [47.4741, -122.099, 499500.0], [47.4919, -122.311, 135000.0], [47.3504, -122.177, 265000.0], [47.3115, -122.4, 280000.0], [47.285, -122.211, 125000.0], [47.3168, -122.264, 269950.0], [47.5018, -122.23, 359950.0], [47.4924, -122.311, 198500.0], [47.3835, -122.095, 350000.0], [47.4167, -121.936, 649950.0], [47.3734, -122.182, 365070.0], [47.4424, -122.276, 235000.0], [47.2772, -122.354, 277500.0], [47.4432, -122.135, 346500.0], [47.7458, -121.977, 360000.0], [47.3201, -122.177, 245000.0], [47.5445, -121.871, 700000.0], [47.3111, -122.379, 260000.0], [47.5223, -122.156, 701000.0], [47.4619, -122.187, 290000.0], [47.7258, -121.959, 435000.0], [47.4381, -122.134, 415000.0], [47.333, -122.3, 222000.0], [47.3707, -122.094, 245000.0], [47.3801, -122.289, 215000.0], [47.4058, -122.192, 320000.0], [47.4492, -122.199, 359950.0], [47.4204, -122.324, 232000.0], [47.31100000000001, -122.227, 245000.0], [47.2624, -122.299, 273000.0], [47.4742, -122.198, 400000.0], [47.4889, -122.286, 360000.0], [47.5008, -122.332, 235000.0], [47.4451, -122.136, 341000.0], [47.3513, -122.174, 335000.0], [47.5101, -122.246, 360000.0], [47.3505, -122.027, 360000.0], [47.2863, -122.196, 270000.0], [47.4721, -122.128, 305000.0], [47.2831, -122.199, 285000.0], [47.3733, -122.214, 329500.0], [47.4099, -122.329, 379260.0], [47.5303, -121.878, 356000.0], [47.4129, -122.322, 271500.0], [47.4168, -122.074, 550000.0], [47.4246, -122.014, 729000.0], [47.4518, -122.199, 170000.0], [47.1947, -121.989, 271900.0], [47.3081, -122.384, 261500.0], [47.383, -122.288, 260000.0], [47.3376, -122.323, 530000.0], [47.2969, -122.163, 235000.0], [47.2737, -122.015, 585000.0], [47.3546, -122.176, 199500.0], [47.3712, -122.092, 260000.0], [47.3894, -122.166, 242150.0], [47.2881, -122.363, 220000.0], [47.305, -122.373, 235000.0], [47.5423, -121.877, 730000.0], [47.3626, -122.209, 465000.0], [47.3632, -122.174, 178000.0], [47.3943, -122.189, 215000.0], [47.3128, -122.345, 300000.0], [47.335, -122.215, 183000.0], [47.3155, -122.182, 192950.0], [47.3012, -122.218, 156000.0], [47.2092, -121.997, 219000.0], [47.3764, -122.176, 248000.0], [47.2931, -121.992, 340000.0], [47.4457, -122.128, 315000.0], [47.5167, -121.878, 386000.0], [47.4282, -122.28, 535000.0], [47.19, -122.013, 339000.0], [47.5421, -121.888, 688000.0], [47.36, -122.178, 250000.0], [47.3227, -122.384, 560000.0], [47.3364, -122.17, 289500.0], [47.7378, -121.912, 290000.0], [47.4023, -122.273, 281000.0], [47.1991, -122.013, 380000.0], [47.4948, -122.134, 370000.0], [47.3668, -122.09, 230000.0], [47.3694, -122.311, 240415.0], [47.4501, -122.208, 366000.0], [47.3205, -121.867, 435000.0], [47.3344, -122.37, 1150000.0], [47.385, -122.085, 160134.0], [47.425, -122.331, 191000.0], [47.3414, -122.286, 221000.0], [47.7345, -121.977, 350000.0], [47.3356, -122.157, 359950.0], [47.5316, -121.764, 527550.0], [47.3594, -122.04, 399000.0], [47.3224, -122.122, 353000.0], [47.3808, -122.211, 249950.0], [47.5447, -121.883, 515000.0], [47.4696, -122.298, 235000.0], [47.3531, -122.143, 270000.0], [47.4605, -122.277, 335000.0], [47.4303, -122.067, 299950.0], [47.4612, -122.069, 374950.0], [47.3739, -122.29, 247000.0], [47.3361, -122.175, 275000.0], [47.3775, -122.165, 285000.0], [47.7728, -121.9, 325000.0], [47.397, -122.321, 402000.0], [47.4612, -122.147, 320000.0], [47.4553, -122.174, 249950.0], [47.3087, -122.088, 675000.0], [47.3582, -122.191, 225000.0], [47.3627, -122.199, 360000.0], [47.4472, -122.207, 500000.0], [47.3275, -122.171, 284000.0], [47.4349, -122.168, 315001.0], [47.4898, -122.133, 360000.0], [47.4028, -122.002, 728000.0], [47.4318, -122.19, 308000.0], [47.2643, -122.22, 340000.0], [47.5231, -121.82, 306500.0], [47.4771, -122.322, 150000.0], [47.3394, -122.091, 327000.0], [47.3645, -122.126, 444900.0], [47.3045, -122.391, 305000.0], [47.3741, -122.218, 330000.0], [47.3088, -122.341, 295500.0], [47.4042, -122.213, 300000.0], [47.3861, -122.096, 312000.0], [47.5406, -121.889, 425000.0], [47.3187, -122.367, 275000.0], [47.3655, -122.048, 274000.0], [47.3732, -122.217, 239900.0], [47.2718, -122.265, 263400.0], [47.4973, -122.256, 265000.0], [47.2631, -122.019, 297000.0], [47.5054, -122.261, 195000.0], [47.4316, -122.075, 554000.0], [47.5163, -121.829, 300000.0], [47.4917, -122.206, 221000.0], [47.2053, -121.993, 197500.0], [47.719, -121.912, 540000.0], [47.2058, -121.997, 250000.0], [47.51, -122.327, 245000.0], [47.3569, -122.175, 290000.0], [47.507, -122.302, 160000.0], [47.4521, -122.283, 185000.0], [47.341, -122.318, 345000.0], [47.4864, -122.317, 203000.0], [47.4204, -122.316, 140000.0], [47.3805, -122.208, 362300.0], [47.3459, -122.326, 421000.0], [47.2802, -122.211, 238000.0], [47.3663, -122.114, 302500.0], [47.4658, -122.184, 259950.0], [47.3103, -122.36, 268000.0], [47.5305, -121.847, 435000.0], [47.4493, -122.173, 263000.0], [47.5352, -122.156, 760000.0], [47.1958, -121.974, 293000.0], [47.2875, -122.218, 245000.0], [47.3679, -122.02, 285000.0], [47.2119, -122.001, 370000.0], [47.3666, -122.03, 399950.0], [47.4612, -122.325, 289950.0], [47.4381, -122.188, 397500.0], [47.3811, -122.144, 238000.0], [47.4718, -122.323, 296000.0], [47.4464, -122.129, 324000.0], [47.3305, -122.171, 390000.0], [47.4914, -122.204, 414000.0], [47.537, -121.871, 441500.0], [47.4851, -122.205, 205000.0], [47.48, -122.137, 423000.0], [47.4776, -122.279, 173250.0], [47.7725, -121.899, 599900.0], [47.5405, -121.868, 1080000.0], [47.3282, -122.285, 267500.0], [47.3229, -122.182, 299800.0], [47.3533, -122.015, 412000.0], [47.2822, -122.34, 300000.0], [47.7377, -121.97, 499000.0], [47.3614, -122.119, 248500.0], [47.3916, -122.167, 233500.0], [47.3494, -122.171, 287000.0], [47.2848, -122.223, 190000.0], [47.3751, -122.044, 393000.0], [47.5003, -122.23, 353000.0], [47.3657, -122.094, 219000.0], [47.4633, -122.188, 315000.0], [47.4214, -122.316, 196900.0], [47.2619, -122.298, 205500.0], [47.3629, -122.184, 275000.0], [47.3095, -122.217, 248500.0], [47.3203, -122.185, 350000.0], [47.397, -122.313, 260000.0], [47.42, -122.205, 429000.0], [47.3786, -122.179, 259000.0], [47.3834, -122.028, 310000.0], [47.3612, -122.315, 227500.0], [47.3178, -122.38, 274000.0], [47.3867, -122.081, 354800.0], [47.3744, -122.19, 353000.0], [47.3617, -122.03, 224975.0], [47.3961, -122.308, 225000.0], [47.425, -122.186, 310000.0], [47.4011, -122.164, 410000.0], [47.3573, -122.016, 349000.0], [47.3249, -122.207, 195000.0], [47.4715, -122.33, 318000.0], [47.3059, -122.108, 404000.0], [47.1946, -122.003, 215000.0], [47.3199, -122.186, 339900.0], [47.3165, -122.325, 219000.0], [47.3609, -122.053, 233000.0], [47.3364, -122.318, 248000.0], [47.4546, -122.211, 359000.0], [47.3427, -122.281, 224000.0], [47.3833, -122.093, 261000.0], [47.3098, -122.218, 199950.0], [47.1937, -121.98, 285000.0], [47.3002, -122.282, 330000.0], [47.397, -122.299, 147500.0], [47.3709, -122.285, 320000.0], [47.2957, -122.37, 220000.0], [47.4206, -122.183, 325000.0], [47.3338, -122.341, 268000.0], [47.2645, -122.163, 475000.0], [47.3664, -122.279, 215000.0], [47.4631, -122.126, 265000.0], [47.3199, -122.392, 285000.0], [47.3628, -122.05, 240000.0], [47.3457, -122.302, 261000.0], [47.3743, -122.285, 330000.0], [47.3666, -122.277, 250000.0], [47.2675, -122.307, 350000.0], [47.37, -122.17, 275000.0], [47.4395, -122.161, 365000.0], [47.5344, -121.877, 487275.0], [47.4424, -122.188, 310000.0], [47.4429, -122.195, 325000.0], [47.4186, -122.079, 599000.0], [47.3678, -122.019, 240000.0], [47.3261, -122.135, 186000.0], [47.4568, -122.117, 475000.0], [47.3088, -122.341, 298700.0], [47.4729, -122.301, 278000.0], [47.4396, -122.285, 245000.0], [47.3771, -122.029, 369000.0], [47.49800000000001, -122.322, 300000.0], [47.4341, -122.144, 360000.0], [47.3207, -122.266, 359000.0], [47.3068, -122.372, 266500.0], [47.3281, -122.124, 559000.0], [47.4809, -122.224, 312500.0], [47.4807, -122.289, 225000.0], [47.2604, -122.023, 329999.0], [47.3782, -122.125, 386500.0], [47.3516, -122.292, 214100.0], [47.3555, -122.054, 317000.0], [47.4899, -122.138, 525000.0], [47.317, -122.281, 482000.0], [47.4561, -122.148, 330000.0], [47.2026, -122.0, 239000.0], [47.4232, -122.292, 147200.0], [47.733, -121.968, 570000.0], [47.5116, -122.157, 335000.0], [47.4706, -122.1, 322400.0], [47.2903, -122.214, 233500.0], [47.4208, -122.213, 430000.0], [47.3863, -122.158, 439950.0], [47.282, -122.331, 219950.0], [47.335, -122.321, 285000.0], [47.4038, -122.213, 324950.0], [47.2986, -122.37, 266000.0], [47.4522, -122.118, 550000.0], [47.1949, -121.982, 235000.0], [47.3878, -122.316, 280000.0], [47.3189, -122.373, 195000.0], [47.3117, -122.208, 235000.0], [47.3295, -122.257, 340000.0], [47.7408, -121.974, 337000.0], [47.4121, -122.154, 350000.0], [47.3484, -122.036, 269950.0], [47.3043, -122.349, 339000.0], [47.3809, -122.13, 859000.0], [47.4381, -122.16, 435000.0], [47.3558, -122.29, 465000.0], [47.3742, -122.18, 250000.0], [47.3891, -122.172, 300000.0], [47.3343, -122.058, 311000.0], [47.4425, -122.333, 240000.0], [47.494, -122.304, 232000.0], [47.3248, -122.179, 350000.0], [47.4427, -122.126, 355000.0], [47.3978, -122.322, 400000.0], [47.5352, -121.868, 692500.0], [47.3779, -122.125, 310000.0], [47.4972, -122.233, 499900.0], [47.4125, -122.33, 308130.0], [47.4613, -122.184, 215000.0], [47.2987, -122.366, 210000.0], [47.3177, -122.182, 245000.0], [47.2606, -122.285, 299000.0], [47.3385, -122.282, 198000.0], [47.3131, -122.191, 300000.0], [47.3324, -122.168, 507000.0], [47.5362, -121.874, 770000.0], [47.4182, -122.167, 255000.0], [47.3829, -122.322, 220000.0], [47.5405, -122.187, 690700.0], [47.369, -122.17, 250000.0], [47.3655, -122.027, 320000.0], [47.5276, -122.161, 565000.0], [47.4866, -122.147, 529888.0], [47.2046, -121.996, 235000.0], [47.3766, -122.027, 489000.0], [47.4787, -122.129, 395000.0], [47.3405, -122.288, 169000.0], [47.4044, -122.208, 420000.0], [47.4406, -122.196, 270000.0], [47.4608, -122.196, 300000.0], [47.3124, -122.183, 240000.0], [47.3249, -122.187, 395000.0], [47.4971, -122.261, 169000.0], [47.4129, -122.209, 200500.0], [47.275, -122.295, 308000.0], [47.3136, -122.344, 290256.0], [47.4483, -122.158, 279950.0], [47.1958, -122.003, 195000.0], [47.3359, -122.033, 630000.0], [47.5081, -122.266, 220000.0], [47.5009, -122.164, 329000.0], [47.3875, -122.153, 355000.0], [47.3859, -122.288, 285900.0], [47.4703, -122.076, 352000.0], [47.5217, -122.155, 1050000.0], [47.2949, -122.285, 195000.0], [47.3028, -122.35, 368000.0], [47.5196, -122.151, 997000.0], [47.3333, -122.266, 250000.0], [47.2015, -122.005, 278500.0], [47.3317, -122.276, 260000.0], [47.4989, -122.302, 239000.0], [47.4192, -122.201, 350000.0], [47.4471, -122.207, 485000.0], [47.3091, -122.006, 199999.0], [47.3693, -122.129, 397450.0], [47.4038, -122.203, 205000.0], [47.3032, -122.306, 379000.0], [47.3081, -122.391, 349000.0], [47.3685, -122.077, 199990.0], [47.4331, -122.291, 220000.0], [47.2823, -122.333, 215000.0], [47.4624, -122.132, 349900.0], [47.4887, -122.223, 385000.0], [47.7413, -121.979, 307000.0], [47.3717, -122.073, 288000.0], [47.3774, -122.236, 226450.0], [47.4521, -122.14, 515000.0], [47.3375, -122.123, 210000.0], [47.3137, -122.343, 241500.0], [47.3734, -122.119, 322200.0], [47.5026, -122.234, 279000.0], [47.451, -122.273, 249000.0], [47.3782, -122.304, 243400.0], [47.3528, -122.057, 350000.0], [47.4683, -122.263, 368500.0], [47.4698, -122.166, 99000.0], [47.5194, -122.151, 1070000.0], [47.4346, -122.201, 349000.0], [47.3186, -122.364, 321027.0], [47.303, -122.217, 150000.0], [47.3296, -122.18, 319950.0], [47.2979, -122.377, 210000.0], [47.419, -122.322, 279000.0], [47.4518, -122.179, 195000.0], [47.3526, -122.055, 303500.0], [47.4511, -122.119, 365500.0], [47.3203, -122.184, 335000.0], [47.395, -122.311, 407000.0], [47.4213, -122.033, 364250.0], [47.4522, -122.123, 399000.0], [47.3538, -122.047, 263000.0], [47.4038, -122.175, 307000.0], [47.201, -121.999, 220000.0], [47.3767, -122.303, 231000.0], [47.3603, -122.085, 179000.0], [47.3799, -122.211, 244000.0], [47.4455, -122.278, 185850.0], [47.3542, -122.027, 419000.0], [47.2618, -122.209, 319900.0], [47.3213, -122.378, 329000.0], [47.3244, -122.379, 600000.0], [47.3259, -121.896, 345000.0], [47.3683, -122.153, 425000.0], [47.4206, -122.023, 411000.0], [47.735, -121.985, 359950.0], [47.3703, -122.314, 250000.0], [47.4612, -122.215, 365000.0], [47.2824, -122.301, 294700.0], [47.477, -122.116, 439950.0], [47.4241, -122.29, 530000.0], [47.3742, -122.289, 215000.0], [47.3343, -122.217, 215000.0], [47.3743, -122.116, 232000.0], [47.4151, -122.334, 250000.0], [47.3539, -122.025, 325000.0], [47.5303, -122.131, 1780000.0], [47.4319, -122.148, 785000.0], [47.4104, -122.172, 264000.0], [47.2568, -121.952, 475000.0], [47.2576, -122.099, 323000.0], [47.2924, -122.197, 257500.0], [47.4964, -122.263, 372500.0], [47.3924, -122.308, 258000.0], [47.352, -122.038, 365000.0], [47.3066, -122.223, 111300.0], [47.4007, -122.294, 130000.0], [47.4651, -122.184, 255000.0], [47.4725, -122.187, 268000.0], [47.4307, -122.17, 304000.0], [47.3541, -122.303, 200000.0], [47.2906, -122.055, 325000.0], [47.4356, -122.11, 426500.0], [47.4604, -122.17, 345000.0], [47.3217, -122.317, 140000.0], [47.389, -122.088, 485000.0], [47.3351, -122.044, 575000.0], [47.4326, -122.286, 421000.0], [47.3643, -122.041, 289000.0], [47.3093, -122.385, 230000.0], [47.7346, -121.983, 119500.0], [47.3087, -122.264, 260000.0], [47.3768, -122.028, 428400.0], [47.1896, -122.014, 346290.0], [47.2094, -121.996, 227000.0], [47.3078, -122.337, 280500.0], [47.4102, -122.195, 250000.0], [47.3491, -122.177, 266000.0], [47.434, -122.154, 258000.0], [47.3109, -122.225, 142500.0], [47.2738, -122.301, 241500.0], [47.3594, -122.175, 245000.0], [47.3626, -122.111, 227500.0], [47.3839, -122.288, 158550.0], [47.3291, -122.304, 360000.0], [47.4755, -122.157, 357500.0], [47.3764, -122.179, 235000.0], [47.2612, -122.294, 375000.0], [47.4476, -122.332, 362000.0], [47.3381, -122.332, 350000.0], [47.3262, -122.211, 269000.0], [47.4871, -122.203, 370000.0], [47.4852, -122.125, 270000.0], [47.2132, -122.001, 265000.0], [47.4225, -122.153, 242500.0], [47.4836, -122.214, 110000.0], [47.5071, -122.265, 235000.0], [47.365, -122.184, 210000.0], [47.535, -121.867, 720000.0], [47.3566, -122.32, 604700.0], [47.4904, -122.203, 100000.0], [47.3217, -122.318, 212000.0], [47.3259, -122.167, 359950.0], [47.448, -122.088, 489000.0], [47.3282, -122.332, 258750.0], [47.363, -122.308, 152000.0], [47.3391, -122.309, 315000.0], [47.4005, -122.311, 355425.0], [47.3117, -122.254, 430000.0], [47.4289, -122.164, 349950.0], [47.3196, -122.395, 286000.0], [47.7439, -121.977, 510000.0], [47.3791, -122.289, 203000.0], [47.2906, -122.349, 265000.0], [47.3287, -122.011, 241400.0], [47.4546, -122.182, 309950.0], [47.3786, -122.219, 259950.0], [47.3807, -122.222, 352000.0], [47.4888, -122.332, 276500.0], [47.1895, -122.015, 350000.0], [47.3972, -122.182, 325000.0], [47.3885, -122.154, 336000.0], [47.3438, -122.073, 286900.0], [47.3617, -122.046, 263000.0], [47.308, -122.087, 555000.0], [47.4491, -122.188, 305000.0], [47.39100000000001, -122.316, 289950.0], [47.7309, -121.905, 487500.0], [47.3281, -122.343, 185000.0], [47.4819, -122.289, 150550.0], [47.28100000000001, -121.933, 400000.0], [47.3487, -122.036, 265000.0], [47.3736, -122.045, 397500.0], [47.3719, -122.215, 225000.0], [47.2988, -122.374, 267000.0], [47.3504, -122.284, 339000.0], [47.5033, -122.225, 1100000.0], [47.3041, -122.28, 215000.0], [47.4182, -122.332, 335000.0], [47.477, -122.209, 225000.0], [47.2015, -122.003, 265000.0], [47.4766, -122.153, 270000.0], [47.3257, -122.365, 310000.0], [47.4507, -122.139, 327500.0], [47.3139, -122.116, 424000.0], [47.4835, -122.136, 460000.0], [47.3931, -122.183, 385000.0], [47.3214, -122.347, 272000.0], [47.3688, -122.08, 216500.0], [47.3406, -122.057, 325000.0], [47.5111, -122.256, 258000.0], [47.3787, -122.091, 411000.0], [47.3677, -122.173, 338500.0], [47.372, -122.036, 653000.0], [47.4997, -122.317, 207000.0], [47.3978, -122.313, 386000.0], [47.2961, -122.188, 265000.0], [47.3686, -122.058, 455000.0], [47.3718, -122.073, 278000.0], [47.3652, -122.183, 245000.0], [47.5279, -122.161, 585000.0], [47.3187, -122.179, 203000.0], [47.3026, -122.363, 89000.0], [47.7595, -121.473, 175000.0], [47.3384, -122.34, 490000.0], [47.512, -122.16, 395000.0], [47.4995, -122.248, 241000.0], [47.3878, -122.153, 345950.0], [47.4205, -122.215, 295000.0], [47.536, -121.857, 942500.0], [47.521, -122.15, 1030000.0], [47.375, -122.166, 209900.0], [47.3136, -122.208, 230000.0], [47.4286, -122.291, 489000.0], [47.4562, -122.33, 250000.0], [47.4683, -122.07, 390000.0], [47.3112, -122.265, 230000.0], [47.43600000000001, -122.185, 235000.0], [47.5229, -121.838, 335000.0], [47.3649, -122.194, 325000.0], [47.422, -122.321, 212500.0], [47.4932, -122.263, 261000.0], [47.3727, -122.051, 410000.0], [47.4504, -122.15, 336000.0], [47.4362, -122.187, 268643.0], [47.3816, -122.087, 199000.0], [47.4518, -122.292, 225000.0], [47.19600000000001, -122.011, 320000.0], [47.4025, -122.201, 204995.0], [47.5317, -121.866, 725995.0], [47.4521, -122.161, 285000.0], [47.3406, -122.269, 285000.0], [47.4565, -122.276, 255000.0], [47.3774, -122.027, 315000.0], [47.4681, -122.282, 253000.0], [47.3501, -122.14, 325900.0], [47.3638, -122.053, 315000.0], [47.3714, -122.177, 306000.0], [47.2889, -122.363, 205000.0], [47.4125, -122.207, 275000.0], [47.4349, -122.105, 441000.0], [47.4053, -122.189, 316500.0], [47.349, -122.021, 241000.0], [47.7346, -121.985, 330000.0], [47.4721, -122.148, 620000.0], [47.4044, -121.963, 352500.0], [47.3609, -122.048, 252000.0], [47.523, -121.877, 587000.0], [47.3779, -122.32, 176000.0], [47.743, -121.925, 499500.0], [47.473, -122.293, 294000.0], [47.4414, -122.154, 272000.0], [47.543, -121.888, 635000.0], [47.7325, -121.969, 487600.0], [47.3049, -122.386, 419000.0], [47.3818, -122.21, 282510.0], [47.2593, -122.312, 230000.0], [47.3352, -122.19, 321000.0], [47.3317, -122.365, 295000.0], [47.4215, -122.289, 199000.0], [47.4493, -122.282, 240000.0], [47.4825, -122.108, 228000.0], [47.3795, -122.023, 329950.0], [47.3752, -122.236, 237000.0], [47.3535, -122.026, 438900.0], [47.4457, -122.123, 320000.0], [47.3585, -121.988, 792500.0], [47.2742, -122.299, 229900.0], [47.3888, -122.032, 533000.0], [47.2918, -122.197, 239000.0], [47.4379, -122.022, 713900.0], [47.2582, -122.223, 427500.0], [47.3533, -122.082, 464950.0], [47.2632, -122.209, 320000.0], [47.277, -122.211, 154950.0], [47.3664, -122.087, 247200.0], [47.2977, -122.374, 250000.0], [47.331, -122.286, 277500.0], [47.451, -122.278, 325000.0], [47.7468, -121.98, 289200.0], [47.4088, -122.089, 589950.0], [47.7453, -121.984, 350000.0], [47.7364, -121.969, 325000.0], [47.5044, -122.148, 259000.0], [47.2638, -122.243, 260000.0], [47.3511, -122.266, 639900.0], [47.3185, -122.262, 420000.0], [47.4879, -122.245, 390000.0], [47.2909, -122.342, 610000.0], [47.4318, -122.292, 239975.0], [47.504, -122.248, 375000.0], [47.4539, -122.15, 300000.0], [47.4119, -122.181, 216600.0], [47.7378, -121.977, 287000.0], [47.502, -122.228, 352000.0], [47.288, -122.196, 197000.0], [47.4107, -122.179, 289950.0], [47.4674, -122.178, 300000.0], [47.506, -122.242, 287000.0], [47.3767, -122.161, 350000.0], [47.2887, -122.299, 219000.0], [47.53100000000001, -121.854, 450000.0], [47.4749, -122.155, 314000.0], [47.4768, -122.206, 277000.0], [47.7462, -121.978, 435000.0], [47.4558, -122.212, 313100.0], [47.4211, -122.314, 219950.0], [47.3889, -122.048, 215000.0], [47.2964, -122.116, 640000.0], [47.3493, -122.306, 253000.0], [47.4762, -122.156, 292000.0], [47.3802, -122.207, 289950.0], [47.3168, -122.401, 257500.0], [47.3933, -122.188, 269500.0], [47.3596, -122.04, 449000.0], [47.4058, -122.177, 275000.0], [47.4726, -122.282, 380000.0], [47.4229, -122.324, 200000.0], [47.5372, -121.876, 574000.0], [47.33600000000001, -122.35, 630000.0], [47.3321, -122.172, 334000.0], [47.3675, -122.042, 408000.0], [47.3904, -122.154, 409124.0], [47.4234, -122.212, 280000.0], [47.4491, -122.176, 175000.0], [47.7362, -121.967, 300000.0], [47.3603, -122.19, 273000.0], [47.4187, -122.323, 248000.0], [47.3848, -122.033, 353500.0], [47.5075, -122.262, 241000.0], [47.3588, -122.038, 320000.0], [47.4375, -122.008, 890000.0], [47.3424, -122.275, 275000.0], [47.363, -122.127, 490000.0], [47.3683, -122.279, 277000.0], [47.2613, -122.302, 236000.0], [47.3096, -122.197, 265953.0], [47.5223, -121.818, 319950.0], [47.4233, -122.177, 248000.0], [47.5069, -122.141, 310650.0], [47.3279, -122.191, 367500.0], [47.3393, -122.259, 239950.0], [47.4133, -122.209, 250000.0], [47.5108, -122.257, 295000.0], [47.3185, -122.377, 355000.0], [47.4511, -122.089, 289000.0], [47.367, -122.152, 325000.0], [47.7245, -121.957, 415000.0], [47.7317, -121.964, 372000.0], [47.4853, -122.318, 240000.0], [47.5089, -122.155, 334950.0], [47.3597, -122.04, 426500.0], [47.4646, -122.184, 287000.0], [47.3711, -122.06, 480000.0], [47.441, -122.125, 365000.0], [47.3627, -122.073, 306500.0], [47.3281, -122.135, 215000.0], [47.2738, -122.271, 239950.0], [47.4996, -122.163, 317500.0], [47.5401, -121.861, 650000.0], [47.4433, -122.194, 264950.0], [47.4756, -122.157, 320000.0], [47.4199, -122.183, 386000.0], [47.3849, -122.204, 251100.0], [47.5333, -121.859, 675000.0], [47.4786, -122.112, 379500.0], [47.4702, -122.275, 600000.0], [47.5095, -122.247, 800000.0], [47.457, -122.27, 324950.0], [47.4906, -122.306, 170000.0], [47.3704, -122.08, 178000.0], [47.4522, -122.178, 144000.0], [47.3177, -122.21, 225500.0], [47.3997, -122.313, 279000.0], [47.2559, -122.007, 315000.0], [47.3897, -122.051, 211000.0], [47.4909, -122.203, 238950.0], [47.361, -122.281, 327500.0], [47.3548, -122.002, 585000.0], [47.3815, -122.313, 257950.0], [47.5055, -122.26, 375000.0], [47.3661, -122.173, 245000.0], [47.3228, -122.08, 725000.0], [47.4837, -122.148, 330000.0], [47.3109, -122.229, 279950.0], [47.3564, -122.04, 284000.0], [47.3623, -122.09, 152000.0], [47.4339, -122.192, 165000.0], [47.3063, -122.359, 278500.0], [47.3207, -122.209, 286285.0], [47.2849, -122.251, 286000.0], [47.3684, -122.318, 259000.0], [47.4564, -122.162, 340000.0], [47.3782, -122.228, 344950.0], [47.3118, -122.337, 188000.0], [47.3107, -122.397, 260000.0], [47.35, -122.322, 217000.0], [47.44, -122.145, 410000.0], [47.3601, -122.046, 245000.0], [47.3057, -122.216, 194900.0], [47.3732, -122.129, 284000.0], [47.3088, -122.273, 280000.0], [47.262, -122.22, 355000.0], [47.3568, -122.038, 274950.0], [47.3146, -122.351, 219950.0], [47.4012, -122.025, 557500.0], [47.3942, -122.16, 305000.0], [47.3725, -122.073, 255000.0], [47.338, -122.333, 560000.0], [47.3643, -122.09, 199500.0], [47.3901, -122.071, 760000.0], [47.2099, -122.001, 199950.0], [47.3766, -122.115, 254000.0], [47.4291, -122.292, 330000.0], [47.2674, -122.072, 500000.0], [47.4655, -122.174, 295000.0], [47.2959, -122.166, 260000.0], [47.3862, -122.029, 318400.0], [47.2757, -122.145, 200000.0], [47.3627, -122.108, 234000.0], [47.3883, -122.05, 280000.0], [47.456, -122.209, 301000.0], [47.354, -121.999, 366000.0], [47.3504, -122.141, 303000.0], [47.3424, -122.289, 254000.0], [47.3036, -122.377, 260000.0], [47.3514, -122.167, 267500.0], [47.4324, -122.184, 370000.0], [47.3263, -122.305, 302000.0], [47.4755, -122.145, 290000.0], [47.3196, -122.399, 204950.0], [47.3329, -122.2, 545000.0], [47.4048, -122.178, 299950.0], [47.3659, -122.017, 340000.0], [47.5101, -122.151, 470000.0], [47.2956, -122.374, 242550.0], [47.2625, -122.308, 359000.0], [47.2669, -122.254, 204900.0], [47.354, -122.293, 850000.0], [47.3344, -122.216, 187000.0], [47.4375, -122.176, 340000.0], [47.3864, -122.223, 330000.0], [47.5163, -121.878, 378000.0], [47.4579, -122.164, 265000.0], [47.2955, -122.362, 212000.0], [47.3497, -122.317, 400000.0], [47.3408, -122.335, 384900.0], [47.3627, -122.087, 176000.0], [47.3794, -122.022, 350000.0], [47.3729, -122.183, 168000.0], [47.4559, -122.289, 193000.0], [47.4511, -122.121, 525000.0], [47.2864, -122.357, 215000.0], [47.3343, -122.194, 323000.0], [47.4496, -122.155, 279000.0], [47.4564, -122.211, 325500.0], [47.5334, -121.867, 505000.0], [47.3875, -122.032, 350000.0], [47.5371, -121.756, 2000000.0], [47.4006, -122.322, 385000.0], [47.328, -122.341, 185000.0], [47.3741, -122.15, 449950.0], [47.4815, -122.331, 203000.0], [47.5002, -122.151, 455000.0], [47.4734, -122.193, 549900.0], [47.478, -122.278, 235000.0], [47.359, -122.05, 286000.0], [47.3812, -122.168, 267000.0], [47.526, -121.81, 301000.0], [47.3336, -122.281, 265000.0], [47.3862, -122.304, 253000.0], [47.357, -122.04, 269950.0], [47.3926, -122.167, 275000.0], [47.2843, -122.357, 247000.0], [47.2737, -122.153, 204555.0], [47.3542, -122.098, 432000.0], [47.3171, -122.279, 175000.0], [47.3111, -122.35, 350000.0], [47.3322, -122.173, 277000.0], [47.3599, -122.188, 269950.0], [47.3634, -122.086, 198000.0], [47.2938, -122.348, 319000.0], [47.317, -122.385, 311000.0], [47.3552, -122.026, 394000.0], [47.3842, -122.036, 292000.0], [47.4924, -122.312, 217000.0], [47.4868, -122.303, 235000.0], [47.492, -122.224, 212000.0], [47.286, -122.218, 224950.0], [47.3999, -122.211, 515000.0], [47.305, -122.215, 135000.0], [47.3423, -122.088, 215000.0], [47.3834, -122.027, 275000.0], [47.3431, -122.304, 256400.0], [47.4545, -122.187, 203000.0], [47.4417, -122.134, 320000.0], [47.3385, -122.262, 269500.0], [47.3839, -122.321, 220000.0], [47.2142, -121.987, 243000.0], [47.3541, -122.024, 332500.0], [47.5024, -122.32, 190000.0], [47.4661, -122.145, 299000.0], [47.3896, -122.034, 294000.0], [47.422, -122.153, 255000.0], [47.3035, -122.283, 286651.0], [47.3439, -122.198, 334950.0], [47.3137, -122.212, 195000.0], [47.326, -122.273, 270000.0], [47.4732, -122.188, 332544.0], [47.4523, -122.286, 110000.0], [47.3565, -122.016, 312000.0], [47.369, -122.311, 217000.0], [47.5401, -121.879, 620000.0], [47.363, -122.035, 305000.0], [47.4051, -122.193, 327500.0], [47.4243, -122.202, 272000.0], [47.3871, -122.224, 235000.0], [47.4975, -122.231, 350000.0], [47.3804, -122.32, 255000.0], [47.306, -122.375, 161700.0], [47.4958, -122.262, 336000.0], [47.3762, -122.318, 349900.0], [47.2769, -122.333, 465000.0], [47.3241, -122.378, 625000.0], [47.4353, -122.084, 435000.0], [47.3261, -122.353, 223000.0], [47.4437, -122.137, 315000.0], [47.1958, -122.009, 225000.0], [47.4217, -122.201, 319990.0], [47.3328, -122.187, 280500.0], [47.2755, -122.308, 210500.0], [47.303, -122.383, 196500.0], [47.1938, -121.981, 240000.0], [47.4935, -122.306, 272000.0], [47.3085, -121.888, 408506.0], [47.2588, -122.21, 316000.0], [47.515, -122.117, 736500.0], [47.3948, -122.201, 215000.0], [47.3577, -122.038, 275000.0], [47.511, -122.153, 415000.0], [47.4513, -122.16, 320000.0], [47.4183, -122.182, 246000.0], [47.3021, -122.375, 217000.0], [47.50899999999999, -122.251, 303100.0], [47.3499, -122.302, 325000.0], [47.3545, -122.056, 359500.0], [47.5102, -122.241, 356200.0], [47.2884, -122.365, 225000.0], [47.3766, -122.18, 177000.0], [47.3162, -122.183, 149000.0], [47.4821, -122.331, 199950.0], [47.4022, -122.171, 292000.0], [47.4557, -122.181, 225000.0], [47.2909, -122.219, 330000.0], [47.4036, -122.205, 378800.0], [47.3207, -122.362, 209950.0], [47.3226, -122.287, 415000.0], [47.5102, -122.33, 261000.0], [47.4197, -122.205, 365000.0], [47.4481, -122.278, 213000.0], [47.3685, -122.048, 390000.0], [47.4417, -122.135, 328000.0], [47.3456, -122.305, 239999.0], [47.3467, -122.306, 225000.0], [47.3321, -122.261, 241000.0], [47.3913, -122.185, 307550.0], [47.4238, -122.322, 295000.0], [47.3065, -122.219, 319450.0], [47.3046, -122.392, 340000.0], [47.4576, -122.182, 249950.0], [47.4772, -122.153, 354900.0], [47.3531, -122.017, 318200.0], [47.1969, -122.011, 289000.0], [47.3876, -122.216, 263000.0], [47.2625, -122.3, 221000.0], [47.3665, -122.092, 237950.0], [47.3286, -122.336, 199950.0], [47.4578, -122.274, 284000.0], [47.4373, -122.333, 295000.0], [47.3113, -122.358, 240000.0], [47.3727, -122.162, 215000.0], [47.24100000000001, -121.979, 473000.0], [47.3358, -122.32, 314500.0], [47.7698, -121.898, 460000.0], [47.344, -122.331, 361000.0], [47.2558, -122.024, 305000.0], [47.3086, -122.365, 222000.0], [47.5385, -121.88, 510000.0], [47.2986, -122.377, 210000.0], [47.3595, -122.038, 419900.0], [47.4868, -122.159, 410000.0], [47.4587, -122.117, 475000.0], [47.3611, -122.047, 250000.0], [47.3491, -122.113, 390000.0], [47.5004, -122.162, 460000.0], [47.3867, -122.19, 237000.0], [47.3948, -122.028, 180000.0], [47.2091, -122.009, 280017.0], [47.4314, -122.164, 436500.0], [47.4947, -122.237, 205000.0], [47.3402, -122.046, 570000.0], [47.3078, -122.374, 287000.0], [47.2646, -122.219, 249000.0], [47.4639, -122.17, 358000.0], [47.3293, -122.17, 225000.0], [47.3624, -122.079, 280000.0], [47.4324, -122.191, 380500.0], [47.471, -122.262, 260000.0], [47.7125, -121.915, 655000.0], [47.4862, -122.326, 170000.0], [47.3338, -122.337, 352500.0], [47.3431, -122.03, 615000.0], [47.4836, -122.332, 165000.0], [47.3683, -122.164, 243500.0], [47.3289, -122.17, 292500.0], [47.3788, -122.031, 355000.0], [47.3789, -122.213, 258000.0], [47.3658, -122.04, 456500.0], [47.2056, -121.999, 259950.0], [47.4828, -122.324, 123000.0], [47.462, -122.188, 337500.0], [47.4349, -122.17, 300000.0], [47.4574, -122.169, 325000.0], [47.2848, -122.361, 230000.0], [47.1947, -122.008, 315000.0], [47.3538, -122.013, 444000.0], [47.4869, -122.324, 212000.0], [47.3591, -122.038, 428900.0], [47.3954, -122.191, 204000.0], [47.1932, -122.008, 308950.0], [47.4095, -122.29, 175000.0], [47.3162, -122.194, 245100.0], [47.2933, -122.377, 195000.0], [47.412, -122.168, 800000.0], [47.5157, -122.107, 440000.0], [47.5033, -122.232, 353000.0], [47.3596, -122.089, 279900.0], [47.3835, -122.148, 409000.0], [47.45399999999999, -122.19, 260000.0], [47.4391, -122.161, 348000.0], [47.3401, -122.282, 302000.0], [47.3395, -122.28, 265000.0], [47.4286, -122.292, 525000.0], [47.4094, -122.17, 363500.0], [47.3347, -122.077, 345000.0], [47.3514, -122.279, 449888.0], [47.3266, -122.272, 263000.0], [47.19, -122.016, 323000.0], [47.3925, -122.165, 304000.0], [47.3599, -122.176, 315000.0], [47.3301, -122.365, 325000.0], [47.3154, -122.254, 384000.0], [47.348, -122.035, 269500.0], [47.4046, -122.194, 269000.0], [47.7367, -121.969, 325000.0], [47.2062, -121.993, 295000.0], [47.3974, -122.312, 375000.0], [47.3553, -122.28, 190000.0], [47.5217, -121.819, 323000.0], [47.3513, -122.1, 450000.0], [47.3523, -122.213, 292500.0], [47.4438, -122.134, 299000.0], [47.4719, -122.074, 360000.0], [47.3273, -122.349, 183500.0], [47.3609, -122.274, 263000.0], [47.3609, -122.05, 269000.0], [47.5394, -121.878, 564000.0], [47.4965, -122.157, 425000.0], [47.3237, -122.337, 340000.0], [47.511, -122.251, 552000.0], [47.2957, -122.187, 294000.0], [47.3613, -122.087, 175409.0], [47.4853, -122.126, 250000.0], [47.2934, -122.215, 245000.0], [47.3187, -122.18, 203000.0], [47.3585, -122.195, 312500.0], [47.3689, -122.163, 455000.0], [47.3473, -122.305, 237000.0], [47.4968, -122.237, 343000.0], [47.3556, -122.175, 259900.0], [47.3262, -122.174, 272000.0], [47.3835, -122.035, 415000.0], [47.3555, -122.149, 319000.0], [47.3131, -122.392, 297500.0], [47.3893, -122.154, 325000.0], [47.3631, -122.028, 260656.0], [47.362, -122.277, 296500.0], [47.4805, -122.301, 330000.0], [47.3841, -122.036, 350000.0], [47.4009, -122.059, 565000.0], [47.4829, -122.128, 397000.0], [47.3075, -122.284, 184000.0], [47.4494, -122.139, 415000.0], [47.4692, -122.162, 231000.0], [47.2175, -121.995, 358000.0], [47.5335, -121.854, 470000.0], [47.3631, -122.05, 239000.0], [47.4363, -122.333, 290000.0], [47.2736, -122.251, 255000.0], [47.3536, -122.047, 292500.0], [47.3646, -122.036, 305000.0], [47.4858, -122.111, 915000.0], [47.7383, -121.983, 317000.0], [47.3173, -122.327, 219900.0], [47.4214, -122.02, 520000.0], [47.3618, -122.289, 310000.0], [47.3342, -122.34, 320000.0], [47.5303, -121.855, 440000.0], [47.3543, -122.005, 679000.0], [47.4261, -122.144, 258900.0], [47.7301, -121.972, 562000.0], [47.3116, -122.4, 236775.0], [47.5385, -121.87, 527900.0], [47.3666, -122.122, 300000.0], [47.369, -122.177, 300000.0], [47.3673, -122.072, 363000.0], [47.4171, -122.202, 299000.0], [47.3004, -122.377, 205000.0], [47.3912, -122.234, 163000.0], [47.3617, -122.061, 300000.0], [47.457, -122.208, 345000.0], [47.3851, -122.029, 296000.0], [47.4458, -122.134, 419950.0], [47.4861, -122.226, 288250.0], [47.1983, -122.0, 224500.0], [47.3887, -122.22, 260000.0], [47.33600000000001, -122.334, 380000.0], [47.365, -122.028, 206000.0], [47.4396, -122.104, 190000.0], [47.4126, -122.165, 250000.0], [47.5339, -121.854, 575000.0], [47.1924, -121.988, 275000.0], [47.3188, -122.174, 190000.0], [47.4724, -122.147, 529000.0], [47.4536, -122.33, 285000.0], [47.2925, -122.284, 220000.0], [47.3747, -122.164, 299900.0], [47.455, -122.198, 345000.0], [47.368, -122.314, 258000.0], [47.3742, -122.284, 320000.0], [47.3552, -122.015, 295000.0], [47.3943, -122.311, 299900.0], [47.3504, -122.026, 394000.0], [47.2666, -122.015, 485000.0], [47.5396, -121.882, 569000.0], [47.3525, -122.002, 775000.0], [47.4723, -122.19, 250000.0], [47.4305, -122.157, 151600.0], [47.5012, -122.15, 515000.0], [47.5039, -122.266, 216000.0], [47.1764, -122.026, 245000.0], [47.3155, -122.182, 152000.0], [47.4984, -122.23, 340000.0], [47.5081, -122.33, 324950.0], [47.3287, -122.169, 305000.0], [47.4982, -122.221, 258000.0], [47.3836, -122.082, 310000.0], [47.5044, -122.235, 472000.0], [47.2021, -122.002, 224950.0], [47.4927, -122.28, 174000.0], [47.4925, -122.239, 170000.0], [47.3354, -122.031, 407450.0], [47.3682, -122.096, 195000.0], [47.4202, -122.331, 270000.0], [47.3828, -122.148, 440000.0], [47.4801, -122.315, 216000.0], [47.3959, -122.211, 430000.0], [47.2008, -121.995, 210000.0], [47.4945, -122.303, 305000.0], [47.3202, -122.384, 245000.0], [47.3809, -122.287, 182000.0], [47.3473, -122.314, 358000.0], [47.3516, -122.166, 240000.0], [47.2082, -122.009, 325000.0], [47.3658, -122.017, 321000.0], [47.4096, -122.172, 222000.0], [47.3525, -122.304, 266000.0], [47.3054, -122.38, 280000.0], [47.4906, -122.309, 291000.0], [47.3413, -122.28, 160000.0], [47.4934, -122.237, 199950.0], [47.3746, -122.183, 210000.0], [47.3264, -122.262, 375000.0], [47.5014, -122.226, 315000.0], [47.4424, -122.126, 323000.0], [47.3865, -122.217, 175000.0], [47.2068, -121.992, 169900.0], [47.4789, -122.159, 217000.0], [47.4787, -122.122, 580135.0], [47.1949, -121.989, 231200.0], [47.4857, -122.221, 205000.0], [47.2658, -122.218, 299995.0], [47.4771, -122.174, 150000.0], [47.3797, -122.152, 575000.0], [47.5261, -122.144, 950000.0], [47.3895, -122.222, 278800.0], [47.33600000000001, -122.304, 252500.0], [47.2874, -122.192, 185000.0], [47.3757, -122.304, 204750.0], [47.3683, -122.147, 222000.0], [47.4269, -122.197, 200000.0], [47.4685, -122.282, 183000.0], [47.2598, -122.281, 225000.0], [47.4545, -122.146, 371000.0], [47.3538, -122.004, 616000.0], [47.3641, -122.193, 320000.0], [47.7349, -121.986, 310000.0], [47.3264, -122.308, 475000.0], [47.4366, -122.171, 279950.0], [47.2896, -122.369, 203000.0], [47.4016, -122.18, 250000.0], [47.4621, -122.129, 360000.0], [47.3617, -122.05, 251000.0], [47.4938, -122.298, 200000.0], [47.4297, -122.19, 340000.0], [47.4959, -122.241, 153000.0], [47.2857, -122.358, 299950.0], [47.4388, -122.142, 440000.0], [47.3691, -122.031, 293000.0], [47.5026, -122.236, 203000.0], [47.2925, -122.219, 193000.0], [47.3577, -122.085, 120000.0], [47.1927, -122.015, 285000.0], [47.3574, -122.186, 160000.0], [47.4508, -122.132, 432000.0], [47.3349, -122.059, 305000.0], [47.3382, -122.257, 259900.0], [47.4724, -122.271, 250000.0], [47.4205, -122.316, 249950.0], [47.4521, -122.196, 199000.0], [47.4479, -122.12, 335000.0], [47.4349, -122.328, 569950.0], [47.5047, -122.144, 495500.0], [47.3444, -122.084, 368500.0], [47.302, -122.373, 278100.0], [47.466, -122.147, 349950.0], [47.3869, -122.033, 425000.0], [47.4958, -122.265, 210000.0], [47.3072, -122.363, 184000.0], [47.4478, -122.128, 333000.0], [47.3502, -122.022, 218000.0], [47.4326, -122.155, 420000.0], [47.3355, -122.331, 278000.0], [47.4089, -122.149, 454000.0], [47.5407, -121.89, 499000.0], [47.4815, -122.153, 590000.0], [47.3822, -122.32, 202200.0], [47.4199, -122.034, 435000.0], [47.3651, -122.165, 550000.0], [47.5072, -122.252, 361000.0], [47.3265, -122.335, 200000.0], [47.3351, -122.282, 260000.0], [47.3185, -122.391, 287500.0], [47.2078, -122.003, 270000.0], [47.312, -122.129, 284000.0], [47.3934, -122.184, 308000.0], [47.3594, -122.056, 118000.0], [47.354, -122.315, 280400.0], [47.3001, -122.368, 238000.0], [47.4224, -122.159, 279000.0], [47.5094, -122.263, 315000.0], [47.4267, -122.148, 336500.0], [47.4909, -122.144, 625000.0], [47.7456, -121.984, 299950.0], [47.3543, -122.012, 380000.0], [47.3788, -122.224, 175000.0], [47.4575, -122.119, 544800.0], [47.3175, -122.182, 220000.0], [47.4046, -122.181, 259950.0], [47.3099, -122.362, 255000.0], [47.2137, -121.989, 287000.0], [47.5253, -121.826, 170000.0], [47.4685, -122.265, 345000.0], [47.5164, -121.878, 415000.0], [47.3594, -122.054, 250000.0], [47.5169, -121.878, 394000.0], [47.2916, -122.185, 183000.0], [47.3364, -122.128, 309933.0], [47.3276, -122.389, 503000.0], [47.4238, -122.197, 220000.0], [47.3041, -122.066, 335000.0], [47.3892, -122.215, 511000.0], [47.299, -122.228, 186000.0], [47.3328, -122.173, 328000.0], [47.483, -122.163, 370000.0], [47.5033, -122.331, 285950.0], [47.4051, -122.184, 268000.0], [47.4239, -122.153, 355000.0], [47.3722, -122.22, 275000.0], [47.3398, -122.071, 260000.0], [47.5099, -122.262, 495000.0], [47.2621, -122.308, 258000.0], [47.5015, -122.108, 600000.0], [47.1944, -122.013, 297000.0], [47.4563, -122.184, 180000.0], [47.5102, -122.324, 339950.0], [47.7064, -121.981, 955000.0], [47.4502, -122.277, 170000.0], [47.3992, -122.163, 300000.0], [47.3134, -122.35, 389500.0], [47.3764, -122.117, 269950.0], [47.3755, -122.278, 249000.0], [47.3401, -121.946, 579000.0], [47.4167, -122.322, 203000.0], [47.3836, -122.006, 453000.0], [47.4837, -122.236, 190000.0], [47.4567, -122.171, 320000.0], [47.4725, -122.136, 555000.0], [47.3522, -122.042, 364950.0], [47.7256, -121.97, 380600.0], [47.3543, -122.022, 335000.0], [47.3096, -122.241, 170000.0], [47.3073, -122.006, 320900.0], [47.2795, -122.353, 228950.0], [47.3509, -122.165, 329000.0], [47.7341, -121.976, 315500.0], [47.3244, -122.217, 389000.0], [47.4709, -122.26, 285000.0], [47.3696, -122.17, 190000.0], [47.3209, -122.185, 359950.0], [47.2843, -122.357, 315000.0], [47.2656, -122.217, 220000.0], [47.4298, -122.29, 340000.0], [47.3537, -122.303, 285000.0], [47.5004, -122.162, 306500.0], [47.3904, -122.164, 256500.0], [47.4065, -122.207, 473000.0], [47.3337, -122.26, 317000.0], [47.4749, -122.213, 225000.0], [47.3575, -122.016, 314950.0], [47.381, -122.299, 250000.0], [47.2621, -122.221, 262000.0], [47.3391, -122.325, 452000.0], [47.3715, -122.285, 319000.0], [47.3161, -122.382, 255000.0], [47.4358, -122.085, 782000.0], [47.4871, -122.281, 185000.0], [47.2025, -121.999, 262500.0], [47.3382, -122.196, 370000.0], [47.3484, -122.037, 300000.0], [47.2649, -122.292, 335000.0], [47.3191, -122.213, 288000.0], [47.3537, -122.274, 359500.0], [47.3304, -122.277, 248000.0], [47.5071, -122.255, 239300.0], [47.3857, -122.079, 212000.0], [47.3858, -122.227, 225800.0], [47.4918, -122.258, 248000.0], [47.4034, -122.187, 245000.0], [47.2091, -122.009, 307999.0], [47.2931, -122.188, 235000.0], [47.3641, -122.278, 374900.0], [47.2715, -122.338, 245000.0], [47.3175, -122.17, 200000.0], [47.3351, -122.362, 425000.0], [47.3814, -122.024, 366000.0], [47.2872, -122.212, 224000.0], [47.7278, -121.963, 330000.0], [47.302, -122.123, 345000.0], [47.4901, -122.303, 207000.0], [47.4034, -122.167, 340000.0], [47.3411, -122.219, 236000.0], [47.4654, -122.194, 330000.0], [47.5031, -122.152, 343000.0], [47.4852, -122.162, 332000.0], [47.4768, -122.177, 239950.0], [47.3365, -122.051, 285000.0], [47.3924, -122.192, 336500.0], [47.4537, -122.211, 360000.0], [47.5008, -122.333, 175000.0], [47.4818, -122.231, 230000.0], [47.3304, -122.179, 360000.0], [47.3165, -122.382, 355000.0], [47.3375, -122.291, 265000.0], [47.26600000000001, -122.307, 320000.0], [47.2666, -122.254, 215000.0], [47.2077, -121.993, 215000.0], [47.437, -122.207, 480000.0], [47.4299, -121.998, 849000.0], [47.3287, -122.167, 330000.0], [47.4768, -122.155, 350000.0], [47.7125, -121.916, 570000.0], [47.4935, -122.316, 224000.0], [47.4939, -122.297, 293550.0], [47.7373, -121.966, 324000.0], [47.2021, -121.996, 169000.0], [47.3344, -122.174, 299900.0], [47.4653, -122.176, 332000.0], [47.4005, -122.312, 510000.0], [47.3511, -122.169, 270000.0], [47.3677, -122.078, 189000.0], [47.4839, -122.302, 287000.0], [47.3534, -121.992, 679000.0], [47.4202, -122.204, 316000.0], [47.334, -122.332, 560000.0], [47.347, -122.087, 435000.0], [47.4996, -122.146, 520000.0], [47.5067, -122.16, 365000.0], [47.3986, -122.163, 285000.0], [47.3818, -122.165, 459950.0], [47.398, -121.964, 290000.0], [47.3231, -122.103, 279000.0], [47.536, -121.877, 538500.0], [47.3752, -122.11, 533050.0], [47.4371, -122.166, 360000.0], [47.7354, -121.974, 565000.0], [47.4133, -122.006, 540500.0], [47.456, -122.292, 265000.0], [47.4756, -122.09, 355000.0], [47.2077, -122.016, 299990.0], [47.473, -122.149, 314950.0], [47.49, -122.22, 175000.0], [47.3683, -122.087, 225000.0], [47.5003, -122.306, 312000.0], [47.4402, -122.333, 222200.0], [47.3795, -122.022, 329950.0], [47.4043, -122.202, 249000.0], [47.4143, -122.206, 244900.0], [47.4947, -122.238, 289900.0], [47.4997, -122.326, 286000.0], [47.3365, -122.319, 318000.0], [47.5095, -122.313, 255000.0], [47.3003, -122.27, 139000.0], [47.5131, -122.334, 245000.0], [47.2016, -122.006, 195000.0], [47.448, -122.28, 242000.0], [47.3124, -122.345, 275000.0], [47.3093, -122.345, 300000.0], [47.3515, -121.999, 404000.0], [47.3533, -122.027, 410000.0], [47.184, -121.959, 330000.0], [47.3659, -122.113, 249950.0], [47.4538, -122.288, 249000.0], [47.3769, -122.234, 249000.0], [47.2725, -121.929, 590000.0], [47.4317, -122.328, 348000.0], [47.4045, -122.208, 301000.0], [47.2848, -122.345, 364988.0], [47.1967, -121.998, 237500.0], [47.3117, -122.083, 380000.0], [47.5431, -121.886, 685000.0], [47.295, -122.275, 199129.0], [47.3058, -122.348, 335000.0], [47.4365, -122.106, 305100.0], [47.4128, -122.323, 272000.0], [47.3913, -122.191, 280000.0], [47.3895, -122.221, 375000.0], [47.5317, -121.834, 358000.0], [47.3715, -122.29, 270500.0], [47.2492, -121.975, 550000.0], [47.4971, -122.24, 159075.0], [47.4419, -122.27, 309950.0], [47.3796, -122.102, 291000.0], [47.4865, -122.142, 540000.0], [47.3497, -122.044, 380000.0], [47.4571, -122.272, 270000.0], [47.3716, -122.321, 550000.0], [47.7698, -121.896, 265000.0], [47.4824, -122.274, 175000.0], [47.2874, -122.283, 285000.0], [47.5188, -122.151, 1050000.0], [47.4783, -122.265, 235000.0], [47.4931, -122.298, 213500.0], [47.345, -122.296, 275000.0], [47.3357, -122.351, 565000.0], [47.3036, -122.34, 490600.0], [47.367, -122.181, 249000.0], [47.4529, -122.207, 235000.0], [47.5071, -122.16, 360000.0], [47.3687, -122.126, 298000.0], [47.3097, -122.099, 380000.0], [47.3037, -122.375, 291000.0], [47.3766, -122.027, 470000.0], [47.3124, -122.003, 200000.0], [47.4739, -122.114, 453500.0], [47.2672, -122.313, 281000.0], [47.3833, -122.1, 270000.0], [47.306, -122.37, 205950.0], [47.464, -122.18, 279000.0], [47.4129, -122.08, 408000.0], [47.4886, -122.245, 323500.0], [47.2702, -122.29, 280000.0], [47.3987, -122.3, 289900.0], [47.3588, -122.088, 269000.0], [47.3864, -122.03, 280000.0], [47.4361, -122.189, 287000.0], [47.505, -122.316, 309000.0], [47.2123, -122.005, 525000.0], [47.2633, -122.281, 240000.0], [47.4162, -122.329, 204000.0], [47.4444, -122.182, 345000.0], [47.5053, -122.242, 350000.0], [47.3085, -122.358, 259950.0], [47.4045, -122.197, 290000.0], [47.2309, -122.009, 475000.0], [47.3314, -122.29, 214000.0], [47.2873, -122.283, 275000.0], [47.333, -122.345, 305000.0], [47.3013, -122.109, 449000.0], [47.3746, -122.056, 199950.0], [47.3622, -122.074, 273000.0], [47.4184, -122.18, 284000.0], [47.3841, -122.042, 315000.0], [47.5114, -122.318, 250000.0], [47.3658, -122.317, 290000.0], [47.379, -122.032, 399900.0], [47.3648, -122.185, 230000.0], [47.4034, -122.188, 245000.0], [47.2093, -122.005, 188000.0], [47.3521, -122.009, 426000.0], [47.3414, -122.117, 397900.0], [47.4387, -122.114, 340000.0], [47.5038, -122.266, 225000.0], [47.3683, -122.079, 214000.0], [47.4192, -122.33, 205000.0], [47.3389, -122.048, 790000.0], [47.455, -122.182, 230000.0], [47.4314, -122.204, 375000.0], [47.7321, -121.964, 463000.0], [47.3107, -122.189, 355000.0], [47.3675, -122.021, 259875.0], [47.378, -122.03, 382500.0], [47.3762, -122.158, 489990.0], [47.4461, -122.209, 479950.0], [47.5376, -121.879, 565000.0], [47.3279, -122.006, 359999.0], [47.3485, -122.301, 349950.0], [47.3164, -122.199, 667000.0], [47.4927, -122.224, 265950.0], [47.3764, -122.184, 258000.0], [47.2627, -122.215, 329800.0], [47.4315, -122.199, 222000.0], [47.3714, -122.207, 226800.0], [47.5262, -122.143, 1210000.0], [47.3954, -122.184, 350000.0], [47.4599, -122.276, 254000.0], [47.313, -122.374, 354950.0], [47.5402, -121.887, 499000.0], [47.4199, -121.99, 427500.0], [47.4874, -122.223, 439000.0], [47.3415, -122.029, 545000.0], [47.3552, -121.99, 665000.0], [47.4039, -122.323, 255000.0], [47.3381, -122.289, 274000.0], [47.3092, -122.375, 260000.0], [47.3449, -122.329, 625000.0], [47.3266, -122.138, 220000.0], [47.4902, -122.154, 405000.0], [47.3554, -122.324, 650000.0], [47.4039, -121.98, 415000.0], [47.349, -122.166, 220000.0], [47.3406, -122.284, 204700.0], [47.402, -122.183, 314000.0], [47.4608, -122.215, 380000.0], [47.4164, -122.092, 429000.0], [47.4871, -122.22, 216180.0], [47.463, -122.125, 300000.0], [47.3762, -122.219, 255000.0], [47.4236, -122.195, 250000.0], [47.3908, -122.32, 575000.0], [47.2893, -122.084, 250000.0], [47.4644, -122.066, 310000.0], [47.3488, -122.304, 284850.0], [47.4999, -122.223, 304000.0], [47.4013, -122.321, 325000.0], [47.3122, -122.376, 305000.0], [47.4809, -122.153, 320000.0], [47.3342, -122.108, 455000.0], [47.4704, -122.076, 545000.0], [47.3572, -122.192, 345000.0], [47.3778, -122.001, 319502.0], [47.327, -122.094, 651000.0], [47.3101, -122.212, 200000.0], [47.3838, -122.184, 295000.0], [47.4226, -122.327, 275000.0], [47.3056, -122.37, 196000.0], [47.4562, -122.33, 315000.0], [47.3473, -122.302, 338000.0], [47.3516, -122.0, 353000.0], [47.2074, -122.001, 235000.0], [47.3726, -122.025, 569999.0], [47.2802, -122.316, 299000.0], [47.3878, -122.052, 240000.0], [47.3498, -122.052, 272000.0], [47.4314, -122.189, 305000.0], [47.2915, -122.368, 190000.0], [47.4411, -122.186, 144000.0], [47.3719, -122.091, 240000.0], [47.3952, -122.176, 279950.0], [47.3581, -122.266, 400000.0], [47.3784, -122.29, 250000.0], [47.1937, -121.99, 272950.0], [47.523, -121.875, 625000.0], [47.4928, -122.142, 525000.0], [47.5403, -121.889, 443500.0], [47.1808, -122.023, 350000.0], [47.4157, -122.161, 315000.0], [47.5085, -122.15, 470000.0], [47.3334, -122.323, 310000.0], [47.3507, -122.16, 289000.0], [47.3206, -122.269, 250000.0], [47.4244, -122.151, 379000.0], [47.3608, -121.97, 650000.0], [47.4594, -122.273, 240000.0], [47.4258, -122.021, 462000.0], [47.4845, -122.33, 243000.0], [47.53, -121.848, 368000.0], [47.7368, -121.968, 315000.0], [47.3187, -122.081, 273000.0], [47.4826, -122.149, 585000.0], [47.2114, -121.986, 200000.0], [47.3505, -122.027, 265000.0], [47.3792, -122.321, 195000.0], [47.3498, -122.058, 270000.0], [47.4084, -122.213, 327500.0], [47.3264, -122.038, 510000.0], [47.4475, -122.034, 660000.0], [47.4496, -122.083, 400000.0], [47.2943, -122.227, 224000.0], [47.3043, -122.094, 335000.0], [47.3121, -122.323, 235000.0], [47.2875, -122.289, 370000.0], [47.3044, -122.366, 209950.0], [47.3772, -122.045, 309000.0], [47.2993, -122.293, 571500.0], [47.5087, -122.25, 323000.0], [47.3776, -122.228, 290000.0], [47.2975, -122.37, 218000.0], [47.3718, -122.109, 334950.0], [47.3193, -122.383, 268500.0], [47.3828, -122.09, 230000.0], [47.441, -122.282, 245500.0], [47.2734, -122.248, 182500.0], [47.4092, -122.295, 340000.0], [47.4414, -122.129, 317500.0], [47.2867, -122.27, 551870.0], [47.2659, -122.31, 295000.0], [47.3268, -122.328, 263500.0], [47.4483, -122.13, 329950.0], [47.488, -122.2, 219950.0], [47.425, -122.332, 251200.0], [47.3632, -122.087, 215000.0], [47.3109, -122.362, 245000.0], [47.4928, -122.274, 230000.0], [47.374, -122.141, 275000.0], [47.3831, -122.288, 201500.0], [47.3942, -122.189, 344900.0], [47.3204, -122.322, 285000.0], [47.31399999999999, -122.001, 262000.0], [47.7205, -121.93, 380000.0], [47.3564, -122.016, 305000.0], [47.3534, -122.012, 549900.0], [47.4239, -122.068, 678500.0], [47.4501, -122.274, 270000.0], [47.3155, -122.364, 246000.0], [47.3326, -122.323, 255000.0], [47.4805, -122.158, 275000.0], [47.5031, -122.242, 272000.0], [47.3493, -122.177, 225000.0], [47.3732, -122.023, 375000.0], [47.3662, -122.175, 350000.0], [47.4689, -122.277, 355000.0], [47.2597, -122.31, 309900.0], [47.3476, -122.3, 257000.0], [47.3867, -122.191, 213400.0], [47.4446, -122.104, 420000.0], [47.3181, -122.344, 569950.0], [47.4792, -122.277, 258000.0], [47.4894, -122.135, 310000.0], [47.3261, -122.26, 250600.0], [47.3792, -122.047, 352000.0], [47.3503, -122.005, 291500.0], [47.3789, -122.229, 350000.0], [47.3102, -122.322, 279000.0], [47.3204, -122.364, 215000.0], [47.4239, -122.015, 665000.0], [47.3611, -122.293, 165000.0], [47.5056, -122.251, 349170.0], [47.4899, -122.116, 287000.0], [47.4249, -122.211, 328000.0], [47.5415, -121.887, 405000.0], [47.3576, -122.058, 347500.0], [47.4422, -122.151, 390000.0], [47.3788, -122.179, 267500.0], [47.3293, -122.364, 1280000.0], [47.3742, -122.125, 380000.0], [47.334, -122.106, 365000.0], [47.3615, -122.274, 280927.0], [47.3686, -122.09, 259900.0], [47.5019, -122.151, 487500.0], [47.2866, -122.217, 275000.0], [47.372, -122.102, 305000.0], [47.2618, -122.12, 395000.0], [47.1963, -121.997, 215000.0], [47.37300000000001, -122.179, 490000.0], [47.3828, -122.302, 175000.0], [47.3215, -122.204, 305000.0], [47.3074, -122.385, 247000.0], [47.2043, -121.996, 257100.0], [47.3619, -122.285, 268000.0], [47.4137, -122.212, 380000.0], [47.4026, -122.033, 725000.0], [47.3167, -122.081, 249000.0], [47.2574, -122.31, 244000.0], [47.3763, -122.148, 165000.0], [47.4319, -122.328, 340000.0], [47.3337, -122.189, 325000.0], [47.3629, -122.091, 220000.0], [47.2917, -122.366, 236000.0], [47.3636, -122.192, 283200.0], [47.337, -122.321, 460000.0], [47.4949, -122.239, 264250.0], [47.3487, -122.088, 450000.0], [47.5018, -122.242, 339950.0], [47.3121, -122.253, 541500.0], [47.4015, -122.176, 240000.0], [47.4253, -122.283, 322000.0], [47.4136, -122.207, 201000.0], [47.2602, -122.219, 297300.0], [47.4752, -122.133, 230000.0], [47.2923, -122.36, 323800.0], [47.326, -122.037, 330000.0], [47.3553, -122.196, 265000.0], [47.35, -122.043, 359950.0], [47.4507, -122.152, 479950.0], [47.4403, -122.137, 392000.0], [47.7447, -121.976, 435000.0], [47.4557, -122.269, 261000.0], [47.2654, -122.216, 331950.0], [47.3638, -122.088, 195700.0], [47.3982, -122.172, 357000.0], [47.4227, -122.332, 265000.0], [47.5057, -122.149, 460500.0], [47.4877, -122.24, 315000.0], [47.3883, -122.035, 479000.0], [47.4501, -122.122, 475000.0], [47.4351, -122.173, 296000.0], [47.34, -122.271, 303000.0], [47.341, -122.309, 260750.0], [47.3029, -122.069, 315000.0], [47.2956, -122.285, 200000.0], [47.4166, -122.323, 174500.0], [47.2769, -122.145, 229950.0], [47.4451, -122.126, 349000.0], [47.4498, -122.12, 348000.0], [47.2911, -122.342, 510000.0], [47.2907, -122.367, 265000.0], [47.4911, -122.125, 629000.0], [47.2642, -122.213, 272000.0], [47.4881, -122.237, 270000.0], [47.3262, -122.334, 215000.0], [47.5051, -122.242, 256000.0], [47.4121, -122.172, 255000.0], [47.4728, -122.191, 259000.0], [47.5024, -122.332, 292000.0], [47.3128, -122.13, 259500.0], [47.3773, -122.029, 354000.0], [47.3605, -122.04, 300000.0], [47.2877, -122.349, 309950.0], [47.3512, -122.305, 329000.0], [47.4669, -122.182, 246000.0], [47.4801, -122.158, 349000.0], [47.4038, -122.167, 374950.0], [47.2752, -122.319, 306500.0], [47.4474, -122.167, 299950.0], [47.2576, -122.214, 265500.0], [47.268, -122.245, 219000.0], [47.3497, -121.944, 499000.0], [47.3812, -122.029, 315000.0], [47.7718, -121.904, 289275.0], [47.4077, -122.331, 455000.0], [47.5369, -121.876, 567500.0], [47.4402, -122.195, 265000.0], [47.7403, -121.984, 375000.0], [47.3244, -122.144, 202000.0], [47.2109, -121.987, 216500.0], [47.3454, -122.314, 325000.0], [47.3429, -122.036, 263500.0], [47.3313, -122.343, 246600.0], [47.3628, -122.045, 240000.0], [47.7453, -121.984, 350000.0], [47.4973, -122.252, 284200.0], [47.3675, -122.019, 357000.0], [47.3792, -122.28, 275000.0], [47.2886, -122.274, 225000.0], [47.4756, -122.301, 224000.0], [47.4923, -122.247, 230000.0], [47.4193, -122.194, 372000.0], [47.3584, -122.089, 306000.0], [47.3605, -122.12, 280000.0], [47.4526, -122.284, 204950.0], [47.4935, -122.332, 352000.0], [47.5398, -121.869, 1140000.0], [47.4676, -122.134, 137124.0], [47.3856, -122.158, 431000.0], [47.3311, -122.375, 629000.0], [47.4706, -122.119, 330000.0], [47.3385, -122.264, 360000.0], [47.3515, -122.006, 378000.0], [47.3737, -122.132, 290000.0], [47.3779, -122.045, 176000.0], [47.3739, -122.148, 240000.0], [47.4455, -122.169, 311000.0], [47.3926, -122.168, 264500.0], [47.3367, -122.332, 260000.0], [47.353, -122.172, 241000.0], [47.3674, -122.081, 128000.0], [47.3979, -122.317, 210500.0], [47.5067, -122.163, 420000.0], [47.3325, -122.171, 352000.0], [47.3508, -122.057, 290000.0], [47.3555, -122.175, 192500.0], [47.4891, -122.141, 518000.0], [47.4693, -122.266, 375000.0], [47.3305, -122.351, 240000.0], [47.4303, -122.046, 234000.0], [47.5132, -122.157, 429950.0], [47.7412, -121.966, 575000.0], [47.4469, -122.155, 275000.0], [47.4396, -122.162, 397500.0], [47.7392, -121.966, 563500.0], [47.3204, -122.387, 374950.0], [47.3675, -122.02, 308950.0], [47.3642, -122.109, 237200.0], [47.3926, -122.208, 215000.0], [47.5326, -121.879, 440000.0], [47.4013, -122.03, 485000.0], [47.3188, -122.38, 359999.0], [47.4517, -122.331, 280000.0], [47.4778, -122.211, 290000.0], [47.4333, -122.212, 235000.0], [47.3631, -122.277, 290000.0], [47.4151, -122.181, 230000.0], [47.3126, -122.361, 234000.0], [47.4712, -122.112, 370000.0], [47.3718, -122.168, 342000.0], [47.3739, -122.056, 205000.0], [47.4866, -122.319, 330000.0], [47.5415, -121.883, 388500.0], [47.4819, -122.14, 419000.0], [47.4206, -122.155, 279000.0], [47.3209, -122.338, 262000.0], [47.3025, -122.067, 285000.0], [47.381, -122.035, 369950.0], [47.264, -122.258, 124500.0], [47.305, -122.218, 160000.0], [47.2098, -122.004, 255000.0], [47.5065, -122.275, 292050.0], [47.4514, -122.159, 291600.0], [47.3184, -122.22, 200000.0], [47.3046, -122.305, 230000.0], [47.5035, -122.258, 228000.0], [47.4721, -122.123, 375000.0], [47.332, -122.334, 583000.0], [47.3263, -122.189, 262000.0], [47.539, -121.878, 555000.0], [47.5185, -121.878, 425590.0], [47.3634, -122.046, 252000.0], [47.4343, -122.156, 439000.0], [47.3316, -122.203, 465000.0], [47.3127, -122.354, 249900.0], [47.3686, -122.059, 430000.0], [47.3206, -122.397, 220000.0], [47.371, -122.173, 325000.0], [47.4687, -122.263, 356000.0], [47.4968, -122.302, 270000.0], [47.3172, -122.372, 200000.0], [47.3612, -122.185, 275000.0], [47.4483, -122.124, 365000.0], [47.2979, -122.371, 299000.0], [47.3768, -122.149, 139500.0], [47.5119, -122.151, 464000.0], [47.2968, -122.372, 255000.0], [47.5384, -121.88, 679975.0], [47.4121, -122.183, 289659.0], [47.538, -121.87, 585000.0], [47.3521, -122.012, 555000.0], [47.3935, -122.169, 319000.0], [47.4895, -122.166, 280000.0], [47.5242, -121.831, 250000.0], [47.5348, -121.866, 465000.0], [47.3236, -122.337, 350000.0], [47.3699, -122.319, 290000.0], [47.4793, -122.122, 475000.0], [47.3613, -122.041, 285000.0], [47.4902, -122.331, 309000.0], [47.3565, -122.149, 219000.0], [47.3075, -122.217, 112000.0], [47.3318, -122.373, 252000.0], [47.4601, -122.165, 335000.0], [47.2981, -122.38, 245000.0], [47.5026, -122.236, 339000.0], [47.3904, -122.178, 449950.0], [47.4984, -122.224, 235000.0], [47.3091, -122.343, 389950.0], [47.285, -122.206, 235000.0], [47.3109, -122.045, 600000.0], [47.368, -122.315, 251000.0], [47.505, -122.11, 471000.0], [47.3357, -122.171, 275000.0], [47.7369, -121.96, 510000.0], [47.3121, -122.215, 225000.0], [47.3498, -122.037, 260000.0], [47.3794, -122.317, 276200.0], [47.3499, -122.296, 245000.0], [47.4733, -122.281, 221900.0], [47.5096, -122.25, 466000.0], [47.265, -122.302, 383150.0], [47.2983, -122.166, 400000.0], [47.2898, -122.222, 215000.0], [47.3351, -122.289, 292500.0], [47.3076, -122.362, 224097.0], [47.3572, -122.161, 254000.0], [47.4596, -122.066, 335000.0], [47.3845, -122.085, 169950.0], [47.3908, -122.167, 233703.0], [47.4932, -122.278, 257000.0], [47.3164, -122.196, 225000.0], [47.5309, -121.876, 355000.0], [47.1964, -122.009, 324360.0], [47.3143, -122.37, 315000.0], [47.2616, -122.296, 395000.0], [47.3531, -121.982, 212644.0], [47.3813, -122.243, 235000.0], [47.3542, -122.137, 295000.0], [47.4476, -122.124, 305000.0], [47.3663, -122.088, 269950.0], [47.4553, -122.274, 217500.0], [47.3413, -122.277, 270000.0], [47.7383, -121.969, 480000.0], [47.5098, -122.155, 426950.0], [47.2892, -122.22, 208000.0], [47.4573, -122.158, 325000.0], [47.5415, -121.883, 451000.0], [47.2974, -122.366, 218000.0], [47.4155, -122.163, 401500.0], [47.4761, -122.287, 196700.0], [47.3094, -122.191, 309900.0], [47.4619, -122.154, 485000.0], [47.45, -122.179, 254000.0], [47.4457, -122.127, 260000.0], [47.4955, -122.239, 166000.0], [47.3813, -122.043, 335620.0], [47.3144, -122.339, 285000.0], [47.2739, -122.293, 350000.0], [47.4292, -122.148, 312500.0], [47.4887, -122.15, 370000.0], [47.4288, -122.198, 365000.0], [47.4878, -122.314, 150000.0], [47.2681, -122.267, 305000.0], [47.3875, -122.155, 344200.0], [47.3583, -122.183, 229900.0], [47.3654, -122.164, 324000.0], [47.3637, -122.21, 385000.0], [47.4512, -122.208, 395000.0], [47.4945, -122.304, 245000.0], [47.435, -122.192, 334000.0], [47.3644, -122.312, 216000.0], [47.5007, -122.223, 340500.0], [47.4698, -122.118, 375000.0], [47.3632, -122.324, 600000.0], [47.5062, -122.151, 429000.0], [47.3124, -122.351, 276200.0], [47.3263, -122.364, 268450.0], [47.5123, -122.331, 309950.0], [47.4961, -122.322, 134000.0], [47.3996, -122.32, 405000.0], [47.7344, -121.957, 518000.0], [47.3686, -122.081, 180000.0], [47.33, -122.278, 285000.0], [47.474, -122.139, 399000.0], [47.4703, -122.276, 406500.0], [47.31399999999999, -122.344, 353950.0], [47.49800000000001, -122.222, 269000.0], [47.3052, -122.362, 209950.0], [47.4713, -122.197, 389000.0], [47.3947, -122.313, 170500.0], [47.2688, -122.309, 350000.0], [47.4323, -122.327, 375000.0], [47.2653, -122.285, 239950.0], [47.3694, -122.083, 240000.0], [47.5361, -121.871, 482000.0], [47.4738, -122.19, 350000.0], [47.3202, -122.383, 415000.0], [47.3602, -121.986, 774950.0], [47.3582, -122.284, 290000.0], [47.5136, -122.313, 265000.0], [47.3124, -122.188, 359000.0], [47.3179, -122.331, 262500.0], [47.3132, -122.182, 285000.0], [47.4659, -122.144, 290000.0], [47.4909, -122.154, 292000.0], [47.475, -122.199, 213000.0], [47.4734, -122.198, 325000.0], [47.5035, -122.255, 301350.0], [47.44, -122.136, 348000.0], [47.4105, -122.194, 227950.0], [47.3967, -122.183, 347500.0], [47.3355, -122.284, 226500.0], [47.54, -121.863, 535950.0], [47.3046, -122.22, 250000.0], [47.2684, -122.308, 342000.0], [47.3123, -122.186, 148226.0], [47.4808, -122.099, 313000.0], [47.3697, -122.309, 150000.0], [47.5119, -122.329, 150000.0], [47.459, -122.181, 230000.0], [47.4164, -122.332, 310000.0], [47.7351, -121.964, 470000.0], [47.474, -122.14, 366000.0], [47.2761, -122.208, 205000.0], [47.334, -122.214, 184500.0], [47.319, -122.394, 269000.0], [47.3647, -122.082, 209000.0], [47.3211, -122.277, 370000.0], [47.369, -122.156, 445000.0], [47.4365, -122.144, 343888.0], [47.3651, -122.051, 302000.0], [47.3007, -122.228, 195000.0], [47.494, -122.279, 290500.0], [47.2734, -122.251, 248000.0], [47.3614, -122.035, 309950.0], [47.3658, -122.085, 253000.0], [47.3454, -122.039, 350000.0], [47.459, -122.285, 198000.0], [47.4737, -122.15, 266200.0], [47.4338, -122.183, 95000.0], [47.3506, -122.04, 379900.0], [47.4252, -122.159, 362500.0], [47.4291, -122.16, 278000.0], [47.3909, -122.238, 244615.0], [47.4401, -122.126, 375000.0], [47.7362, -121.974, 489950.0], [47.3747, -122.156, 472000.0], [47.4918, -122.141, 333000.0], [47.355, -122.319, 799000.0], [47.3109, -122.097, 449500.0], [47.4198, -122.158, 267500.0], [47.7338, -121.966, 396800.0], [47.2966, -122.19, 220000.0], [47.7345, -121.961, 435000.0], [47.2953, -122.097, 400000.0], [47.2087, -122.009, 338150.0], [47.4207, -122.334, 295832.0], [47.4088, -122.21, 285000.0], [47.3536, -122.317, 304500.0], [47.4568, -122.21, 288000.0], [47.3822, -122.318, 178500.0], [47.4091, -122.313, 300000.0], [47.5073, -122.234, 415000.0], [47.5364, -121.856, 1010000.0], [47.3714, -122.309, 245000.0], [47.3156, -122.186, 216000.0], [47.3784, -122.046, 257700.0], [47.3364, -122.169, 300000.0], [47.2617, -122.21, 269100.0], [47.737, -121.967, 350000.0], [47.2614, -122.29, 340000.0], [47.3577, -122.195, 460000.0], [47.2793, -122.295, 345000.0], [47.3566, -122.039, 280500.0], [47.3293, -122.306, 420000.0], [47.2987, -122.385, 274900.0], [47.285, -122.207, 222000.0], [47.3925, -122.137, 375000.0], [47.4016, -122.209, 300000.0], [47.4693, -122.117, 375000.0], [47.3803, -122.147, 420000.0], [47.4339, -122.194, 260000.0], [47.3314, -122.275, 238000.0], [47.5008, -122.257, 251000.0], [47.3326, -122.201, 433495.0], [47.3619, -122.077, 265000.0], [47.4869, -122.243, 450000.0], [47.4435, -122.128, 317000.0], [47.2803, -122.356, 226750.0], [47.3526, -122.0, 371000.0], [47.2891, -122.357, 194000.0], [47.3493, -122.025, 200000.0], [47.475, -122.111, 289571.0], [47.5297, -121.846, 470000.0], [47.3438, -122.322, 379750.0], [47.3186, -122.171, 240000.0], [47.4919, -122.151, 210000.0], [47.5045, -122.329, 92000.0], [47.4485, -122.139, 495000.0], [47.3298, -122.277, 250000.0], [47.4325, -122.146, 316000.0], [47.3364, -122.276, 209000.0], [47.4327, -122.06, 400000.0], [47.2831, -122.279, 411000.0], [47.4357, -122.159, 460000.0], [47.524, -121.821, 281000.0], [47.2766, -122.146, 218500.0], [47.3322, -122.337, 175000.0], [47.4972, -122.264, 318000.0], [47.4683, -122.263, 325000.0], [47.2902, -122.342, 370000.0], [47.3823, -122.159, 583500.0], [47.3548, -122.055, 299000.0], [47.3429, -122.33, 819000.0], [47.2887, -122.269, 229500.0], [47.2811, -122.299, 265000.0], [47.4838, -122.33, 292000.0], [47.3531, -122.048, 275000.0], [47.4368, -122.162, 390000.0], [47.4989, -122.322, 250000.0], [47.3018, -122.369, 213950.0], [47.3984, -122.186, 232000.0], [47.293, -122.215, 207000.0], [47.3515, -122.291, 310000.0], [47.3335, -122.325, 305000.0], [47.3768, -122.118, 291000.0], [47.5012, -122.265, 238950.0], [47.2616, -122.281, 255000.0], [47.3667, -122.041, 390000.0], [47.473, -122.118, 405000.0], [47.4774, -122.142, 435000.0], [47.3213, -122.385, 299950.0], [47.2619, -122.308, 297262.0], [47.3242, -122.144, 201000.0], [47.469, -122.298, 110700.0], [47.2077, -122.011, 245000.0], [47.4632, -122.19, 294900.0], [47.208, -121.963, 332000.0], [47.7346, -121.97, 442500.0], [47.2688, -122.024, 600000.0], [47.4604, -122.18, 215000.0], [47.3634, -122.279, 305000.0], [47.3622, -122.157, 734000.0], [47.7341, -121.976, 300000.0], [47.419, -122.206, 357000.0], [47.31399999999999, -122.208, 235000.0], [47.4881, -122.142, 450000.0], [47.285, -122.201, 272000.0], [47.3275, -122.329, 291000.0], [47.3286, -122.346, 170000.0], [47.7421, -121.982, 279900.0], [47.3988, -122.028, 525000.0], [47.503, -122.262, 137900.0], [47.34, -122.327, 465000.0], [47.3358, -122.265, 280000.0], [47.3112, -122.376, 282000.0], [47.3446, -122.042, 400000.0], [47.3557, -122.29, 545000.0], [47.3024, -122.106, 178000.0], [47.4192, -122.201, 262500.0], [47.2925, -122.346, 299990.0], [47.4125, -121.982, 1130000.0], [47.4722, -122.131, 425000.0], [47.4868, -122.141, 540000.0], [47.3619, -122.287, 320000.0], [47.4431, -122.19, 280000.0], [47.4869, -122.123, 300000.0], [47.74100000000001, -121.979, 360000.0], [47.3199, -122.374, 186000.0], [47.4858, -122.231, 315000.0], [47.4896, -122.204, 207100.0], [47.3743, -122.295, 268500.0], [47.3734, -122.193, 250000.0], [47.4619, -122.196, 325000.0], [47.7233, -121.959, 450000.0], [47.4497, -122.212, 389900.0], [47.4403, -122.271, 265000.0], [47.49800000000001, -122.225, 354000.0], [47.3642, -122.174, 339950.0], [47.3289, -122.001, 314500.0], [47.4874, -122.207, 298000.0], [47.2114, -122.009, 290000.0], [47.3219, -122.085, 425000.0], [47.3644, -122.04, 339500.0], [47.3482, -122.153, 299900.0], [47.4484, -122.158, 315000.0], [47.3644, -122.094, 195000.0], [47.738, -121.965, 540000.0], [47.3992, -122.163, 306000.0], [47.3169, -122.365, 272000.0], [47.3628, -122.147, 530000.0], [47.3661, -122.02, 305000.0], [47.4572, -122.169, 300000.0], [47.3266, -122.175, 289950.0], [47.3229, -122.348, 219000.0], [47.4623, -122.13, 378000.0], [47.4067, -122.03, 446000.0], [47.3064, -122.108, 485000.0], [47.4742, -122.265, 255000.0], [47.3947, -122.174, 251750.0], [47.4808, -122.28, 394950.0], [47.4909, -122.257, 324950.0], [47.35, -122.168, 220000.0], [47.4435, -122.279, 368000.0], [47.4117, -122.174, 253000.0], [47.3616, -122.144, 392500.0], [47.3634, -122.027, 215000.0], [47.3278, -122.337, 232500.0], [47.349, -122.025, 234000.0], [47.4016, -122.131, 380000.0], [47.3238, -122.292, 420000.0], [47.3939, -122.164, 256750.0], [47.3327, -122.29, 256000.0], [47.3678, -122.282, 165000.0], [47.3947, -122.197, 220000.0], [47.2929, -122.342, 575000.0], [47.5022, -122.223, 750000.0], [47.3781, -122.044, 290000.0], [47.2126, -121.984, 272000.0], [47.2701, -122.313, 280000.0], [47.3096, -122.357, 225000.0], [47.4833, -122.139, 442250.0], [47.3637, -122.075, 276000.0], [47.7364, -121.969, 355000.0], [47.3661, -122.29, 260000.0], [47.2741, -122.337, 310000.0], [47.3033, -122.381, 209000.0], [47.4975, -122.261, 230000.0], [47.3743, -122.285, 336950.0], [47.3597, -122.051, 230000.0], [47.4583, -122.036, 427000.0], [47.3676, -122.312, 255000.0], [47.356, -122.014, 425000.0], [47.4935, -122.333, 264950.0], [47.427, -122.147, 229950.0], [47.317, -122.325, 225000.0], [47.3724, -122.107, 358500.0], [47.7245, -121.959, 468000.0], [47.467, -122.185, 260000.0], [47.3838, -122.026, 295000.0], [47.398, -122.31, 403900.0], [47.2868, -122.21, 269950.0], [47.4345, -122.326, 221000.0], [47.355, -122.176, 255000.0], [47.3663, -122.115, 300000.0], [47.4597, -122.162, 270000.0], [47.3068, -122.27, 246900.0], [47.3248, -122.142, 215000.0], [47.3043, -122.159, 785000.0], [47.2857, -122.189, 150000.0], [47.275, -122.278, 199950.0], [47.4343, -122.082, 379900.0], [47.3733, -122.289, 245700.0], [47.3126, -122.129, 257000.0], [47.5088, -122.333, 205000.0], [47.3427, -122.169, 511000.0], [47.4042, -122.204, 370000.0], [47.4433, -122.016, 710000.0], [47.3357, -122.305, 236000.0], [47.4871, -122.165, 278000.0], [47.5031, -122.245, 219950.0], [47.3344, -122.301, 182000.0], [47.4693, -122.161, 230000.0], [47.3432, -122.309, 128000.0], [47.4575, -122.204, 329950.0], [47.4799, -122.129, 448000.0], [47.4549, -122.287, 273000.0], [47.464, -122.192, 383000.0], [47.7348, -121.984, 524950.0], [47.3847, -122.029, 314950.0], [47.3749, -122.291, 300000.0], [47.3559, -122.0, 515000.0], [47.3679, -122.088, 205000.0], [47.3078, -122.338, 310000.0], [47.3843, -122.006, 530000.0], [47.5045, -122.24, 343500.0], [47.385, -122.031, 245000.0], [47.4807, -122.332, 202000.0], [47.4884, -122.319, 270000.0], [47.3119, -122.015, 240000.0], [47.7466, -121.979, 350000.0], [47.3631, -122.116, 198400.0], [47.3694, -122.056, 495000.0], [47.4788, -122.227, 317000.0], [47.3877, -122.171, 325000.0], [47.2641, -122.312, 334950.0], [47.2935, -122.108, 495000.0], [47.3117, -122.321, 275900.0], [47.497, -122.227, 275000.0], [47.3069, -122.271, 233000.0], [47.4785, -122.16, 317500.0], [47.3594, -122.322, 420000.0], [47.4927, -122.312, 290000.0], [47.5091, -122.144, 320000.0], [47.4417, -122.194, 213400.0], [47.3115, -122.396, 275000.0], [47.3352, -122.189, 300000.0], [47.2063, -122.023, 253500.0], [47.4445, -122.126, 387500.0], [47.4914, -122.155, 315000.0], [47.5275, -122.148, 751000.0], [47.3025, -122.224, 189000.0], [47.2642, -122.219, 273000.0], [47.3881, -122.326, 950000.0], [47.3336, -122.269, 299900.0], [47.31399999999999, -122.365, 281000.0], [47.3846, -122.205, 282000.0], [47.2977, -122.367, 250000.0], [47.3424, -122.329, 514500.0], [47.4654, -122.195, 300000.0], [47.3621, -122.031, 290000.0], [47.352, -122.058, 199000.0], [47.3672, -122.099, 279900.0], [47.3104, -122.394, 268000.0], [47.5322, -121.868, 497000.0], [47.4853, -122.304, 195000.0], [47.2925, -122.196, 255000.0], [47.3912, -122.301, 339000.0], [47.2791, -122.3, 225000.0], [47.5059, -122.303, 240000.0], [47.4738, -122.266, 319000.0], [47.4916, -122.308, 250000.0], [47.258, -122.208, 254500.0], [47.3658, -122.172, 210000.0], [47.38399999999999, -122.322, 349950.0], [47.4716, -122.262, 192500.0], [47.31399999999999, -122.363, 264500.0], [47.4098, -122.189, 312000.0], [47.35, -122.005, 357500.0], [47.3052, -122.34, 515000.0], [47.3893, -122.051, 290000.0], [47.2932, -122.283, 299999.0], [47.3811, -122.325, 357000.0], [47.401, -122.171, 360000.0], [47.3705, -122.15, 240000.0], [47.7624, -121.93, 350000.0], [47.4848, -122.221, 194000.0], [47.3187, -122.39, 258950.0], [47.37300000000001, -122.185, 335000.0], [47.4462, -122.137, 460000.0], [47.3342, -122.215, 185000.0], [47.3106, -122.325, 286500.0], [47.367, -122.031, 422000.0], [47.3507, -122.089, 408000.0], [47.3985, -122.321, 306500.0], [47.3451, -122.04, 359900.0], [47.445, -122.285, 355000.0], [47.3819, -122.09, 216000.0], [47.528, -122.132, 1200000.0], [47.363, -122.034, 311000.0], [47.3092, -122.376, 305000.0], [47.4242, -122.181, 395000.0], [47.3747, -122.306, 275000.0], [47.3539, -122.054, 254000.0], [47.2883, -122.272, 178500.0], [47.3516, -122.119, 270000.0], [47.2927, -122.369, 198000.0], [47.4606, -122.283, 190000.0], [47.5078, -122.251, 272000.0], [47.4258, -122.327, 255000.0], [47.4351, -122.335, 255000.0], [47.3915, -122.188, 300000.0], [47.4922, -122.134, 342500.0], [47.4892, -122.306, 218000.0], [47.522, -122.149, 840000.0], [47.3468, -122.11, 205000.0], [47.3904, -122.165, 205000.0], [47.4905, -122.14, 510000.0], [47.4446, -122.074, 210000.0], [47.2592, -122.228, 400000.0], [47.3979, -122.212, 422500.0], [47.3191, -122.385, 245000.0], [47.3081, -122.329, 191950.0], [47.31100000000001, -122.21, 250000.0], [47.4881, -122.199, 294000.0], [47.2048, -121.999, 265000.0], [47.2458, -122.002, 705000.0], [47.353, -122.002, 589450.0], [47.4482, -122.269, 219950.0], [47.4548, -122.29, 170000.0], [47.3099, -122.116, 489950.0], [47.3798, -122.025, 319950.0], [47.2624, -122.221, 255000.0], [47.3745, -122.224, 306000.0], [47.39, -122.166, 215000.0], [47.3593, -122.289, 245000.0], [47.4379, -122.146, 400000.0], [47.1928, -122.01, 303000.0], [47.4865, -122.197, 126000.0], [47.386, -122.047, 299950.0], [47.312, -122.183, 206000.0], [47.3585, -122.191, 302500.0], [47.3784, -122.046, 250000.0], [47.4891, -122.149, 435000.0], [47.4874, -122.223, 160000.0], [47.4882, -122.325, 206000.0], [47.394, -122.202, 350000.0], [47.5049, -122.239, 419000.0], [47.2377, -122.016, 325000.0], [47.3182, -122.271, 232000.0], [47.4499, -122.189, 238000.0], [47.2625, -122.221, 260000.0], [47.3482, -122.037, 265000.0], [47.3684, -122.08, 218000.0], [47.3632, -122.11, 205000.0], [47.3527, -122.315, 256000.0], [47.3893, -122.216, 372000.0], [47.4061, -122.188, 312000.0], [47.4836, -122.136, 512000.0], [47.3747, -122.185, 362000.0], [47.4842, -122.33, 225000.0], [47.3831, -122.147, 364900.0], [47.4437, -122.194, 250000.0], [47.3174, -122.127, 206990.0], [47.265, -122.22, 319950.0], [47.2623, -122.217, 205000.0], [47.3495, -122.04, 335000.0], [47.5126, -122.149, 330000.0], [47.2585, -122.061, 400000.0], [47.3523, -122.059, 249900.0], [47.4016, -122.166, 319000.0], [47.5141, -122.316, 320000.0], [47.4744, -122.154, 305495.0], [47.3965, -122.321, 240000.0], [47.3904, -122.299, 199950.0], [47.3258, -122.186, 255000.0], [47.4501, -122.128, 289000.0], [47.4745, -122.141, 385000.0], [47.3925, -122.161, 255000.0], [47.4388, -122.328, 154500.0], [47.289, -122.344, 349900.0], [47.3879, -122.032, 332500.0], [47.4492, -122.157, 289900.0], [47.432, -122.329, 339950.0], [47.3183, -122.382, 367999.0], [47.3828, -122.026, 380000.0], [47.3487, -122.021, 215000.0], [47.4416, -122.149, 335500.0], [47.2883, -122.218, 294400.0], [47.3657, -122.173, 255000.0], [47.3554, -121.986, 655000.0], [47.4283, -122.323, 280500.0], [47.4042, -122.205, 354000.0], [47.3379, -122.322, 810000.0], [47.2617, -122.19, 400000.0], [47.3388, -122.033, 902500.0], [47.4798, -122.136, 429950.0], [47.7324, -121.963, 406250.0], [47.3735, -122.018, 674950.0], [47.4389, -122.116, 374900.0], [47.5427, -121.863, 522500.0], [47.4944, -122.162, 498500.0], [47.3315, -122.265, 271920.0], [47.3473, -122.037, 260250.0], [47.4492, -122.084, 455000.0], [47.3086, -122.396, 229000.0], [47.3255, -122.305, 250000.0], [47.5182, -122.149, 1150000.0], [47.526, -121.828, 350000.0], [47.3325, -122.35, 185000.0], [47.238, -122.039, 201000.0], [47.515, -122.164, 315000.0], [47.5066, -122.259, 286300.0], [47.3425, -122.03, 625000.0], [47.2975, -122.38, 239950.0], [47.3325, -122.168, 395000.0], [47.5308, -121.847, 440000.0], [47.4569, -122.165, 319950.0], [47.4096, -122.17, 365000.0], [47.3141, -122.192, 185000.0], [47.5414, -121.869, 771150.0], [47.4364, -122.282, 225000.0], [47.5333, -121.87, 389950.0], [47.5288, -121.846, 435000.0], [47.2598, -122.311, 250000.0], [47.2857, -122.3, 263000.0], [47.37, -122.297, 185000.0], [47.3482, -122.3, 247000.0], [47.5356, -121.881, 432500.0], [47.4712, -122.1, 415500.0], [47.3107, -122.001, 365000.0], [47.3314, -122.275, 257000.0], [47.3285, -122.168, 312500.0], [47.3497, -122.025, 350500.0], [47.4811, -122.325, 215000.0], [47.3598, -122.157, 270000.0], [47.2975, -122.223, 140000.0], [47.5263, -121.809, 285000.0], [47.3206, -122.394, 216300.0], [47.4804, -122.157, 410000.0], [47.3738, -122.214, 355000.0], [47.3378, -122.263, 210000.0], [47.2933, -122.195, 249500.0], [47.3922, -122.165, 325000.0], [47.3666, -122.089, 257000.0], [47.4579, -122.17, 320000.0], [47.3503, -122.042, 315000.0], [47.2798, -122.303, 279900.0], [47.4754, -122.09, 250000.0], [47.2568, -122.07, 267300.0], [47.398, -122.081, 400000.0], [47.3389, -122.066, 479000.0], [47.3398, -122.286, 247000.0], [47.3637, -121.955, 675000.0], [47.3285, -122.328, 219950.0], [47.3106, -122.116, 460000.0], [47.205, -121.996, 231000.0], [47.3037, -122.107, 195000.0], [47.4694, -122.069, 418000.0], [47.333, -122.172, 340000.0], [47.2703, -122.312, 310000.0], [47.4878, -122.324, 200000.0], [47.3657, -122.152, 479900.0], [47.4395, -122.151, 400000.0], [47.4434, -122.283, 219950.0], [47.7344, -121.986, 300000.0], [47.3724, -122.104, 289000.0], [47.3837, -122.304, 240000.0], [47.4206, -122.183, 382500.0], [47.4222, -122.318, 170000.0], [47.4906, -122.306, 225000.0], [47.2396, -121.993, 438950.0], [47.3448, -122.298, 242000.0], [47.3687, -122.182, 260000.0], [47.4676, -122.296, 335000.0], [47.2951, -122.284, 227000.0], [47.3596, -122.036, 375000.0], [47.3722, -122.308, 250000.0], [47.5346, -121.881, 530000.0], [47.542, -121.792, 474950.0], [47.3904, -122.3, 265500.0], [47.3644, -122.2, 310000.0], [47.4617, -122.159, 525000.0], [47.5388, -121.87, 589000.0], [47.334, -122.3, 197400.0], [47.3731, -122.172, 267000.0], [47.4577, -122.171, 225000.0], [47.7313, -121.971, 325000.0], [47.3019, -122.216, 128750.0], [47.3898, -122.154, 359950.0], [47.4912, -122.145, 495000.0], [47.4293, -122.151, 255000.0], [47.5428, -121.861, 655000.0], [47.3397, -122.322, 485000.0], [47.1776, -121.944, 432000.0], [47.375, -122.227, 312000.0], [47.3438, -122.037, 156601.0], [47.3557, -122.026, 374950.0], [47.2752, -122.251, 198000.0], [47.2763, -122.257, 185900.0], [47.36600000000001, -122.093, 280000.0], [47.432, -122.189, 349950.0], [47.3927, -122.194, 270000.0], [47.4571, -122.17, 215000.0], [47.495, -122.155, 440000.0], [47.3474, -122.037, 259500.0], [47.3935, -122.3, 385000.0], [47.4911, -122.154, 330000.0], [47.267, -122.31, 325000.0], [47.4756, -122.174, 162248.0], [47.3231, -122.215, 190000.0], [47.3864, -122.22, 339900.0], [47.3557, -122.016, 353000.0], [47.4787, -122.128, 400000.0], [47.3369, -122.32, 305000.0], [47.3506, -122.006, 324950.0], [47.4034, -122.176, 290000.0], [47.3256, -122.378, 604000.0], [47.4378, -122.16, 380000.0], [47.3853, -122.028, 336500.0], [47.3173, -122.317, 172000.0], [47.2925, -122.107, 549900.0], [47.3168, -122.079, 357000.0], [47.4018, -122.037, 207000.0], [47.2899, -122.192, 164000.0], [47.7479, -121.972, 979500.0], [47.2659, -122.215, 347000.0], [47.42, -122.317, 204000.0], [47.5067, -122.164, 359500.0], [47.3635, -122.052, 258000.0], [47.3519, -122.14, 355000.0], [47.3086, -122.328, 239000.0], [47.3417, -122.281, 235000.0], [47.3344, -122.28, 190848.0], [47.4845, -122.331, 214950.0], [47.4556, -122.209, 263000.0], [47.4875, -122.255, 317000.0], [47.4596, -122.065, 302000.0], [47.3629, -122.026, 236000.0], [47.3746, -122.149, 225000.0], [47.3638, -122.091, 164000.0], [47.4428, -122.134, 344950.0], [47.3752, -122.029, 539500.0], [47.5198, -122.156, 1070000.0], [47.4891, -122.263, 287500.0], [47.4962, -122.242, 222900.0], [47.3268, -122.388, 399950.0], [47.7356, -121.959, 525000.0], [47.4299, -122.199, 257000.0], [47.2901, -122.279, 314950.0], [47.3422, -122.089, 222500.0], [47.267, -122.312, 297000.0], [47.4928, -122.229, 625000.0], [47.4778, -122.288, 234550.0], [47.3505, -122.305, 230500.0], [47.4485, -122.278, 377500.0], [47.5406, -121.887, 475000.0], [47.2881, -122.086, 399000.0], [47.3849, -122.163, 366400.0], [47.2976, -122.377, 162000.0], [47.3426, -122.321, 450000.0], [47.2649, -122.285, 185000.0], [47.3713, -122.091, 260000.0], [47.3457, -122.041, 356000.0], [47.3746, -122.183, 225205.0], [47.3817, -122.035, 348450.0], [47.3666, -122.119, 333000.0], [47.349, -122.036, 282000.0], [47.4941, -122.312, 209977.0], [47.2616, -122.251, 174000.0], [47.4153, -122.184, 242025.0], [47.3837, -122.307, 230000.0], [47.4645, -122.196, 350000.0], [47.3098, -122.381, 313000.0], [47.4543, -122.125, 325000.0], [47.3043, -122.343, 445000.0], [47.3251, -122.268, 184000.0], [47.5074, -122.163, 309500.0], [47.4903, -122.245, 215000.0], [47.5435, -121.888, 695000.0], [47.481, -122.292, 205000.0], [47.4779, -122.161, 360000.0], [47.3657, -122.021, 313999.0], [47.3551, -122.148, 300000.0], [47.3199, -122.1, 288000.0], [47.3352, -122.307, 227490.0], [47.4377, -122.132, 412000.0], [47.5222, -121.874, 589500.0], [47.3262, -122.342, 190000.0], [47.3054, -122.371, 225000.0], [47.5302, -122.147, 669888.0], [47.5101, -122.259, 280000.0], [47.1923, -122.014, 314950.0], [47.3491, -122.02, 209900.0], [47.4233, -122.198, 230000.0], [47.3273, -122.37, 335000.0], [47.2041, -122.021, 379500.0], [47.4149, -122.181, 269900.0], [47.3528, -122.041, 361500.0], [47.3705, -122.131, 370000.0], [47.3294, -122.331, 158000.0], [47.3574, -122.158, 261500.0], [47.3617, -122.308, 278000.0], [47.1647, -121.973, 335000.0], [47.3779, -122.045, 335000.0], [47.2887, -122.351, 252000.0], [47.4169, -122.316, 260000.0], [47.3643, -122.111, 209950.0], [47.3186, -122.331, 258500.0], [47.4116, -122.293, 230000.0], [47.3639, -122.048, 252000.0], [47.4956, -122.321, 245000.0], [47.4947, -122.233, 218000.0], [47.353, -122.272, 313100.0], [47.4106, -122.204, 345500.0], [47.4135, -122.18, 243000.0], [47.7451, -121.98, 325000.0], [47.4833, -122.237, 281000.0], [47.3817, -122.023, 340000.0], [47.4777, -122.1, 485000.0], [47.51, -122.323, 335000.0], [47.5041, -122.102, 530000.0], [47.3669, -122.288, 287000.0], [47.3079, -122.341, 320000.0], [47.5381, -121.888, 425000.0], [47.328, -122.337, 135000.0], [47.405, -122.288, 210000.0], [47.4632, -122.209, 344500.0], [47.2842, -122.198, 292000.0], [47.2485, -122.101, 450000.0], [47.4911, -122.138, 505000.0], [47.5381, -121.89, 452500.0], [47.3467, -122.304, 245000.0], [47.4973, -122.268, 363500.0], [47.4357, -122.168, 290000.0], [47.4984, -122.24, 170000.0], [47.3432, -122.316, 316000.0], [47.4906, -122.244, 207000.0], [47.4513, -122.128, 449950.0], [47.4655, -122.072, 361550.0], [47.5305, -121.841, 282500.0], [47.3279, -122.136, 229950.0], [47.3592, -122.315, 149500.0], [47.4296, -122.185, 360000.0], [47.3772, -122.127, 320000.0], [47.4118, -122.089, 320000.0], [47.369, -122.126, 268000.0], [47.53100000000001, -121.86, 610000.0], [47.5335, -121.869, 432000.0], [47.4383, -122.193, 335000.0], [47.4331, -122.195, 242500.0], [47.4815, -122.226, 235000.0], [47.44600000000001, -122.175, 291970.0], [47.3511, -122.058, 323000.0], [47.2972, -122.267, 166000.0], [47.2756, -122.27, 165000.0], [47.5094, -122.31, 229000.0], [47.3127, -122.002, 214000.0], [47.4024, -122.216, 305000.0], [47.2642, -122.187, 799950.0], [47.3546, -122.081, 339950.0], [47.4034, -122.178, 249000.0], [47.479, -122.153, 529000.0], [47.3581, -122.317, 310000.0], [47.4362, -122.165, 315000.0], [47.483, -122.164, 435000.0], [47.4804, -122.229, 240000.0], [47.4916, -122.162, 430000.0], [47.3654, -122.082, 215150.0], [47.507, -122.242, 319950.0], [47.3618, -122.074, 280000.0], [47.32, -122.278, 132500.0], [47.5015, -122.262, 245000.0], [47.5068, -122.259, 255000.0], [47.4837, -122.138, 340000.0], [47.5042, -122.329, 235000.0], [47.4989, -122.317, 209000.0], [47.46, -122.174, 335000.0], [47.4497, -122.168, 302200.0], [47.4483, -122.129, 374950.0], [47.3079, -122.393, 330000.0], [47.3461, -122.152, 326000.0], [47.4735, -122.189, 350000.0], [47.2303, -121.936, 428000.0], [47.3155, -122.365, 275000.0], [47.353, -122.294, 290000.0], [47.4658, -122.172, 317000.0], [47.4831, -122.296, 327200.0], [47.3571, -122.324, 835000.0], [47.374, -122.125, 360000.0], [47.5072, -122.257, 372000.0], [47.4594, -122.279, 275000.0], [47.3969, -122.205, 310000.0], [47.4413, -122.277, 173000.0], [47.4989, -122.329, 244500.0], [47.3063, -122.27, 206000.0], [47.2654, -122.217, 329950.0], [47.2558, -122.122, 250000.0], [47.2507, -122.039, 246000.0], [47.2729, -122.299, 269000.0], [47.2869, -122.36, 169500.0], [47.3148, -122.35, 345000.0], [47.3179, -122.33, 250000.0], [47.3837, -122.158, 455500.0], [47.4345, -122.198, 550000.0], [47.4887, -122.15, 291375.0], [47.3099, -122.206, 250000.0], [47.4913, -122.318, 248500.0], [47.3528, -122.267, 485000.0], [47.4473, -122.205, 490000.0], [47.3038, -122.362, 146000.0], [47.3296, -122.256, 500000.0], [47.4516, -122.175, 242500.0], [47.3058, -122.394, 300000.0], [47.3717, -122.297, 180000.0], [47.2984, -122.385, 245000.0], [47.3943, -122.196, 260000.0], [47.4406, -122.139, 330000.0], [47.1622, -121.971, 750000.0], [47.3126, -122.346, 330000.0], [47.3775, -122.319, 230000.0], [47.3552, -122.014, 360000.0], [47.2979, -122.379, 305000.0], [47.4439, -122.19, 309950.0], [47.5066, -122.159, 320000.0], [47.3745, -122.127, 266950.0], [47.291, -122.118, 413000.0], [47.3832, -122.3, 174950.0], [47.7242, -121.951, 201000.0], [47.3632, -122.061, 649000.0], [47.4478, -122.157, 255000.0], [47.4935, -122.321, 315000.0], [47.3443, -122.073, 338950.0], [47.4105, -122.18, 252000.0], [47.3761, -122.32, 270000.0], [47.429, -122.162, 365000.0], [47.3451, -122.094, 390000.0], [47.1959, -122.01, 305000.0], [47.4541, -122.117, 438800.0], [47.4777, -122.212, 324950.0], [47.3493, -122.034, 287200.0], [47.4817, -122.097, 381000.0], [47.4158, -122.002, 535000.0], [47.4472, -122.092, 600000.0], [47.5044, -122.245, 300000.0], [47.4751, -122.145, 360000.0], [47.1903, -122.013, 319950.0], [47.38, -122.011, 1180000.0], [47.4518, -122.12, 381000.0], [47.4033, -122.187, 256900.0], [47.3469, -122.195, 346000.0], [47.3595, -122.089, 339950.0], [47.2585, -121.925, 378000.0], [47.4821, -122.108, 430000.0], [47.4224, -122.289, 219000.0], [47.3665, -122.276, 262500.0], [47.7379, -121.966, 525000.0], [47.4633, -122.196, 417400.0], [47.3078, -122.358, 260000.0], [47.2838, -122.121, 456000.0], [47.4472, -122.16, 252500.0], [47.4758, -122.288, 220000.0], [47.738, -121.983, 420000.0], [47.4524, -122.15, 380000.0], [47.4338, -122.16, 363000.0], [47.3009, -122.375, 245000.0], [47.3657, -122.034, 419000.0], [47.3752, -122.166, 198900.0], [47.473, -122.3, 259000.0], [47.4181, -122.211, 395000.0], [47.4127, -122.071, 579000.0], [47.2578, -122.217, 265000.0], [47.2411, -121.932, 570000.0], [47.3555, -122.002, 459950.0], [47.4053, -122.03, 370000.0], [47.5056, -122.254, 150000.0], [47.4024, -122.171, 279000.0], [47.3746, -122.181, 248000.0], [47.3259, -122.289, 429000.0], [47.3833, -122.043, 293500.0], [47.4482, -122.209, 311100.0], [47.434, -122.171, 260000.0], [47.3965, -122.314, 392000.0], [47.4658, -122.191, 185000.0], [47.4383, -122.135, 384200.0], [47.1996, -122.003, 415000.0], [47.2598, -122.281, 270000.0], [47.4323, -122.292, 272450.0], [47.3431, -122.048, 162000.0], [47.4225, -122.328, 337500.0], [47.4547, -122.209, 312000.0], [47.3602, -121.988, 700000.0], [47.3587, -122.288, 241000.0], [47.4075, -122.172, 265000.0], [47.2867, -122.209, 246000.0], [47.50899999999999, -122.324, 270000.0], [47.4867, -122.223, 417000.0], [47.2099, -122.043, 220000.0], [47.5361, -121.88, 452500.0], [47.3333, -122.055, 280000.0], [47.3171, -122.316, 210000.0], [47.3976, -122.166, 252000.0], [47.3648, -122.284, 336000.0], [47.51300000000001, -122.333, 200000.0], [47.3434, -122.049, 235000.0], [47.4256, -122.322, 257500.0], [47.424, -122.201, 234300.0], [47.4862, -122.264, 190000.0], [47.3099, -122.197, 271675.0], [47.74100000000001, -121.978, 331292.0], [47.2576, -122.255, 227000.0], [47.50899999999999, -122.313, 285000.0], [47.5038, -122.3, 260000.0], [47.2808, -122.354, 185000.0], [47.3126, -122.364, 235000.0], [47.4235, -122.155, 230000.0], [47.3682, -122.179, 240000.0], [47.2802, -122.303, 276000.0], [47.45, -122.175, 249000.0], [47.5399, -122.188, 675000.0], [47.39, -122.158, 294000.0], [47.5294, -122.137, 1040000.0], [47.4289, -122.094, 716500.0], [47.4915, -122.106, 480000.0], [47.3691, -122.163, 536000.0], [47.3642, -122.052, 324900.0], [47.3889, -122.316, 292500.0], [47.3625, -122.025, 320000.0], [47.5399, -122.16, 804100.0], [47.4874, -122.202, 230000.0], [47.5193, -122.15, 935000.0], [47.1795, -122.036, 790000.0], [47.3939, -122.089, 450000.0], [47.4817, -122.28, 295500.0], [47.2704, -122.313, 200000.0], [47.7384, -121.878, 620000.0], [47.4899, -122.166, 289950.0], [47.3666, -122.318, 207000.0], [47.7694, -121.903, 400000.0], [47.3078, -122.365, 172380.0], [47.2584, -122.093, 355000.0], [47.5094, -122.165, 515000.0], [47.2079, -121.993, 215000.0], [47.31399999999999, -122.364, 220000.0], [47.3799, -122.325, 500000.0], [47.3652, -122.09, 229999.0], [47.4374, -122.285, 233000.0], [47.5382, -121.877, 600000.0], [47.3876, -122.211, 249900.0], [47.5064, -122.141, 310000.0], [47.3706, -122.056, 415000.0], [47.4915, -122.151, 252000.0], [47.3179, -122.331, 217500.0], [47.3715, -122.127, 290000.0], [47.4619, -122.168, 280000.0], [47.4569, -122.118, 479950.0], [47.3655, -122.028, 394000.0], [47.4766, -122.326, 279000.0], [47.3075, -122.359, 304400.0], [47.4333, -122.194, 274000.0], [47.4418, -122.136, 315000.0], [47.3932, -122.12, 390000.0], [47.4713, -122.117, 260000.0], [47.3352, -122.344, 230000.0], [47.472, -122.119, 364000.0], [47.3063, -122.219, 150000.0], [47.4524, -122.284, 349950.0], [47.3734, -122.124, 382000.0], [47.2527, -121.98, 495000.0], [47.7216, -121.907, 375000.0], [47.3817, -122.204, 310000.0], [47.2878, -122.297, 210000.0], [47.5164, -121.877, 384205.0], [47.4866, -122.219, 310000.0], [47.3655, -122.018, 339950.0], [47.3581, -122.288, 240000.0], [47.3804, -122.163, 599950.0], [47.4611, -122.324, 445000.0], [47.2079, -121.967, 390500.0], [47.3697, -122.075, 255000.0], [47.3512, -122.006, 353500.0], [47.5341, -121.866, 563500.0], [47.5415, -121.884, 469900.0], [47.3155, -122.266, 300000.0], [47.2942, -122.19, 267500.0], [47.2633, -122.245, 201000.0], [47.5216, -121.878, 479500.0], [47.3187, -122.182, 210000.0], [47.367, -122.115, 360000.0], [47.4785, -122.095, 575000.0], [47.2838, -122.006, 369000.0], [47.4495, -122.17, 300000.0], [47.3657, -122.113, 280000.0], [47.2957, -122.357, 295000.0], [47.3499, -122.027, 445000.0], [47.5519, -121.803, 550000.0], [47.4326, -122.208, 555000.0], [47.4211, -122.29, 246500.0], [47.3025, -122.39, 300000.0], [47.3109, -122.339, 240000.0], [47.209, -122.005, 249000.0], [47.3703, -122.107, 333000.0], [47.1936, -121.981, 230000.0], [47.3745, -122.276, 265000.0], [47.2782, -122.212, 247200.0], [47.1955, -121.999, 180000.0], [47.32899999999999, -122.219, 220000.0], [47.3775, -122.022, 339995.0], [47.4327, -122.283, 440000.0], [47.3076, -122.377, 231500.0], [47.4861, -122.251, 265000.0], [47.4813, -122.129, 584950.0], [47.2837, -122.358, 252000.0], [47.1943, -121.991, 270000.0], [47.2924, -122.357, 325000.0], [47.3703, -122.171, 272000.0], [47.2498, -122.003, 599950.0], [47.4062, -122.174, 230000.0], [47.3277, -122.341, 199950.0], [47.3161, -122.27, 372000.0], [47.313, -122.388, 263850.0], [47.405, -122.331, 1350000.0], [47.46100000000001, -122.148, 325000.0], [47.3343, -122.044, 531500.0], [47.4294, -122.292, 375000.0], [47.4138, -122.317, 293550.0], [47.3492, -122.025, 225000.0], [47.3825, -122.31, 302500.0], [47.36, -122.164, 218500.0], [47.3607, -122.085, 191000.0], [47.5102, -122.324, 350000.0], [47.363, -122.094, 220000.0], [47.3792, -122.198, 228000.0], [47.3666, -122.019, 300000.0], [47.508, -122.244, 415000.0], [47.5327, -121.871, 384000.0], [47.3658, -122.176, 325000.0], [47.3804, -122.318, 168000.0], [47.3185, -122.29, 215000.0], [47.3683, -122.109, 273500.0], [47.4887, -122.145, 257000.0], [47.4763, -122.177, 199000.0], [47.3284, -122.171, 339100.0], [47.4341, -122.16, 435000.0], [47.51300000000001, -121.857, 356000.0], [47.3066, -122.378, 280000.0], [47.4883, -122.221, 285000.0], [47.3826, -122.027, 320000.0], [47.3859, -122.221, 300000.0], [47.3486, -122.301, 345000.0], [47.4658, -122.115, 838000.0], [47.35, -122.162, 390000.0], [47.3604, -122.179, 295000.0], [47.3722, -122.044, 380000.0], [47.3266, -122.291, 199900.0], [47.3681, -122.31, 375000.0], [47.3506, -122.039, 365000.0], [47.3643, -122.081, 225500.0], [47.4651, -122.192, 318000.0], [47.3221, -122.282, 207000.0], [47.4199, -122.157, 284000.0], [47.3453, -122.151, 306000.0], [47.7359, -121.984, 499950.0], [47.3511, -122.287, 367950.0], [47.5323, -121.856, 467000.0], [47.4005, -122.293, 243500.0], [47.3895, -122.033, 574000.0], [47.4544, -122.204, 400000.0], [47.4989, -122.265, 265000.0], [47.5424, -121.872, 925000.0], [47.3308, -122.365, 230000.0], [47.5398, -121.859, 700000.0], [47.3737, -122.224, 270000.0], [47.4672, -122.185, 197000.0], [47.3489, -122.306, 235500.0], [47.4915, -122.143, 302000.0], [47.3463, -122.304, 240000.0], [47.4912, -122.312, 246000.0], [47.4279, -122.161, 339950.0], [47.5322, -121.871, 425000.0], [47.294, -122.218, 269950.0], [47.4342, -122.195, 360000.0], [47.4854, -122.16, 350000.0], [47.2741, -122.266, 262500.0], [47.4238, -122.052, 280000.0], [47.3221, -122.344, 306500.0], [47.1944, -121.974, 277500.0], [47.3776, -122.314, 212000.0], [47.5321, -121.851, 420000.0], [47.3604, -122.111, 235000.0], [47.4941, -122.24, 200000.0], [47.4499, -122.189, 190000.0], [47.3336, -122.215, 160000.0], [47.459, -122.118, 590000.0], [47.3215, -122.399, 279900.0], [47.38800000000001, -122.234, 129000.0], [47.3621, -122.094, 214950.0], [47.4432, -122.282, 230000.0], [47.459, -122.205, 295000.0], [47.3459, -122.299, 170000.0], [47.4068, -122.18, 315000.0], [47.5362, -121.877, 449950.0], [47.3462, -122.286, 289000.0], [47.2156, -122.029, 327000.0], [47.3613, -122.088, 202950.0], [47.3742, -122.149, 240000.0], [47.3302, -122.36, 169000.0], [47.3921, -122.182, 292000.0], [47.5312, -121.861, 563500.0], [47.4931, -122.305, 201000.0], [47.3342, -122.169, 357500.0], [47.3195, -122.273, 300000.0], [47.3843, -122.213, 374950.0], [47.4356, -122.29, 221000.0], [47.4707, -122.26, 294000.0], [47.194, -121.981, 280000.0], [47.3994, -122.204, 260000.0], [47.3321, -122.373, 294000.0], [47.2716, -122.144, 255500.0], [47.3882, -122.208, 152000.0], [47.449, -122.29, 165000.0], [47.4395, -122.111, 600000.0], [47.4496, -122.146, 442500.0], [47.5028, -122.243, 229950.0], [47.3654, -122.076, 274950.0], [47.2005, -121.999, 219950.0], [47.4972, -122.224, 229950.0], [47.4499, -122.127, 412950.0], [47.3062, -122.15, 657500.0], [47.4324, -122.171, 300000.0], [47.342, -122.195, 260000.0], [47.3767, -122.287, 225000.0], [47.5037, -122.24, 452100.0], [47.3948, -122.325, 538250.0], [47.3251, -122.354, 212000.0], [47.3736, -122.13, 279000.0], [47.3941, -122.307, 368000.0], [47.3627, -122.091, 228950.0], [47.3703, -122.159, 568450.0], [47.2844, -122.205, 275000.0], [47.3148, -122.27, 321500.0], [47.2866, -122.221, 179500.0], [47.4006, -122.162, 286000.0], [47.3793, -122.304, 205000.0], [47.4343, -122.192, 299000.0], [47.3338, -122.306, 199950.0], [47.3319, -122.267, 245000.0], [47.3229, -122.283, 199000.0], [47.3659, -122.17, 280000.0], [47.1955, -121.991, 273000.0], [47.4804, -122.126, 549000.0], [47.319, -122.373, 289950.0], [47.3965, -122.173, 234000.0], [47.4586, -122.283, 360000.0], [47.3991, -121.964, 267500.0], [47.4949, -122.327, 290000.0], [47.3341, -122.279, 175000.0], [47.3631, -122.271, 374000.0], [47.3857, -122.215, 140000.0], [47.4265, -122.148, 275000.0], [47.5054, -122.301, 235000.0], [47.2039, -122.003, 185000.0], [47.2923, -122.19, 196000.0], [47.4463, -122.127, 347000.0], [47.3348, -122.303, 229000.0], [47.4066, -122.169, 365000.0], [47.5123, -122.151, 475000.0], [47.3719, -122.056, 428000.0], [47.745, -121.984, 352000.0], [47.3277, -122.343, 105000.0], [47.3839, -122.153, 396500.0], [47.5305, -122.135, 1500000.0], [47.4934, -122.332, 300000.0], [47.4085, -122.195, 272000.0], [47.5003, -122.156, 355000.0], [47.5003, -122.269, 223000.0], [47.369, -122.032, 397000.0], [47.3414, -122.218, 250000.0], [47.4032, -122.023, 567500.0], [47.345, -122.042, 337000.0], [47.4526, -122.176, 280000.0], [47.3344, -122.215, 167000.0], [47.317, -122.378, 340000.0], [47.4004, -122.203, 353500.0], [47.4625, -122.069, 329950.0], [47.367, -122.107, 168500.0], [47.5347, -121.866, 490000.0], [47.317, -122.196, 234000.0], [47.4135, -122.199, 319000.0], [47.2628, -122.03, 314000.0], [47.4807, -122.157, 319500.0], [47.4047, -122.331, 325000.0], [47.275, -122.302, 230000.0], [47.4857, -122.2, 262000.0], [47.3068, -122.088, 510000.0], [47.3746, -122.217, 291000.0], [47.5232, -121.821, 335000.0], [47.3004, -122.383, 270000.0], [47.515, -122.162, 425000.0], [47.7341, -121.981, 396000.0], [47.3774, -122.225, 302000.0], [47.7436, -121.979, 265800.0], [47.5396, -121.889, 489000.0], [47.4702, -122.261, 305000.0], [47.3586, -122.056, 245000.0], [47.3521, -122.302, 290000.0], [47.3141, -122.355, 115000.0], [47.5057, -122.231, 361000.0], [47.3584, -122.086, 276750.0], [47.26300000000001, -122.242, 234000.0], [47.3412, -122.273, 234950.0], [47.3634, -122.052, 269950.0], [47.7355, -121.982, 260000.0], [47.3533, -122.016, 410000.0], [47.3334, -122.322, 200126.0], [47.3488, -122.033, 290700.0], [47.4174, -122.316, 248000.0], [47.297, -122.225, 159995.0], [47.3609, -122.028, 185000.0], [47.4324, -122.185, 346000.0], [47.5048, -122.251, 260000.0], [47.3757, -122.303, 275000.0], [47.2217, -122.063, 349990.0], [47.3207, -122.293, 645000.0], [47.4379, -122.011, 415000.0], [47.4543, -122.21, 325000.0], [47.3252, -122.167, 299999.0], [47.2932, -122.22, 255000.0], [47.2642, -122.258, 171500.0], [47.3267, -122.166, 320000.0], [47.475, -122.093, 499950.0], [47.2586, -122.221, 359800.0], [47.3674, -122.182, 239900.0], [47.4514, -122.089, 380000.0], [47.3427, -122.274, 234500.0], [47.3651, -122.094, 230000.0], [47.5299, -121.878, 345000.0], [47.3634, -122.101, 105000.0], [47.3084, -122.372, 294000.0], [47.3863, -122.156, 400000.0], [47.4176, -122.323, 325000.0], [47.3363, -122.311, 156000.0], [47.3788, -122.316, 325250.0], [47.2895, -122.37, 260000.0], [47.3674, -122.07, 365000.0], [47.4513, -122.119, 330000.0], [47.3829, -122.207, 322000.0], [47.3862, -122.28, 380000.0], [47.205, -121.995, 195000.0], [47.4501, -122.176, 255000.0], [47.5045, -122.251, 335750.0], [47.3864, -122.307, 95000.0], [47.3448, -122.327, 525000.0], [47.4812, -122.097, 314950.0], [47.3728, -122.157, 234950.0], [47.5286, -122.16, 706000.0], [47.3878, -122.326, 485000.0], [47.3634, -122.031, 242050.0], [47.3503, -122.279, 246000.0], [47.3299, -122.318, 194000.0], [47.5104, -122.254, 406000.0], [47.3666, -122.288, 309000.0], [47.5308, -121.853, 419000.0], [47.4551, -122.151, 333000.0], [47.3071, -122.36, 310000.0], [47.4933, -122.275, 229000.0], [47.3428, -122.303, 267000.0], [47.4447, -122.137, 335000.0], [47.3504, -122.005, 335000.0], [47.4325, -122.197, 183750.0], [47.4872, -122.204, 290000.0], [47.3538, -121.986, 760000.0], [47.4743, -122.143, 320000.0], [47.3695, -122.081, 177000.0], [47.3191, -122.339, 275000.0], [47.3102, -122.042, 460000.0], [47.5259, -121.815, 265000.0], [47.499, -122.301, 168500.0], [47.3353, -122.27, 220000.0], [47.5072, -122.272, 295000.0], [47.4899, -122.133, 285000.0], [47.3649, -122.117, 230000.0], [47.333, -122.098, 569950.0], [47.7378, -121.975, 565000.0], [47.5061, -122.324, 369900.0], [47.4943, -122.157, 405000.0], [47.423, -122.171, 282000.0], [47.4398, -122.08, 405000.0], [47.3902, -122.049, 295000.0], [47.2639, -122.303, 242000.0], [47.4695, -122.116, 352500.0], [47.4952, -122.224, 239950.0], [47.427, -122.331, 289000.0], [47.5327, -121.86, 730000.0], [47.3509, -122.041, 350000.0], [47.2839, -122.202, 270000.0], [47.2995, -122.387, 236000.0], [47.3423, -122.063, 299000.0], [47.5729, -121.676, 295000.0], [47.4932, -122.316, 110000.0], [47.3623, -121.971, 712000.0], [47.3895, -122.034, 355000.0], [47.4013, -122.319, 446000.0], [47.2848, -122.118, 490000.0], [47.2596, -122.304, 312200.0], [47.3067, -122.285, 229950.0], [47.2866, -122.368, 160000.0], [47.495, -122.154, 255000.0], [47.4239, -122.292, 239000.0], [47.4043, -122.185, 285000.0], [47.2862, -122.352, 213675.0], [47.4997, -122.317, 110000.0], [47.3302, -122.305, 179000.0], [47.3321, -122.172, 299000.0], [47.3966, -122.308, 343000.0], [47.3258, -122.186, 273950.0], [47.2137, -121.989, 255000.0], [47.209, -122.012, 250000.0], [47.3263, -122.365, 240000.0], [47.3837, -122.317, 245000.0], [47.375, -122.304, 270000.0], [47.3444, -122.271, 290000.0], [47.3879, -122.031, 330000.0], [47.4497, -122.176, 189000.0], [47.2639, -122.285, 250000.0], [47.462, -122.193, 260000.0], [47.4931, -122.247, 219900.0], [47.3438, -122.04, 373500.0], [47.3756, -122.044, 379950.0], [47.3747, -122.128, 295000.0], [47.2613, -122.248, 215500.0], [47.43600000000001, -122.195, 375000.0], [47.3301, -122.191, 305950.0], [47.1956, -121.986, 220000.0], [47.2592, -122.291, 289000.0], [47.3346, -122.354, 345000.0], [47.3879, -122.002, 700000.0], [47.4434, -122.125, 327000.0], [47.2982, -122.378, 235000.0], [47.3691, -122.074, 240000.0], [47.4231, -122.186, 394500.0], [47.3636, -122.093, 174950.0], [47.4826, -122.128, 383000.0], [47.4873, -122.099, 249950.0], [47.3375, -122.276, 234950.0], [47.4248, -122.153, 419000.0], [47.4423, -122.178, 392000.0], [47.5091, -122.241, 416100.0], [47.3417, -122.277, 285000.0], [47.4504, -122.206, 297950.0], [47.3628, -122.089, 205000.0], [47.2215, -122.067, 530000.0], [47.5072, -122.112, 725000.0], [47.2159, -121.966, 251000.0], [47.3937, -122.183, 300000.0], [47.2874, -122.187, 263950.0], [47.4493, -122.274, 234999.0], [47.4583, -122.118, 380000.0], [47.7327, -121.982, 329500.0], [47.3697, -122.106, 367000.0], [47.2758, -122.265, 335000.0], [47.3815, -122.228, 245000.0], [47.1958, -122.002, 187000.0], [47.3783, -122.182, 280000.0], [47.7659, -121.899, 265000.0], [47.4269, -122.148, 365000.0], [47.4648, -122.15, 405000.0], [47.4196, -122.165, 295000.0], [47.5173, -121.878, 382000.0], [47.2668, -122.231, 220000.0], [47.3535, -122.273, 367300.0], [47.3167, -122.187, 308000.0], [47.4386, -122.116, 385000.0], [47.3602, -122.052, 240000.0], [47.3106, -122.365, 217000.0], [47.3275, -122.338, 169950.0], [47.2641, -122.215, 480000.0], [47.4388, -122.117, 368750.0], [47.4648, -122.144, 316500.0], [47.5388, -121.89, 536000.0], [47.3467, -122.307, 267950.0], [47.3754, -122.277, 269950.0], [47.4425, -122.272, 240000.0], [47.319, -122.26, 535000.0], [47.3663, -122.285, 270000.0], [47.3792, -122.282, 265000.0], [47.3114, -122.395, 266000.0], [47.3074, -122.341, 310000.0], [47.3781, -122.284, 250000.0], [47.2837, -122.207, 270000.0], [47.2622, -122.303, 299500.0], [47.3733, -122.275, 227000.0], [47.473, -122.324, 229000.0], [47.5045, -122.27, 200000.0], [47.442, -122.105, 200000.0], [47.3771, -122.315, 267000.0], [47.3845, -122.152, 402000.0], [47.3736, -122.215, 274000.0], [47.3412, -122.051, 475000.0], [47.3862, -122.048, 429900.0], [47.4294, -122.331, 260000.0], [47.2721, -122.293, 360000.0], [47.4806, -122.223, 159000.0], [47.5112, -122.316, 150000.0], [47.3696, -122.058, 499000.0], [47.3908, -122.316, 340000.0], [47.4786, -122.131, 430000.0], [47.4204, -122.201, 358800.0], [47.3098, -122.223, 288000.0], [47.2857, -122.197, 209950.0], [47.2998, -122.387, 283748.0], [47.3493, -122.062, 399950.0], [47.4332, -122.144, 360000.0], [47.3371, -122.256, 321000.0], [47.3702, -122.182, 245000.0], [47.2946, -122.37, 257000.0], [47.4877, -122.143, 500000.0], [47.4945, -122.249, 194000.0], [47.5389, -121.89, 490000.0], [47.3056, -122.206, 235000.0], [47.5348, -121.856, 1210000.0], [47.284, -122.202, 268000.0], [47.2774, -122.299, 299000.0], [47.4338, -122.168, 345000.0], [47.3982, -122.171, 351000.0], [47.3831, -122.185, 340000.0], [47.5273, -122.143, 725126.0], [47.494, -122.275, 135000.0], [47.2668, -122.252, 230000.0], [47.4837, -122.11, 390000.0], [47.364, -122.162, 239000.0], [47.4512, -122.131, 345000.0], [47.3558, -122.173, 289000.0], [47.3668, -122.312, 285000.0], [47.4911, -122.224, 520000.0], [47.5336, -121.76, 352500.0], [47.3832, -122.057, 448000.0], [47.3662, -122.282, 270000.0], [47.4962, -122.32, 225000.0], [47.3731, -122.286, 279950.0], [47.4902, -122.256, 225000.0], [47.3839, -122.038, 230000.0], [47.5202, -121.885, 616200.0], [47.4237, -122.162, 370000.0], [47.4312, -122.195, 225000.0], [47.3449, -122.151, 335000.0], [47.5198, -122.157, 972800.0], [47.4955, -122.16, 490000.0], [47.4963, -122.249, 157500.0], [47.3155, -122.365, 244000.0], [47.399, -122.011, 426500.0], [47.3196, -122.272, 289950.0], [47.2601, -122.286, 250000.0], [47.3284, -122.331, 155000.0], [47.3618, -122.033, 336600.0], [47.3377, -122.291, 175000.0], [47.5099, -122.26, 475000.0], [47.499, -122.157, 390000.0], [47.7306, -121.973, 645000.0], [47.3549, -122.111, 450000.0], [47.3191, -122.191, 283500.0], [47.4449, -122.274, 370000.0], [47.4139, -122.208, 265000.0], [47.2163, -121.984, 192500.0], [47.2827, -122.302, 250000.0], [47.2604, -122.139, 900000.0], [47.3182, -122.279, 360000.0], [47.7334, -121.97, 518000.0], [47.4097, -122.193, 237000.0], [47.5378, -121.742, 399950.0], [47.4079, -122.186, 295000.0], [47.5065, -122.249, 329000.0], [47.3257, -122.17, 339999.0], [47.3653, -122.09, 250000.0], [47.4739, -122.28, 78000.0], [47.4431, -122.138, 330490.0], [47.3777, -122.023, 335000.0], [47.4468, -122.282, 314000.0], [47.4688, -122.124, 535000.0], [47.4364, -122.28, 275000.0], [47.4475, -122.159, 358000.0], [47.4944, -122.304, 297975.0], [47.4801, -122.092, 492000.0], [47.4559, -122.183, 190000.0], [47.3148, -122.349, 340000.0], [47.3896, -122.218, 275000.0], [47.4971, -122.279, 147000.0], [47.349, -122.167, 334000.0], [47.3343, -122.16, 365000.0], [47.474, -122.125, 345000.0], [47.3815, -122.09, 255000.0], [47.3926, -122.166, 295000.0], [47.3423, -122.183, 550000.0], [47.495, -122.227, 225000.0], [47.3648, -122.325, 520000.0], [47.4257, -122.03, 649500.0], [47.5245, -121.822, 235000.0], [47.3197, -122.343, 307000.0], [47.3087, -122.206, 223000.0], [47.3815, -122.146, 425000.0], [47.3576, -122.039, 190000.0], [47.3131, -122.383, 275000.0], [47.4585, -122.205, 290000.0], [47.3547, -122.285, 389000.0], [47.5112, -122.329, 350000.0], [47.3333, -122.074, 476000.0], [47.324, -122.328, 287000.0], [47.3714, -122.054, 319000.0], [47.2933, -122.372, 195000.0], [47.4872, -122.223, 344500.0], [47.3531, -122.147, 330000.0], [47.5114, -122.245, 840500.0], [47.3596, -121.922, 424900.0], [47.2069, -121.989, 325000.0], [47.32, -122.178, 281000.0], [47.2899, -122.372, 246000.0], [47.3083, -122.36, 273000.0], [47.73, -121.969, 398000.0], [47.4822, -122.318, 200000.0], [47.3082, -122.372, 305000.0], [47.2088, -121.992, 175000.0], [47.3483, -122.053, 248000.0], [47.3865, -122.027, 279000.0], [47.3804, -122.027, 361500.0], [47.4403, -122.126, 319000.0], [47.4779, -122.145, 320000.0], [47.3762, -122.126, 381500.0], [47.3527, -121.999, 278226.0], [47.3086, -122.384, 305000.0], [47.4263, -122.331, 195000.0], [47.5002, -122.246, 299980.0], [47.3536, -122.142, 290000.0], [47.486, -122.264, 254500.0], [47.2777, -122.252, 100000.0], [47.2899, -122.219, 208000.0], [47.3255, -122.192, 405000.0], [47.4597, -122.153, 568000.0], [47.4942, -122.322, 235000.0], [47.4908, -122.223, 335000.0], [47.32899999999999, -122.33, 225900.0], [47.4208, -122.2, 215000.0], [47.38399999999999, -122.149, 330000.0], [47.3231, -122.219, 195500.0], [47.4367, -122.199, 338000.0], [47.4189, -122.168, 257000.0], [47.3341, -122.188, 335000.0], [47.4238, -122.098, 680000.0], [47.4429, -122.282, 320000.0], [47.3702, -122.318, 250000.0], [47.3659, -122.029, 349950.0], [47.4398, -122.151, 395000.0], [47.387, -122.281, 273500.0], [47.42, -122.319, 260000.0], [47.3862, -122.315, 266750.0], [47.49800000000001, -122.321, 365000.0], [47.4122, -122.267, 242000.0], [47.4292, -122.328, 415000.0], [47.3794, -122.32, 265000.0], [47.40600000000001, -122.318, 262000.0], [47.35, -122.037, 295000.0], [47.4088, -122.055, 503000.0], [47.5, -122.317, 135000.0], [47.433, -122.292, 259000.0], [47.306, -122.379, 210000.0], [47.4362, -122.109, 459000.0], [47.3913, -122.121, 375000.0], [47.4666, -122.326, 339950.0], [47.4091, -122.331, 348000.0], [47.3762, -122.219, 175000.0], [47.3392, -122.131, 320000.0], [47.3798, -122.306, 237000.0], [47.3895, -121.986, 560000.0], [47.3822, -122.316, 309950.0], [47.383, -122.305, 330000.0], [47.2647, -122.221, 294000.0], [47.4087, -122.17, 320900.0], [47.5002, -122.15, 369950.0], [47.3535, -122.19, 565000.0], [47.7243, -121.957, 436000.0], [47.3801, -122.185, 398000.0], [47.3478, -122.298, 250000.0], [47.35, -122.139, 330000.0], [47.1593, -121.957, 687000.0], [47.3065, -122.358, 275000.0], [47.3563, -122.149, 140000.0], [47.4552, -122.202, 275000.0], [47.4586, -122.175, 312000.0], [47.7158, -121.966, 640000.0], [47.403, -122.175, 329950.0], [47.2725, -122.3, 220000.0], [47.4953, -122.238, 249950.0], [47.2984, -122.144, 506000.0], [47.4363, -122.286, 237000.0], [47.4702, -122.281, 235000.0], [47.3533, -122.023, 334950.0], [47.3848, -122.1, 253000.0], [47.4551, -122.175, 267000.0], [47.3799, -122.184, 368000.0], [47.3215, -122.369, 252000.0], [47.2894, -122.188, 247200.0], [47.3056, -122.368, 160000.0], [47.7267, -121.966, 400000.0], [47.4136, -122.333, 475000.0], [47.3655, -122.017, 355900.0], [47.4238, -122.332, 185000.0], [47.3694, -122.065, 585000.0], [47.3658, -122.019, 355000.0], [47.3201, -122.398, 128000.0], [47.4772, -122.144, 265000.0], [47.3801, -122.166, 305000.0], [47.3076, -122.397, 450000.0], [47.2704, -122.013, 418200.0], [47.4328, -122.196, 250000.0], [47.5116, -122.144, 500000.0], [47.3714, -122.059, 465000.0], [47.4442, -122.081, 322000.0], [47.3617, -122.054, 276900.0], [47.4665, -122.122, 480000.0], [47.3352, -122.297, 205000.0], [47.2959, -122.377, 150000.0], [47.4727, -122.2, 295000.0], [47.3846, -122.226, 253750.0], [47.7344, -121.965, 366000.0], [47.2944, -122.371, 300000.0], [47.3422, -122.053, 234950.0], [47.412, -122.195, 260000.0], [47.4419, -122.133, 356000.0], [47.3918, -122.185, 315000.0], [47.4939, -122.3, 182200.0], [47.5381, -121.872, 480000.0], [47.3984, -122.055, 525000.0], [47.3067, -122.116, 443000.0], [47.5372, -121.744, 275000.0], [47.3072, -122.221, 265000.0], [47.4179, -122.181, 259500.0], [47.3833, -122.037, 359950.0], [47.4068, -122.175, 320000.0], [47.4644, -122.151, 400000.0], [47.3369, -122.275, 162500.0], [47.4627, -122.168, 342000.0], [47.3837, -122.099, 315000.0], [47.3165, -122.386, 277500.0], [47.3701, -122.041, 392000.0], [47.7394, -121.965, 545000.0], [47.343, -122.316, 335000.0], [47.725, -121.967, 322000.0], [47.3046, -122.222, 292000.0], [47.4206, -122.316, 172500.0], [47.371, -122.055, 435000.0], [47.5121, -122.248, 700000.0], [47.4898, -122.127, 655000.0], [47.2978, -122.376, 499950.0], [47.4252, -122.163, 330000.0], [47.43899999999999, -122.152, 440000.0], [47.3787, -122.169, 255000.0], [47.2845, -122.267, 205000.0], [47.3205, -122.33, 183000.0], [47.2032, -121.964, 312000.0], [47.3157, -122.251, 409000.0], [47.3673, -122.017, 280000.0], [47.3245, -122.38, 570000.0], [47.43899999999999, -122.135, 362000.0], [47.2629, -122.275, 172500.0], [47.4991, -122.164, 282500.0], [47.3677, -122.091, 265000.0], [47.25899999999999, -122.215, 300499.0], [47.5324, -121.763, 310000.0], [47.3241, -122.275, 245000.0], [47.7372, -121.981, 299950.0], [47.3561, -122.056, 379950.0], [47.492, -122.225, 415000.0], [47.45, -122.121, 427500.0], [47.3768, -122.17, 275000.0], [47.3073, -122.395, 299250.0], [47.488, -122.221, 285000.0], [47.2416, -121.979, 470000.0], [47.5086, -122.252, 345000.0], [47.3431, -122.305, 279000.0], [47.3713, -122.186, 200500.0], [47.3318, -122.281, 276000.0], [47.4337, -122.329, 235000.0], [47.2932, -122.267, 264500.0], [47.3538, -122.301, 240000.0], [47.432, -122.276, 294950.0], [47.50899999999999, -122.157, 478000.0], [47.3441, -122.04, 350000.0], [47.3563, -122.039, 279950.0], [47.4315, -122.169, 325000.0], [47.4474, -122.144, 475000.0], [47.2861, -122.252, 154000.0], [47.3519, -122.173, 376950.0], [47.476000000000006, -122.151, 230000.0], [47.307, -122.372, 185000.0], [47.4698, -122.264, 274950.0], [47.4492, -122.2, 129000.0], [47.4778, -122.146, 436000.0], [47.2873, -122.251, 225000.0], [47.2886, -122.218, 265000.0], [47.2133, -122.007, 415000.0], [47.4896, -122.14, 465950.0], [47.3413, -122.29, 215000.0], [47.4797, -122.126, 540000.0], [47.4619, -122.153, 252500.0], [47.4909, -122.157, 300000.0], [47.4824, -122.152, 301950.0], [47.3179, -122.257, 455000.0], [47.3753, -122.155, 470000.0], [47.3205, -122.178, 264000.0], [47.385, -122.169, 389950.0], [47.4038, -122.036, 390000.0], [47.2623, -122.305, 300000.0], [47.5091, -122.262, 399000.0], [47.3634, -122.09, 247500.0], [47.2846, -122.192, 270000.0], [47.2911, -122.353, 278000.0], [47.4889, -122.317, 280000.0], [47.3503, -122.291, 340000.0], [47.4405, -122.134, 329950.0], [47.465, -122.123, 500000.0], [47.3601, -122.035, 385000.0], [47.4608, -122.065, 293000.0], [47.4893, -122.229, 325000.0], [47.3139, -122.212, 180000.0], [47.3427, -122.325, 549000.0], [47.3746, -122.026, 450000.0], [47.479, -122.132, 305000.0], [47.3098, -122.209, 250000.0], [47.508, -122.113, 860000.0], [47.4976, -122.225, 180000.0], [47.2089, -122.011, 329990.0], [47.3192, -122.385, 240000.0], [47.33, -122.22, 367500.0], [47.4445, -122.123, 323000.0], [47.3678, -122.124, 270000.0], [47.4922, -122.141, 560000.0], [47.2738, -122.3, 229900.0], [47.5342, -121.866, 535000.0], [47.5302, -121.849, 555000.0], [47.3675, -122.095, 239950.0], [47.2622, -122.212, 329000.0], [47.2891, -122.221, 205000.0], [47.4435, -122.274, 314000.0], [47.4916, -122.224, 329950.0], [47.5244, -121.842, 532500.0], [47.2917, -122.373, 250500.0], [47.3102, -122.023, 257000.0], [47.5013, -122.244, 218000.0], [47.734, -121.965, 480000.0], [47.4188, -121.949, 700000.0], [47.2622, -122.219, 264500.0], [47.4808, -122.315, 81000.0], [47.5034, -122.245, 326000.0], [47.3756, -122.297, 185000.0], [47.2986, -122.372, 287500.0], [47.3528, -122.146, 260000.0], [47.2895, -122.352, 275000.0], [47.3834, -122.168, 300000.0], [47.5078, -122.236, 439000.0], [47.4939, -122.256, 277554.0], [47.4727, -122.297, 215000.0], [47.323, -122.216, 202500.0], [47.5427, -121.887, 710000.0], [47.4956, -122.151, 535000.0], [47.4558, -122.177, 260000.0], [47.3542, -122.055, 254000.0], [47.475, -122.258, 165000.0], [47.4886, -122.246, 216500.0], [47.3551, -122.054, 387990.0], [47.32100000000001, -122.185, 323400.0], [47.36600000000001, -122.017, 300000.0], [47.3944, -122.187, 255000.0], [47.3444, -122.304, 215000.0], [47.2587, -122.253, 212000.0], [47.3122, -122.369, 265000.0], [47.3877, -122.171, 311500.0], [47.5001, -122.242, 225000.0], [47.3689, -122.057, 454450.0], [47.4969, -122.3, 185000.0], [47.3793, -122.146, 160000.0], [47.2608, -122.209, 270000.0], [47.2027, -122.0, 264950.0], [47.5024, -122.333, 209950.0], [47.3202, -122.395, 289950.0], [47.4812, -122.123, 565000.0], [47.2762, -122.148, 260000.0], [47.7586, -121.911, 585000.0], [47.4605, -122.206, 295500.0], [47.3541, -122.015, 321000.0], [47.3299, -122.269, 280000.0], [47.3842, -122.042, 288000.0], [47.3219, -122.341, 248500.0], [47.4486, -122.288, 330000.0], [47.3274, -122.346, 198500.0], [47.3191, -122.177, 280000.0], [47.31100000000001, -122.003, 267000.0], [47.3207, -122.275, 274950.0], [47.4787, -122.302, 180000.0], [47.3208, -122.337, 261350.0], [47.4525, -122.149, 390000.0], [47.3256, -122.298, 253500.0], [47.481, -122.163, 255000.0], [47.3363, -122.213, 257000.0], [47.5121, -122.248, 869000.0], [47.3839, -122.038, 175000.0], [47.3881, -122.234, 100000.0], [47.3303, -122.269, 280000.0], [47.3019, -122.341, 486000.0], [47.5265, -121.835, 670000.0], [47.5211, -122.151, 1190000.0], [47.2881, -122.22, 201000.0], [47.3385, -122.256, 295000.0], [47.3015, -122.216, 190000.0], [47.3253, -122.298, 207000.0], [47.5414, -121.864, 650000.0], [47.3736, -122.188, 139000.0], [47.3196, -122.351, 230000.0], [47.2631, -122.212, 332100.0], [47.4862, -122.33, 175000.0], [47.3006, -122.223, 189000.0], [47.3099, -122.384, 302300.0], [47.4222, -122.331, 245000.0], [47.2878, -122.358, 206000.0], [47.426, -122.285, 706000.0], [47.3666, -122.128, 341950.0], [47.4671, -122.212, 225000.0], [47.536, -121.858, 760000.0], [47.5354, -121.869, 595000.0], [47.381, -122.033, 424950.0], [47.732, -121.982, 548000.0], [47.3507, -122.007, 399950.0], [47.4007, -122.198, 269900.0], [47.4951, -122.248, 227000.0], [47.4579, -122.068, 765000.0], [47.3769, -122.237, 202000.0], [47.4164, -121.951, 470000.0], [47.4585, -122.283, 175000.0], [47.3693, -122.169, 200000.0], [47.4031, -122.172, 305500.0], [47.29600000000001, -122.219, 340000.0], [47.362, -122.309, 269000.0], [47.4386, -122.127, 414000.0], [47.5002, -122.247, 253000.0], [47.4217, -122.197, 157500.0], [47.4249, -122.178, 249500.0], [47.3637, -122.057, 314500.0], [47.4322, -122.291, 298500.0], [47.4906, -122.204, 253000.0], [47.3553, -122.149, 265000.0], [47.4565, -122.181, 225000.0], [47.3373, -122.266, 338500.0], [47.5003, -122.248, 255000.0], [47.261, -122.219, 324900.0], [47.4032, -121.982, 500000.0], [47.2949, -122.269, 250000.0], [47.2046, -121.996, 460000.0], [47.4395, -122.163, 419625.0], [47.3844, -122.036, 293000.0], [47.4916, -122.254, 227000.0], [47.3492, -121.935, 213000.0], [47.3692, -122.126, 338000.0], [47.2979, -122.223, 163500.0], [47.5005, -122.267, 199988.0], [47.3828, -122.098, 320000.0], [47.3502, -122.02, 249900.0], [47.4572, -122.184, 223000.0], [47.4496, -122.209, 631000.0], [47.4414, -122.189, 350000.0], [47.5513, -121.801, 279000.0], [47.4602, -122.171, 310000.0], [47.4217, -122.317, 185000.0], [47.4084, -122.169, 365000.0], [47.5359, -121.878, 444500.0], [47.3326, -122.201, 438500.0], [47.496, -122.317, 109500.0], [47.4502, -122.089, 249000.0], [47.4368, -122.165, 256500.0], [47.3127, -122.362, 269000.0], [47.3357, -122.172, 289950.0], [47.4093, -122.173, 252500.0], [47.4297, -122.152, 225000.0], [47.4511, -122.173, 250000.0], [47.4312, -122.196, 275000.0], [47.2958, -122.368, 270000.0], [47.3299, -122.046, 355500.0], [47.423, -122.155, 369000.0], [47.371, -122.108, 369950.0], [47.5339, -121.858, 615000.0], [47.492, -122.302, 187000.0], [47.4611, -122.067, 347950.0], [47.2917, -122.184, 225000.0], [47.5104, -122.154, 535000.0], [47.1955, -121.987, 222500.0], [47.3821, -122.171, 339000.0], [47.5415, -121.884, 440500.0], [47.4558, -122.171, 305000.0], [47.383, -122.168, 283000.0], [47.2504, -122.0, 430000.0], [47.3303, -122.268, 245000.0], [47.3446, -122.041, 355500.0], [47.3585, -122.286, 324900.0], [47.447, -122.088, 570000.0], [47.2739, -122.249, 237000.0], [47.2575, -122.305, 190500.0], [47.3547, -122.003, 448000.0], [47.4556, -122.087, 420000.0], [47.4627, -122.19, 255000.0], [47.4794, -122.078, 305000.0], [47.3061, -122.349, 347500.0], [47.3424, -122.308, 221000.0], [47.2671, -122.233, 234950.0], [47.4885, -122.298, 210000.0], [47.3722, -122.185, 213500.0], [47.434, -122.109, 455000.0], [47.3897, -122.236, 85000.0], [47.4836, -122.214, 239000.0], [47.32899999999999, -122.343, 184900.0], [47.4437, -122.124, 386000.0], [47.4969, -122.33, 340000.0], [47.5095, -122.331, 280000.0], [47.1956, -121.985, 279000.0], [47.39, -122.236, 209950.0], [47.3959, -122.309, 237100.0], [47.2634, -122.312, 336000.0], [47.4447, -122.188, 290000.0], [47.3156, -122.128, 146300.0], [47.3639, -122.08, 244500.0], [47.4336, -122.195, 206000.0], [47.3803, -122.184, 425000.0], [47.4745, -122.295, 208000.0], [47.2779, -122.347, 277500.0], [47.3266, -122.334, 205000.0], [47.3355, -122.168, 330000.0], [47.4806, -122.163, 310000.0], [47.3555, -122.003, 589950.0], [47.5009, -122.143, 327000.0], [47.4215, -122.203, 240000.0], [47.3123, -122.389, 400000.0], [47.29, -122.368, 230000.0], [47.4124, -122.204, 372000.0], [47.435, -122.16, 386000.0], [47.3073, -122.272, 278000.0], [47.5336, -121.855, 540000.0], [47.5204, -121.829, 529000.0], [47.3404, -122.28, 210000.0], [47.3759, -122.238, 225000.0], [47.303, -122.221, 300000.0], [47.2958, -122.285, 150000.0], [47.3384, -122.164, 299950.0], [47.484, -122.211, 175000.0], [47.3066, -122.394, 305000.0], [47.4118, -122.314, 280500.0], [47.4602, -122.152, 610000.0], [47.3809, -122.098, 381000.0], [47.4913, -122.143, 315000.0], [47.3537, -121.939, 330000.0], [47.4576, -122.16, 265000.0], [47.7654, -121.48, 170000.0], [47.3427, -122.087, 260000.0], [47.2853, -122.008, 449950.0], [47.2674, -122.306, 280000.0], [47.1948, -121.999, 202000.0], [47.4759, -122.212, 199950.0], [47.1927, -122.011, 277000.0], [47.3458, -121.948, 325000.0], [47.4938, -122.161, 407500.0], [47.4749, -122.092, 524000.0], [47.3125, -121.998, 264950.0], [47.3504, -122.035, 264500.0], [47.5094, -122.244, 300000.0], [47.5107, -122.257, 315000.0], [47.3968, -122.171, 320000.0], [47.5229, -122.152, 972000.0], [47.4738, -122.264, 265000.0], [47.4224, -122.293, 237600.0], [47.3793, -122.321, 162950.0], [47.2921, -122.215, 137000.0], [47.3397, -121.918, 415000.0], [47.7192, -121.932, 560000.0], [47.3017, -122.127, 734950.0], [47.31399999999999, -122.0, 240000.0], [47.3463, -122.308, 240000.0], [47.3721, -122.159, 129000.0], [47.468, -122.163, 284000.0], [47.3103, -122.366, 218000.0], [47.4714, -122.273, 499950.0], [47.3161, -122.182, 152500.0], [47.4111, -122.2, 325000.0], [47.3951, -122.172, 288000.0], [47.1981, -122.003, 225000.0], [47.4192, -122.202, 325000.0], [47.4915, -122.155, 316000.0], [47.3877, -122.236, 229950.0], [47.532, -121.85, 339000.0], [47.3146, -122.379, 295000.0], [47.4423, -122.193, 296500.0], [47.3289, -122.204, 302000.0], [47.4265, -122.163, 350000.0], [47.2407, -121.953, 667000.0], [47.3321, -122.323, 298000.0], [47.3515, -122.164, 370000.0], [47.3054, -122.369, 230000.0], [47.3103, -122.382, 420000.0], [47.4727, -122.281, 170000.0], [47.4849, -122.303, 173250.0], [47.3277, -122.349, 179950.0], [47.2778, -122.298, 275000.0], [47.2649, -122.242, 190000.0], [47.4688, -122.163, 165000.0], [47.3293, -122.001, 269950.0], [47.356, -122.189, 370000.0], [47.4113, -122.315, 360500.0], [47.3258, -122.323, 247500.0], [47.5295, -121.829, 190000.0], [47.3781, -122.03, 314000.0], [47.1952, -121.986, 272000.0], [47.5383, -121.878, 600000.0], [47.2051, -122.006, 225000.0], [47.3615, -122.087, 219950.0], [47.3334, -122.298, 251000.0], [47.484, -122.111, 350000.0], [47.4185, -122.207, 250000.0], [47.3901, -122.174, 268500.0], [47.4753, -122.172, 295000.0], [47.4166, -122.183, 354000.0], [47.3222, -122.362, 375900.0], [47.2579, -122.312, 272000.0], [47.3035, -122.382, 233000.0], [47.4998, -122.15, 425000.0], [47.4807, -122.29, 242000.0], [47.3438, -122.323, 375000.0], [47.3337, -122.275, 182500.0], [47.3962, -122.309, 310000.0], [47.3594, -122.201, 342000.0], [47.3129, -122.023, 224400.0], [47.4454, -122.289, 280000.0], [47.2959, -122.225, 315000.0], [47.3635, -122.188, 294999.0], [47.3095, -122.283, 299000.0], [47.4816, -122.322, 146000.0], [47.7298, -121.972, 535000.0], [47.449, -122.155, 297950.0], [47.2981, -122.374, 204250.0], [47.3816, -122.153, 490000.0], [47.4834, -122.332, 280000.0], [47.2655, -122.31, 429900.0], [47.3661, -122.094, 231000.0], [47.4954, -122.163, 420000.0], [47.4029, -122.196, 250000.0], [47.4188, -122.213, 399950.0], [47.5333, -122.151, 752000.0], [47.3684, -122.123, 286000.0], [47.4939, -122.318, 187250.0], [47.4235, -122.051, 110000.0], [47.4852, -122.164, 305000.0], [47.4562, -122.193, 212000.0], [47.3812, -122.223, 298950.0], [47.3324, -122.28, 197000.0], [47.3871, -122.189, 265000.0], [47.3234, -122.142, 207500.0], [47.397, -122.187, 268000.0], [47.2194, -122.059, 330000.0], [47.3608, -122.194, 315000.0], [47.3203, -122.385, 299900.0], [47.3783, -122.22, 299000.0], [47.289, -122.212, 265000.0], [47.5319, -121.84, 280000.0], [47.3224, -122.143, 124740.0], [47.5046, -122.3, 219000.0], [47.4905, -122.331, 212500.0], [47.3727, -122.054, 499950.0], [47.3623, -122.127, 490000.0], [47.3676, -122.046, 254950.0], [47.5123, -122.32, 280000.0], [47.3433, -122.037, 255000.0], [47.4002, -122.189, 279000.0], [47.3776, -122.116, 274950.0], [47.3352, -122.278, 305000.0], [47.4109, -122.329, 368000.0], [47.323, -122.349, 232000.0], [47.4528, -122.172, 220000.0], [47.4572, -122.167, 339000.0], [47.5078, -122.161, 399000.0], [47.4863, -122.14, 515500.0], [47.7652, -121.903, 400000.0], [47.5123, -122.15, 440000.0], [47.375, -122.117, 147500.0], [47.374, -122.133, 265950.0], [47.3842, -122.17, 379000.0], [47.3665, -122.082, 189950.0], [47.3212, -122.352, 209950.0], [47.5373, -121.87, 543500.0], [47.3772, -122.029, 376000.0], [47.5382, -121.871, 455600.0], [47.4936, -122.105, 270000.0], [47.4051, -122.29, 242000.0], [47.5336, -121.867, 475000.0], [47.4286, -122.185, 370000.0], [47.3877, -122.234, 160000.0], [47.3411, -122.197, 425000.0], [47.3364, -122.033, 398000.0], [47.5415, -121.884, 418500.0], [47.4336, -122.197, 180000.0], [47.3003, -122.373, 286000.0], [47.3778, -122.033, 390000.0], [47.3238, -122.14, 179900.0], [47.3673, -122.031, 310000.0], [47.3648, -122.081, 179950.0], [47.3623, -122.199, 331000.0], [47.3532, -122.304, 225000.0], [47.3331, -122.319, 199000.0], [47.3585, -122.067, 261000.0], [47.3698, -122.297, 135000.0], [47.7334, -121.97, 425000.0], [47.5369, -121.887, 475000.0], [47.3171, -122.219, 219000.0], [47.4488, -122.274, 179000.0], [47.282, -122.303, 302000.0], [47.3943, -122.198, 281700.0], [47.4655, -122.209, 300000.0], [47.4496, -122.12, 364950.0], [47.3111, -122.396, 231000.0], [47.3146, -122.323, 209950.0], [47.3823, -122.166, 257000.0], [47.3745, -122.131, 337000.0], [47.292, -122.195, 235000.0], [47.3367, -122.335, 465000.0], [47.343, -122.28, 287600.0], [47.495, -122.229, 463000.0], [47.3066, -122.217, 219500.0], [47.38800000000001, -122.176, 304500.0], [47.3729, -122.037, 485000.0], [47.4883, -122.225, 463828.0], [47.3695, -122.108, 365000.0], [47.3363, -122.331, 339900.0], [47.3738, -122.226, 325000.0], [47.2634, -122.289, 258000.0], [47.2689, -122.01, 431000.0], [47.3639, -122.186, 241500.0], [47.3997, -122.215, 300000.0], [47.3304, -122.302, 248500.0], [47.4968, -122.277, 220000.0], [47.3844, -122.0, 545000.0], [47.4741, -122.2, 265000.0], [47.2958, -122.284, 199500.0], [47.2848, -121.927, 160000.0], [47.3314, -122.171, 340000.0], [47.2589, -122.279, 220000.0], [47.4361, -122.193, 368500.0], [47.3762, -122.16, 439950.0], [47.2878, -122.251, 179900.0], [47.49800000000001, -122.222, 285000.0], [47.7731, -121.897, 336900.0], [47.3486, -122.153, 337000.0], [47.49, -122.15, 419950.0], [47.5283, -122.146, 665000.0], [47.3816, -122.313, 265000.0], [47.3378, -122.348, 545400.0], [47.3274, -122.178, 350000.0], [47.3474, -122.303, 355000.0], [47.4977, -122.259, 261590.0], [47.3495, -122.037, 316000.0], [47.4194, -122.211, 397500.0], [47.2712, -122.265, 270000.0], [47.3546, -122.015, 312900.0], [47.4134, -121.986, 375000.0], [47.4852, -122.251, 220000.0], [47.2093, -121.962, 269500.0], [47.5062, -122.149, 406500.0], [47.5282, -122.133, 1280000.0], [47.5045, -122.33, 157000.0], [47.3702, -122.078, 183000.0], [47.478, -122.278, 245000.0], [47.4695, -122.07, 337000.0], [47.2575, -122.312, 320000.0], [47.2908, -122.351, 293000.0], [47.3586, -122.074, 226500.0], [47.4115, -122.197, 292500.0], [47.3503, -122.039, 329900.0], [47.2583, -122.3, 280000.0], [47.3552, -122.063, 440000.0], [47.3542, -122.181, 253000.0], [47.31800000000001, -122.391, 246000.0], [47.3573, -122.324, 820000.0], [47.3648, -122.046, 266500.0], [47.2495, -121.97, 370000.0], [47.3833, -122.306, 243500.0], [47.258, -122.305, 315000.0], [47.4014, -122.186, 217500.0], [47.5416, -121.869, 825000.0], [47.3304, -122.13, 389900.0], [47.5395, -122.188, 710000.0], [47.3518, -122.057, 295000.0], [47.3492, -122.034, 275250.0], [47.3522, -122.059, 250000.0], [47.3516, -122.057, 225000.0], [47.4022, -122.166, 364900.0], [47.3616, -122.089, 179950.0], [47.4243, -122.097, 633000.0], [47.4318, -122.181, 349950.0], [47.3185, -122.259, 425000.0], [47.3467, -122.296, 242000.0], [47.2942, -122.226, 217000.0], [47.4904, -122.158, 395000.0], [47.534, -122.161, 572500.0], [47.3061, -122.361, 241000.0], [47.401, -122.135, 455000.0], [47.3118, -122.34, 263000.0], [47.3417, -122.182, 635000.0], [47.3593, -122.051, 272450.0], [47.3684, -122.073, 398950.0], [47.3701, -122.078, 217000.0], [47.3318, -122.34, 160000.0], [47.4492, -122.116, 445000.0], [47.4449, -122.129, 345000.0], [47.432, -122.328, 345000.0], [47.3811, -122.317, 187000.0], [47.4825, -122.164, 270000.0], [47.4206, -122.324, 234000.0], [47.3715, -122.16, 253500.0], [47.4507, -122.12, 390000.0], [47.3764, -122.119, 296500.0], [47.3251, -122.186, 386000.0], [47.3221, -122.322, 389000.0], [47.3864, -122.312, 270000.0], [47.4978, -122.115, 275000.0], [47.338, -122.258, 287500.0], [47.2584, -122.124, 345000.0], [47.5346, -121.875, 539900.0], [47.3016, -122.342, 510000.0], [47.4842, -122.117, 315000.0], [47.2787, -122.205, 206000.0], [47.3872, -122.154, 334500.0], [47.2064, -121.988, 184900.0], [47.4307, -122.334, 245000.0], [47.2069, -122.024, 425000.0], [47.4727, -122.298, 170000.0], [47.5325, -121.856, 515000.0], [47.381, -122.056, 555000.0], [47.3718, -122.182, 245000.0], [47.4229, -122.153, 269950.0], [47.3608, -122.083, 195000.0], [47.4928, -122.239, 159100.0], [47.4881, -122.204, 249500.0], [47.3834, -122.215, 275000.0], [47.2667, -122.216, 420000.0], [47.3149, -122.378, 295000.0], [47.5073, -122.239, 430000.0], [47.7391, -121.982, 283700.0], [47.3732, -122.179, 335000.0], [47.4881, -122.281, 285000.0], [47.4562, -122.33, 278000.0], [47.7077, -121.914, 334200.0], [47.2138, -121.982, 299000.0], [47.3687, -122.085, 219000.0], [47.3304, -122.304, 239000.0], [47.3735, -122.156, 415000.0], [47.4864, -122.316, 292000.0], [47.3112, -122.378, 227000.0], [47.4764, -122.269, 206000.0], [47.3583, -121.922, 360000.0], [47.5048, -122.155, 427500.0], [47.5322, -121.851, 428000.0], [47.3071, -122.381, 213000.0], [47.3692, -122.047, 390000.0], [47.4095, -122.296, 287000.0], [47.7279, -121.967, 330000.0], [47.4, -122.027, 550000.0], [47.4719, -122.191, 289000.0], [47.3027, -122.376, 185000.0], [47.3999, -122.301, 239900.0], [47.379, -122.29, 240000.0], [47.3532, -122.306, 260000.0], [47.3076, -122.101, 450000.0], [47.435, -122.107, 440000.0], [47.4759, -122.299, 311000.0], [47.4881, -122.143, 440000.0], [47.3293, -122.205, 298000.0], [47.7383, -121.955, 410000.0], [47.3958, -122.189, 253000.0], [47.4514, -122.187, 216000.0], [47.2057, -122.003, 212000.0], [47.4905, -122.206, 305000.0], [47.3459, -122.326, 550000.0], [47.3817, -122.206, 340000.0], [47.3144, -122.278, 255000.0], [47.3397, -122.266, 315000.0], [47.3109, -122.377, 285500.0], [47.2151, -121.993, 199000.0], [47.3848, -122.033, 326995.0], [47.4544, -122.143, 372500.0], [47.3028, -122.102, 400000.0], [47.1951, -122.01, 344000.0], [47.3558, -122.013, 409950.0], [47.312, -122.115, 381500.0], [47.4787, -122.275, 215000.0], [47.4961, -122.235, 345000.0], [47.2871, -122.287, 363000.0], [47.3556, -122.294, 240000.0], [47.4868, -122.199, 247000.0], [47.4358, -122.336, 244000.0], [47.5331, -121.855, 457000.0], [47.362, -122.316, 320000.0], [47.3675, -122.147, 210000.0], [47.3815, -122.169, 220000.0], [47.4911, -122.322, 259000.0], [47.3895, -122.154, 363000.0], [47.2885, -122.218, 230000.0], [47.1946, -122.0, 207200.0], [47.4391, -122.117, 343500.0], [47.3817, -122.314, 180500.0], [47.3992, -122.164, 315000.0], [47.3217, -122.205, 279950.0], [47.29, -122.358, 176000.0], [47.4556, -122.203, 290000.0], [47.3617, -122.047, 295000.0], [47.5228, -122.151, 1100000.0], [47.4057, -122.185, 257500.0], [47.7351, -121.975, 515500.0], [47.3902, -122.208, 243000.0], [47.3182, -122.319, 253400.0], [47.4939, -122.261, 292000.0], [47.4359, -122.165, 271500.0], [47.474, -122.146, 382880.0], [47.3671, -122.113, 317950.0], [47.3569, -122.202, 435000.0], [47.5345, -121.867, 399000.0], [47.4459, -122.278, 376000.0], [47.3193, -122.212, 315000.0], [47.4006, -122.162, 340000.0], [47.4878, -122.13, 230000.0], [47.4562, -122.196, 252000.0], [47.4874, -122.306, 158000.0], [47.4872, -122.144, 343500.0], [47.4783, -122.285, 273500.0], [47.3394, -122.281, 225000.0], [47.4166, -121.94, 608000.0], [47.3081, -122.392, 355000.0], [47.4039, -122.188, 255950.0], [47.4235, -122.218, 362950.0], [47.4731, -122.327, 315000.0], [47.4377, -122.279, 312000.0], [47.3504, -122.035, 305000.0], [47.3639, -122.185, 270000.0], [47.2328, -121.945, 525000.0], [47.4711, -122.291, 250000.0], [47.2858, -122.212, 235000.0], [47.3675, -122.11, 230000.0], [47.2994, -122.37, 270000.0], [47.3904, -122.176, 395000.0], [47.5261, -121.827, 339900.0], [47.7382, -121.975, 539000.0], [47.4342, -122.17, 225000.0], [47.3357, -122.275, 260000.0], [47.4353, -122.159, 469900.0], [47.3252, -122.208, 148900.0], [47.3256, -122.209, 229500.0], [47.2899, -122.287, 230000.0], [47.297, -122.227, 189900.0], [47.492, -122.225, 380000.0], [47.3125, -122.387, 318989.0], [47.3067, -122.394, 330000.0], [47.3114, -122.262, 637000.0], [47.3756, -122.306, 182500.0], [47.3979, -122.174, 250000.0], [47.4253, -122.043, 276500.0], [47.4397, -122.15, 440000.0], [47.2887, -122.109, 579950.0], [47.2411, -122.043, 243950.0], [47.521, -121.877, 658000.0], [47.3155, -122.401, 218250.0], [47.3687, -122.088, 255000.0], [47.4758, -122.265, 424305.0], [47.1941, -122.038, 468000.0], [47.3932, -122.201, 285000.0], [47.5322, -121.829, 208000.0], [47.3786, -122.127, 372000.0], [47.295, -122.37, 330000.0], [47.3589, -122.281, 280000.0], [47.4521, -122.121, 345000.0], [47.4509, -122.088, 255950.0], [47.4094, -122.175, 273148.0], [47.3613, -122.053, 246500.0], [47.4486, -122.194, 349950.0], [47.3767, -122.124, 299950.0], [47.3326, -122.046, 337000.0], [47.5389, -121.876, 622500.0], [47.3257, -122.276, 260000.0], [47.3497, -122.026, 343000.0], [47.3303, -122.271, 290000.0], [47.2113, -121.993, 200000.0], [47.2664, -122.027, 390000.0], [47.3124, -122.352, 230000.0], [47.7471, -121.979, 325000.0], [47.4744, -122.328, 306000.0], [47.4979, -122.24, 235000.0], [47.4406, -122.194, 265000.0], [47.3814, -122.164, 784500.0], [47.3508, -122.163, 410000.0], [47.4555, -122.177, 252000.0], [47.3321, -122.346, 217000.0], [47.3031, -122.385, 274000.0], [47.2004, -122.003, 295000.0], [47.3617, -122.052, 261000.0], [47.3173, -122.181, 230000.0], [47.1927, -122.01, 330000.0], [47.3169, -122.352, 270000.0], [47.3828, -122.211, 353000.0], [47.4599, -122.205, 170500.0], [47.2012, -122.0, 245000.0], [47.3348, -122.19, 305000.0], [47.2775, -122.203, 219200.0], [47.4971, -122.334, 195000.0], [47.4727, -122.27, 83000.0], [47.3236, -122.323, 174500.0], [47.4811, -122.162, 255000.0], [47.3089, -122.33, 186950.0], [47.4727, -122.292, 210000.0], [47.4238, -122.329, 330000.0], [47.7382, -121.98, 340000.0], [47.3771, -122.287, 206000.0], [47.3595, -122.323, 340000.0], [47.4951, -122.237, 280000.0], [47.3078, -122.386, 245000.0], [47.3715, -122.274, 287500.0], [47.4828, -122.139, 482000.0], [47.3029, -122.221, 206000.0], [47.3364, -122.321, 390000.0], [47.4043, -122.213, 393000.0], [47.426, -122.154, 287000.0], [47.3397, -122.048, 625000.0], [47.4286, -122.185, 325000.0], [47.4391, -122.189, 235000.0], [47.3262, -122.338, 223000.0], [47.3644, -122.132, 339000.0], [47.3642, -122.187, 269000.0], [47.5307, -121.875, 405000.0], [47.4924, -122.237, 260000.0], [47.4187, -122.329, 196000.0], [47.744, -121.976, 515000.0], [47.4391, -122.194, 365650.0], [47.3573, -122.2, 299000.0], [47.258, -122.252, 160000.0], [47.7341, -121.968, 435000.0], [47.4732, -122.141, 450000.0], [47.4297, -122.325, 195000.0], [47.3838, -122.287, 250200.0], [47.2633, -122.244, 194250.0], [47.4473, -122.086, 1140000.0], [47.4951, -122.302, 202000.0], [47.5394, -121.875, 645500.0], [47.3509, -122.323, 570000.0], [47.37, -122.151, 192000.0], [47.4847, -122.291, 283450.0], [47.5329, -121.879, 480000.0], [47.3406, -122.057, 299500.0], [47.3886, -122.188, 377000.0], [47.3108, -122.346, 260000.0], [47.745, -121.916, 600000.0], [47.2874, -122.37, 179950.0], [47.2649, -122.252, 222400.0], [47.449, -122.128, 430000.0], [47.3311, -122.326, 247500.0], [47.3496, -122.088, 385000.0], [47.5084, -122.246, 465000.0], [47.2888, -122.221, 237950.0], [47.5234, -121.841, 454000.0], [47.3063, -122.384, 249000.0], [47.3491, -122.029, 275000.0], [47.5127, -122.321, 262000.0], [47.3108, -122.345, 300000.0], [47.4282, -122.331, 267000.0], [47.4193, -121.958, 375000.0], [47.4465, -122.156, 330000.0], [47.3197, -122.117, 250000.0], [47.4789, -122.296, 335000.0], [47.481, -122.115, 350000.0], [47.4501, -122.126, 388000.0], [47.3546, -122.318, 280000.0], [47.3084, -122.331, 215000.0], [47.4482, -122.125, 306000.0], [47.2003, -121.996, 199990.0], [47.3535, -122.323, 1230000.0], [47.2699, -122.255, 183500.0], [47.4274, -122.28, 707000.0], [47.3248, -122.345, 192500.0], [47.36, -122.039, 309000.0], [47.5189, -122.147, 1120000.0], [47.3591, -122.036, 410000.0], [47.3657, -122.21, 325000.0], [47.2835, -122.2, 247500.0], [47.4731, -122.298, 199950.0], [47.3662, -122.315, 275000.0], [47.3962, -122.189, 255000.0], [47.3612, -122.103, 259000.0], [47.4206, -122.184, 315000.0], [47.7315, -121.972, 322500.0], [47.3902, -122.283, 239000.0], [47.3689, -122.058, 465000.0], [47.737, -121.955, 469950.0], [47.3617, -122.172, 244950.0], [47.5009, -122.235, 361000.0], [47.2582, -122.113, 293000.0], [47.274, -122.287, 625000.0], [47.4473, -122.284, 239950.0], [47.4215, -122.318, 200000.0], [47.3074, -122.337, 345000.0], [47.328, -122.321, 208000.0], [47.2711, -122.067, 760000.0], [47.3208, -122.273, 310000.0], [47.4896, -122.248, 202500.0], [47.5371, -121.87, 540000.0], [47.4088, -122.192, 295000.0], [47.3493, -122.023, 250000.0], [47.5145, -121.853, 330000.0], [47.7366, -121.958, 475000.0], [47.3541, -122.3, 265000.0], [47.4007, -122.323, 229500.0], [47.3203, -122.321, 335000.0], [47.3484, -122.298, 270000.0], [47.2789, -122.331, 450000.0], [47.2574, -122.072, 280000.0], [47.3655, -122.291, 245000.0], [47.3173, -122.21, 232603.0], [47.3645, -122.183, 239000.0], [47.3429, -122.097, 410000.0], [47.4333, -122.168, 325000.0], [47.5039, -122.24, 385000.0], [47.3732, -122.295, 180000.0], [47.3089, -122.213, 234000.0], [47.4087, -122.062, 920000.0], [47.3232, -122.103, 224000.0], [47.2857, -122.22, 185000.0], [47.3657, -122.28, 268000.0], [47.3064, -122.1, 465000.0], [47.3318, -122.277, 254999.0], [47.3691, -122.074, 279000.0], [47.2619, -122.271, 460000.0], [47.4876, -122.226, 291000.0], [47.317, -122.182, 90000.0], [47.4442, -122.129, 329000.0], [47.736, -121.965, 345000.0], [47.4503, -122.131, 313500.0], [47.482, -122.332, 268000.0], [47.3922, -122.321, 309000.0], [47.5384, -121.889, 410000.0], [47.4096, -122.329, 394250.0], [47.5355, -121.88, 450000.0], [47.395, -122.174, 295000.0], [47.469, -122.121, 410000.0], [47.2636, -122.212, 308900.0], [47.3112, -122.339, 335000.0], [47.5326, -121.855, 485000.0], [47.3187, -122.171, 203700.0], [47.3047, -122.347, 412000.0], [47.3614, -122.045, 237500.0], [47.3191, -122.18, 200000.0], [47.4659, -122.189, 140000.0], [47.4501, -122.139, 370000.0], [47.2034, -122.003, 449999.0], [47.3437, -122.078, 270000.0], [47.3928, -122.066, 540000.0], [47.7408, -121.974, 400000.0], [47.3606, -122.083, 225000.0], [47.3505, -122.032, 315000.0], [47.319, -122.362, 310000.0], [47.4341, -122.169, 299000.0], [47.3507, -122.141, 285000.0], [47.4936, -122.102, 299000.0], [47.5019, -122.269, 135900.0], [47.3021, -122.388, 218000.0], [47.3248, -122.169, 289999.0], [47.2098, -122.016, 495000.0], [47.2977, -122.227, 260000.0], [47.7348, -121.966, 402500.0], [47.397, -122.203, 275000.0], [47.3072, -122.328, 250000.0], [47.4212, -122.144, 425000.0], [47.3325, -122.321, 205000.0], [47.3266, -122.348, 191000.0], [47.4672, -122.175, 352750.0], [47.7385, -121.965, 550000.0], [47.3213, -122.187, 299500.0], [47.5375, -121.742, 279475.0], [47.3984, -122.301, 307700.0], [47.5337, -121.867, 375000.0], [47.3018, -122.342, 420000.0], [47.3932, -121.988, 570000.0], [47.3724, -122.105, 359500.0], [47.3748, -122.18, 240000.0], [47.4032, -121.963, 610000.0], [47.3787, -122.323, 283500.0], [47.5303, -122.143, 747500.0], [47.4772, -122.269, 182000.0], [47.349, -122.024, 250000.0], [47.4051, -122.296, 163000.0], [47.4484, -122.194, 325000.0], [47.3538, -122.025, 315000.0], [47.4963, -122.318, 179000.0], [47.3103, -122.006, 335000.0], [47.3715, -122.126, 266490.0], [47.3946, -122.312, 235000.0], [47.3738, -122.042, 375000.0], [47.4349, -122.328, 600600.0], [47.2332, -122.029, 858000.0], [47.3128, -122.351, 252000.0], [47.4816, -122.233, 244000.0], [47.2898, -122.251, 230000.0], [47.3776, -122.315, 205950.0], [47.202, -121.994, 209000.0], [47.754, -121.942, 500000.0], [47.4045, -122.174, 279000.0], [47.3973, -122.312, 324950.0], [47.7078, -121.915, 328000.0], [47.4865, -122.238, 257500.0], [47.3785, -122.32, 216500.0], [47.4318, -122.286, 360000.0], [47.4516, -122.267, 319000.0], [47.3841, -122.288, 265000.0], [47.3377, -122.194, 229500.0], [47.305, -122.371, 218250.0], [47.4292, -122.152, 231750.0], [47.2989, -122.38, 263000.0], [47.3855, -122.302, 279950.0], [47.2909, -122.352, 252500.0], [47.2769, -122.264, 205000.0], [47.3352, -122.052, 270000.0], [47.3314, -122.202, 340000.0], [47.5225, -122.156, 690000.0], [47.3864, -122.287, 178500.0], [47.2089, -122.003, 270000.0], [47.3657, -122.047, 260000.0], [47.3604, -122.091, 339950.0], [47.7656, -121.905, 250000.0], [47.4002, -122.217, 680000.0], [47.2749, -122.252, 168000.0], [47.3154, -122.079, 685000.0], [47.4014, -122.069, 365000.0], [47.4493, -122.171, 280000.0], [47.5347, -122.155, 781500.0], [47.4346, -122.171, 295000.0], [47.3107, -121.999, 208500.0], [47.3694, -122.083, 249900.0], [47.5035, -122.259, 190000.0], [47.3709, -122.125, 315000.0], [47.3397, -122.291, 225000.0], [47.4273, -122.147, 272500.0], [47.4666, -122.072, 270000.0], [47.3273, -122.173, 342000.0], [47.1853, -122.017, 316000.0], [47.3988, -122.023, 539950.0], [47.4927, -122.248, 221347.0], [47.4615, -122.214, 330000.0], [47.2202, -121.993, 279000.0], [47.2861, -122.253, 159000.0], [47.3149, -122.386, 242000.0], [47.5422, -121.888, 625000.0], [47.3604, -122.089, 289000.0], [47.4298, -122.102, 400000.0], [47.3018, -122.378, 160000.0], [47.3724, -122.277, 215000.0], [47.4833, -122.157, 390000.0], [47.3509, -122.165, 370000.0], [47.7247, -121.959, 454000.0], [47.3468, -122.091, 290000.0], [47.3174, -122.18, 225000.0], [47.4818, -122.094, 299000.0], [47.2664, -122.256, 199900.0], [47.5003, -122.26, 224000.0], [47.4031, -122.201, 244000.0], [47.3824, -122.207, 330000.0], [47.5123, -122.151, 440000.0], [47.2073, -122.012, 244000.0], [47.476000000000006, -122.292, 211000.0], [47.3036, -122.363, 133400.0], [47.2056, -121.994, 240000.0], [47.3842, -122.04, 296475.0], [47.3059, -122.349, 369000.0], [47.307, -122.217, 229950.0], [47.2761, -122.153, 229999.0], [47.4174, -122.316, 205000.0], [47.4971, -122.282, 215000.0], [47.3732, -122.116, 205000.0], [47.4379, -122.192, 320000.0], [47.4815, -122.152, 349000.0], [47.2819, -122.224, 193000.0], [47.5363, -121.87, 523000.0], [47.5328, -121.881, 500000.0], [47.457, -122.189, 333000.0], [47.4531, -122.273, 289950.0], [47.5058, -122.235, 324950.0], [47.4657, -122.198, 450000.0], [47.4267, -122.157, 269950.0], [47.3596, -122.16, 278000.0], [47.3615, -122.057, 190000.0], [47.452, -122.159, 279950.0], [47.407, -122.216, 550000.0], [47.7416, -121.91, 439000.0], [47.3436, -122.323, 480000.0], [47.4607, -122.171, 305000.0], [47.4459, -122.278, 216500.0], [47.3748, -122.186, 277500.0], [47.3712, -122.289, 278000.0], [47.2241, -122.072, 399950.0], [47.4883, -122.248, 185000.0], [47.4994, -122.234, 440000.0], [47.41, -122.208, 299000.0], [47.3707, -122.275, 299500.0], [47.3885, -122.284, 234000.0], [47.396, -122.184, 370000.0], [47.5071, -122.249, 229500.0], [47.3846, -122.227, 246000.0], [47.45399999999999, -122.164, 315500.0], [47.4631, -122.329, 246500.0], [47.3531, -122.021, 349900.0], [47.2595, -122.218, 268000.0], [47.2978, -122.363, 147000.0], [47.3819, -122.312, 210000.0], [47.4375, -122.166, 359900.0], [47.2843, -122.352, 255000.0], [47.4915, -122.228, 334000.0], [47.394, -122.183, 321000.0], [47.4683, -122.281, 171000.0], [47.2703, -122.069, 491500.0], [47.3423, -122.088, 226000.0], [47.4694, -122.263, 383962.0], [47.4475, -122.213, 269950.0], [47.5099, -122.33, 270950.0], [47.3347, -122.325, 340768.0], [47.4514, -122.287, 263000.0], [47.3388, -122.166, 257000.0], [47.3045, -122.103, 725000.0], [47.4798, -122.228, 300000.0], [47.3165, -122.252, 328000.0], [47.3281, -122.344, 187500.0], [47.4243, -122.198, 235000.0], [47.526, -121.829, 282000.0], [47.4114, -122.334, 279900.0], [47.5342, -121.868, 506950.0], [47.3545, -122.011, 540000.0], [47.3065, -122.113, 370000.0], [47.4594, -122.326, 338000.0], [47.4835, -122.332, 185000.0], [47.3514, -122.315, 235000.0], [47.3682, -122.178, 421500.0], [47.7447, -121.984, 377000.0], [47.3452, -122.209, 329900.0], [47.3551, -122.061, 363990.0], [47.3714, -122.197, 338900.0], [47.3473, -122.03, 419950.0], [47.3363, -122.216, 319500.0], [47.4496, -122.189, 274000.0], [47.4911, -122.154, 429000.0], [47.3651, -122.197, 480000.0], [47.4482, -122.206, 440000.0], [47.5208, -121.869, 425000.0], [47.1952, -121.976, 340000.0], [47.5009, -122.225, 460000.0], [47.1942, -121.977, 280000.0], [47.3058, -122.277, 359000.0], [47.5337, -121.86, 785000.0], [47.4939, -122.137, 575000.0], [47.2683, -121.946, 465000.0], [47.3737, -122.164, 375000.0], [47.2822, -122.357, 319000.0], [47.3662, -122.019, 340000.0], [47.2589, -122.256, 250000.0], [47.3515, -122.275, 349500.0], [47.3537, -122.018, 359950.0], [47.345, -122.21, 319900.0], [47.3451, -122.215, 263000.0], [47.4795, -122.126, 505000.0], [47.4517, -122.204, 400000.0], [47.4776, -122.122, 549995.0], [47.362, -122.2, 327555.0], [47.5446, -121.88, 690000.0], [47.341, -122.18, 384435.0], [47.3029, -122.387, 442000.0], [47.3845, -122.039, 220000.0], [47.4372, -122.206, 489000.0], [47.386, -122.162, 250000.0], [47.5337, -121.841, 450000.0], [47.3522, -122.275, 355000.0], [47.5382, -121.86, 809000.0], [47.515, -121.869, 569950.0], [47.5413, -121.877, 723000.0], [47.3582, -122.2, 282000.0], [47.3532, -122.211, 292000.0], [47.7327, -121.965, 489500.0], [47.2911, -122.266, 331210.0], [47.7329, -121.966, 465000.0], [47.3494, -122.041, 328000.0], [47.5167, -121.885, 701000.0], [47.3483, -122.042, 408000.0], [47.5426, -121.879, 672500.0], [47.4949, -122.149, 538000.0], [47.3008, -122.386, 450000.0], [47.3227, -122.37, 290000.0], [47.2824, -122.295, 349900.0], [47.3338, -122.052, 282000.0], [47.3696, -122.018, 387865.0], [47.4899, -122.255, 385000.0], [47.5344, -121.874, 715000.0], [47.5156, -121.884, 575000.0], [47.3706, -122.017, 326989.0], [47.2584, -122.196, 335606.0], [47.5059, -122.146, 962000.0], [47.3547, -122.062, 419354.0], [47.515, -121.873, 480000.0], [47.4293, -122.188, 293000.0], [47.3517, -122.21, 285000.0], [47.7265, -121.957, 472000.0], [47.3986, -122.166, 300000.0], [47.3059, -122.28, 272000.0], [47.2599, -122.192, 418395.0], [47.5191, -121.869, 465000.0], [47.4827, -122.131, 659950.0], [47.4944, -122.149, 519000.0], [47.4897, -122.147, 535000.0], [47.5457, -121.881, 622950.0], [47.4821, -122.142, 515000.0], [47.3993, -122.162, 330000.0], [47.5311, -122.134, 1080000.0], [47.3785, -122.023, 435000.0], [47.2581, -122.2, 328000.0], [47.5048, -122.154, 435000.0], [47.5022, -122.145, 320000.0], [47.3803, -122.204, 333500.0], [47.3338, -122.053, 210000.0], [47.3122, -122.04, 350000.0], [47.5394, -121.861, 700000.0], [47.7329, -121.976, 395000.0], [47.4853, -122.154, 559950.0], [47.2872, -122.257, 215000.0], [47.31399999999999, -122.023, 390000.0], [47.2743, -122.009, 425000.0], [47.3974, -122.005, 472000.0], [47.54, -121.876, 695000.0], [47.4408, -122.161, 432500.0], [47.5155, -121.87, 430000.0], [47.5209, -121.874, 515000.0], [47.5196, -121.869, 450000.0], [47.5367, -121.88, 435000.0], [47.2603, -122.194, 411605.0], [47.2972, -122.348, 409950.0], [47.431, -122.285, 408000.0], [47.2582, -122.196, 339990.0], [47.3586, -122.157, 320000.0], [47.3555, -122.061, 450000.0], [47.7333, -121.976, 395000.0], [47.3785, -122.185, 345000.0], [47.3857, -122.162, 260000.0], [47.4806, -122.125, 570000.0], [47.5201, -121.885, 572800.0], [47.3594, -122.082, 320000.0], [47.2966, -122.348, 430236.0], [47.3428, -122.179, 447055.0], [47.4496, -122.189, 249900.0], [47.3452, -122.215, 260000.0], [47.4914, -122.253, 279000.0], [47.2611, -122.198, 287000.0], [47.3412, -122.179, 460940.0], [47.5183, -121.886, 633634.0], [47.3457, -122.217, 240000.0], [47.3559, -122.023, 572115.0], [47.3276, -122.163, 399440.0], [47.5441, -121.86, 648000.0], [47.4988, -122.148, 580000.0], [47.341, -122.179, 415000.0], [47.7322, -121.966, 415000.0], [47.29600000000001, -122.35, 429900.0], [47.2776, -122.251, 275000.0], [47.493, -122.147, 498000.0], [47.4595, -122.208, 580000.0], [47.2716, -122.297, 379900.0], [47.2689, -122.24, 245000.0], [47.5342, -121.842, 417000.0], [47.3122, -122.039, 353000.0], [47.3751, -122.189, 379950.0], [47.502, -122.146, 379000.0], [47.5392, -121.862, 633000.0], [47.4477, -122.204, 485000.0], [47.3412, -122.178, 428900.0], [47.2595, -122.202, 329900.0], [47.5153, -121.871, 544999.0], [47.4862, -122.163, 449950.0], [47.4797, -122.23, 388000.0], [47.506, -122.145, 971971.0], [47.3613, -122.038, 355000.0], [47.489, -122.14, 551500.0], [47.3559, -122.063, 417838.0], [47.429, -122.188, 307000.0], [47.3393, -122.181, 460458.0], [47.3341, -122.052, 310000.0], [47.2975, -122.35, 424950.0], [47.3054, -122.276, 351000.0], [47.3255, -122.164, 388500.0], [47.3052, -122.283, 254950.0], [47.4888, -122.14, 554950.0], [47.5071, -122.148, 550000.0], [47.2602, -122.284, 309000.0], [47.342, -122.059, 248000.0], [47.3496, -122.042, 379000.0], [47.3737, -122.165, 310000.0], [47.3525, -122.275, 370228.0], [47.3448, -122.024, 383000.0], [47.479, -122.124, 569995.0], [47.5216, -121.869, 516000.0], [47.49100000000001, -122.153, 440000.0], [47.3359, -122.054, 261950.0], [47.4594, -122.133, 551000.0], [47.5168, -121.883, 645000.0], [47.5181, -121.885, 536751.0], [47.4196, -122.193, 260000.0], [47.2752, -122.349, 429900.0], [47.5446, -121.862, 675000.0], [47.375, -122.16, 385000.0], [47.3555, -122.062, 430760.0], [47.3216, -121.94, 780000.0], [47.3994, -122.311, 550000.0], [47.5168, -121.871, 592000.0], [47.3731, -122.159, 454950.0], [47.4928, -122.149, 475000.0], [47.487, -122.32, 347500.0], [47.2607, -122.25, 205000.0], [47.4786, -122.123, 515805.0], [47.5294, -122.154, 1030000.0], [47.5338, -121.841, 437718.0], [47.4166, -122.319, 204000.0], [47.5151, -121.883, 650880.0], [47.4856, -122.154, 565997.0], [47.4828, -122.136, 588000.0], [47.2592, -122.194, 392440.0], [47.3568, -122.163, 280000.0], [47.7273, -121.958, 550000.0], [47.4823, -122.124, 649000.0], [47.515, -121.869, 545000.0], [47.379, -122.184, 300000.0], [47.3561, -122.063, 349990.0], [47.3613, -122.081, 313200.0], [47.4937, -122.15, 415000.0], [47.4295, -122.205, 499950.0], [47.2874, -122.257, 216000.0], [47.3785, -122.023, 380000.0], [47.3535, -122.017, 345000.0], [47.4959, -122.15, 456500.0], [47.3482, -122.042, 382495.0], [47.3612, -122.081, 324950.0], [47.3519, -122.197, 436472.0], [47.3686, -122.117, 316475.0], [47.3455, -122.21, 298000.0], [47.3389, -122.334, 950000.0], [47.4874, -122.152, 333000.0], [47.3521, -122.211, 289950.0], [47.3425, -122.179, 498445.0], [47.5373, -121.874, 605000.0], [47.4557, -122.13, 390000.0], [47.25899999999999, -122.256, 255000.0], [47.3359, -122.257, 415000.0], [47.3706, -122.017, 324747.0], [47.3596, -122.082, 270000.0], [47.355, -122.059, 310000.0], [47.3453, -122.267, 427000.0], [47.4221, -122.192, 389950.0], [47.7442, -121.984, 309620.0], [47.2586, -122.194, 399895.0], [47.3421, -122.179, 442515.0], [47.2583, -122.198, 309780.0], [47.5202, -121.873, 425000.0], [47.3261, -122.163, 356250.0], [47.3555, -122.063, 362865.0], [47.4493, -122.281, 400200.0], [47.3539, -122.021, 349950.0], [47.4827, -122.131, 659950.0], [47.3667, -122.307, 263900.0], [47.3568, -122.055, 342000.0], [47.371, -122.018, 367899.0], [47.4739, -122.11, 657044.0], [47.2586, -122.2, 279000.0], [47.4995, -122.15, 570000.0], [47.2597, -122.199, 310000.0], [47.5066, -122.146, 745000.0], [47.5196, -121.878, 591975.0], [47.4827, -122.135, 600000.0], [47.5352, -121.88, 500000.0], [47.3538, -122.021, 342000.0], [47.3654, -122.021, 274000.0], [47.2773, -122.216, 300000.0], [47.3375, -122.337, 734000.0], [47.4866, -122.155, 480000.0], [47.3587, -122.163, 459950.0], [47.5342, -121.841, 408474.0], [47.496, -122.151, 437000.0], [47.3726, -122.159, 359950.0], [47.3454, -122.214, 267000.0], [47.5389, -121.86, 709950.0], [47.3602, -122.082, 324500.0], [47.5158, -121.871, 471500.0], [47.7072, -121.983, 1020000.0], [47.4697, -122.267, 262000.0], [47.3706, -122.018, 339989.0], [47.3424, -122.179, 491000.0], [47.4944, -122.15, 530000.0], [47.4785, -122.228, 290500.0], [47.4799, -122.127, 500012.0], [47.53100000000001, -122.134, 1270000.0], [47.3938, -122.321, 510000.0], [47.2961, -122.348, 432500.0], [47.5075, -122.148, 650000.0], [47.3584, -122.163, 479349.0], [47.3494, -122.044, 416000.0], [47.495, -122.149, 576000.0], [47.3826, -122.036, 399000.0], [47.4876, -122.146, 515000.0], [47.3452, -122.21, 319900.0], [47.2583, -122.203, 280000.0], [47.3693, -122.286, 324950.0], [47.4497, -122.188, 292000.0], [47.4831, -122.135, 572000.0], [47.3263, -122.18, 374500.0], [47.3611, -122.047, 250000.0], [47.3454, -122.214, 265000.0], [47.3601, -122.032, 430000.0], [47.4222, -122.193, 286800.0], [47.4517, -122.084, 460000.0], [47.5168, -121.87, 540000.0], [47.3341, -122.304, 298450.0], [47.3626, -122.04, 344000.0], [47.3404, -122.181, 379500.0], [47.3522, -122.201, 485230.0], [47.495, -122.145, 467000.0], [47.4213, -122.194, 305000.0], [47.3584, -122.083, 250000.0], [47.5202, -121.87, 492000.0], [47.4829, -122.156, 552500.0], [47.4916, -122.153, 415000.0], [47.4925, -122.273, 445000.0], [47.3523, -122.212, 273500.0], [47.2953, -122.265, 453000.0], [47.4783, -122.123, 469995.0], [47.515, -121.87, 555000.0], [47.3363, -122.211, 297000.0], [47.3627, -122.04, 320000.0], [47.5381, -121.86, 805000.0], [47.3515, -122.134, 375000.0], [47.3258, -122.165, 300000.0], [47.3366, -122.052, 284000.0], [47.3452, -122.217, 255900.0], [47.43, -122.188, 305000.0], [47.3451, -122.214, 261000.0], [47.5342, -121.876, 560000.0], [47.3607, -122.038, 384950.0], [47.5169, -121.886, 640000.0], [47.2975, -122.35, 418000.0], [47.2851, -122.277, 552900.0], [47.2905, -122.264, 524225.0], [47.4815, -122.127, 625000.0], [47.37, -122.019, 398096.0], [47.3384, -122.18, 306000.0], [47.3427, -122.278, 349950.0], [47.2582, -122.198, 274950.0], [47.3448, -122.217, 282900.0], [47.344, -122.269, 424000.0], [47.4714, -122.071, 630000.0], [47.1948, -121.975, 256703.0], [47.3665, -122.022, 275000.0], [47.4513, -122.202, 370000.0], [47.4565, -122.287, 500000.0], [47.5013, -122.147, 360000.0], [47.2599, -122.256, 317500.0], [47.3359, -122.055, 333700.0], [47.429, -122.189, 305000.0], [47.431, -122.335, 459000.0], [47.4865, -122.143, 600000.0], [47.3363, -122.215, 275000.0], [47.5439, -121.88, 445000.0], [47.5079, -122.158, 507950.0], [47.517, -121.876, 635000.0], [47.4178, -121.937, 513000.0], [47.356, -122.057, 380000.0], [47.4283, -122.102, 603000.0], [47.7457, -121.985, 330675.0], [47.3771, -122.186, 259950.0], [47.3518, -122.275, 345500.0], [47.3512, -122.135, 391500.0], [47.3451, -122.209, 298900.0], [47.3564, -122.198, 348000.0], [47.3658, -122.037, 358000.0], [47.2671, -122.256, 260000.0], [47.5392, -121.861, 765000.0], [47.4487, -122.205, 462000.0], [47.36, -122.318, 380000.0], [47.3574, -122.318, 770000.0], [47.1967, -121.966, 369000.0], [47.4593, -122.136, 479950.0], [47.5169, -121.884, 660000.0], [47.3689, -122.175, 253101.0], [47.7327, -121.966, 430000.0], [47.2596, -122.194, 425996.0], [47.3774, -122.186, 272000.0], [47.2904, -122.264, 499160.0], [47.3455, -122.023, 419900.0], [47.3573, -122.202, 374000.0], [47.3307, -122.188, 334888.0], [47.3494, -122.042, 383000.0], [47.3706, -122.017, 351999.0], [47.3568, -122.056, 312000.0], [47.371, -122.018, 369946.0], [47.3524, -122.175, 386000.0], [47.3443, -122.327, 735000.0], [47.2599, -122.283, 329995.0], [47.534, -121.841, 414000.0], [47.3262, -122.165, 402395.0], [47.4879, -122.152, 475000.0], [47.3511, -122.275, 353000.0], [47.2793, -122.352, 329950.0], [47.382, -122.197, 367000.0], [47.3003, -122.263, 447500.0], [47.4467, -122.287, 399500.0], [47.4214, -122.191, 299000.0], [47.5389, -121.86, 689000.0], [47.369, -122.287, 375000.0], [47.3229, -122.045, 775000.0], [47.4969, -122.145, 639983.0], [47.3514, -122.213, 300000.0], [47.4698, -122.121, 627000.0], [47.1941, -121.979, 275000.0], [47.2615, -122.252, 270500.0], [47.2958, -122.265, 457000.0], [47.5123, -122.316, 355000.0], [47.4935, -122.145, 562500.0], [47.3166, -122.046, 790000.0], [47.367, -122.019, 274500.0], [47.7373, -121.969, 410000.0], [47.5402, -121.876, 725000.0], [47.489, -122.249, 335000.0], [47.2602, -122.246, 274900.0], [47.4991, -122.299, 350000.0], [47.343, -122.056, 311850.0], [47.356, -122.057, 375000.0], [47.338, -122.181, 303000.0], [47.297, -122.351, 329950.0], [47.5443, -121.87, 1150000.0], [47.515, -121.874, 400000.0], [47.1948, -121.975, 246950.0], [47.4893, -122.146, 561000.0], [47.3414, -122.055, 287000.0], [47.3603, -122.081, 286950.0], [47.355, -122.057, 405000.0], [47.488, -122.225, 609000.0], [47.4903, -122.166, 294500.0], [47.2602, -122.252, 280000.0], [47.5439, -121.862, 605000.0], [47.2956, -122.35, 427000.0], [47.3607, -122.038, 379950.0], [47.36600000000001, -122.308, 269800.0], [47.3737, -122.16, 407000.0], [47.2655, -122.244, 110000.0], [47.3494, -122.022, 193000.0], [47.3738, -122.161, 370950.0], [47.4914, -122.334, 268000.0], [47.2577, -122.198, 303210.0], [47.3045, -122.211, 343000.0], [47.3992, -122.163, 300000.0], [47.4299, -122.207, 477500.0], [47.5051, -122.155, 414000.0], [47.4944, -122.15, 525000.0], [47.3523, -122.275, 353500.0], [47.5162, -121.872, 485000.0], [47.5342, -121.841, 409316.0], [47.3699, -122.019, 388598.0], [47.5165, -121.883, 589410.0], [47.3595, -122.045, 284000.0], [47.3557, -122.059, 294900.0], [47.3479, -122.028, 395000.0], [47.3363, -122.217, 260000.0], [47.5189, -121.876, 605000.0], [47.359, -122.082, 327000.0], [47.5298, -121.879, 459000.0], [47.372, -122.13, 365000.0], [47.2679, -122.255, 255000.0], [47.3552, -122.023, 518380.0], [47.5185, -121.885, 575000.0], [47.2931, -122.264, 549950.0], [47.2949, -122.27, 510000.0], [47.3269, -122.165, 471275.0], [47.3669, -122.02, 288000.0], [47.50899999999999, -122.24, 664950.0], [47.5178, -121.887, 699188.0], [47.2603, -122.194, 400950.0], [47.371, -122.017, 389517.0], [47.5193, -121.877, 637850.0], [47.5451, -121.882, 544000.0], [47.5353, -121.879, 425000.0], [47.3595, -122.042, 374950.0], [47.5022, -122.144, 294570.0], [47.4873, -122.166, 300000.0], [47.2962, -122.35, 395950.0], [47.5336, -121.841, 424950.0], [47.346, -122.218, 223990.0], [47.3009, -122.385, 498000.0], [47.3751, -122.188, 359950.0], [47.4987, -122.147, 530000.0], [47.3588, -122.044, 295000.0], [47.3358, -122.051, 255500.0], [47.2676, -122.256, 277950.0], [47.3473, -122.03, 431000.0], [47.3011, -122.385, 363000.0], [47.3413, -122.18, 333490.0], [47.515, -121.872, 425000.0], [47.3693, -122.017, 307635.0], [47.538, -121.858, 820875.0], [47.5185, -121.884, 595500.0], [47.3838, -122.195, 450000.0], [47.5405, -121.882, 695000.0], [47.3754, -122.163, 300000.0], [47.3524, -122.198, 486940.0], [47.4815, -122.152, 525000.0], [47.3281, -122.164, 345000.0], [47.3572, -122.202, 370000.0], [47.3473, -122.031, 398500.0], [47.3457, -122.217, 250000.0], [47.4893, -122.147, 525000.0], [47.2873, -122.177, 270000.0], [47.7426, -121.976, 620000.0], [47.3457, -122.27, 375900.0], [47.2706, -122.254, 215000.0], [47.2606, -122.253, 235245.0], [47.5336, -121.838, 433190.0], [47.2585, -122.201, 279950.0], [47.3658, -122.021, 298000.0], [47.3594, -122.036, 405000.0], [47.4855, -122.149, 675900.0], [47.346, -122.269, 375500.0], [47.4999, -122.232, 450000.0], [47.2603, -122.195, 478830.0], [47.5066, -122.148, 1030000.0], [47.49100000000001, -122.15, 385000.0], [47.3588, -122.082, 309000.0], [47.4861, -122.161, 391000.0], [47.3528, -122.211, 259000.0], [47.5355, -121.874, 561000.0], [47.5206, -121.868, 412500.0], [47.3746, -122.189, 380000.0], [47.352, -122.197, 452000.0], [47.3597, -122.045, 312000.0], [47.3588, -122.163, 469950.0], [47.2615, -122.198, 299000.0], [47.3599, -122.082, 332000.0], [47.5191, -121.869, 452000.0], [47.3428, -122.278, 349950.0], [47.7333, -121.975, 429900.0], [47.1934, -121.977, 272000.0], [47.5412, -121.876, 729950.0], [47.3273, -122.163, 471835.0], [47.1948, -121.974, 249950.0], [47.3139, -122.024, 440000.0], [47.5049, -122.155, 495000.0], [47.3162, -122.272, 495000.0], [47.3308, -122.187, 440000.0], [47.452, -122.204, 400000.0], [47.4786, -122.123, 459995.0], [47.3524, -122.198, 378950.0], [47.345, -122.209, 335900.0], [47.4297, -122.189, 300000.0], [47.5133, -122.11, 625000.0], [47.4913, -122.152, 392000.0], [47.4775, -122.122, 549995.0], [47.5203, -121.874, 480000.0], [47.4867, -122.152, 355000.0], [47.3859, -122.162, 279500.0], [47.7275, -121.957, 492500.0], [47.4919, -122.153, 435000.0], [47.4779, -122.122, 612995.0], [47.5164, -121.875, 540000.0], [47.4262, -122.187, 465000.0], [47.4927, -122.147, 490000.0], [47.4483, -122.203, 458000.0], [47.5162, -121.874, 641000.0], [47.5171, -121.876, 625000.0], [47.3586, -122.036, 305000.0], [47.7072, -121.927, 659000.0], [47.25899999999999, -122.202, 333000.0], [47.3562, -122.022, 559630.0], [47.4937, -122.149, 417000.0], [47.4857, -122.153, 563950.0], [47.2673, -122.027, 565000.0], [47.4536, -122.274, 495000.0], [47.3593, -122.037, 345000.0], [47.4784, -122.122, 519995.0], [47.438, -122.179, 295000.0], [47.7345, -121.967, 410000.0], [47.1937, -121.977, 325000.0], [47.5297, -122.155, 1170000.0], [47.5194, -121.869, 409000.0], [47.4786, -122.122, 542525.0], [47.4907, -122.152, 418500.0], [47.3358, -122.055, 300000.0], [47.2606, -122.254, 269950.0], [47.3733, -122.162, 358000.0], [47.3682, -122.117, 317750.0], [47.4866, -122.16, 353000.0], [47.4856, -122.156, 460000.0], [47.2966, -122.353, 330000.0], [47.3211, -122.182, 353900.0], [47.5402, -121.875, 695000.0], [47.487, -122.32, 334950.0], [47.3557, -122.063, 389990.0], [47.3697, -122.117, 299950.0], [47.4916, -122.144, 535000.0], [47.3413, -122.178, 436952.0], [47.4783, -122.123, 494995.0], [47.386, -122.184, 255000.0], [47.5158, -121.874, 530000.0], [47.3559, -122.022, 531155.0], [47.5158, -121.873, 425000.0], [47.7453, -121.985, 326000.0], [47.383, -122.097, 239950.0], [47.7277, -121.958, 518000.0], [47.359, -122.081, 337500.0], [47.2779, -122.349, 380000.0], [47.3343, -122.362, 249000.0], [47.4997, -122.151, 525000.0], [47.4876, -122.153, 330000.0], [47.519, -121.878, 599832.0], [47.3052, -122.276, 312891.0], [47.4863, -122.143, 579000.0], [47.4593, -122.134, 529000.0], [47.7268, -121.957, 534950.0], [47.3444, -122.269, 480000.0], [47.4959, -122.15, 505000.0], [47.4828, -122.133, 579950.0], [47.3589, -122.083, 290000.0], [47.2815, -122.356, 332000.0], [47.385, -122.189, 370000.0], [47.4945, -122.149, 509900.0], [47.3619, -122.122, 465000.0], [47.3906, -122.304, 388000.0], [47.4832, -122.145, 750000.0], [47.3846, -122.186, 422000.0], [47.3622, -122.041, 337000.0], [47.4922, -122.153, 579950.0], [47.3507, -122.291, 341780.0], [47.2974, -122.349, 399950.0], [47.5184, -121.886, 625000.0], [47.3339, -122.055, 270000.0], [47.3452, -122.022, 347500.0], [47.5001, -122.232, 572000.0], [47.3749, -122.107, 350000.0], [47.4822, -122.131, 679950.0], [47.2931, -122.264, 541800.0], [47.3095, -122.002, 224000.0], [47.5389, -121.881, 507250.0]],\n",
       "                {&quot;blur&quot;: 15, &quot;maxZoom&quot;: 18, &quot;minOpacity&quot;: 0.5, &quot;radius&quot;: 12}\n",
       "            );\n",
       "        \n",
       "    \n",
       "                heat_map_ffb1764415936da45fdc0d58a1b77a4c.addTo(map_f9710b2cbb74535659df61e1fe7bbcba);\n",
       "&lt;/script&gt;\n",
       "&lt;/html&gt;\" style=\"position:absolute;width:100%;height:100%;left:0;top:0;border:none !important;\" allowfullscreen webkitallowfullscreen mozallowfullscreen></iframe></div></div>"
      ],
      "text/plain": [
       "<folium.folium.Map at 0x16babf390>"
      ]
     },
     "execution_count": 64,
     "metadata": {},
     "output_type": "execute_result"
    }
   ],
   "source": [
    "# make heatmap with price landscape. code inspo from Qingkai (https://qingkaikong.blogspot.com/2016/06/using-folium-3-heatmap.html?m=1). adjustments self-made\n",
    "\n",
    "# Using USGS style tile\n",
    "url_base = 'http://server.arcgisonline.com/ArcGIS/rest/services/'\n",
    "service = 'World_Street_Map/MapServer/tile/{z}/{y}/{x}'\n",
    "tileset = url_base + service\n",
    "\n",
    "m = folium.Map(location=[47.60621, -122.33207], zoom_start=10,\\\n",
    "                control_scale = True, tiles=tileset, attr='USGS style')\n",
    "\n",
    "m.add_child(plugins.HeatMap(zip(kch_robinson['lat'], kch_robinson['long'], kch_robinson['price']), radius = 12))"
   ]
  },
  {
   "cell_type": "markdown",
   "metadata": {},
   "source": [
    "## 5. Relationships"
   ]
  },
  {
   "cell_type": "code",
   "execution_count": 65,
   "metadata": {},
   "outputs": [],
   "source": [
    "#renovated = kch_robinson.query('yr_renovated!=0')\n",
    "#renovated.head(2)"
   ]
  },
  {
   "cell_type": "code",
   "execution_count": 66,
   "metadata": {},
   "outputs": [
    {
     "data": {
      "image/png": "[encoded data removed]",
      "text/plain": [
       "<Figure size 1500x400 with 3 Axes>"
      ]
     },
     "metadata": {},
     "output_type": "display_data"
    }
   ],
   "source": [
    "# --- SETTING THEME AND PLOT APPEARANCE ---\n",
    "sns.set()\n",
    "sns.set_theme(style=\"darkgrid\")\n",
    "fig, ax = plt.subplots(1,3, figsize=(15,4)) # create subplots on 1 row and 3 columns                               \n",
    "plt.suptitle('Relationship between price and ...', weight='bold')\n",
    "\n",
    "# --- omit y-axis label for last two\n",
    "ax[1].set_ylabel('')\n",
    "ax[2].set_ylabel('')\n",
    "\n",
    "# --- DEFINE PLOTS ---\n",
    "sns.histplot(data=kch_robinson, x='condition', y='price', ax=ax[0]);\n",
    "sns.scatterplot(data=kch_robinson, x='yrs_since_renovation', y='price', hue='condition', alpha=.6 , ax=ax[1]);\n",
    "sns.scatterplot(data=kch_robinson, x='dist_to_seattle', y='price', hue='condition', alpha=.6, ax=ax[2]);\n",
    "\n"
   ]
  },
  {
   "cell_type": "markdown",
   "metadata": {},
   "source": [
    "OPEN QUESTIONS- IS RENOVATION SUCH A HUGE FACTOR FOR PRICE?"
   ]
  },
  {
   "cell_type": "markdown",
   "metadata": {},
   "source": [
    "## !! Have to handle the multi-sold properties !!"
   ]
  },
  {
   "cell_type": "code",
   "execution_count": 67,
   "metadata": {},
   "outputs": [
    {
     "data": {
      "text/plain": [
       "(157000.0, 700000.0)"
      ]
     },
     "execution_count": 67,
     "metadata": {},
     "output_type": "execute_result"
    }
   ],
   "source": [
    "kch_robinson.query('multi_sold==True').price.min(), kch_robinson.query('multi_sold==True').price.max()"
   ]
  },
  {
   "cell_type": "code",
   "execution_count": 68,
   "metadata": {},
   "outputs": [
    {
     "data": {
      "text/plain": [
       "(78000.0, 2000000.0)"
      ]
     },
     "execution_count": 68,
     "metadata": {},
     "output_type": "execute_result"
    }
   ],
   "source": [
    "kch_robinson.query('multi_sold!=True').price.min(), kch_robinson.query('multi_sold!=True').price.max()"
   ]
  },
  {
   "cell_type": "markdown",
   "metadata": {},
   "source": [
    "## 6. Hypothesis testing"
   ]
  },
  {
   "cell_type": "code",
   "execution_count": 69,
   "metadata": {},
   "outputs": [
    {
     "data": {
      "text/html": [
       "<div>\n",
       "<style scoped>\n",
       "    .dataframe tbody tr th:only-of-type {\n",
       "        vertical-align: middle;\n",
       "    }\n",
       "\n",
       "    .dataframe tbody tr th {\n",
       "        vertical-align: top;\n",
       "    }\n",
       "\n",
       "    .dataframe thead th {\n",
       "        text-align: right;\n",
       "    }\n",
       "</style>\n",
       "<table border=\"1\" class=\"dataframe\">\n",
       "  <thead>\n",
       "    <tr style=\"text-align: right;\">\n",
       "      <th></th>\n",
       "      <th>id</th>\n",
       "      <th>date</th>\n",
       "      <th>price</th>\n",
       "      <th>bedrooms</th>\n",
       "      <th>bathrooms</th>\n",
       "      <th>sqft_living</th>\n",
       "      <th>sqft_lot</th>\n",
       "      <th>floors</th>\n",
       "      <th>waterfront</th>\n",
       "      <th>view</th>\n",
       "      <th>...</th>\n",
       "      <th>sqft_living15</th>\n",
       "      <th>sqft_lot15</th>\n",
       "      <th>month</th>\n",
       "      <th>year</th>\n",
       "      <th>dist_to_seattle</th>\n",
       "      <th>price_sqft_living</th>\n",
       "      <th>multi_sold</th>\n",
       "      <th>date_sold_old</th>\n",
       "      <th>price_sold_old</th>\n",
       "      <th>yrs_since_renovation</th>\n",
       "    </tr>\n",
       "  </thead>\n",
       "  <tbody>\n",
       "    <tr>\n",
       "      <th>0</th>\n",
       "      <td>7129300520</td>\n",
       "      <td>2014-10-13</td>\n",
       "      <td>221900.0</td>\n",
       "      <td>3</td>\n",
       "      <td>1.00</td>\n",
       "      <td>1180</td>\n",
       "      <td>5650</td>\n",
       "      <td>1.0</td>\n",
       "      <td>NaN</td>\n",
       "      <td>0.0</td>\n",
       "      <td>...</td>\n",
       "      <td>1340</td>\n",
       "      <td>5650</td>\n",
       "      <td>10</td>\n",
       "      <td>2014</td>\n",
       "      <td>11.979331</td>\n",
       "      <td>188.050847</td>\n",
       "      <td>False</td>\n",
       "      <td>NaT</td>\n",
       "      <td>NaN</td>\n",
       "      <td>0</td>\n",
       "    </tr>\n",
       "    <tr>\n",
       "      <th>1</th>\n",
       "      <td>6414100192</td>\n",
       "      <td>2014-12-09</td>\n",
       "      <td>538000.0</td>\n",
       "      <td>3</td>\n",
       "      <td>2.25</td>\n",
       "      <td>2570</td>\n",
       "      <td>7242</td>\n",
       "      <td>2.0</td>\n",
       "      <td>0.0</td>\n",
       "      <td>0.0</td>\n",
       "      <td>...</td>\n",
       "      <td>1690</td>\n",
       "      <td>7639</td>\n",
       "      <td>12</td>\n",
       "      <td>2014</td>\n",
       "      <td>12.800484</td>\n",
       "      <td>209.338521</td>\n",
       "      <td>False</td>\n",
       "      <td>NaT</td>\n",
       "      <td>NaN</td>\n",
       "      <td>32</td>\n",
       "    </tr>\n",
       "  </tbody>\n",
       "</table>\n",
       "<p>2 rows × 29 columns</p>\n",
       "</div>"
      ],
      "text/plain": [
       "           id       date     price  bedrooms  bathrooms  sqft_living  \\\n",
       "0  7129300520 2014-10-13  221900.0         3       1.00         1180   \n",
       "1  6414100192 2014-12-09  538000.0         3       2.25         2570   \n",
       "\n",
       "   sqft_lot  floors  waterfront  view  ...  sqft_living15  sqft_lot15  month  \\\n",
       "0      5650     1.0         NaN   0.0  ...           1340        5650     10   \n",
       "1      7242     2.0         0.0   0.0  ...           1690        7639     12   \n",
       "\n",
       "   year  dist_to_seattle  price_sqft_living  multi_sold  date_sold_old  \\\n",
       "0  2014        11.979331         188.050847       False            NaT   \n",
       "1  2014        12.800484         209.338521       False            NaT   \n",
       "\n",
       "   price_sold_old  yrs_since_renovation  \n",
       "0             NaN                     0  \n",
       "1             NaN                    32  \n",
       "\n",
       "[2 rows x 29 columns]"
      ]
     },
     "execution_count": 69,
     "metadata": {},
     "output_type": "execute_result"
    }
   ],
   "source": [
    "# add column with years between last renovation and now (2023). if never renovated calculate age of house (i.e. (year 2015 - year property was built))\n",
    "yrs_since_renovation = pd.Series(abs(2023 - kch_df.yr_renovated))\n",
    "yrs_since_renovation.name = 'yrs_since_renovation'\n",
    "yrs_since_renovation = yrs_since_renovation.apply(lambda x: x*0 if x>115 else x*1)\n",
    "kch_df['yrs_since_renovation'] = yrs_since_renovation.values\n",
    "kch_df.head(2)"
   ]
  },
  {
   "cell_type": "code",
   "execution_count": 70,
   "metadata": {},
   "outputs": [
    {
     "data": {
      "text/html": [
       "<div>\n",
       "<style scoped>\n",
       "    .dataframe tbody tr th:only-of-type {\n",
       "        vertical-align: middle;\n",
       "    }\n",
       "\n",
       "    .dataframe tbody tr th {\n",
       "        vertical-align: top;\n",
       "    }\n",
       "\n",
       "    .dataframe thead th {\n",
       "        text-align: right;\n",
       "    }\n",
       "</style>\n",
       "<table border=\"1\" class=\"dataframe\">\n",
       "  <thead>\n",
       "    <tr style=\"text-align: right;\">\n",
       "      <th></th>\n",
       "      <th>price</th>\n",
       "      <th>dist_to_seattle</th>\n",
       "    </tr>\n",
       "  </thead>\n",
       "  <tbody>\n",
       "    <tr>\n",
       "      <th>price</th>\n",
       "      <td>1.000000</td>\n",
       "      <td>-0.287316</td>\n",
       "    </tr>\n",
       "    <tr>\n",
       "      <th>dist_to_seattle</th>\n",
       "      <td>-0.287316</td>\n",
       "      <td>1.000000</td>\n",
       "    </tr>\n",
       "  </tbody>\n",
       "</table>\n",
       "</div>"
      ],
      "text/plain": [
       "                    price  dist_to_seattle\n",
       "price            1.000000        -0.287316\n",
       "dist_to_seattle -0.287316         1.000000"
      ]
     },
     "execution_count": 70,
     "metadata": {},
     "output_type": "execute_result"
    }
   ],
   "source": [
    "kch_df[[\"price\", \"dist_to_seattle\"]].corr()"
   ]
  },
  {
   "cell_type": "code",
   "execution_count": 71,
   "metadata": {},
   "outputs": [
    {
     "data": {
      "text/html": [
       "<div>\n",
       "<style scoped>\n",
       "    .dataframe tbody tr th:only-of-type {\n",
       "        vertical-align: middle;\n",
       "    }\n",
       "\n",
       "    .dataframe tbody tr th {\n",
       "        vertical-align: top;\n",
       "    }\n",
       "\n",
       "    .dataframe thead th {\n",
       "        text-align: right;\n",
       "    }\n",
       "</style>\n",
       "<table border=\"1\" class=\"dataframe\">\n",
       "  <thead>\n",
       "    <tr style=\"text-align: right;\">\n",
       "      <th></th>\n",
       "      <th>price</th>\n",
       "      <th>yrs_since_renovation</th>\n",
       "    </tr>\n",
       "  </thead>\n",
       "  <tbody>\n",
       "    <tr>\n",
       "      <th>price</th>\n",
       "      <td>1.000000</td>\n",
       "      <td>-0.122117</td>\n",
       "    </tr>\n",
       "    <tr>\n",
       "      <th>yrs_since_renovation</th>\n",
       "      <td>-0.122117</td>\n",
       "      <td>1.000000</td>\n",
       "    </tr>\n",
       "  </tbody>\n",
       "</table>\n",
       "</div>"
      ],
      "text/plain": [
       "                         price  yrs_since_renovation\n",
       "price                 1.000000             -0.122117\n",
       "yrs_since_renovation -0.122117              1.000000"
      ]
     },
     "execution_count": 71,
     "metadata": {},
     "output_type": "execute_result"
    }
   ],
   "source": [
    "kch_df.query('yrs_since_renovation!=0')[[\"price\", \"yrs_since_renovation\"]].corr()"
   ]
  },
  {
   "cell_type": "code",
   "execution_count": 72,
   "metadata": {},
   "outputs": [
    {
     "data": {
      "text/html": [
       "<div>\n",
       "<style scoped>\n",
       "    .dataframe tbody tr th:only-of-type {\n",
       "        vertical-align: middle;\n",
       "    }\n",
       "\n",
       "    .dataframe tbody tr th {\n",
       "        vertical-align: top;\n",
       "    }\n",
       "\n",
       "    .dataframe thead th {\n",
       "        text-align: right;\n",
       "    }\n",
       "</style>\n",
       "<table border=\"1\" class=\"dataframe\">\n",
       "  <thead>\n",
       "    <tr style=\"text-align: right;\">\n",
       "      <th></th>\n",
       "      <th>price</th>\n",
       "      <th>condition</th>\n",
       "    </tr>\n",
       "  </thead>\n",
       "  <tbody>\n",
       "    <tr>\n",
       "      <th>price</th>\n",
       "      <td>1.000</td>\n",
       "      <td>0.016</td>\n",
       "    </tr>\n",
       "    <tr>\n",
       "      <th>condition</th>\n",
       "      <td>0.016</td>\n",
       "      <td>1.000</td>\n",
       "    </tr>\n",
       "  </tbody>\n",
       "</table>\n",
       "</div>"
      ],
      "text/plain": [
       "           price  condition\n",
       "price      1.000      0.016\n",
       "condition  0.016      1.000"
      ]
     },
     "execution_count": 72,
     "metadata": {},
     "output_type": "execute_result"
    }
   ],
   "source": [
    "corr_cond = kch_df[[\"price\", \"condition\"]].corr(method='spearman')\n",
    "corr_cond"
   ]
  },
  {
   "cell_type": "markdown",
   "metadata": {},
   "source": [
    "**1. The higher the current condition (i.e. better), the higher the price**\n",
    "* rho = .018 &rarr; near to no correlation\n",
    "\n",
    "**2. The farther away from the city center, the lower the price**\n",
    "* r = -.29 &rarr; moderate correlation\n",
    "\n",
    "**3.The more square feet the living area of the nearest neighbor has, the higher the price**\n",
    "* r = .59 &rarr; strong correlation"
   ]
  },
  {
   "cell_type": "code",
   "execution_count": 73,
   "metadata": {},
   "outputs": [
    {
     "name": "stdout",
     "output_type": "stream",
     "text": [
      "<class 'pandas.core.frame.DataFrame'>\n",
      "RangeIndex: 6444 entries, 0 to 6443\n",
      "Data columns (total 15 columns):\n",
      " #   Column                Non-Null Count  Dtype         \n",
      "---  ------                --------------  -----         \n",
      " 0   id                    6444 non-null   int64         \n",
      " 1   date                  6444 non-null   datetime64[ns]\n",
      " 2   price                 6444 non-null   float64       \n",
      " 3   condition             6444 non-null   int32         \n",
      " 4   yr_built              6444 non-null   int64         \n",
      " 5   yr_renovated          6444 non-null   int64         \n",
      " 6   zipcode               6444 non-null   int64         \n",
      " 7   lat                   6444 non-null   float64       \n",
      " 8   long                  6444 non-null   float64       \n",
      " 9   dist_to_seattle       6444 non-null   float64       \n",
      " 10  price_sqft_living     6444 non-null   float64       \n",
      " 11  multi_sold            6444 non-null   bool          \n",
      " 12  date_sold_old         61 non-null     datetime64[ns]\n",
      " 13  price_sold_old        61 non-null     float64       \n",
      " 14  yrs_since_renovation  6444 non-null   int64         \n",
      "dtypes: bool(1), datetime64[ns](2), float64(6), int32(1), int64(5)\n",
      "memory usage: 686.1 KB\n"
     ]
    }
   ],
   "source": [
    "# again look into descriptive statistics for my cleaned up data and get info\n",
    "kch_robinson.info()"
   ]
  },
  {
   "cell_type": "code",
   "execution_count": 74,
   "metadata": {},
   "outputs": [
    {
     "data": {
      "text/html": [
       "<div>\n",
       "<style scoped>\n",
       "    .dataframe tbody tr th:only-of-type {\n",
       "        vertical-align: middle;\n",
       "    }\n",
       "\n",
       "    .dataframe tbody tr th {\n",
       "        vertical-align: top;\n",
       "    }\n",
       "\n",
       "    .dataframe thead th {\n",
       "        text-align: right;\n",
       "    }\n",
       "</style>\n",
       "<table border=\"1\" class=\"dataframe\">\n",
       "  <thead>\n",
       "    <tr style=\"text-align: right;\">\n",
       "      <th></th>\n",
       "      <th>id</th>\n",
       "      <th>date</th>\n",
       "      <th>price</th>\n",
       "      <th>condition</th>\n",
       "      <th>yr_built</th>\n",
       "      <th>yr_renovated</th>\n",
       "      <th>zipcode</th>\n",
       "      <th>lat</th>\n",
       "      <th>long</th>\n",
       "      <th>dist_to_seattle</th>\n",
       "      <th>price_sqft_living</th>\n",
       "      <th>date_sold_old</th>\n",
       "      <th>price_sold_old</th>\n",
       "      <th>yrs_since_renovation</th>\n",
       "    </tr>\n",
       "  </thead>\n",
       "  <tbody>\n",
       "    <tr>\n",
       "      <th>count</th>\n",
       "      <td>6.444000e+03</td>\n",
       "      <td>6444</td>\n",
       "      <td>6.444000e+03</td>\n",
       "      <td>6444.000000</td>\n",
       "      <td>6444.000000</td>\n",
       "      <td>6444.000000</td>\n",
       "      <td>6444.000000</td>\n",
       "      <td>6444.000000</td>\n",
       "      <td>6444.000000</td>\n",
       "      <td>6444.000000</td>\n",
       "      <td>6444.000000</td>\n",
       "      <td>61</td>\n",
       "      <td>61.000000</td>\n",
       "      <td>6444.000000</td>\n",
       "    </tr>\n",
       "    <tr>\n",
       "      <th>mean</th>\n",
       "      <td>4.565434e+09</td>\n",
       "      <td>2014-11-04 20:48:29.497206528</td>\n",
       "      <td>3.373932e+05</td>\n",
       "      <td>3.374146</td>\n",
       "      <td>1979.840782</td>\n",
       "      <td>39.595127</td>\n",
       "      <td>98059.924426</td>\n",
       "      <td>47.398242</td>\n",
       "      <td>-122.170364</td>\n",
       "      <td>28.780724</td>\n",
       "      <td>173.526051</td>\n",
       "      <td>2014-09-10 02:45:14.754098432</td>\n",
       "      <td>206380.590164</td>\n",
       "      <td>0.588610</td>\n",
       "    </tr>\n",
       "    <tr>\n",
       "      <th>min</th>\n",
       "      <td>1.000102e+06</td>\n",
       "      <td>2014-05-02 00:00:00</td>\n",
       "      <td>7.800000e+04</td>\n",
       "      <td>1.000000</td>\n",
       "      <td>1900.000000</td>\n",
       "      <td>0.000000</td>\n",
       "      <td>98001.000000</td>\n",
       "      <td>47.155900</td>\n",
       "      <td>-122.401000</td>\n",
       "      <td>10.285662</td>\n",
       "      <td>87.588235</td>\n",
       "      <td>2014-05-05 00:00:00</td>\n",
       "      <td>85000.000000</td>\n",
       "      <td>0.000000</td>\n",
       "    </tr>\n",
       "    <tr>\n",
       "      <th>25%</th>\n",
       "      <td>2.023049e+09</td>\n",
       "      <td>2014-07-28 00:00:00</td>\n",
       "      <td>2.460000e+05</td>\n",
       "      <td>3.000000</td>\n",
       "      <td>1964.000000</td>\n",
       "      <td>0.000000</td>\n",
       "      <td>98023.000000</td>\n",
       "      <td>47.331100</td>\n",
       "      <td>-122.279000</td>\n",
       "      <td>22.081040</td>\n",
       "      <td>143.044642</td>\n",
       "      <td>2014-07-16 00:00:00</td>\n",
       "      <td>145000.000000</td>\n",
       "      <td>0.000000</td>\n",
       "    </tr>\n",
       "    <tr>\n",
       "      <th>50%</th>\n",
       "      <td>3.876520e+09</td>\n",
       "      <td>2014-10-27 00:00:00</td>\n",
       "      <td>3.000000e+05</td>\n",
       "      <td>3.000000</td>\n",
       "      <td>1983.000000</td>\n",
       "      <td>0.000000</td>\n",
       "      <td>98042.000000</td>\n",
       "      <td>47.378400</td>\n",
       "      <td>-122.182000</td>\n",
       "      <td>30.306145</td>\n",
       "      <td>166.666667</td>\n",
       "      <td>2014-09-16 00:00:00</td>\n",
       "      <td>175000.000000</td>\n",
       "      <td>0.000000</td>\n",
       "    </tr>\n",
       "    <tr>\n",
       "      <th>75%</th>\n",
       "      <td>7.502800e+09</td>\n",
       "      <td>2015-02-23 00:00:00</td>\n",
       "      <td>3.830000e+05</td>\n",
       "      <td>4.000000</td>\n",
       "      <td>1999.000000</td>\n",
       "      <td>0.000000</td>\n",
       "      <td>98065.000000</td>\n",
       "      <td>47.465825</td>\n",
       "      <td>-122.087000</td>\n",
       "      <td>34.652623</td>\n",
       "      <td>194.044428</td>\n",
       "      <td>2014-10-22 00:00:00</td>\n",
       "      <td>229950.000000</td>\n",
       "      <td>0.000000</td>\n",
       "    </tr>\n",
       "    <tr>\n",
       "      <th>max</th>\n",
       "      <td>9.835801e+09</td>\n",
       "      <td>2015-05-14 00:00:00</td>\n",
       "      <td>2.000000e+06</td>\n",
       "      <td>5.000000</td>\n",
       "      <td>2015.000000</td>\n",
       "      <td>2015.000000</td>\n",
       "      <td>98198.000000</td>\n",
       "      <td>47.773600</td>\n",
       "      <td>-121.473000</td>\n",
       "      <td>72.044568</td>\n",
       "      <td>791.666667</td>\n",
       "      <td>2015-02-27 00:00:00</td>\n",
       "      <td>740000.000000</td>\n",
       "      <td>73.000000</td>\n",
       "    </tr>\n",
       "    <tr>\n",
       "      <th>std</th>\n",
       "      <td>2.879464e+09</td>\n",
       "      <td>NaN</td>\n",
       "      <td>1.506444e+05</td>\n",
       "      <td>0.607641</td>\n",
       "      <td>23.091813</td>\n",
       "      <td>278.166282</td>\n",
       "      <td>56.165931</td>\n",
       "      <td>0.100037</td>\n",
       "      <td>0.131095</td>\n",
       "      <td>8.703509</td>\n",
       "      <td>49.366677</td>\n",
       "      <td>NaN</td>\n",
       "      <td>118669.785376</td>\n",
       "      <td>4.660346</td>\n",
       "    </tr>\n",
       "  </tbody>\n",
       "</table>\n",
       "</div>"
      ],
      "text/plain": [
       "                 id                           date         price    condition  \\\n",
       "count  6.444000e+03                           6444  6.444000e+03  6444.000000   \n",
       "mean   4.565434e+09  2014-11-04 20:48:29.497206528  3.373932e+05     3.374146   \n",
       "min    1.000102e+06            2014-05-02 00:00:00  7.800000e+04     1.000000   \n",
       "25%    2.023049e+09            2014-07-28 00:00:00  2.460000e+05     3.000000   \n",
       "50%    3.876520e+09            2014-10-27 00:00:00  3.000000e+05     3.000000   \n",
       "75%    7.502800e+09            2015-02-23 00:00:00  3.830000e+05     4.000000   \n",
       "max    9.835801e+09            2015-05-14 00:00:00  2.000000e+06     5.000000   \n",
       "std    2.879464e+09                            NaN  1.506444e+05     0.607641   \n",
       "\n",
       "          yr_built  yr_renovated       zipcode          lat         long  \\\n",
       "count  6444.000000   6444.000000   6444.000000  6444.000000  6444.000000   \n",
       "mean   1979.840782     39.595127  98059.924426    47.398242  -122.170364   \n",
       "min    1900.000000      0.000000  98001.000000    47.155900  -122.401000   \n",
       "25%    1964.000000      0.000000  98023.000000    47.331100  -122.279000   \n",
       "50%    1983.000000      0.000000  98042.000000    47.378400  -122.182000   \n",
       "75%    1999.000000      0.000000  98065.000000    47.465825  -122.087000   \n",
       "max    2015.000000   2015.000000  98198.000000    47.773600  -121.473000   \n",
       "std      23.091813    278.166282     56.165931     0.100037     0.131095   \n",
       "\n",
       "       dist_to_seattle  price_sqft_living                  date_sold_old  \\\n",
       "count      6444.000000        6444.000000                             61   \n",
       "mean         28.780724         173.526051  2014-09-10 02:45:14.754098432   \n",
       "min          10.285662          87.588235            2014-05-05 00:00:00   \n",
       "25%          22.081040         143.044642            2014-07-16 00:00:00   \n",
       "50%          30.306145         166.666667            2014-09-16 00:00:00   \n",
       "75%          34.652623         194.044428            2014-10-22 00:00:00   \n",
       "max          72.044568         791.666667            2015-02-27 00:00:00   \n",
       "std           8.703509          49.366677                            NaN   \n",
       "\n",
       "       price_sold_old  yrs_since_renovation  \n",
       "count       61.000000           6444.000000  \n",
       "mean    206380.590164              0.588610  \n",
       "min      85000.000000              0.000000  \n",
       "25%     145000.000000              0.000000  \n",
       "50%     175000.000000              0.000000  \n",
       "75%     229950.000000              0.000000  \n",
       "max     740000.000000             73.000000  \n",
       "std     118669.785376              4.660346  "
      ]
     },
     "execution_count": 74,
     "metadata": {},
     "output_type": "execute_result"
    }
   ],
   "source": [
    "kch_robinson.describe()"
   ]
  },
  {
   "cell_type": "markdown",
   "metadata": {},
   "source": [
    "## 7. Fine tuning and Explanation\n",
    "* What do I want to use for my presentation? What is my intention of the depicted plots and tables?\n",
    "* Clean up code, comment code\n",
    "* add introduction\n",
    "* add results"
   ]
  }
 ],
 "metadata": {
  "kernelspec": {
   "display_name": ".venv",
   "language": "python",
   "name": "python3"
  },
  "language_info": {
   "codemirror_mode": {
    "name": "ipython",
    "version": 3
   },
   "file_extension": ".py",
   "mimetype": "text/x-python",
   "name": "python",
   "nbconvert_exporter": "python",
   "pygments_lexer": "ipython3",
   "version": "3.11.3"
  }
 },
 "nbformat": 4,
 "nbformat_minor": 2
}
